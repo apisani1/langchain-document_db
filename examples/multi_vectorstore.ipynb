{
 "cells": [
  {
   "cell_type": "markdown",
   "id": "d9172545",
   "metadata": {},
   "source": [
    "# MultiVectorStore\n",
    "\n",
    "It can often be beneficial to store multiple vectors per document. There are multiple use cases where this is beneficial. LangChain has a base `MultiVectorRetriever` which makes querying this type of setup easy. A lot of the complexity lies in how to create the multiple vectors per document. This notebook covers some of the common ways to create those vectors and use the `MultiVectorRetriever`.\n",
    "\n",
    "The methods to create multiple vectors per document include:\n",
    "\n",
    "- Smaller chunks: split a document into smaller chunks, and embed those (this is ParentDocumentRetriever).\n",
    "- Summary: create a summary for each document, embed that along with (or instead of) the document.\n",
    "- Hypothetical questions: create hypothetical questions that each document would be appropriate to answer, embed those along with (or instead of) the document.\n",
    "\n",
    "\n",
    "Note that this also enables another method of adding embeddings - manually. This is great because you can explicitly add questions or queries that should lead to a document being recovered, giving you more control."
   ]
  },
  {
   "cell_type": "code",
   "execution_count": 1,
   "id": "2d3504ed",
   "metadata": {},
   "outputs": [],
   "source": [
    "import sys\n",
    "sys.path.append('../')\n",
    "\n",
    "from dotenv import find_dotenv, load_dotenv\n",
    "load_dotenv(find_dotenv(), override=True)\n",
    "\n",
    "from langchain_openai import OpenAIEmbeddings\n",
    "from langchain.vectorstores.chroma import Chroma\n",
    "\n",
    "from load_document import load_document\n",
    "from cached_docstore import CachedDocStore\n",
    "from multi_vectorstore import MultiVectorStore"
   ]
  },
  {
   "cell_type": "code",
   "execution_count": 2,
   "id": "6d869496",
   "metadata": {},
   "outputs": [],
   "source": [
    "docs = load_document(\"./files/state_of_the_union.txt\", chunk_it=True, chunk_size=4000)"
   ]
  },
  {
   "cell_type": "code",
   "execution_count": 3,
   "id": "8482dc47",
   "metadata": {},
   "outputs": [
    {
     "data": {
      "text/plain": [
       "11"
      ]
     },
     "execution_count": 3,
     "metadata": {},
     "output_type": "execute_result"
    }
   ],
   "source": [
    "len(docs)"
   ]
  },
  {
   "cell_type": "code",
   "execution_count": 4,
   "id": "b44d74a6",
   "metadata": {},
   "outputs": [
    {
     "data": {
      "text/plain": [
       "3849"
      ]
     },
     "execution_count": 4,
     "metadata": {},
     "output_type": "execute_result"
    }
   ],
   "source": [
    "len(docs[0].page_content)"
   ]
  },
  {
   "cell_type": "code",
   "execution_count": 5,
   "id": "0e7b6b45",
   "metadata": {},
   "outputs": [],
   "source": [
    "embedding = OpenAIEmbeddings()\n",
    "\n",
    "base_vectorstore = Chroma(\n",
    "                persist_directory=\"multi_vectorstore/state_of_the_union\",\n",
    "                embedding_function=embedding,\n",
    "            )\n",
    "\n",
    "\n",
    "docstore = CachedDocStore(\"multi_vectorstore/state_of_the_union/parent_docs\", cached=False)\n",
    "\n",
    "multi_vectorstore = MultiVectorStore(vectorstore=base_vectorstore, docstore=docstore, search_kwargs={\"k\": 1})"
   ]
  },
  {
   "cell_type": "code",
   "execution_count": 10,
   "id": "b0b1afb4",
   "metadata": {},
   "outputs": [],
   "source": [
    "child = multi_vectorstore.get_childs\n",
    "aliases = multi_vectorstore.get_aliases"
   ]
  },
  {
   "cell_type": "code",
   "execution_count": 6,
   "id": "f6d92ad1",
   "metadata": {},
   "outputs": [
    {
     "data": {
      "text/plain": [
       "['c481f8af-7871-49ab-ab48-befa838375b2',\n",
       " '263e9703-0adb-4d59-aee0-18f153804a34',\n",
       " 'a460a603-57eb-42de-a374-bdad04bcb827',\n",
       " '6604816f-0a8f-4850-9da9-35382f615ba2',\n",
       " '0767a427-dc41-4707-a29e-27cf2720d85f',\n",
       " 'eff27d7d-c1d8-4204-9eec-61c853585c23',\n",
       " '20cac85b-581f-4bc8-ab64-0951cc0c9f14',\n",
       " '5c762494-1867-473b-9b51-a6364053e324',\n",
       " '6d6b477c-3a2d-48e9-b407-eb0d881fe34b',\n",
       " 'bb489335-a966-4566-8b68-60b1e4cbe5ba',\n",
       " '548f88e0-9995-4a2e-9403-2c85db2c1175']"
      ]
     },
     "execution_count": 6,
     "metadata": {},
     "output_type": "execute_result"
    }
   ],
   "source": [
    "multi_vectorstore.add_documents(docs, add_originals=True)"
   ]
  },
  {
   "cell_type": "code",
   "execution_count": 20,
   "id": "f304115e",
   "metadata": {},
   "outputs": [
    {
     "data": {
      "text/plain": [
       "'9ae9e1c2-0790-44b9-9ee7-ecf179e2c72b'"
      ]
     },
     "execution_count": 20,
     "metadata": {},
     "output_type": "execute_result"
    }
   ],
   "source": [
    "id = docs[1].metadata['doc_id']\n",
    "id"
   ]
  },
  {
   "cell_type": "code",
   "execution_count": 21,
   "id": "a9f341c2",
   "metadata": {},
   "outputs": [
    {
     "data": {
      "text/plain": [
       "['080d4118-06e5-4a41-bd3e-e85d5abb4038',\n",
       " '97d92def-b57b-4b27-a1f7-3b52bf8ef772',\n",
       " '51389fb7-c2e0-4901-80b7-b5e2f4438e2b',\n",
       " '343fe7f3-3d82-4aa0-8cb6-3561baa1348c',\n",
       " 'ac18e29a-be62-4bd3-95a7-145e89a33f4b',\n",
       " '9027764a-c27b-475b-8d50-2fbf94c17862',\n",
       " '3869ad9e-9549-417d-8db0-ef6d99a72194',\n",
       " '9396a7fc-3793-4989-a779-4a7462559673',\n",
       " '8cf629b4-47c2-4df2-90b6-ae2f03aa50f0',\n",
       " '9c25f9d0-5591-4fae-a73f-6dbe6f0aab2c',\n",
       " 'b3fc9ad4-2c10-402d-a2e0-2329fc7177c4',\n",
       " '896fcece-239e-4130-b9dd-4300742e3a9b',\n",
       " '7c1fea81-1f94-4106-bc3a-2ea0baf2231b',\n",
       " '82d630a6-7ad4-4236-ad3d-d7ea0218f53b',\n",
       " 'ff0b3255-c8bb-4a7e-8c4f-1cb1611e4a6d',\n",
       " '85e6c590-aaca-4755-a140-88d808e58e73',\n",
       " '60af3c75-ba8d-4f77-8568-e9e461137653',\n",
       " 'd0269b53-eac1-4653-a3a2-98eaa8591d27',\n",
       " '339cff45-0e8f-4b5d-9742-7239bcf7147a',\n",
       " 'f7c8c54d-0a7a-43ff-a714-407b83e1015a']"
      ]
     },
     "execution_count": 21,
     "metadata": {},
     "output_type": "execute_result"
    }
   ],
   "source": [
    "child(id)"
   ]
  },
  {
   "cell_type": "code",
   "execution_count": 22,
   "id": "fca08287",
   "metadata": {},
   "outputs": [
    {
     "data": {
      "text/plain": [
       "[]"
      ]
     },
     "execution_count": 22,
     "metadata": {},
     "output_type": "execute_result"
    }
   ],
   "source": [
    "aliases(id)"
   ]
  },
  {
   "cell_type": "code",
   "execution_count": 13,
   "id": "2fdf67f9",
   "metadata": {},
   "outputs": [],
   "source": [
    "base_vectorstore.delete([child(id)[0]])"
   ]
  },
  {
   "cell_type": "code",
   "execution_count": 18,
   "id": "c2f3a767",
   "metadata": {},
   "outputs": [
    {
     "data": {
      "text/plain": [
       "True"
      ]
     },
     "execution_count": 18,
     "metadata": {},
     "output_type": "execute_result"
    }
   ],
   "source": [
    "multi_vectorstore.delete([id])"
   ]
  },
  {
   "cell_type": "code",
   "execution_count": 19,
   "id": "ad652dbf",
   "metadata": {},
   "outputs": [
    {
     "data": {
      "text/plain": [
       "['b6a4d51e-58f3-4f45-b270-af022ef389d5',\n",
       " 'e6ea146a-edfa-4c6c-9388-49d8710242a4',\n",
       " '30daef46-bf1d-47f5-926e-041998dc8c0d',\n",
       " 'c46e9f09-8faf-4dbb-aa19-a2593702e91f',\n",
       " 'adf115dd-7bd2-4f26-a1a3-fe7ac1b79bf1',\n",
       " '27aa2079-f206-4157-bb7c-efc07ca5e315',\n",
       " '62067039-318a-4531-af3d-7ab5c35458fc',\n",
       " '0b789c9f-437d-4032-8cbb-dc591556496b',\n",
       " 'd3306d51-2c5b-49ad-9e13-fd8df956dcb2',\n",
       " '8e0f30c1-5dae-494e-9245-deb12301168c',\n",
       " '8cfe09a7-960b-4eb5-a20a-c564bb3cacd5']"
      ]
     },
     "execution_count": 19,
     "metadata": {},
     "output_type": "execute_result"
    }
   ],
   "source": [
    "multi_vectorstore.add_documents_multiple(docs, func_list=[(\"chunk\", {\"chunk_size\":400}), \"summary\", (\"question\", {\"q\":2})])"
   ]
  },
  {
   "cell_type": "code",
   "execution_count": null,
   "id": "7b442b90",
   "metadata": {},
   "outputs": [],
   "source": [
    "sub_docs = base_vector_store.similarity_search(\"justice breyer\")"
   ]
  },
  {
   "cell_type": "code",
   "execution_count": null,
   "id": "5508b001",
   "metadata": {},
   "outputs": [],
   "source": [
    "len(sub_docs)"
   ]
  },
  {
   "cell_type": "code",
   "execution_count": null,
   "id": "649108da",
   "metadata": {},
   "outputs": [],
   "source": [
    "len(sub_docs[0].page_content)"
   ]
  },
  {
   "cell_type": "code",
   "execution_count": null,
   "id": "7594b24e",
   "metadata": {},
   "outputs": [],
   "source": [
    "related_docs = multi_vector_store.get_relevant_documents(\"justice breyer\")"
   ]
  },
  {
   "cell_type": "code",
   "execution_count": null,
   "id": "5975e00e",
   "metadata": {},
   "outputs": [],
   "source": [
    "len(related_docs)"
   ]
  },
  {
   "cell_type": "code",
   "execution_count": null,
   "id": "4c120c65",
   "metadata": {},
   "outputs": [],
   "source": [
    "len(related_docs[0].page_content)"
   ]
  },
  {
   "cell_type": "code",
   "execution_count": null,
   "id": "adac7395",
   "metadata": {},
   "outputs": [],
   "source": []
  }
 ],
 "metadata": {
  "kernelspec": {
   "display_name": "Python 3.12 (myenv)",
   "language": "python",
   "name": "myenv"
  },
  "language_info": {
   "codemirror_mode": {
    "name": "ipython",
    "version": 3
   },
   "file_extension": ".py",
   "mimetype": "text/x-python",
   "name": "python",
   "nbconvert_exporter": "python",
   "pygments_lexer": "ipython3",
   "version": "3.12.3"
  }
 },
 "nbformat": 4,
 "nbformat_minor": 5
}
