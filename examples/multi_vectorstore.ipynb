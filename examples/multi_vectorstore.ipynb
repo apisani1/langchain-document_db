{
 "cells": [
  {
   "cell_type": "markdown",
   "id": "d9172545",
   "metadata": {},
   "source": [
    "# MultiVectorStore\n",
    "\n",
    "It can often be beneficial to store multiple vectors per document. There are multiple use cases where this is beneficial. LangChain has a base `MultiVectorRetriever` which makes querying this type of setup easy. A lot of the complexity lies in how to create the multiple vectors per document. This notebook covers some of the common ways to create those vectors and use the `MultiVectorRetriever`.\n",
    "\n",
    "The methods to create multiple vectors per document include:\n",
    "\n",
    "- Smaller chunks: split a document into smaller chunks, and embed those (this is ParentDocumentRetriever).\n",
    "- Summary: create a summary for each document, embed that along with (or instead of) the document.\n",
    "- Hypothetical questions: create hypothetical questions that each document would be appropriate to answer, embed those along with (or instead of) the document.\n",
    "\n",
    "\n",
    "Note that this also enables another method of adding embeddings - manually. This is great because you can explicitly add questions or queries that should lead to a document being recovered, giving you more control."
   ]
  },
  {
   "cell_type": "code",
   "execution_count": 1,
   "id": "2d3504ed",
   "metadata": {},
   "outputs": [],
   "source": [
    "import os\n",
    "data_folder = os.path.abspath(\"../data\")\n",
    "\n",
    "import sys\n",
    "sys.path.append('../')\n",
    "\n",
    "from dotenv import find_dotenv, load_dotenv\n",
    "load_dotenv(find_dotenv(), override=True)\n",
    "\n",
    "from langchain_openai import OpenAIEmbeddings\n",
    "from langchain.vectorstores.chroma import Chroma\n",
    "\n",
    "from load_document import load_document\n",
    "from cached_docstore import CachedDocStore\n",
    "from multi_vectorstore import MultiVectorStore"
   ]
  },
  {
   "cell_type": "code",
   "execution_count": 2,
   "id": "6d869496",
   "metadata": {},
   "outputs": [],
   "source": [
    "docs = load_document(\"./files/state_of_the_union.txt\", chunk_it=True, chunk_size=4000)"
   ]
  },
  {
   "cell_type": "code",
   "execution_count": 3,
   "id": "8482dc47",
   "metadata": {},
   "outputs": [
    {
     "data": {
      "text/plain": [
       "11"
      ]
     },
     "execution_count": 3,
     "metadata": {},
     "output_type": "execute_result"
    }
   ],
   "source": [
    "len(docs)"
   ]
  },
  {
   "cell_type": "code",
   "execution_count": 4,
   "id": "b44d74a6",
   "metadata": {},
   "outputs": [
    {
     "data": {
      "text/plain": [
       "3849"
      ]
     },
     "execution_count": 4,
     "metadata": {},
     "output_type": "execute_result"
    }
   ],
   "source": [
    "len(docs[0].page_content)"
   ]
  },
  {
   "cell_type": "code",
   "execution_count": 5,
   "id": "0e7b6b45",
   "metadata": {},
   "outputs": [],
   "source": [
    "embedding = OpenAIEmbeddings()\n",
    "\n",
    "base_vectorstore = Chroma(\n",
    "                persist_directory=\"../data/multi_vectorstore/state_of_the_union\",\n",
    "                embedding_function=embedding,\n",
    "            )\n",
    "\n",
    "\n",
    "docstore = CachedDocStore(data_folder+\"/multi_vectorstore/state_of_the_union/parent_docs\", cached=False)\n",
    "\n",
    "multi_vectorstore = MultiVectorStore(vectorstore=base_vectorstore, docstore=docstore, search_kwargs={\"k\": 1})"
   ]
  },
  {
   "cell_type": "code",
   "execution_count": 6,
   "id": "63af60eb",
   "metadata": {},
   "outputs": [],
   "source": [
    "child = multi_vectorstore.get_child_ids\n",
    "aliases = multi_vectorstore.get_aliases"
   ]
  },
  {
   "cell_type": "code",
   "execution_count": null,
   "id": "f6d92ad1",
   "metadata": {},
   "outputs": [],
   "source": [
    "ids = multi_vectorstore.add_documents(docs, add_originals=True)"
   ]
  },
  {
   "cell_type": "code",
   "execution_count": 8,
   "id": "f9b7849d",
   "metadata": {},
   "outputs": [],
   "source": [
    "i=10"
   ]
  },
  {
   "cell_type": "code",
   "execution_count": 9,
   "id": "f304115e",
   "metadata": {},
   "outputs": [
    {
     "data": {
      "text/plain": [
       "'52678216-dc41-491e-8246-f145604d8649'"
      ]
     },
     "execution_count": 9,
     "metadata": {},
     "output_type": "execute_result"
    }
   ],
   "source": [
    "id = docs[i].metadata['doc_id']\n",
    "id"
   ]
  },
  {
   "cell_type": "code",
   "execution_count": 11,
   "id": "8067d105",
   "metadata": {},
   "outputs": [
    {
     "data": {
      "text/plain": [
       "'eb3166b6-32bb-432f-a597-b73c5a34963a'"
      ]
     },
     "execution_count": 11,
     "metadata": {},
     "output_type": "execute_result"
    }
   ],
   "source": [
    "ids[i]"
   ]
  },
  {
   "cell_type": "code",
   "execution_count": 12,
   "id": "eb1dadaa",
   "metadata": {},
   "outputs": [
    {
     "data": {
      "text/plain": [
       "'52678216-dc41-491e-8246-f145604d8649'"
      ]
     },
     "execution_count": 12,
     "metadata": {},
     "output_type": "execute_result"
    }
   ],
   "source": [
    "id"
   ]
  },
  {
   "cell_type": "code",
   "execution_count": null,
   "id": "b7485755",
   "metadata": {},
   "outputs": [],
   "source": [
    "child(id)"
   ]
  },
  {
   "cell_type": "code",
   "execution_count": null,
   "id": "611d1839",
   "metadata": {},
   "outputs": [],
   "source": [
    "aliases(id)"
   ]
  },
  {
   "cell_type": "code",
   "execution_count": null,
   "id": "cbf96752",
   "metadata": {},
   "outputs": [],
   "source": [
    "multi_vectorstore.get_by_ids([id])"
   ]
  },
  {
   "cell_type": "code",
   "execution_count": null,
   "id": "c2f3a767",
   "metadata": {},
   "outputs": [],
   "source": [
    "multi_vectorstore.delete([id])"
   ]
  },
  {
   "cell_type": "code",
   "execution_count": null,
   "id": "ae63fece",
   "metadata": {},
   "outputs": [],
   "source": [
    "multi_vectorstore.get_by_ids(ids)"
   ]
  },
  {
   "cell_type": "code",
   "execution_count": 7,
   "id": "ad652dbf",
   "metadata": {},
   "outputs": [],
   "source": [
    "ids = multi_vectorstore.add_documents_multiple(docs, func_list=[(\"chunk\", {\"chunk_size\":400}), \"summary\", (\"question\", {\"q\":2})], add_originals=True)"
   ]
  },
  {
   "cell_type": "code",
   "execution_count": null,
   "id": "7b442b90",
   "metadata": {},
   "outputs": [],
   "source": [
    "sub_docs = base_vector_store.similarity_search(\"justice breyer\")"
   ]
  },
  {
   "cell_type": "code",
   "execution_count": null,
   "id": "5508b001",
   "metadata": {},
   "outputs": [],
   "source": [
    "len(sub_docs)"
   ]
  },
  {
   "cell_type": "code",
   "execution_count": null,
   "id": "649108da",
   "metadata": {},
   "outputs": [],
   "source": [
    "len(sub_docs[0].page_content)"
   ]
  },
  {
   "cell_type": "code",
   "execution_count": null,
   "id": "7594b24e",
   "metadata": {},
   "outputs": [],
   "source": [
    "related_docs = multi_vector_store.get_relevant_documents(\"justice breyer\")"
   ]
  },
  {
   "cell_type": "code",
   "execution_count": null,
   "id": "5975e00e",
   "metadata": {},
   "outputs": [],
   "source": [
    "len(related_docs)"
   ]
  },
  {
   "cell_type": "code",
   "execution_count": null,
   "id": "4c120c65",
   "metadata": {},
   "outputs": [],
   "source": [
    "len(related_docs[0].page_content)"
   ]
  },
  {
   "cell_type": "code",
   "execution_count": null,
   "id": "adac7395",
   "metadata": {},
   "outputs": [],
   "source": []
  }
 ],
 "metadata": {
  "kernelspec": {
   "display_name": "Python 3.12 (myenv)",
   "language": "python",
   "name": "myenv"
  },
  "language_info": {
   "codemirror_mode": {
    "name": "ipython",
    "version": 3
   },
   "file_extension": ".py",
   "mimetype": "text/x-python",
   "name": "python",
   "nbconvert_exporter": "python",
   "pygments_lexer": "ipython3",
   "version": "3.12.3"
  }
 },
 "nbformat": 4,
 "nbformat_minor": 5
}
