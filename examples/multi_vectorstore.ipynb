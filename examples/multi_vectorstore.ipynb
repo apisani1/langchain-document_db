{
 "cells": [
  {
   "cell_type": "markdown",
   "id": "d9172545",
   "metadata": {},
   "source": [
    "## MultiVectorStore\n",
    "\n",
    "It can often be beneficial to store multiple vectors per document. A transformation is applied to a parent document to create child documents that then are embedded and stored in the vectorstore. The methods to create child documents per each parent document include:\n",
    "\n",
    "- Smaller chunks: split a document into smaller chunks.\n",
    "- Summary: create a summary for each document using an LLM.\n",
    "- Hypothetical questions: use a LLM to create hypothetical questions that each document would be appropriate to answer.\n",
    "- Custom functions that generate child documents that can improve the quality of the retrieval process.\n",
    "\n",
    "This allows the retriever to use the child document embeddings for the search for the best match, but then return the parent documents that have more content.\n"
   ]
  },
  {
   "cell_type": "code",
   "execution_count": 1,
   "id": "2d3504ed",
   "metadata": {},
   "outputs": [],
   "source": [
    "import os\n",
    "import sys\n",
    "sys.path.append('../')\n",
    "\n",
    "from dotenv import find_dotenv, load_dotenv\n",
    "load_dotenv(find_dotenv(), override=True)\n",
    "\n",
    "from langchain_openai import OpenAIEmbeddings\n",
    "from langchain.vectorstores.chroma import Chroma\n",
    "from langchain_openai import ChatOpenAI\n",
    "\n",
    "from load_document import load_document, load_unstructured_document\n",
    "from cached_docstore import CachedDocStore\n",
    "from multi_vectorstore import MultiVectorStore"
   ]
  },
  {
   "cell_type": "markdown",
   "id": "385b9029",
   "metadata": {},
   "source": [
    "#### Load files and  and split them into chunks. This chunks will be our parent documents."
   ]
  },
  {
   "cell_type": "code",
   "execution_count": 2,
   "id": "6d869496",
   "metadata": {},
   "outputs": [
    {
     "data": {
      "text/plain": [
       "11"
      ]
     },
     "execution_count": 2,
     "metadata": {},
     "output_type": "execute_result"
    }
   ],
   "source": [
    "docs = load_document(\"./files/state_of_the_union.txt\", chunk_it=True, chunk_size=4000, chunk_overlap=200)\n",
    "\n",
    "len(docs)"
   ]
  },
  {
   "cell_type": "code",
   "execution_count": 3,
   "id": "b44d74a6",
   "metadata": {},
   "outputs": [
    {
     "data": {
      "text/plain": [
       "3849"
      ]
     },
     "execution_count": 3,
     "metadata": {},
     "output_type": "execute_result"
    }
   ],
   "source": [
    "len(docs[0].page_content)"
   ]
  },
  {
   "cell_type": "markdown",
   "id": "748587c7",
   "metadata": {},
   "source": [
    "#### Initialize the document store to save the parent documents"
   ]
  },
  {
   "cell_type": "code",
   "execution_count": 4,
   "id": "eef92c4e",
   "metadata": {},
   "outputs": [],
   "source": [
    "data_folder = os.path.abspath(\"../data/multi_vectorstore\")\n",
    "\n",
    "docstore = CachedDocStore(data_folder+\"/parent_docs\", cached=False)"
   ]
  },
  {
   "cell_type": "markdown",
   "id": "c3841bf1",
   "metadata": {},
   "source": [
    "#### Initialize the base vector store to save the child documents and the embeddings"
   ]
  },
  {
   "cell_type": "code",
   "execution_count": 5,
   "id": "0e7b6b45",
   "metadata": {},
   "outputs": [],
   "source": [
    "embedding = OpenAIEmbeddings()\n",
    "\n",
    "base_vectorstore = Chroma(\n",
    "                persist_directory=data_folder+\"/child_docs\",\n",
    "                embedding_function=embedding,\n",
    "            )"
   ]
  },
  {
   "cell_type": "markdown",
   "id": "195e7fdd",
   "metadata": {},
   "source": [
    "#### Initialize the LLM to be used to create summaries and questions"
   ]
  },
  {
   "cell_type": "code",
   "execution_count": 6,
   "id": "c4cba593",
   "metadata": {},
   "outputs": [],
   "source": [
    "llm = ChatOpenAI()"
   ]
  },
  {
   "cell_type": "markdown",
   "id": "c645b80b",
   "metadata": {},
   "source": [
    "#### Initialize the multi vector store"
   ]
  },
  {
   "cell_type": "code",
   "execution_count": 7,
   "id": "9c60d4b7",
   "metadata": {},
   "outputs": [],
   "source": [
    "multi_vectorstore = MultiVectorStore(\n",
    "                vectorstore=base_vectorstore,\n",
    "                docstore=docstore,\n",
    "                ids_db_path=data_folder,\n",
    "        )"
   ]
  },
  {
   "cell_type": "markdown",
   "id": "3e17a2ac",
   "metadata": {},
   "source": [
    "#### Add documents to the multi vector store\n",
    "The default transformation is smaller chucks"
   ]
  },
  {
   "cell_type": "code",
   "execution_count": 8,
   "id": "6d203872",
   "metadata": {},
   "outputs": [
    {
     "data": {
      "text/plain": [
       "11"
      ]
     },
     "execution_count": 8,
     "metadata": {},
     "output_type": "execute_result"
    }
   ],
   "source": [
    "ids = multi_vectorstore.add_documents(docs)\n",
    "\n",
    "len(ids)"
   ]
  },
  {
   "cell_type": "markdown",
   "id": "4edbfeca",
   "metadata": {},
   "source": [
    "The returned ids correspont to the parent documents. **`get_by_ids`** can be used to retrieve the parent documents."
   ]
  },
  {
   "cell_type": "code",
   "execution_count": 9,
   "id": "40638e79",
   "metadata": {},
   "outputs": [
    {
     "name": "stdout",
     "output_type": "stream",
     "text": [
      "Madam Speaker, Madam Vice President, our First Lady and Second Gentleman. Members of Congress and the Cabinet. Justices of the Supreme Court. My fellow Americans.  \n",
      "\n",
      "Last year COVID-19 kept us apart. This year we are finally together again.\n"
     ]
    }
   ],
   "source": [
    "doc = multi_vectorstore.get_by_ids([ids[0]])\n",
    "\n",
    "print(doc[0].page_content[:240])"
   ]
  },
  {
   "cell_type": "markdown",
   "id": "305132fa",
   "metadata": {},
   "source": [
    "**`get_child_ids`** can be used to get the ids of the child documents of a parent document."
   ]
  },
  {
   "cell_type": "code",
   "execution_count": 10,
   "id": "7cd00c27",
   "metadata": {},
   "outputs": [
    {
     "data": {
      "text/plain": [
       "9"
      ]
     },
     "execution_count": 10,
     "metadata": {},
     "output_type": "execute_result"
    }
   ],
   "source": [
    "child_ids = multi_vectorstore.get_child_ids(ids[0])\n",
    "\n",
    "len(child_ids)"
   ]
  },
  {
   "cell_type": "code",
   "execution_count": 11,
   "id": "c0d72a41",
   "metadata": {},
   "outputs": [
    {
     "data": {
      "text/plain": [
       "490"
      ]
     },
     "execution_count": 11,
     "metadata": {},
     "output_type": "execute_result"
    }
   ],
   "source": [
    "child_docs = multi_vectorstore.vectorstore.similarity_search(\"\", filter={\"doc_id\": ids[0]})\n",
    "\n",
    "len(child_docs[0].page_content)"
   ]
  },
  {
   "cell_type": "code",
   "execution_count": 12,
   "id": "b54698f0",
   "metadata": {},
   "outputs": [
    {
     "name": "stdout",
     "output_type": "stream",
     "text": [
      "Madam Speaker, Madam Vice President, our First Lady and Second Gentleman. Members of Congress and the Cabinet. Justices of the Supreme Court. My fellow Americans.  \n",
      "\n",
      "Last year COVID-19 kept us apart. This year we are finally together again.\n"
     ]
    }
   ],
   "source": [
    "print(child_docs[0].page_content[:240])"
   ]
  },
  {
   "cell_type": "markdown",
   "id": "b627d022",
   "metadata": {},
   "source": [
    "The transformation can also be set at the time of inserting the documents using he parameter **`functor`**. This parameter can also be used at the time of the multi vector store initialization."
   ]
  },
  {
   "cell_type": "code",
   "execution_count": 13,
   "id": "afc1e505",
   "metadata": {},
   "outputs": [],
   "source": [
    "ids2 = multi_vectorstore.add_documents(docs, functor=\"summary\", llm=llm)\n",
    "\n",
    "assert ids == ids2"
   ]
  },
  {
   "cell_type": "code",
   "execution_count": 14,
   "id": "b9041d2b",
   "metadata": {},
   "outputs": [
    {
     "data": {
      "text/plain": [
       "10"
      ]
     },
     "execution_count": 14,
     "metadata": {},
     "output_type": "execute_result"
    }
   ],
   "source": [
    "child_ids = multi_vectorstore.get_child_ids(ids[0])\n",
    "\n",
    "len(child_ids)"
   ]
  },
  {
   "cell_type": "markdown",
   "id": "8833da7d",
   "metadata": {},
   "source": [
    "The parameter **`func_kwargs`** can be used to pass arguments to the transformation function. This parameter can also be used at the time of the multi vector store initialization."
   ]
  },
  {
   "cell_type": "code",
   "execution_count": 15,
   "id": "ddd58f30",
   "metadata": {},
   "outputs": [],
   "source": [
    "ids3 = multi_vectorstore.add_documents(docs, functor=\"question\", func_kwargs={\"q\": 2}, llm=llm)"
   ]
  },
  {
   "cell_type": "code",
   "execution_count": 16,
   "id": "5091286a",
   "metadata": {},
   "outputs": [
    {
     "data": {
      "text/plain": [
       "12"
      ]
     },
     "execution_count": 16,
     "metadata": {},
     "output_type": "execute_result"
    }
   ],
   "source": [
    "child_ids = multi_vectorstore.get_child_ids(ids[0])\n",
    "\n",
    "len(child_ids)"
   ]
  },
  {
   "cell_type": "markdown",
   "id": "1e07c5a4",
   "metadata": {},
   "source": [
    "The parameter **`add_originals`** can be used to add the parent documents' embeddings to the vector store. **`get_aliases`** will return the ids of the embedding entries for a parent document"
   ]
  },
  {
   "cell_type": "code",
   "execution_count": 17,
   "id": "464528c3",
   "metadata": {},
   "outputs": [],
   "source": [
    "ids4 = multi_vectorstore.add_documents(docs, functor=\"none\", add_originals=True)"
   ]
  },
  {
   "cell_type": "code",
   "execution_count": 18,
   "id": "fdd1b149",
   "metadata": {},
   "outputs": [
    {
     "data": {
      "text/plain": [
       "1"
      ]
     },
     "execution_count": 18,
     "metadata": {},
     "output_type": "execute_result"
    }
   ],
   "source": [
    "aliases = multi_vectorstore.get_aliases(ids[0])\n",
    "\n",
    "len(aliases)"
   ]
  },
  {
   "cell_type": "code",
   "execution_count": 19,
   "id": "3fbe2e5d",
   "metadata": {},
   "outputs": [],
   "source": [
    "assert ids[0] == aliases[0]"
   ]
  },
  {
   "cell_type": "markdown",
   "id": "9ae5fc28",
   "metadata": {},
   "source": [
    "You can also pass a list of functors and its kwargs to insert multiple type of child at once."
   ]
  },
  {
   "cell_type": "code",
   "execution_count": 20,
   "id": "ad652dbf",
   "metadata": {},
   "outputs": [],
   "source": [
    "ids = multi_vectorstore.add_documents(\n",
    "            docs,\n",
    "            functor=[(\"chunk\", {\"chunk_size\":400, \"chunk_overlap\":40}), \"summary\", (\"question\", {\"q\":2})],\n",
    "            llm=llm,\n",
    "        )"
   ]
  },
  {
   "cell_type": "markdown",
   "id": "a66127fc",
   "metadata": {},
   "source": [
    "You can also specify the transformation function(s) at the time of the multi vector store initialization. This is beneficial when the multi vector store is being managed by another layer such a DocumentDB."
   ]
  },
  {
   "cell_type": "code",
   "execution_count": 21,
   "id": "d1b5b738",
   "metadata": {},
   "outputs": [],
   "source": [
    "multi_vectorstore = MultiVectorStore(\n",
    "                vectorstore=base_vectorstore,\n",
    "                docstore=docstore,\n",
    "                ids_db_path=data_folder,\n",
    "                functor=[(\"chunk\", {\"chunk_size\":400, \"chunk_overlap\":40}), \"summary\", (\"question\", {\"q\":2})],\n",
    "                llm=llm,\n",
    "                \n",
    "        )"
   ]
  },
  {
   "cell_type": "markdown",
   "id": "1c25af2c",
   "metadata": {},
   "source": [
    "### Retrieval\n",
    "\n",
    "Under the hood the multi vector store retriever uses the base vector store to search within the child documents, and the document store to retrieve the associated parent document."
   ]
  },
  {
   "cell_type": "code",
   "execution_count": 22,
   "id": "7b442b90",
   "metadata": {},
   "outputs": [
    {
     "data": {
      "text/plain": [
       "4"
      ]
     },
     "execution_count": 22,
     "metadata": {},
     "output_type": "execute_result"
    }
   ],
   "source": [
    "child_docs = multi_vectorstore.vectorstore.similarity_search(\"justice breyer\")\n",
    "\n",
    "len(child_docs)"
   ]
  },
  {
   "cell_type": "code",
   "execution_count": 23,
   "id": "649108da",
   "metadata": {},
   "outputs": [
    {
     "data": {
      "text/plain": [
       "390"
      ]
     },
     "execution_count": 23,
     "metadata": {},
     "output_type": "execute_result"
    }
   ],
   "source": [
    "len(child_docs[0].page_content)"
   ]
  },
  {
   "cell_type": "code",
   "execution_count": 24,
   "id": "bcd7cd0c",
   "metadata": {},
   "outputs": [
    {
     "name": "stdout",
     "output_type": "stream",
     "text": [
      "Tonight, I’d like to honor someone who has dedicated his life to serve this country: Justice Stephen Breyer—an Army veteran, Constitutional scholar, and retiring Justice of the United States Supreme Court. Justice Breyer, thank you for your service. \n"
     ]
    }
   ],
   "source": [
    "print(child_docs[0].page_content[:250])"
   ]
  },
  {
   "cell_type": "code",
   "execution_count": 25,
   "id": "7594b24e",
   "metadata": {},
   "outputs": [
    {
     "data": {
      "text/plain": [
       "2"
      ]
     },
     "execution_count": 25,
     "metadata": {},
     "output_type": "execute_result"
    }
   ],
   "source": [
    "retriever = multi_vectorstore.as_retriever(search_kwargs={\"k\": 5})  # k is the number of child documents to use\n",
    "\n",
    "related_parent_docs = retriever.invoke(\"justice breyer\")\n",
    "\n",
    "len(related_parent_docs)"
   ]
  },
  {
   "cell_type": "code",
   "execution_count": 26,
   "id": "4c120c65",
   "metadata": {},
   "outputs": [
    {
     "data": {
      "text/plain": [
       "3958"
      ]
     },
     "execution_count": 26,
     "metadata": {},
     "output_type": "execute_result"
    }
   ],
   "source": [
    "len(related_parent_docs[0].page_content)"
   ]
  },
  {
   "cell_type": "code",
   "execution_count": 27,
   "id": "9c59d70b",
   "metadata": {},
   "outputs": [
    {
     "name": "stdout",
     "output_type": "stream",
     "text": [
      "Tonight, I’d like to honor someone who has dedicated his life to serve this country: Justice Stephen Breyer—an Army veteran, Constitutional scholar, and retiring Justice of the United States Supreme Court. Justice Breyer, thank you for your service. \n"
     ]
    }
   ],
   "source": [
    "print(related_parent_docs[0].page_content[2456:2706])"
   ]
  },
  {
   "cell_type": "code",
   "execution_count": null,
   "id": "3765c958",
   "metadata": {},
   "outputs": [],
   "source": []
  }
 ],
 "metadata": {
  "kernelspec": {
   "display_name": "Python 3.12 (myenv)",
   "language": "python",
   "name": "myenv"
  },
  "language_info": {
   "codemirror_mode": {
    "name": "ipython",
    "version": 3
   },
   "file_extension": ".py",
   "mimetype": "text/x-python",
   "name": "python",
   "nbconvert_exporter": "python",
   "pygments_lexer": "ipython3",
   "version": "3.12.3"
  }
 },
 "nbformat": 4,
 "nbformat_minor": 5
}
