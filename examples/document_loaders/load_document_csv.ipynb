{
 "cells": [
  {
   "cell_type": "markdown",
   "id": "728f1747-b8fc-4d31-96c2-047fc83c079d",
   "metadata": {},
   "source": [
    "## CSV\n",
    "\n",
    "https://python.langchain.com/v0.1/docs/modules/data_connection/document_loaders/csv/\n"
   ]
  },
  {
   "cell_type": "code",
   "execution_count": 1,
   "id": "accb2daf",
   "metadata": {},
   "outputs": [],
   "source": [
    "import sys\n",
    "sys.path.append('../../')\n",
    "\n",
    "from document_loaders.load_document import load_document, DocumentLoader"
   ]
  },
  {
   "cell_type": "markdown",
   "id": "6bc4082c-42ff-42f7-922a-7c0064440097",
   "metadata": {},
   "source": [
    "### Using load_document"
   ]
  },
  {
   "cell_type": "code",
   "execution_count": 2,
   "id": "d31bd40b",
   "metadata": {},
   "outputs": [
    {
     "name": "stdout",
     "output_type": "stream",
     "text": [
      "30\n"
     ]
    },
    {
     "data": {
      "text/plain": [
       "Document(metadata={'source': './files/mlb_teams_2012.csv', 'row': 0}, page_content='Team: Nationals\\n\"Payroll (millions)\": 81.34\\n\"Wins\": 98')"
      ]
     },
     "execution_count": 2,
     "metadata": {},
     "output_type": "execute_result"
    }
   ],
   "source": [
    "docs = load_document('./files/mlb_teams_2012.csv', text_splitter=\"auto\")\n",
    "\n",
    "print(len(docs))\n",
    "\n",
    "docs[0]"
   ]
  },
  {
   "cell_type": "markdown",
   "id": "371bd7f6",
   "metadata": {},
   "source": [
    "#### Customizing the CSV parsing and loading\n",
    "\n",
    "See the csv module documentation for more information of what csv args are supported:\n",
    "https://docs.python.org/3/library/csv.html"
   ]
  },
  {
   "cell_type": "code",
   "execution_count": 3,
   "id": "75907b6c",
   "metadata": {},
   "outputs": [
    {
     "name": "stdout",
     "output_type": "stream",
     "text": [
      "31\n"
     ]
    },
    {
     "data": {
      "text/plain": [
       "Document(metadata={'source': './files/mlb_teams_2012.csv', 'row': 0}, page_content='MLB Team: Team\\nPayroll in millions: \"Payroll (millions)\"\\nWins: \"Wins\"')"
      ]
     },
     "execution_count": 3,
     "metadata": {},
     "output_type": "execute_result"
    }
   ],
   "source": [
    "docs = load_document(\n",
    "            './files/mlb_teams_2012.csv',\n",
    "            csv_args={\n",
    "                'delimiter': ',',\n",
    "                'quotechar': '\"',\n",
    "                'fieldnames': ['MLB Team', 'Payroll in millions', 'Wins']\n",
    "            }\n",
    "        )\n",
    "\n",
    "print(len(docs))\n",
    "\n",
    "docs[0]"
   ]
  },
  {
   "cell_type": "markdown",
   "id": "c6b6f062",
   "metadata": {},
   "source": [
    "#### Specify a column to identify the document source"
   ]
  },
  {
   "cell_type": "code",
   "execution_count": 4,
   "id": "abf9c206",
   "metadata": {},
   "outputs": [
    {
     "name": "stdout",
     "output_type": "stream",
     "text": [
      "30\n"
     ]
    },
    {
     "data": {
      "text/plain": [
       "Document(metadata={'source': 'Nationals', 'row': 0}, page_content='Team: Nationals\\n\"Payroll (millions)\": 81.34\\n\"Wins\": 98')"
      ]
     },
     "execution_count": 4,
     "metadata": {},
     "output_type": "execute_result"
    }
   ],
   "source": [
    "docs = load_document('./files/mlb_teams_2012.csv', source_column=\"Team\")\n",
    "\n",
    "print(len(docs))\n",
    "\n",
    "docs[0]"
   ]
  },
  {
   "cell_type": "markdown",
   "id": "cd50ff34",
   "metadata": {},
   "source": [
    "### Using DocumentLoader"
   ]
  },
  {
   "cell_type": "code",
   "execution_count": 5,
   "id": "87c18bd8",
   "metadata": {},
   "outputs": [],
   "source": [
    "loader = DocumentLoader('./files/mlb_teams_2012.csv', text_splitter=\"auto\")"
   ]
  },
  {
   "cell_type": "code",
   "execution_count": 6,
   "id": "791bc1ec",
   "metadata": {},
   "outputs": [
    {
     "name": "stdout",
     "output_type": "stream",
     "text": [
      "30\n"
     ]
    },
    {
     "data": {
      "text/plain": [
       "Document(metadata={'source': './files/mlb_teams_2012.csv', 'row': 29}, page_content='Team: Astros\\n\"Payroll (millions)\": 60.65\\n\"Wins\": 55')"
      ]
     },
     "execution_count": 6,
     "metadata": {},
     "output_type": "execute_result"
    }
   ],
   "source": [
    "count = 0\n",
    "for doc in loader.lazy_load():\n",
    "    count += 1\n",
    "print(count)\n",
    "\n",
    "doc"
   ]
  },
  {
   "cell_type": "markdown",
   "id": "9056f73a",
   "metadata": {},
   "source": [
    "#### Customizing the CSV parsing and loading¶\n",
    "See the csv module documentation for more information of what csv args are supported: https://docs.python.org/3/library/csv.html"
   ]
  },
  {
   "cell_type": "code",
   "execution_count": 7,
   "id": "59f0a01b",
   "metadata": {},
   "outputs": [],
   "source": [
    "loader = DocumentLoader(\n",
    "            './files/mlb_teams_2012.csv',\n",
    "            csv_args={\n",
    "                'delimiter': ',',\n",
    "                'quotechar': '\"',\n",
    "                'fieldnames': ['MLB Team', 'Payroll in millions', 'Wins']\n",
    "            },\n",
    "        )"
   ]
  },
  {
   "cell_type": "code",
   "execution_count": 8,
   "id": "72d77fe7",
   "metadata": {},
   "outputs": [
    {
     "name": "stdout",
     "output_type": "stream",
     "text": [
      "30\n"
     ]
    },
    {
     "data": {
      "text/plain": [
       "Document(metadata={'source': './files/mlb_teams_2012.csv', 'row': 29}, page_content='Team: Astros\\n\"Payroll (millions)\": 60.65\\n\"Wins\": 55')"
      ]
     },
     "execution_count": 8,
     "metadata": {},
     "output_type": "execute_result"
    }
   ],
   "source": [
    "count = 0\n",
    "for doc in loader.lazy_load():\n",
    "    count += 1\n",
    "print(count)\n",
    "\n",
    "doc"
   ]
  },
  {
   "cell_type": "markdown",
   "id": "bc838a2b",
   "metadata": {},
   "source": [
    "#### Specify a column to identify the document source"
   ]
  },
  {
   "cell_type": "code",
   "execution_count": 9,
   "id": "0586a3ce",
   "metadata": {},
   "outputs": [],
   "source": [
    "loader = DocumentLoader('./files/mlb_teams_2012.csv', source_column=\"Team\")"
   ]
  },
  {
   "cell_type": "code",
   "execution_count": 10,
   "id": "ee34bf98",
   "metadata": {},
   "outputs": [
    {
     "name": "stdout",
     "output_type": "stream",
     "text": [
      "30\n"
     ]
    },
    {
     "data": {
      "text/plain": [
       "Document(metadata={'source': './files/mlb_teams_2012.csv', 'row': 29}, page_content='Team: Astros\\n\"Payroll (millions)\": 60.65\\n\"Wins\": 55')"
      ]
     },
     "execution_count": 10,
     "metadata": {},
     "output_type": "execute_result"
    }
   ],
   "source": [
    "count = 0\n",
    "for doc in loader.lazy_load():\n",
    "    count += 1\n",
    "print(count)\n",
    "\n",
    "doc"
   ]
  },
  {
   "cell_type": "code",
   "execution_count": null,
   "id": "fea0d940",
   "metadata": {},
   "outputs": [],
   "source": []
  }
 ],
 "metadata": {
  "kernelspec": {
   "display_name": "Python 3.12 (myenv)",
   "language": "python",
   "name": "myenv"
  },
  "language_info": {
   "codemirror_mode": {
    "name": "ipython",
    "version": 3
   },
   "file_extension": ".py",
   "mimetype": "text/x-python",
   "name": "python",
   "nbconvert_exporter": "python",
   "pygments_lexer": "ipython3",
   "version": "3.12.3"
  }
 },
 "nbformat": 4,
 "nbformat_minor": 5
}
