{
 "cells": [
  {
   "cell_type": "markdown",
   "id": "728f1747-b8fc-4d31-96c2-047fc83c079d",
   "metadata": {},
   "source": [
    "# JSON\n",
    "\n",
    "\n",
    "https://python.langchain.com/v0.1/docs/modules/data_connection/document_loaders/json/"
   ]
  },
  {
   "cell_type": "code",
   "execution_count": 1,
   "id": "accb2daf",
   "metadata": {},
   "outputs": [],
   "source": [
    "import sys\n",
    "sys.path.append('../../')\n",
    "\n",
    "import json\n",
    "from pathlib import Path\n",
    "from pprint import pprint\n",
    "\n",
    "from document_loaders.load_document import load_document, load_document_lazy, DocumentLoader"
   ]
  },
  {
   "cell_type": "markdown",
   "id": "6bc4082c-42ff-42f7-922a-7c0064440097",
   "metadata": {},
   "source": [
    "## Using load_document"
   ]
  },
  {
   "cell_type": "code",
   "execution_count": 14,
   "id": "94fe3092",
   "metadata": {},
   "outputs": [
    {
     "name": "stdout",
     "output_type": "stream",
     "text": [
      "{'web-app': {'servlet': [{'init-param': {'cachePackageTagsRefresh': 60,\n",
      "                                         'cachePackageTagsStore': 200,\n",
      "                                         'cachePackageTagsTrack': 200,\n",
      "                                         'cachePagesDirtyRead': 10,\n",
      "                                         'cachePagesRefresh': 10,\n",
      "                                         'cachePagesStore': 100,\n",
      "                                         'cachePagesTrack': 200,\n",
      "                                         'cacheTemplatesRefresh': 15,\n",
      "                                         'cacheTemplatesStore': 50,\n",
      "                                         'cacheTemplatesTrack': 100,\n",
      "                                         'configGlossary:adminEmail': 'ksm@pobox.com',\n",
      "                                         'configGlossary:installationAt': 'Philadelphia, '\n",
      "                                                                          'PA',\n",
      "                                         'configGlossary:poweredBy': 'Cofax',\n",
      "                                         'configGlossary:poweredByIcon': '/images/cofax.gif',\n",
      "                                         'configGlossary:staticPath': '/content/static',\n",
      "                                         'dataStoreClass': 'org.cofax.SqlDataStore',\n",
      "                                         'dataStoreConnUsageLimit': 100,\n",
      "                                         'dataStoreDriver': 'com.microsoft.jdbc.sqlserver.SQLServerDriver',\n",
      "                                         'dataStoreInitConns': 10,\n",
      "                                         'dataStoreLogFile': '/usr/local/tomcat/logs/datastore.log',\n",
      "                                         'dataStoreLogLevel': 'debug',\n",
      "                                         'dataStoreMaxConns': 100,\n",
      "                                         'dataStoreName': 'cofax',\n",
      "                                         'dataStorePassword': 'dataStoreTestQuery',\n",
      "                                         'dataStoreTestQuery': 'SET NOCOUNT '\n",
      "                                                               'ON;select '\n",
      "                                                               \"test='test';\",\n",
      "                                         'dataStoreUrl': 'jdbc:microsoft:sqlserver://LOCALHOST:1433;DatabaseName=goon',\n",
      "                                         'dataStoreUser': 'sa',\n",
      "                                         'defaultFileTemplate': 'articleTemplate.htm',\n",
      "                                         'defaultListTemplate': 'listTemplate.htm',\n",
      "                                         'jspFileTemplate': 'articleTemplate.jsp',\n",
      "                                         'jspListTemplate': 'listTemplate.jsp',\n",
      "                                         'maxUrlLength': 500,\n",
      "                                         'redirectionClass': 'org.cofax.SqlRedirection',\n",
      "                                         'searchEngineFileTemplate': 'forSearchEngines.htm',\n",
      "                                         'searchEngineListTemplate': 'forSearchEnginesList.htm',\n",
      "                                         'searchEngineRobotsDb': 'WEB-INF/robots.db',\n",
      "                                         'templateLoaderClass': 'org.cofax.FilesTemplateLoader',\n",
      "                                         'templateOverridePath': '',\n",
      "                                         'templatePath': 'templates',\n",
      "                                         'templateProcessorClass': 'org.cofax.WysiwygTemplate',\n",
      "                                         'useDataStore': True,\n",
      "                                         'useJSP': False},\n",
      "                          'servlet-class': 'org.cofax.cds.CDSServlet',\n",
      "                          'servlet-name': 'cofaxCDS'},\n",
      "                         {'init-param': {'mailHost': 'mail1',\n",
      "                                         'mailHostOverride': 'mail2'},\n",
      "                          'servlet-class': 'org.cofax.cds.EmailServlet',\n",
      "                          'servlet-name': 'cofaxEmail'},\n",
      "                         {'servlet-class': 'org.cofax.cds.AdminServlet',\n",
      "                          'servlet-name': 'cofaxAdmin'},\n",
      "                         {'servlet-class': 'org.cofax.cds.FileServlet',\n",
      "                          'servlet-name': 'fileServlet'},\n",
      "                         {'init-param': {'adminGroupID': 4,\n",
      "                                         'betaServer': True,\n",
      "                                         'dataLog': 1,\n",
      "                                         'dataLogLocation': '/usr/local/tomcat/logs/dataLog.log',\n",
      "                                         'dataLogMaxSize': '',\n",
      "                                         'fileTransferFolder': '/usr/local/tomcat/webapps/content/fileTransferFolder',\n",
      "                                         'log': 1,\n",
      "                                         'logLocation': '/usr/local/tomcat/logs/CofaxTools.log',\n",
      "                                         'logMaxSize': '',\n",
      "                                         'lookInContext': 1,\n",
      "                                         'removePageCache': '/content/admin/remove?cache=pages&id=',\n",
      "                                         'removeTemplateCache': '/content/admin/remove?cache=templates&id=',\n",
      "                                         'templatePath': 'toolstemplates/'},\n",
      "                          'servlet-class': 'org.cofax.cms.CofaxToolsServlet',\n",
      "                          'servlet-name': 'cofaxTools'}],\n",
      "             'servlet-mapping': {'cofaxAdmin': '/admin/*',\n",
      "                                 'cofaxCDS': '/',\n",
      "                                 'cofaxEmail': '/cofaxutil/aemail/*',\n",
      "                                 'cofaxTools': '/tools/*',\n",
      "                                 'fileServlet': '/static/*'},\n",
      "             'taglib': {'taglib-location': '/WEB-INF/tlds/cofax.tld',\n",
      "                        'taglib-uri': 'cofax.tld'}}}\n"
     ]
    }
   ],
   "source": [
    "file_path='./files/some_json.json'\n",
    "pprint(json.loads(Path(file_path).read_text()))"
   ]
  },
  {
   "cell_type": "code",
   "execution_count": 3,
   "id": "d31bd40b",
   "metadata": {},
   "outputs": [
    {
     "name": "stdout",
     "output_type": "stream",
     "text": [
      "2\n",
      "{'seq_num': 1,\n",
      " 'source': '/Users/antonio/Desktop/DataScience/MyCode/langchain-document_db/examples/document_loaders/files/some_json.json'}\n",
      "{'web-app': {'servlet-mapping': {'cofaxAdmin': '/admin/*',\n",
      "                                 'cofaxCDS': '/',\n",
      "                                 'cofaxEmail': '/cofaxutil/aemail/*',\n",
      "                                 'cofaxTools': '/tools/*',\n",
      "                                 'fileServlet': '/static/*'},\n",
      "             'taglib': {'taglib-location': '/WEB-INF/tlds/cofax.tld',\n",
      "                        'taglib-uri': 'cofax.tld'}}}\n"
     ]
    }
   ],
   "source": [
    "docs = load_document('./files/some_json.json', text_splitter=\"auto\")\n",
    "\n",
    "print(len(docs))\n",
    "pprint(docs[1].metadata)\n",
    "pprint(json.loads(docs[1].page_content))"
   ]
  },
  {
   "cell_type": "markdown",
   "id": "371bd7f6",
   "metadata": {},
   "source": [
    "### Customizing the JSON parsing and loading\n",
    "\n",
    "See the jq module documentation for more information of what jq schemas are supported:\n",
    "https://jqlang.github.io/jq/"
   ]
  },
  {
   "cell_type": "code",
   "execution_count": 13,
   "id": "81249d48",
   "metadata": {},
   "outputs": [
    {
     "name": "stdout",
     "output_type": "stream",
     "text": [
      "{'image': {'creation_timestamp': 1675549016, 'uri': 'image_of_the_chat.jpg'},\n",
      " 'is_still_participant': True,\n",
      " 'joinable_mode': {'link': '', 'mode': 1},\n",
      " 'magic_words': [],\n",
      " 'messages': [{'content': 'Bye!',\n",
      "               'sender_name': 'User 2',\n",
      "               'timestamp_ms': 1675597571851},\n",
      "              {'content': 'Oh no worries! Bye',\n",
      "               'sender_name': 'User 1',\n",
      "               'timestamp_ms': 1675597435669},\n",
      "              {'content': 'No Im sorry it was my mistake, the blue one is not '\n",
      "                          'for sale',\n",
      "               'sender_name': 'User 2',\n",
      "               'timestamp_ms': 1675596277579},\n",
      "              {'content': 'I thought you were selling the blue one!',\n",
      "               'sender_name': 'User 1',\n",
      "               'timestamp_ms': 1675595140251},\n",
      "              {'content': 'Im not interested in this bag. Im interested in the '\n",
      "                          'blue one!',\n",
      "               'sender_name': 'User 1',\n",
      "               'timestamp_ms': 1675595109305},\n",
      "              {'content': 'Here is $129',\n",
      "               'sender_name': 'User 2',\n",
      "               'timestamp_ms': 1675595068468},\n",
      "              {'photos': [{'creation_timestamp': 1675595059,\n",
      "                           'uri': 'url_of_some_picture.jpg'}],\n",
      "               'sender_name': 'User 2',\n",
      "               'timestamp_ms': 1675595060730},\n",
      "              {'content': 'Online is at least $100',\n",
      "               'sender_name': 'User 2',\n",
      "               'timestamp_ms': 1675595045152},\n",
      "              {'content': 'How much do you want?',\n",
      "               'sender_name': 'User 1',\n",
      "               'timestamp_ms': 1675594799696},\n",
      "              {'content': 'Goodmorning! $50 is too low.',\n",
      "               'sender_name': 'User 2',\n",
      "               'timestamp_ms': 1675577876645},\n",
      "              {'content': 'Hi! Im interested in your bag. Im offering $50. Let '\n",
      "                          'me know if you are interested. Thanks!',\n",
      "               'sender_name': 'User 1',\n",
      "               'timestamp_ms': 1675549022673}],\n",
      " 'participants': [{'name': 'User 1'}, {'name': 'User 2'}],\n",
      " 'thread_path': 'inbox/User 1 and User 2 chat',\n",
      " 'title': 'User 1 and User 2 chat'}\n"
     ]
    }
   ],
   "source": [
    "file_path='./files/facebook_chat.json'\n",
    "pprint(json.loads(Path(file_path).read_text()))"
   ]
  },
  {
   "cell_type": "code",
   "execution_count": 5,
   "id": "75907b6c",
   "metadata": {},
   "outputs": [
    {
     "name": "stdout",
     "output_type": "stream",
     "text": [
      "11\n",
      "{'seq_num': 11,\n",
      " 'source': '/Users/antonio/Desktop/DataScience/MyCode/langchain-document_db/examples/document_loaders/files/facebook_chat.json'}\n",
      "('Hi! Im interested in your bag. Im offering $50. Let me know if you are '\n",
      " 'interested. Thanks!')\n"
     ]
    }
   ],
   "source": [
    "docs = load_document(\n",
    "            './files/facebook_chat.json',\n",
    "            jq_schema='.messages[].content'\n",
    "        )\n",
    "\n",
    "print(len(docs))\n",
    "pprint(docs[10].metadata)\n",
    "pprint(docs[10].page_content)"
   ]
  },
  {
   "cell_type": "markdown",
   "id": "c6b6f062",
   "metadata": {},
   "source": [
    "#### JSON Lines file\n",
    "\n",
    "f you want to load documents from a JSON Lines file, you pass `json_lines=True` and specify`jq_schema` to extract `page_conten` from a single JSON object."
   ]
  },
  {
   "cell_type": "code",
   "execution_count": 6,
   "id": "49a5f18a",
   "metadata": {},
   "outputs": [
    {
     "name": "stdout",
     "output_type": "stream",
     "text": [
      "('{\"sender_name\": \"User 2\", \"timestamp_ms\": 1675597571851, \"content\": \"Bye!\"}\\n'\n",
      " '{\"sender_name\": \"User 1\", \"timestamp_ms\": 1675597435669, \"content\": \"Oh no '\n",
      " 'worries! Bye\"}\\n'\n",
      " '{\"sender_name\": \"User 2\", \"timestamp_ms\": 1675596277579, \"content\": \"No Im '\n",
      " 'sorry it was my mistake, the blue one is not for sale\"}\\n')\n"
     ]
    }
   ],
   "source": [
    "file_path = './files/facebook_chat_messages.jsonl'\n",
    "pprint(Path(file_path).read_text())"
   ]
  },
  {
   "cell_type": "code",
   "execution_count": 7,
   "id": "abf9c206",
   "metadata": {},
   "outputs": [
    {
     "name": "stdout",
     "output_type": "stream",
     "text": [
      "3\n",
      "{'seq_num': 3,\n",
      " 'source': '/Users/antonio/Desktop/DataScience/MyCode/langchain-document_db/examples/document_loaders/files/facebook_chat_messages.jsonl'}\n",
      "'No Im sorry it was my mistake, the blue one is not for sale'\n"
     ]
    }
   ],
   "source": [
    "docs = load_document(\n",
    "            './files/facebook_chat_messages.jsonl',\n",
    "            jq_schema='.content',\n",
    "            json_lines=True\n",
    "        )\n",
    "\n",
    "print(len(docs))\n",
    "pprint(docs[2].metadata)\n",
    "pprint(docs[2].page_content)"
   ]
  },
  {
   "cell_type": "markdown",
   "id": "861ebb0e",
   "metadata": {},
   "source": [
    "## Using load_document_lazy"
   ]
  },
  {
   "cell_type": "code",
   "execution_count": 15,
   "id": "dc143db7",
   "metadata": {},
   "outputs": [
    {
     "name": "stdout",
     "output_type": "stream",
     "text": [
      "2\n",
      "{'seq_num': 1,\n",
      " 'source': '/Users/antonio/Desktop/DataScience/MyCode/langchain-document_db/examples/document_loaders/files/some_json.json'}\n",
      "{'web-app': {'servlet-mapping': {'cofaxAdmin': '/admin/*',\n",
      "                                 'cofaxCDS': '/',\n",
      "                                 'cofaxEmail': '/cofaxutil/aemail/*',\n",
      "                                 'cofaxTools': '/tools/*',\n",
      "                                 'fileServlet': '/static/*'},\n",
      "             'taglib': {'taglib-location': '/WEB-INF/tlds/cofax.tld',\n",
      "                        'taglib-uri': 'cofax.tld'}}}\n"
     ]
    }
   ],
   "source": [
    "count = 0\n",
    "for doc in load_document_lazy('./files/some_json.json', text_splitter=\"auto\"):\n",
    "    count += 1\n",
    "\n",
    "print(count)\n",
    "pprint(doc.metadata)\n",
    "pprint(json.loads(doc.page_content))"
   ]
  },
  {
   "cell_type": "markdown",
   "id": "77cf4379",
   "metadata": {},
   "source": [
    "#### JSON Lines file"
   ]
  },
  {
   "cell_type": "code",
   "execution_count": 16,
   "id": "80e719bc",
   "metadata": {},
   "outputs": [
    {
     "name": "stdout",
     "output_type": "stream",
     "text": [
      "3\n",
      "{'seq_num': 3,\n",
      " 'source': '/Users/antonio/Desktop/DataScience/MyCode/langchain-document_db/examples/document_loaders/files/facebook_chat_messages.jsonl'}\n",
      "'No Im sorry it was my mistake, the blue one is not for sale'\n"
     ]
    }
   ],
   "source": [
    "count = 0\n",
    "for doc in load_document_lazy(\n",
    "            './files/facebook_chat_messages.jsonl',\n",
    "            jq_schema='.content',\n",
    "            json_lines=True\n",
    "        ):\n",
    "    count += 1\n",
    "\n",
    "print(count)\n",
    "pprint(doc.metadata)\n",
    "pprint(doc.page_content)"
   ]
  },
  {
   "cell_type": "markdown",
   "id": "cd50ff34",
   "metadata": {},
   "source": [
    "## Using DocumentLoader"
   ]
  },
  {
   "cell_type": "code",
   "execution_count": 9,
   "id": "87c18bd8",
   "metadata": {},
   "outputs": [],
   "source": [
    "loader = DocumentLoader('./files/some_json.json', text_splitter=\"auto\")"
   ]
  },
  {
   "cell_type": "code",
   "execution_count": 10,
   "id": "791bc1ec",
   "metadata": {},
   "outputs": [
    {
     "name": "stdout",
     "output_type": "stream",
     "text": [
      "2\n",
      "{'seq_num': 1,\n",
      " 'source': '/Users/antonio/Desktop/DataScience/MyCode/langchain-document_db/examples/document_loaders/files/some_json.json'}\n",
      "{'web-app': {'servlet-mapping': {'cofaxAdmin': '/admin/*',\n",
      "                                 'cofaxCDS': '/',\n",
      "                                 'cofaxEmail': '/cofaxutil/aemail/*',\n",
      "                                 'cofaxTools': '/tools/*',\n",
      "                                 'fileServlet': '/static/*'},\n",
      "             'taglib': {'taglib-location': '/WEB-INF/tlds/cofax.tld',\n",
      "                        'taglib-uri': 'cofax.tld'}}}\n"
     ]
    }
   ],
   "source": [
    "count = 0\n",
    "for doc in loader.lazy_load():\n",
    "    count += 1\n",
    "    \n",
    "print(count)\n",
    "pprint(doc.metadata)\n",
    "pprint(json.loads(doc.page_content))"
   ]
  },
  {
   "cell_type": "markdown",
   "id": "f0da7574",
   "metadata": {},
   "source": [
    "#### JSON Lines file"
   ]
  },
  {
   "cell_type": "code",
   "execution_count": 11,
   "id": "ade31026",
   "metadata": {},
   "outputs": [],
   "source": [
    "loader = DocumentLoader(\n",
    "            './files/facebook_chat_messages.jsonl',\n",
    "            jq_schema='.content',\n",
    "            json_lines=True\n",
    "        )"
   ]
  },
  {
   "cell_type": "code",
   "execution_count": 12,
   "id": "224e0ac8",
   "metadata": {},
   "outputs": [
    {
     "name": "stdout",
     "output_type": "stream",
     "text": [
      "3\n",
      "{'seq_num': 3,\n",
      " 'source': '/Users/antonio/Desktop/DataScience/MyCode/langchain-document_db/examples/document_loaders/files/facebook_chat_messages.jsonl'}\n",
      "'No Im sorry it was my mistake, the blue one is not for sale'\n"
     ]
    }
   ],
   "source": [
    "count = 0\n",
    "for doc in loader.lazy_load():\n",
    "    count += 1\n",
    "    \n",
    "print(count)\n",
    "pprint(doc.metadata)\n",
    "pprint(doc.page_content)"
   ]
  },
  {
   "cell_type": "code",
   "execution_count": null,
   "id": "b528a779",
   "metadata": {},
   "outputs": [],
   "source": []
  }
 ],
 "metadata": {
  "kernelspec": {
   "display_name": "Python 3.12 (myenv)",
   "language": "python",
   "name": "myenv"
  },
  "language_info": {
   "codemirror_mode": {
    "name": "ipython",
    "version": 3
   },
   "file_extension": ".py",
   "mimetype": "text/x-python",
   "name": "python",
   "nbconvert_exporter": "python",
   "pygments_lexer": "ipython3",
   "version": "3.12.3"
  }
 },
 "nbformat": 4,
 "nbformat_minor": 5
}
