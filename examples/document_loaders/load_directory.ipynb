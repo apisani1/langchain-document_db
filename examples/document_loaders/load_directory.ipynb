{
 "cells": [
  {
   "cell_type": "markdown",
   "id": "728f1747-b8fc-4d31-96c2-047fc83c079d",
   "metadata": {},
   "source": [
    "# Directory Loaders\n",
    "\n",
    "Directory loaders scan files and subdirectories in the given directory path and calls the load_document function on\n",
    "each file that matches the directory filter and the file filter.\n",
    "\n",
    "load_document will use the file extension to choose the right loader and use the prefixed parameters for each loader type."
   ]
  },
  {
   "cell_type": "code",
   "execution_count": 1,
   "id": "accb2daf",
   "metadata": {},
   "outputs": [],
   "source": [
    "import sys\n",
    "sys.path.append('../../')\n",
    "\n",
    "from dotenv import find_dotenv, load_dotenv\n",
    "load_dotenv(find_dotenv(), override=True)\n",
    "\n",
    "from pprint import pprint\n",
    "\n",
    "from document_loaders.load_directory import load_directory, load_directory_lazy, DirectoryLoader"
   ]
  },
  {
   "cell_type": "code",
   "execution_count": 2,
   "id": "3b8e3fee",
   "metadata": {},
   "outputs": [],
   "source": [
    "def print_docs_per_source(docs):\n",
    "    docs_per_source = {}\n",
    "    for doc in docs:\n",
    "        source = doc.metadata[\"source\"].split(\"/\")[-1]\n",
    "        if doc.metadata[\"source\"] not in docs_per_source:\n",
    "            docs_per_source[source] = 0\n",
    "        docs_per_source[source] += 1\n",
    "    pprint(docs_per_source)"
   ]
  },
  {
   "cell_type": "markdown",
   "id": "4b5efac6",
   "metadata": {},
   "source": [
    "## load_directory"
   ]
  },
  {
   "cell_type": "code",
   "execution_count": 3,
   "id": "8f6c7275",
   "metadata": {},
   "outputs": [
    {
     "name": "stderr",
     "output_type": "stream",
     "text": [
      "WARNING:root:Error loading file ./__pycache__/__init__.cpython-312.pyc: Invalid file ./__pycache__/__init__.cpython-312.pyc. The FileType.UNK file type is not supported in partition.\n"
     ]
    },
    {
     "data": {
      "text/plain": [
       "66"
      ]
     },
     "execution_count": 3,
     "metadata": {},
     "output_type": "execute_result"
    }
   ],
   "source": [
    "docs = load_directory(\"./\", dir_filter=\"**/[!.]*\", file_filter=\"[!.]*\", text_splitter=\"auto\")\n",
    "\n",
    "len(docs)"
   ]
  },
  {
   "cell_type": "code",
   "execution_count": 4,
   "id": "99f15386",
   "metadata": {},
   "outputs": [
    {
     "name": "stdout",
     "output_type": "stream",
     "text": [
      "{'document_loaders.ipynb': 2,\n",
      " 'facebook_chat.json': 1,\n",
      " 'facebook_chat_messages.jsonl': 1,\n",
      " 'load_directory.ipynb': 1,\n",
      " 'load_document_csv.ipynb': 1,\n",
      " 'load_document_json.ipynb': 1,\n",
      " 'mlb_teams_2012.csv': 1,\n",
      " 'some_json.json': 1,\n",
      " 'some_report.pdf': 1,\n",
      " 'some_website.html': 1,\n",
      " 'state_of_the_union.txt': 1,\n",
      " 'us_constitution.pdf': 1}\n"
     ]
    }
   ],
   "source": [
    "print_docs_per_source(docs)"
   ]
  },
  {
   "cell_type": "markdown",
   "id": "7f7dea92",
   "metadata": {},
   "source": [
    "## load_directory_lazy"
   ]
  },
  {
   "cell_type": "code",
   "execution_count": 5,
   "id": "0159d818",
   "metadata": {},
   "outputs": [
    {
     "name": "stderr",
     "output_type": "stream",
     "text": [
      "WARNING:root:Error loading file ./__pycache__/__init__.cpython-312.pyc: Invalid file ./__pycache__/__init__.cpython-312.pyc. The FileType.UNK file type is not supported in partition.\n"
     ]
    },
    {
     "data": {
      "text/plain": [
       "66"
      ]
     },
     "execution_count": 5,
     "metadata": {},
     "output_type": "execute_result"
    }
   ],
   "source": [
    "docs = []\n",
    "for doc in load_directory_lazy(\"./\", dir_filter=\"**/[!.]*\", file_filter=\"[!.]*\", text_splitter=\"auto\"):\n",
    "    docs.append(doc)\n",
    "\n",
    "len(docs)"
   ]
  },
  {
   "cell_type": "code",
   "execution_count": 6,
   "id": "ef43fa70",
   "metadata": {},
   "outputs": [
    {
     "name": "stdout",
     "output_type": "stream",
     "text": [
      "{'document_loaders.ipynb': 2,\n",
      " 'facebook_chat.json': 1,\n",
      " 'facebook_chat_messages.jsonl': 1,\n",
      " 'load_directory.ipynb': 1,\n",
      " 'load_document_csv.ipynb': 1,\n",
      " 'load_document_json.ipynb': 1,\n",
      " 'mlb_teams_2012.csv': 1,\n",
      " 'some_json.json': 1,\n",
      " 'some_report.pdf': 1,\n",
      " 'some_website.html': 1,\n",
      " 'state_of_the_union.txt': 1,\n",
      " 'us_constitution.pdf': 1}\n"
     ]
    }
   ],
   "source": [
    "print_docs_per_source(docs)"
   ]
  },
  {
   "cell_type": "markdown",
   "id": "793c2969",
   "metadata": {},
   "source": [
    "## DirectoryLoader"
   ]
  },
  {
   "cell_type": "code",
   "execution_count": 7,
   "id": "04c39267",
   "metadata": {},
   "outputs": [],
   "source": [
    "loader = DirectoryLoader(\"./\", dir_filter=\"**/[!.]*\", file_filter=\"[!.]*\", text_splitter=\"auto\")"
   ]
  },
  {
   "cell_type": "code",
   "execution_count": 8,
   "id": "8c0f06ed",
   "metadata": {},
   "outputs": [
    {
     "name": "stderr",
     "output_type": "stream",
     "text": [
      "WARNING:root:Error loading file ./__pycache__/__init__.cpython-312.pyc: Invalid file ./__pycache__/__init__.cpython-312.pyc. The FileType.UNK file type is not supported in partition.\n"
     ]
    },
    {
     "data": {
      "text/plain": [
       "66"
      ]
     },
     "execution_count": 8,
     "metadata": {},
     "output_type": "execute_result"
    }
   ],
   "source": [
    "docs = loader.load()\n",
    "\n",
    "len(docs)"
   ]
  },
  {
   "cell_type": "code",
   "execution_count": 9,
   "id": "76c6c7f2",
   "metadata": {},
   "outputs": [
    {
     "name": "stdout",
     "output_type": "stream",
     "text": [
      "{'document_loaders.ipynb': 2,\n",
      " 'facebook_chat.json': 1,\n",
      " 'facebook_chat_messages.jsonl': 1,\n",
      " 'load_directory.ipynb': 1,\n",
      " 'load_document_csv.ipynb': 1,\n",
      " 'load_document_json.ipynb': 1,\n",
      " 'mlb_teams_2012.csv': 1,\n",
      " 'some_json.json': 1,\n",
      " 'some_report.pdf': 1,\n",
      " 'some_website.html': 1,\n",
      " 'state_of_the_union.txt': 1,\n",
      " 'us_constitution.pdf': 1}\n"
     ]
    }
   ],
   "source": [
    "print_docs_per_source(docs)"
   ]
  },
  {
   "cell_type": "code",
   "execution_count": 10,
   "id": "36a6d41b",
   "metadata": {},
   "outputs": [
    {
     "name": "stderr",
     "output_type": "stream",
     "text": [
      "WARNING:root:Error loading file ./__pycache__/__init__.cpython-312.pyc: Invalid file ./__pycache__/__init__.cpython-312.pyc. The FileType.UNK file type is not supported in partition.\n"
     ]
    },
    {
     "data": {
      "text/plain": [
       "66"
      ]
     },
     "execution_count": 10,
     "metadata": {},
     "output_type": "execute_result"
    }
   ],
   "source": [
    "docs = []\n",
    "for doc in loader.lazy_load():\n",
    "    docs.append(doc)\n",
    "\n",
    "len(docs)"
   ]
  },
  {
   "cell_type": "code",
   "execution_count": 11,
   "id": "ca188021",
   "metadata": {},
   "outputs": [
    {
     "name": "stdout",
     "output_type": "stream",
     "text": [
      "{'document_loaders.ipynb': 2,\n",
      " 'facebook_chat.json': 1,\n",
      " 'facebook_chat_messages.jsonl': 1,\n",
      " 'load_directory.ipynb': 1,\n",
      " 'load_document_csv.ipynb': 1,\n",
      " 'load_document_json.ipynb': 1,\n",
      " 'mlb_teams_2012.csv': 1,\n",
      " 'some_json.json': 1,\n",
      " 'some_report.pdf': 1,\n",
      " 'some_website.html': 1,\n",
      " 'state_of_the_union.txt': 1,\n",
      " 'us_constitution.pdf': 1}\n"
     ]
    }
   ],
   "source": [
    "print_docs_per_source(docs)"
   ]
  },
  {
   "cell_type": "code",
   "execution_count": null,
   "id": "65baf05f",
   "metadata": {},
   "outputs": [],
   "source": []
  }
 ],
 "metadata": {
  "kernelspec": {
   "display_name": "Python 3.12 (myenv)",
   "language": "python",
   "name": "myenv"
  },
  "language_info": {
   "codemirror_mode": {
    "name": "ipython",
    "version": 3
   },
   "file_extension": ".py",
   "mimetype": "text/x-python",
   "name": "python",
   "nbconvert_exporter": "python",
   "pygments_lexer": "ipython3",
   "version": "3.12.3"
  }
 },
 "nbformat": 4,
 "nbformat_minor": 5
}
