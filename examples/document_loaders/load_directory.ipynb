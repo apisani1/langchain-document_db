{
 "cells": [
  {
   "cell_type": "markdown",
   "id": "728f1747-b8fc-4d31-96c2-047fc83c079d",
   "metadata": {},
   "source": [
    "# Directory Loaders\n",
    "\n",
    "Directory loaders scan files and subdirectories in the given directory path and calls the load_document function on\n",
    "each file that matches the directory filter and the file filter.\n",
    "\n",
    "load_document will use the file extension to choose the right loader and use the prefixed parameters for each loader type."
   ]
  },
  {
   "cell_type": "code",
   "execution_count": 1,
   "id": "accb2daf",
   "metadata": {},
   "outputs": [],
   "source": [
    "import sys\n",
    "sys.path.append('../../')\n",
    "\n",
    "from dotenv import find_dotenv, load_dotenv\n",
    "load_dotenv(find_dotenv(), override=True)\n",
    "\n",
    "from pprint import pprint\n",
    "\n",
    "from document_loaders.load_directory import load_directory, load_directory_lazy, DirectoryLoader\n",
    "from document_loaders.file_error_handling import FileErrorDB"
   ]
  },
  {
   "cell_type": "code",
   "execution_count": 2,
   "id": "abc128b0",
   "metadata": {},
   "outputs": [],
   "source": [
    "file_error_db = FileErrorDB(\"file_errors.sql\")"
   ]
  },
  {
   "cell_type": "code",
   "execution_count": 3,
   "id": "3b8e3fee",
   "metadata": {},
   "outputs": [],
   "source": [
    "def print_docs_per_extension(docs):\n",
    "    docs_per_extension = {}\n",
    "    for doc in docs:\n",
    "        extension = doc.metadata[\"source\"].split(\".\")[-1]\n",
    "        if extension not in docs_per_extension:\n",
    "            docs_per_extension[extension] = 0\n",
    "        docs_per_extension[extension] += 1\n",
    "    pprint(docs_per_extension)"
   ]
  },
  {
   "cell_type": "code",
   "execution_count": 4,
   "id": "d190cfa5",
   "metadata": {},
   "outputs": [],
   "source": [
    "def print_error_per_type(db):\n",
    "    for error_type in db.get_all_errors(group_by='error_type').keys():\n",
    "        print(f\"-{error_type}:\")\n",
    "        pprint(list(db.get_errors_by_type(error_type, group_by='extension').keys()), compact=True)"
   ]
  },
  {
   "cell_type": "code",
   "execution_count": 5,
   "id": "b0a94717",
   "metadata": {},
   "outputs": [],
   "source": [
    "DIR_PATH = \"/Users/antonio/Documents\""
   ]
  },
  {
   "cell_type": "markdown",
   "id": "4b5efac6",
   "metadata": {},
   "source": [
    "## load_directory"
   ]
  },
  {
   "cell_type": "code",
   "execution_count": null,
   "id": "8f6c7275",
   "metadata": {},
   "outputs": [
    {
     "name": "stdout",
     "output_type": "stream",
     "text": [
      "File: /Users/antonio/Documents/SpyderCheck License Code.rtf\n"
     ]
    },
    {
     "name": "stderr",
     "output_type": "stream",
     "text": [
      "The pdf_infer_table_structure kwarg is deprecated. Please use skip_infer_table_types instead.\n"
     ]
    },
    {
     "name": "stdout",
     "output_type": "stream",
     "text": [
      "File: /Users/antonio/Documents/UC-8a38c818-b432-47fa-b541-26ba6b7b841c.pdf\n",
      "File: /Users/antonio/Documents/Agenda for Meeting with Estate Planning Attorney.docx\n"
     ]
    },
    {
     "name": "stderr",
     "output_type": "stream",
     "text": [
      "The pdf_infer_table_structure kwarg is deprecated. Please use skip_infer_table_types instead.\n",
      "The pdf_infer_table_structure kwarg is deprecated. Please use skip_infer_table_types instead.\n"
     ]
    },
    {
     "name": "stdout",
     "output_type": "stream",
     "text": [
      "File: /Users/antonio/Documents/Maria Diet.docx\n",
      "File: /Users/antonio/Documents/Metabolic Boost Diet - Antonio Pisani.pdf\n",
      "File: /Users/antonio/Documents/Ana María González - CV2021 V2.docx\n",
      "File: /Users/antonio/Documents/Alexandra Gaitan Spanish.pdf\n"
     ]
    },
    {
     "name": "stderr",
     "output_type": "stream",
     "text": [
      "The pdf_infer_table_structure kwarg is deprecated. Please use skip_infer_table_types instead.\n"
     ]
    },
    {
     "name": "stdout",
     "output_type": "stream",
     "text": [
      "File: /Users/antonio/Documents/Andrea.pptx\n",
      "File: /Users/antonio/Documents/Carolina COVID.pdf\n",
      "File: /Users/antonio/Documents/Poder Venta Pisani Puig.docx\n",
      "File: /Users/antonio/Documents/Antonio-05.jpg\n",
      "File: /Users/antonio/Documents/7 Habits AP.ppt\n",
      "File: /Users/antonio/Documents/hotmail.csv\n",
      "File: /Users/antonio/Documents/Antonio Pisani Resume.doc\n",
      "File: /Users/antonio/Documents/Resume AP.doc\n"
     ]
    },
    {
     "name": "stderr",
     "output_type": "stream",
     "text": [
      "The pdf_infer_table_structure kwarg is deprecated. Please use skip_infer_table_types instead.\n",
      "The pdf_infer_table_structure kwarg is deprecated. Please use skip_infer_table_types instead.\n",
      "The PDF <_io.BufferedReader name='/Users/antonio/Documents/DCRHC90.pdf'> contains a metadata field indicating that it should not allow text extraction. Ignoring this field and proceeding. Use the check_extractable if you want to raise an error in this case\n"
     ]
    },
    {
     "name": "stdout",
     "output_type": "stream",
     "text": [
      "File: /Users/antonio/Documents/UC-c1cadd57-f5c4-4069-aff1-6e96ded8df8d.pdf\n",
      "File: /Users/antonio/Documents/DCRHC90.pdf\n",
      "File: /Users/antonio/Documents/Resume_AP_2021.doc\n",
      "File: /Users/antonio/Documents/Leveraging Culture and Organizational Change.jpg\n"
     ]
    },
    {
     "name": "stderr",
     "output_type": "stream",
     "text": [
      "The pdf_infer_table_structure kwarg is deprecated. Please use skip_infer_table_types instead.\n",
      "The pdf_infer_table_structure kwarg is deprecated. Please use skip_infer_table_types instead.\n"
     ]
    },
    {
     "name": "stdout",
     "output_type": "stream",
     "text": [
      "File: /Users/antonio/Documents/Antonio COVID.pdf\n",
      "File: /Users/antonio/Documents/.DS_Store\n",
      "File: /Users/antonio/Documents/Texas-Certificate_of_Title_App_VTR-130-UIF.pdf\n",
      "File: /Users/antonio/Documents/Frank Edwards.doc\n"
     ]
    },
    {
     "name": "stderr",
     "output_type": "stream",
     "text": [
      "The pdf_infer_table_structure kwarg is deprecated. Please use skip_infer_table_types instead.\n",
      "The pdf_infer_table_structure kwarg is deprecated. Please use skip_infer_table_types instead.\n"
     ]
    },
    {
     "name": "stdout",
     "output_type": "stream",
     "text": [
      "File: /Users/antonio/Documents/Pisani Rehearsal Dinner.pdf\n",
      "File: /Users/antonio/Documents/Trusted Traveler Programs.pdf\n",
      "File: /Users/antonio/Documents/Resume AP2.doc\n"
     ]
    },
    {
     "name": "stderr",
     "output_type": "stream",
     "text": [
      "The pdf_infer_table_structure kwarg is deprecated. Please use skip_infer_table_types instead.\n"
     ]
    },
    {
     "name": "stdout",
     "output_type": "stream",
     "text": [
      "File: /Users/antonio/Documents/turkey_point.pdf\n"
     ]
    },
    {
     "name": "stderr",
     "output_type": "stream",
     "text": [
      "Could not detect the filetype from application/octet-stream MIME type.\n"
     ]
    },
    {
     "name": "stdout",
     "output_type": "stream",
     "text": [
      "File: /Users/antonio/Documents/stock options Aug 09.xls\n",
      "File: /Users/antonio/Documents/Patagonia Itinerary.xlsx\n",
      "File: /Users/antonio/Documents/Icon\r\n",
      "***Error: Invalid file /Users/antonio/Documents/Icon\r",
      ". The FileType.UNK file type is not supported in partition.\n",
      "File: /Users/antonio/Documents/My Lens.numbers\n",
      "***Error: Invalid file /Users/antonio/Documents/My Lens.numbers. The FileType.ZIP file type is not supported in partition.\n"
     ]
    },
    {
     "name": "stderr",
     "output_type": "stream",
     "text": [
      "The pdf_infer_table_structure kwarg is deprecated. Please use skip_infer_table_types instead.\n",
      "The pdf_infer_table_structure kwarg is deprecated. Please use skip_infer_table_types instead.\n",
      "The pdf_infer_table_structure kwarg is deprecated. Please use skip_infer_table_types instead.\n"
     ]
    },
    {
     "name": "stdout",
     "output_type": "stream",
     "text": [
      "File: /Users/antonio/Documents/contract 17427 borough.pdf\n",
      "File: /Users/antonio/Documents/contract 11211 march 27 executed final.pdf\n",
      "File: /Users/antonio/Documents/Blurb Magazine Meassures.pdf\n",
      "File: /Users/antonio/Documents/Retirement Plan 2.xls\n"
     ]
    },
    {
     "name": "stderr",
     "output_type": "stream",
     "text": [
      "The pdf_infer_table_structure kwarg is deprecated. Please use skip_infer_table_types instead.\n",
      "The pdf_infer_table_structure kwarg is deprecated. Please use skip_infer_table_types instead.\n",
      "The pdf_infer_table_structure kwarg is deprecated. Please use skip_infer_table_types instead.\n"
     ]
    },
    {
     "name": "stdout",
     "output_type": "stream",
     "text": [
      "File: /Users/antonio/Documents/login_gov_backup_codes.txt\n",
      "File: /Users/antonio/Documents/DMI.pdf\n",
      "File: /Users/antonio/Documents/Stock Option Sale Aug 09.pdf\n",
      "File: /Users/antonio/Documents/EV Sheet2.pdf\n",
      "File: /Users/antonio/Documents/Banesco Carolina 091011.xls\n"
     ]
    },
    {
     "name": "stderr",
     "output_type": "stream",
     "text": [
      "The pdf_infer_table_structure kwarg is deprecated. Please use skip_infer_table_types instead.\n",
      "The pdf_infer_table_structure kwarg is deprecated. Please use skip_infer_table_types instead.\n",
      "The pdf_infer_table_structure kwarg is deprecated. Please use skip_infer_table_types instead.\n"
     ]
    },
    {
     "name": "stdout",
     "output_type": "stream",
     "text": [
      "File: /Users/antonio/Documents/SD 17427 Borough Lane.pdf\n",
      "File: /Users/antonio/Documents/sd 11211.pdf\n",
      "File: /Users/antonio/Documents/UC-10fb6884-22b6-4dc7-aa1a-dde3536ac99a.pdf\n",
      "File: /Users/antonio/Documents/Check List.rtf\n"
     ]
    },
    {
     "name": "stderr",
     "output_type": "stream",
     "text": [
      "The pdf_infer_table_structure kwarg is deprecated. Please use skip_infer_table_types instead.\n",
      "The pdf_infer_table_structure kwarg is deprecated. Please use skip_infer_table_types instead.\n"
     ]
    },
    {
     "name": "stdout",
     "output_type": "stream",
     "text": [
      "File: /Users/antonio/Documents/De Cardenas.xlsx\n",
      "File: /Users/antonio/Documents/BKD-73634944409.pdf\n",
      "File: /Users/antonio/Documents/purchase offer 112 pl  antonio pisani.pdf\n"
     ]
    },
    {
     "name": "stderr",
     "output_type": "stream",
     "text": [
      "The pdf_infer_table_structure kwarg is deprecated. Please use skip_infer_table_types instead.\n"
     ]
    },
    {
     "name": "stdout",
     "output_type": "stream",
     "text": [
      "File: /Users/antonio/Documents/11211 Blueprint.pdf\n",
      "File: /Users/antonio/Documents/Final Will - Carolina.rtf\n"
     ]
    },
    {
     "name": "stderr",
     "output_type": "stream",
     "text": [
      "The pdf_infer_table_structure kwarg is deprecated. Please use skip_infer_table_types instead.\n"
     ]
    },
    {
     "name": "stdout",
     "output_type": "stream",
     "text": [
      "File: /Users/antonio/Documents/14-317 Gift Affidavit.pdf\n",
      "File: /Users/antonio/Documents/Antonio's Notebook.url\n",
      "***Error: Invalid file /Users/antonio/Documents/Antonio's Notebook.url. The FileType.UNK file type is not supported in partition.\n",
      "File: /Users/antonio/Documents/130-U.doc\n",
      "File: /Users/antonio/Documents/Cover letter AP.doc\n",
      "File: /Users/antonio/Documents/accusonus .png\n"
     ]
    },
    {
     "name": "stderr",
     "output_type": "stream",
     "text": [
      "The pdf_infer_table_structure kwarg is deprecated. Please use skip_infer_table_types instead.\n",
      "The pdf_infer_table_structure kwarg is deprecated. Please use skip_infer_table_types instead.\n"
     ]
    },
    {
     "name": "stdout",
     "output_type": "stream",
     "text": [
      "File: /Users/antonio/Documents/LosTul Budget.xlsx\n",
      "File: /Users/antonio/Documents/contract 11211 march 27 executed final (2).pdf\n",
      "File: /Users/antonio/Documents/Pasaporte VE Carolina.pdf\n",
      "File: /Users/antonio/Documents/Accounting & Finance.jpg\n",
      "File: /Users/antonio/Documents/Picture 001.jpg\n",
      "File: /Users/antonio/Documents/C19 Shopping List.xlsx\n",
      "File: /Users/antonio/Documents/Sunnyside (formerly Cutback Coach) Billing.png\n"
     ]
    },
    {
     "name": "stderr",
     "output_type": "stream",
     "text": [
      "The pdf_infer_table_structure kwarg is deprecated. Please use skip_infer_table_types instead.\n",
      "The pdf_infer_table_structure kwarg is deprecated. Please use skip_infer_table_types instead.\n",
      "The pdf_infer_table_structure kwarg is deprecated. Please use skip_infer_table_types instead.\n"
     ]
    },
    {
     "name": "stdout",
     "output_type": "stream",
     "text": [
      "File: /Users/antonio/Documents/Antonio Pisani.vcf\n",
      "***Error: Invalid file /Users/antonio/Documents/Antonio Pisani.vcf. The FileType.UNK file type is not supported in partition.\n",
      "File: /Users/antonio/Documents/acs_confirmation.pdf\n",
      "File: /Users/antonio/Documents/Estate Planning.docx\n",
      "File: /Users/antonio/Documents/DZ Phase 2.pdf\n",
      "File: /Users/antonio/Documents/220628 Bella Pisani.pdf\n",
      "File: /Users/antonio/Documents/xxv USB.doc\n"
     ]
    },
    {
     "name": "stderr",
     "output_type": "stream",
     "text": [
      "The pdf_infer_table_structure kwarg is deprecated. Please use skip_infer_table_types instead.\n",
      "The pdf_infer_table_structure kwarg is deprecated. Please use skip_infer_table_types instead.\n",
      "The pdf_infer_table_structure kwarg is deprecated. Please use skip_infer_table_types instead.\n"
     ]
    },
    {
     "name": "stdout",
     "output_type": "stream",
     "text": [
      "File: /Users/antonio/Documents/Submit a Claim.pdf\n",
      "File: /Users/antonio/Documents/Antonio IVSS.pdf\n",
      "File: /Users/antonio/Documents/UC-71023bc0-2047-415d-be3e-2989d89ec66f.pdf\n",
      "File: /Users/antonio/Documents/Alexandra Gaitan.docx\n",
      "File: /Users/antonio/Documents/Carlos 2005.xls\n"
     ]
    },
    {
     "name": "stderr",
     "output_type": "stream",
     "text": [
      "The pdf_infer_table_structure kwarg is deprecated. Please use skip_infer_table_types instead.\n",
      "The pdf_infer_table_structure kwarg is deprecated. Please use skip_infer_table_types instead.\n",
      "The pdf_infer_table_structure kwarg is deprecated. Please use skip_infer_table_types instead.\n"
     ]
    },
    {
     "name": "stdout",
     "output_type": "stream",
     "text": [
      "File: /Users/antonio/Documents/Apple Support - Confirmation Airpod Left.pdf\n",
      "File: /Users/antonio/Documents/Hamrick Software copy.pdf\n",
      "File: /Users/antonio/Documents/Magic Formula Investing copy.pdf\n"
     ]
    },
    {
     "name": "stderr",
     "output_type": "stream",
     "text": [
      "The pdf_infer_table_structure kwarg is deprecated. Please use skip_infer_table_types instead.\n",
      "The pdf_infer_table_structure kwarg is deprecated. Please use skip_infer_table_types instead.\n"
     ]
    },
    {
     "name": "stdout",
     "output_type": "stream",
     "text": [
      "File: /Users/antonio/Documents/UC-a0d0cca4-1af6-4e65-9772-669bfb46b295.pdf\n",
      "File: /Users/antonio/Documents/Dr. Zisman Package 1 Menu & Recipes.pdf\n",
      "File: /Users/antonio/Documents/Water & Sewer 11211.pdf\n"
     ]
    },
    {
     "name": "stderr",
     "output_type": "stream",
     "text": [
      "The pdf_infer_table_structure kwarg is deprecated. Please use skip_infer_table_types instead.\n"
     ]
    },
    {
     "name": "stdout",
     "output_type": "stream",
     "text": [
      "File: /Users/antonio/Documents/Senior Ad Carlos Pisani.bmp\n"
     ]
    },
    {
     "name": "stderr",
     "output_type": "stream",
     "text": [
      "Some weights of the model checkpoint at microsoft/table-transformer-structure-recognition were not used when initializing TableTransformerForObjectDetection: ['model.backbone.conv_encoder.model.layer2.0.downsample.1.num_batches_tracked', 'model.backbone.conv_encoder.model.layer3.0.downsample.1.num_batches_tracked', 'model.backbone.conv_encoder.model.layer4.0.downsample.1.num_batches_tracked']\n",
      "- This IS expected if you are initializing TableTransformerForObjectDetection from the checkpoint of a model trained on another task or with another architecture (e.g. initializing a BertForSequenceClassification model from a BertForPreTraining model).\n",
      "- This IS NOT expected if you are initializing TableTransformerForObjectDetection from the checkpoint of a model that you expect to be exactly identical (initializing a BertForSequenceClassification model from a BertForSequenceClassification model).\n",
      "The pdf_infer_table_structure kwarg is deprecated. Please use skip_infer_table_types instead.\n",
      "The PDF <_io.BufferedReader name='/Users/antonio/Documents/Ronin_SC_User_Manual_v1.0_en.pdf'> contains a metadata field indicating that it should not allow text extraction. Ignoring this field and proceeding. Use the check_extractable if you want to raise an error in this case\n"
     ]
    },
    {
     "name": "stdout",
     "output_type": "stream",
     "text": [
      "File: /Users/antonio/Documents/Ronin_SC_User_Manual_v1.0_en.pdf\n",
      "File: /Users/antonio/Documents/Affidavit.rtf\n"
     ]
    },
    {
     "name": "stderr",
     "output_type": "stream",
     "text": [
      "The pdf_infer_table_structure kwarg is deprecated. Please use skip_infer_table_types instead.\n",
      "The pdf_infer_table_structure kwarg is deprecated. Please use skip_infer_table_types instead.\n",
      "The pdf_infer_table_structure kwarg is deprecated. Please use skip_infer_table_types instead.\n",
      "The pdf_infer_table_structure kwarg is deprecated. Please use skip_infer_table_types instead.\n",
      "The pdf_infer_table_structure kwarg is deprecated. Please use skip_infer_table_types instead.\n"
     ]
    },
    {
     "name": "stdout",
     "output_type": "stream",
     "text": [
      "File: /Users/antonio/Documents/executedcontractpisani.pdf\n",
      "File: /Users/antonio/Documents/UC-3c19109e-98fd-423d-a3cd-4a8694e61fec.pdf\n",
      "File: /Users/antonio/Documents/Maria 529 Confirmation.pdf\n",
      "File: /Users/antonio/Documents/Hamrick Software.pdf\n",
      "File: /Users/antonio/Documents/Helicon Focus invoice.pdf\n"
     ]
    },
    {
     "name": "stderr",
     "output_type": "stream",
     "text": [
      "The pdf_infer_table_structure kwarg is deprecated. Please use skip_infer_table_types instead.\n",
      "The pdf_infer_table_structure kwarg is deprecated. Please use skip_infer_table_types instead.\n"
     ]
    },
    {
     "name": "stdout",
     "output_type": "stream",
     "text": [
      "File: /Users/antonio/Documents/11211 offer changes.pdf\n",
      "File: /Users/antonio/Documents/Carolina IVSS.pdf\n",
      "File: /Users/antonio/Documents/Vehicle Bill of Sale.doc\n",
      "File: /Users/antonio/Documents/Antonio Pisani Resume copy.doc\n",
      "File: /Users/antonio/Documents/Statement Regarding Forms 5741.docx\n",
      "File: /Users/antonio/Documents/Resume AP 2020.doc\n"
     ]
    },
    {
     "name": "stderr",
     "output_type": "stream",
     "text": [
      "The pdf_infer_table_structure kwarg is deprecated. Please use skip_infer_table_types instead.\n",
      "The pdf_infer_table_structure kwarg is deprecated. Please use skip_infer_table_types instead.\n",
      "The pdf_infer_table_structure kwarg is deprecated. Please use skip_infer_table_types instead.\n"
     ]
    },
    {
     "name": "stdout",
     "output_type": "stream",
     "text": [
      "File: /Users/antonio/Documents/Additional Clause to Contract Lanfranco and Pisani executed.pdf\n",
      "File: /Users/antonio/Documents/Coursera - Generative AI with LLms.pdf\n",
      "File: /Users/antonio/Documents/UC-73c372e6-7c7b-4a13-9c2e-bfba1e4ecf27.pdf\n",
      "File: /Users/antonio/Documents/Retirement Plan.xls\n",
      "File: /Users/antonio/Documents/AP Signature.tif\n"
     ]
    },
    {
     "name": "stderr",
     "output_type": "stream",
     "text": [
      "The pdf_infer_table_structure kwarg is deprecated. Please use skip_infer_table_types instead.\n"
     ]
    },
    {
     "name": "stdout",
     "output_type": "stream",
     "text": [
      "File: /Users/antonio/Documents/Invitado Especial - Sesión de Preguntas A. Pisani.docx\n",
      "File: /Users/antonio/Documents/Epson Store Order Confirmat...pdf\n",
      "File: /Users/antonio/Documents/Affidavit Carolina.rtf\n"
     ]
    },
    {
     "name": "stderr",
     "output_type": "stream",
     "text": [
      "The pdf_infer_table_structure kwarg is deprecated. Please use skip_infer_table_types instead.\n"
     ]
    },
    {
     "name": "stdout",
     "output_type": "stream",
     "text": [
      "File: /Users/antonio/Documents/Banesco Antonio 091011.xls\n",
      "File: /Users/antonio/Documents/UC-74905acb-8a06-477b-8fb6-5eb089a712ae.pdf\n"
     ]
    },
    {
     "name": "stderr",
     "output_type": "stream",
     "text": [
      "The pdf_infer_table_structure kwarg is deprecated. Please use skip_infer_table_types instead.\n"
     ]
    },
    {
     "name": "stdout",
     "output_type": "stream",
     "text": [
      "File: /Users/antonio/Documents/ARCHITECTURAL MODIFICATION PACKAGE - THE PLATINUM CONDOMINIUM.pdf\n"
     ]
    },
    {
     "name": "stderr",
     "output_type": "stream",
     "text": [
      "The pdf_infer_table_structure kwarg is deprecated. Please use skip_infer_table_types instead.\n"
     ]
    },
    {
     "name": "stdout",
     "output_type": "stream",
     "text": [
      "File: /Users/antonio/Documents/15a786-cbaa-51ff-b1dc-48ebf6bc7003_Cheat_Sheet_FF.pdf\n"
     ]
    },
    {
     "name": "stderr",
     "output_type": "stream",
     "text": [
      "The pdf_infer_table_structure kwarg is deprecated. Please use skip_infer_table_types instead.\n",
      "The pdf_infer_table_structure kwarg is deprecated. Please use skip_infer_table_types instead.\n"
     ]
    },
    {
     "name": "stdout",
     "output_type": "stream",
     "text": [
      "File: /Users/antonio/Documents/Addendum 2.pdf\n",
      "File: /Users/antonio/Documents/Tapering Schedule.xlsx\n",
      "File: /Users/antonio/Documents/gmail.csv\n",
      "File: /Users/antonio/Documents/The Platinum - Sample COI (3) (1).pdf\n",
      "File: /Users/antonio/Documents/EV.xlsx\n",
      "File: /Users/antonio/Documents/cp.jpg\n"
     ]
    },
    {
     "name": "stderr",
     "output_type": "stream",
     "text": [
      "/Users/antonio/miniconda3/envs/myenv/lib/python3.12/site-packages/openpyxl/worksheet/_reader.py:329: UserWarning: Unknown extension is not supported and will be removed\n",
      "  warn(msg)\n",
      "The pdf_infer_table_structure kwarg is deprecated. Please use skip_infer_table_types instead.\n",
      "The pdf_infer_table_structure kwarg is deprecated. Please use skip_infer_table_types instead.\n",
      "The pdf_infer_table_structure kwarg is deprecated. Please use skip_infer_table_types instead.\n",
      "The pdf_infer_table_structure kwarg is deprecated. Please use skip_infer_table_types instead.\n"
     ]
    },
    {
     "name": "stdout",
     "output_type": "stream",
     "text": [
      "File: /Users/antonio/Documents/Cédula.pdf\n",
      "File: /Users/antonio/Documents/UC-baad0d69-6446-4710-9227-c86b19210384.pdf\n",
      "File: /Users/antonio/Documents/De Cardenas.docx\n",
      "File: /Users/antonio/Documents/electronic business card.vcf\n",
      "***Error: Invalid file /Users/antonio/Documents/electronic business card.vcf. The FileType.UNK file type is not supported in partition.\n",
      "File: /Users/antonio/Documents/5-236256.pdf\n",
      "File: /Users/antonio/Documents/Alexandra Gaitan Spanish.docx\n",
      "File: /Users/antonio/Documents/DZ Phase 1 - Detox.pdf\n",
      "File: /Users/antonio/Documents/Affidavit Antonio.rtf\n",
      "File: /Users/antonio/Documents/Final Will - Antonio.rtf\n"
     ]
    },
    {
     "name": "stderr",
     "output_type": "stream",
     "text": [
      "The pdf_infer_table_structure kwarg is deprecated. Please use skip_infer_table_types instead.\n",
      "The pdf_infer_table_structure kwarg is deprecated. Please use skip_infer_table_types instead.\n",
      "The pdf_infer_table_structure kwarg is deprecated. Please use skip_infer_table_types instead.\n"
     ]
    },
    {
     "name": "stdout",
     "output_type": "stream",
     "text": [
      "File: /Users/antonio/Documents/Blurb Magazine.saproj\n",
      "***Error: Invalid file /Users/antonio/Documents/Blurb Magazine.saproj. The FileType.UNK file type is not supported in partition.\n",
      "File: /Users/antonio/Documents/Alexandra Gaitan.pdf\n",
      "File: /Users/antonio/Documents/Antonio Pisani Resume.pdf\n",
      "File: /Users/antonio/Documents/Termination Invoice FIS.pdf\n",
      "File: /Users/antonio/Documents/AP Presentation Master.pptx\n"
     ]
    },
    {
     "name": "stderr",
     "output_type": "stream",
     "text": [
      "The pdf_infer_table_structure kwarg is deprecated. Please use skip_infer_table_types instead.\n"
     ]
    },
    {
     "name": "stdout",
     "output_type": "stream",
     "text": [
      "File: /Users/antonio/Documents/windows7.pfx\n",
      "***Error: Invalid file /Users/antonio/Documents/windows7.pfx. The FileType.UNK file type is not supported in partition.\n",
      "File: /Users/antonio/Documents/Antonio Pisani - Sesión de Preguntas A. Pisani.docx\n",
      "File: /Users/antonio/Documents/github-recovery-codes.txt\n",
      "File: /Users/antonio/Documents/ANTONIO PISANI GRACIAS!.pdf\n",
      "File: /Users/antonio/Documents/Microsoft account.png\n"
     ]
    },
    {
     "name": "stderr",
     "output_type": "stream",
     "text": [
      "The pdf_infer_table_structure kwarg is deprecated. Please use skip_infer_table_types instead.\n",
      "The pdf_infer_table_structure kwarg is deprecated. Please use skip_infer_table_types instead.\n",
      "The pdf_infer_table_structure kwarg is deprecated. Please use skip_infer_table_types instead.\n"
     ]
    },
    {
     "name": "stdout",
     "output_type": "stream",
     "text": [
      "File: /Users/antonio/Documents/Ghassan Abboud and 734 others.vcf\n",
      "***Error: Invalid file /Users/antonio/Documents/Ghassan Abboud and 734 others.vcf. The FileType.UNK file type is not supported in partition.\n",
      "File: /Users/antonio/Documents/UAS Cert FA337CCTXH.pdf\n",
      "File: /Users/antonio/Documents/Antonio Pisani - 2022-05-26.pdf\n",
      "File: /Users/antonio/Documents/130-U copy.pdf\n"
     ]
    },
    {
     "name": "stderr",
     "output_type": "stream",
     "text": [
      "The pdf_infer_table_structure kwarg is deprecated. Please use skip_infer_table_types instead.\n"
     ]
    },
    {
     "name": "stdout",
     "output_type": "stream",
     "text": [
      "File: /Users/antonio/Documents/VTR 20346 20REV 20JUNE 202007.pdf\n",
      "File: /Users/antonio/Documents/Check List Antonio.rtf\n"
     ]
    },
    {
     "name": "stderr",
     "output_type": "stream",
     "text": [
      "The pdf_infer_table_structure kwarg is deprecated. Please use skip_infer_table_types instead.\n",
      "The pdf_infer_table_structure kwarg is deprecated. Please use skip_infer_table_types instead.\n",
      "The pdf_infer_table_structure kwarg is deprecated. Please use skip_infer_table_types instead.\n",
      "The pdf_infer_table_structure kwarg is deprecated. Please use skip_infer_table_types instead.\n",
      "The pdf_infer_table_structure kwarg is deprecated. Please use skip_infer_table_types instead.\n"
     ]
    },
    {
     "name": "stdout",
     "output_type": "stream",
     "text": [
      "File: /Users/antonio/Documents/FPL 11211.pdf\n",
      "File: /Users/antonio/Documents/Rosetta Stone Order Confirmation .pdf\n",
      "File: /Users/antonio/Documents/.849C9593-D756-4E56-8D6E-42412F2A707B\n",
      "File: /Users/antonio/Documents/UC-86882dbc-89d4-44c9-86a8-73f35aed5fb7.pdf\n",
      "File: /Users/antonio/Documents/Offer 11211.pdf\n",
      "File: /Users/antonio/Documents/scan023.pdf\n",
      "File: /Users/antonio/Documents/Frank Edwards 2.doc\n"
     ]
    },
    {
     "name": "stderr",
     "output_type": "stream",
     "text": [
      "The pdf_infer_table_structure kwarg is deprecated. Please use skip_infer_table_types instead.\n"
     ]
    },
    {
     "name": "stdout",
     "output_type": "stream",
     "text": [
      "File: /Users/antonio/Documents/Buy a PTGui License - PTGui Stitching Software.pdf\n",
      "File: /Users/antonio/Documents/LrClassicLogs/PluginParam.log\n",
      "File: /Users/antonio/Documents/LrClassicLogs/Fisheye-Hemi.log\n",
      "File: /Users/antonio/Documents/LrClassicLogs/AgNikonTether.log\n",
      "File: /Users/antonio/Documents/LrClassicLogs/AdobeStockWSAPI.log\n",
      "File: /Users/antonio/Documents/Affinity Publisher/Resume Template.afpub\n",
      "***Error: Invalid file /Users/antonio/Documents/Affinity Publisher/Resume Template.afpub. The FileType.UNK file type is not supported in partition.\n",
      "File: /Users/antonio/Documents/Carlos & Tully/Pisani-Moorhead.jpg\n"
     ]
    },
    {
     "name": "stderr",
     "output_type": "stream",
     "text": [
      "The pdf_infer_table_structure kwarg is deprecated. Please use skip_infer_table_types instead.\n"
     ]
    },
    {
     "name": "stdout",
     "output_type": "stream",
     "text": [
      "File: /Users/antonio/Documents/Carlos & Tully/Pisani-Moorhead.pdf\n",
      "File: /Users/antonio/Documents/Carlos & Tully/details.jpg\n",
      "File: /Users/antonio/Documents/Carlos & Tully/Reharsal Dinner.xlsx\n",
      "File: /Users/antonio/Documents/Carlos & Tully/Reharsal Dinner 2.docx\n",
      "File: /Users/antonio/Documents/Carlos & Tully/details.tif\n",
      "File: /Users/antonio/Documents/Carlos & Tully/Speach.docx\n",
      "File: /Users/antonio/Documents/Carlos & Tully/Pisani-Moorhead.tif\n",
      "File: /Users/antonio/Documents/Carlos & Tully/Reharsal Dinner 3.docx\n",
      "File: /Users/antonio/Documents/Carlos & Tully/Pisani-Moorhead2.jpg\n",
      "File: /Users/antonio/Documents/Carlos & Tully/Invitation.tif\n",
      "File: /Users/antonio/Documents/Carlos & Tully/envelop.tif\n"
     ]
    },
    {
     "name": "stderr",
     "output_type": "stream",
     "text": [
      "The pdf_infer_table_structure kwarg is deprecated. Please use skip_infer_table_types instead.\n",
      "The pdf_infer_table_structure kwarg is deprecated. Please use skip_infer_table_types instead.\n"
     ]
    },
    {
     "name": "stdout",
     "output_type": "stream",
     "text": [
      "File: /Users/antonio/Documents/Carlos & Tully/Pisani-Moorhead2.pdf\n",
      "File: /Users/antonio/Documents/Carlos & Tully/Fina.pdf\n",
      "File: /Users/antonio/Documents/Carlos & Tully/Reharsal Dinner 1.docx\n",
      "File: /Users/antonio/Documents/Carlos & Tully/rehersal.tif\n",
      "File: /Users/antonio/Documents/Carlos & Tully/rehersal.jpg\n",
      "File: /Users/antonio/Documents/Carlos & Tully/Fina.tif\n",
      "File: /Users/antonio/Documents/Carlos & Tully/Invitation.jpg\n",
      "File: /Users/antonio/Documents/Carlos & Tully/Pisani-Moorhead2.tif\n",
      "File: /Users/antonio/Documents/Unreal Projects/.DS_Store\n",
      "File: /Users/antonio/Documents/Unreal Projects/MyProject/.DS_Store\n",
      "File: /Users/antonio/Documents/Unreal Projects/MyProject/MyProject.uproject\n",
      "***Error: Invalid file /Users/antonio/Documents/Unreal Projects/MyProject/MyProject.uproject. The FileType.UNK file type is not supported in partition.\n",
      "File: /Users/antonio/Documents/Unreal Projects/MyProject/Saved/AutoScreenshot.png\n",
      "File: /Users/antonio/Documents/Unreal Projects/MyProject/Saved/Config/WorldState/1586765442.json\n",
      "***Error: Expecting property name enclosed in double quotes: line 1 column 2 (char 1)\n",
      "File: /Users/antonio/Documents/Unreal Projects/MyProject/Saved/Autosaves/PackageRestoreData.json\n",
      "***Error: Expecting property name enclosed in double quotes: line 1 column 2 (char 1)\n",
      "File: /Users/antonio/Documents/Unreal Projects/MyProject/Config/DefaultGame.ini\n",
      "***Error: Invalid file /Users/antonio/Documents/Unreal Projects/MyProject/Config/DefaultGame.ini. The FileType.UNK file type is not supported in partition.\n",
      "File: /Users/antonio/Documents/Unreal Projects/MyProject/Config/DefaultEditorSettings.ini\n",
      "***Error: Invalid file /Users/antonio/Documents/Unreal Projects/MyProject/Config/DefaultEditorSettings.ini. The FileType.UNK file type is not supported in partition.\n",
      "File: /Users/antonio/Documents/Unreal Projects/MyProject/Config/DefaultVirtualProductionUtilities.ini\n",
      "***Error: Invalid file /Users/antonio/Documents/Unreal Projects/MyProject/Config/DefaultVirtualProductionUtilities.ini. The FileType.UNK file type is not supported in partition.\n",
      "File: /Users/antonio/Documents/Unreal Projects/MyProject/Config/DefaultEngine.ini\n",
      "***Error: Invalid file /Users/antonio/Documents/Unreal Projects/MyProject/Config/DefaultEngine.ini. The FileType.UNK file type is not supported in partition.\n",
      "File: /Users/antonio/Documents/Unreal Projects/MyProject/Config/DefaultInput.ini\n",
      "***Error: Invalid file /Users/antonio/Documents/Unreal Projects/MyProject/Config/DefaultInput.ini. The FileType.UNK file type is not supported in partition.\n",
      "File: /Users/antonio/Documents/Unreal Projects/MyProject/Config/DefaultEditor.ini\n",
      "***Error: Invalid file /Users/antonio/Documents/Unreal Projects/MyProject/Config/DefaultEditor.ini. The FileType.UNK file type is not supported in partition.\n",
      "File: /Users/antonio/Documents/Unreal Projects/MyProject/Config/DefaultLightmass.ini\n",
      "***Error: Invalid file /Users/antonio/Documents/Unreal Projects/MyProject/Config/DefaultLightmass.ini. The FileType.UNK file type is not supported in partition.\n",
      "File: /Users/antonio/Documents/Unreal Projects/MyProject/Config/Windows/WindowsEngine.ini\n",
      "***Error: Invalid file /Users/antonio/Documents/Unreal Projects/MyProject/Config/Windows/WindowsEngine.ini. The FileType.UNK file type is not supported in partition.\n",
      "File: /Users/antonio/Documents/Unreal Projects/MyProject/Content/.DS_Store\n",
      "File: /Users/antonio/Documents/Unreal Projects/MyProject/Content/Main_BuiltData.uasset\n",
      "***Error: Invalid file /Users/antonio/Documents/Unreal Projects/MyProject/Content/Main_BuiltData.uasset. The FileType.UNK file type is not supported in partition.\n",
      "File: /Users/antonio/Documents/Unreal Projects/MyProject/Content/Main.umap\n",
      "***Error: Invalid file /Users/antonio/Documents/Unreal Projects/MyProject/Content/Main.umap. The FileType.UNK file type is not supported in partition.\n",
      "File: /Users/antonio/Documents/Unreal Projects/MyProject/Content/VprodProject/Maps/Main_BuiltData.uasset\n",
      "***Error: Invalid file /Users/antonio/Documents/Unreal Projects/MyProject/Content/VprodProject/Maps/Main_BuiltData.uasset. The FileType.UNK file type is not supported in partition.\n",
      "File: /Users/antonio/Documents/Unreal Projects/MyProject/Content/VprodProject/Maps/Vcam.umap\n",
      "***Error: Invalid file /Users/antonio/Documents/Unreal Projects/MyProject/Content/VprodProject/Maps/Vcam.umap. The FileType.UNK file type is not supported in partition.\n",
      "File: /Users/antonio/Documents/Unreal Projects/MyProject/Content/VprodProject/Maps/VR-Scouting_BuiltData.uasset\n",
      "***Error: Invalid file /Users/antonio/Documents/Unreal Projects/MyProject/Content/VprodProject/Maps/VR-Scouting_BuiltData.uasset. The FileType.UNK file type is not supported in partition.\n",
      "File: /Users/antonio/Documents/Unreal Projects/MyProject/Content/VprodProject/Maps/LiveComp_BuiltData.uasset\n",
      "***Error: Invalid file /Users/antonio/Documents/Unreal Projects/MyProject/Content/VprodProject/Maps/LiveComp_BuiltData.uasset. The FileType.UNK file type is not supported in partition.\n",
      "File: /Users/antonio/Documents/Unreal Projects/MyProject/Content/VprodProject/Maps/LiveComp.umap\n",
      "***Error: Invalid file /Users/antonio/Documents/Unreal Projects/MyProject/Content/VprodProject/Maps/LiveComp.umap. The FileType.UNK file type is not supported in partition.\n",
      "File: /Users/antonio/Documents/Unreal Projects/MyProject/Content/VprodProject/Maps/Ndisplay.umap\n",
      "***Error: Invalid file /Users/antonio/Documents/Unreal Projects/MyProject/Content/VprodProject/Maps/Ndisplay.umap. The FileType.UNK file type is not supported in partition.\n",
      "File: /Users/antonio/Documents/Unreal Projects/MyProject/Content/VprodProject/Maps/Vcam_BuiltData.uasset\n",
      "***Error: Invalid file /Users/antonio/Documents/Unreal Projects/MyProject/Content/VprodProject/Maps/Vcam_BuiltData.uasset. The FileType.UNK file type is not supported in partition.\n",
      "File: /Users/antonio/Documents/Unreal Projects/MyProject/Content/VprodProject/Maps/Ndisplay_BuiltData.uasset\n",
      "***Error: Invalid file /Users/antonio/Documents/Unreal Projects/MyProject/Content/VprodProject/Maps/Ndisplay_BuiltData.uasset. The FileType.UNK file type is not supported in partition.\n",
      "File: /Users/antonio/Documents/Unreal Projects/MyProject/Content/VprodProject/Maps/VR-Scouting.umap\n",
      "***Error: Invalid file /Users/antonio/Documents/Unreal Projects/MyProject/Content/VprodProject/Maps/VR-Scouting.umap. The FileType.UNK file type is not supported in partition.\n",
      "File: /Users/antonio/Documents/Unreal Projects/MyProject/Content/VprodProject/Maps/Main.umap\n",
      "***Error: Invalid file /Users/antonio/Documents/Unreal Projects/MyProject/Content/VprodProject/Maps/Main.umap. The FileType.UNK file type is not supported in partition.\n",
      "File: /Users/antonio/Documents/Unreal Projects/MyProject/Content/VprodProject/Materials/MI_Chrome.uasset\n",
      "***Error: Invalid file /Users/antonio/Documents/Unreal Projects/MyProject/Content/VprodProject/Materials/MI_Chrome.uasset. The FileType.UNK file type is not supported in partition.\n",
      "File: /Users/antonio/Documents/Unreal Projects/MyProject/Content/VprodProject/Materials/M_Live_Comp.uasset\n",
      "***Error: Invalid file /Users/antonio/Documents/Unreal Projects/MyProject/Content/VprodProject/Materials/M_Live_Comp.uasset. The FileType.UNK file type is not supported in partition.\n",
      "File: /Users/antonio/Documents/Unreal Projects/MyProject/Content/VprodProject/Materials/M_Backing.uasset\n",
      "***Error: Invalid file /Users/antonio/Documents/Unreal Projects/MyProject/Content/VprodProject/Materials/M_Backing.uasset. The FileType.UNK file type is not supported in partition.\n",
      "File: /Users/antonio/Documents/Unreal Projects/MyProject/Content/VprodProject/Materials/MI_Floor.uasset\n",
      "***Error: Invalid file /Users/antonio/Documents/Unreal Projects/MyProject/Content/VprodProject/Materials/MI_Floor.uasset. The FileType.UNK file type is not supported in partition.\n",
      "File: /Users/antonio/Documents/Unreal Projects/MyProject/Content/VprodProject/Materials/MI_Backing_Inst.uasset\n",
      "***Error: Invalid file /Users/antonio/Documents/Unreal Projects/MyProject/Content/VprodProject/Materials/MI_Backing_Inst.uasset. The FileType.UNK file type is not supported in partition.\n",
      "File: /Users/antonio/Documents/Unreal Projects/MyProject/Content/VprodProject/MediaIO/AJA_Media_Profile.uasset\n",
      "***Error: Invalid file /Users/antonio/Documents/Unreal Projects/MyProject/Content/VprodProject/MediaIO/AJA_Media_Profile.uasset. The FileType.UNK file type is not supported in partition.\n",
      "File: /Users/antonio/Documents/Unreal Projects/MyProject/Content/VprodProject/MediaIO/BM_Media_Profile.uasset\n",
      "***Error: Invalid file /Users/antonio/Documents/Unreal Projects/MyProject/Content/VprodProject/MediaIO/BM_Media_Profile.uasset. The FileType.UNK file type is not supported in partition.\n",
      "File: /Users/antonio/Documents/Unreal Projects/MyProject/Content/VprodProject/MediaIO/File_Media_Profile.uasset\n",
      "***Error: Invalid file /Users/antonio/Documents/Unreal Projects/MyProject/Content/VprodProject/MediaIO/File_Media_Profile.uasset. The FileType.UNK file type is not supported in partition.\n",
      "File: /Users/antonio/Documents/Unreal Projects/MyProject/Content/VprodProject/MediaIO/MediaSource-02.uasset\n",
      "***Error: Invalid file /Users/antonio/Documents/Unreal Projects/MyProject/Content/VprodProject/MediaIO/MediaSource-02.uasset. The FileType.UNK file type is not supported in partition.\n",
      "File: /Users/antonio/Documents/Unreal Projects/MyProject/Content/VprodProject/MediaIO/MediaBundle-01.uasset\n",
      "***Error: Invalid file /Users/antonio/Documents/Unreal Projects/MyProject/Content/VprodProject/MediaIO/MediaBundle-01.uasset. The FileType.UNK file type is not supported in partition.\n",
      "File: /Users/antonio/Documents/Unreal Projects/MyProject/Content/VprodProject/MediaIO/MediaBundle-02.uasset\n",
      "***Error: Invalid file /Users/antonio/Documents/Unreal Projects/MyProject/Content/VprodProject/MediaIO/MediaBundle-02.uasset. The FileType.UNK file type is not supported in partition.\n",
      "File: /Users/antonio/Documents/Unreal Projects/MyProject/Content/VprodProject/MediaIO/MediaOutput-01.uasset\n",
      "***Error: Invalid file /Users/antonio/Documents/Unreal Projects/MyProject/Content/VprodProject/MediaIO/MediaOutput-01.uasset. The FileType.UNK file type is not supported in partition.\n",
      "File: /Users/antonio/Documents/Unreal Projects/MyProject/Content/VprodProject/MediaIO/MediaSource-01.uasset\n",
      "***Error: Invalid file /Users/antonio/Documents/Unreal Projects/MyProject/Content/VprodProject/MediaIO/MediaSource-01.uasset. The FileType.UNK file type is not supported in partition.\n",
      "File: /Users/antonio/Documents/Unreal Projects/MyProject/Content/VprodProject/MediaIO/MediaBundle-01_InnerAssets/RT_MediaBundle-01_LensDisplacement.uasset\n",
      "***Error: Invalid file /Users/antonio/Documents/Unreal Projects/MyProject/Content/VprodProject/MediaIO/MediaBundle-01_InnerAssets/RT_MediaBundle-01_LensDisplacement.uasset. The FileType.UNK file type is not supported in partition.\n",
      "File: /Users/antonio/Documents/Unreal Projects/MyProject/Content/VprodProject/MediaIO/MediaBundle-01_InnerAssets/MediaP_MediaBundle-01.uasset\n",
      "***Error: Invalid file /Users/antonio/Documents/Unreal Projects/MyProject/Content/VprodProject/MediaIO/MediaBundle-01_InnerAssets/MediaP_MediaBundle-01.uasset. The FileType.UNK file type is not supported in partition.\n",
      "File: /Users/antonio/Documents/Unreal Projects/MyProject/Content/VprodProject/MediaIO/MediaBundle-01_InnerAssets/MI_MediaBundle-01.uasset\n",
      "***Error: Invalid file /Users/antonio/Documents/Unreal Projects/MyProject/Content/VprodProject/MediaIO/MediaBundle-01_InnerAssets/MI_MediaBundle-01.uasset. The FileType.UNK file type is not supported in partition.\n"
     ]
    },
    {
     "name": "stderr",
     "output_type": "stream",
     "text": [
      "The MIME type of '/Users/antonio/Documents/Unreal Projects/MyProject/Content/Movies/MediaExample.mp4' is 'video/mp4'. This file type is not currently supported in unstructured.\n"
     ]
    },
    {
     "name": "stdout",
     "output_type": "stream",
     "text": [
      "File: /Users/antonio/Documents/Unreal Projects/MyProject/Content/VprodProject/MediaIO/MediaBundle-01_InnerAssets/T_MediaBundle-01_BC.uasset\n",
      "***Error: Invalid file /Users/antonio/Documents/Unreal Projects/MyProject/Content/VprodProject/MediaIO/MediaBundle-01_InnerAssets/T_MediaBundle-01_BC.uasset. The FileType.UNK file type is not supported in partition.\n",
      "File: /Users/antonio/Documents/Unreal Projects/MyProject/Content/VprodProject/MediaIO/MediaBundle-02_InnerAssets/T_MediaBundle-02_BC.uasset\n",
      "***Error: Invalid file /Users/antonio/Documents/Unreal Projects/MyProject/Content/VprodProject/MediaIO/MediaBundle-02_InnerAssets/T_MediaBundle-02_BC.uasset. The FileType.UNK file type is not supported in partition.\n",
      "File: /Users/antonio/Documents/Unreal Projects/MyProject/Content/VprodProject/MediaIO/MediaBundle-02_InnerAssets/RT_MediaBundle-02_LensDisplacement.uasset\n",
      "***Error: Invalid file /Users/antonio/Documents/Unreal Projects/MyProject/Content/VprodProject/MediaIO/MediaBundle-02_InnerAssets/RT_MediaBundle-02_LensDisplacement.uasset. The FileType.UNK file type is not supported in partition.\n",
      "File: /Users/antonio/Documents/Unreal Projects/MyProject/Content/VprodProject/MediaIO/MediaBundle-02_InnerAssets/MI_MediaBundle-02.uasset\n",
      "***Error: Invalid file /Users/antonio/Documents/Unreal Projects/MyProject/Content/VprodProject/MediaIO/MediaBundle-02_InnerAssets/MI_MediaBundle-02.uasset. The FileType.UNK file type is not supported in partition.\n",
      "File: /Users/antonio/Documents/Unreal Projects/MyProject/Content/VprodProject/MediaIO/MediaBundle-02_InnerAssets/MediaP_MediaBundle-02.uasset\n",
      "***Error: Invalid file /Users/antonio/Documents/Unreal Projects/MyProject/Content/VprodProject/MediaIO/MediaBundle-02_InnerAssets/MediaP_MediaBundle-02.uasset. The FileType.UNK file type is not supported in partition.\n",
      "File: /Users/antonio/Documents/Unreal Projects/MyProject/Content/VprodProject/Geometry/SM_Cyc.uasset\n",
      "***Error: Invalid file /Users/antonio/Documents/Unreal Projects/MyProject/Content/VprodProject/Geometry/SM_Cyc.uasset. The FileType.UNK file type is not supported in partition.\n",
      "File: /Users/antonio/Documents/Unreal Projects/MyProject/Content/VprodProject/Geometry/SM_Floor_Disk.uasset\n",
      "***Error: Invalid file /Users/antonio/Documents/Unreal Projects/MyProject/Content/VprodProject/Geometry/SM_Floor_Disk.uasset. The FileType.UNK file type is not supported in partition.\n",
      "File: /Users/antonio/Documents/Unreal Projects/MyProject/Content/Movies/MediaExample.mp4\n",
      "***Error: Invalid file /Users/antonio/Documents/Unreal Projects/MyProject/Content/Movies/MediaExample.mp4. The FileType.UNK file type is not supported in partition.\n",
      "File: /Users/antonio/Documents/Unreal Projects/MyProject/Content/StarterContent/Maps/Advanced_Lighting.umap\n",
      "***Error: Invalid file /Users/antonio/Documents/Unreal Projects/MyProject/Content/StarterContent/Maps/Advanced_Lighting.umap. The FileType.UNK file type is not supported in partition.\n",
      "File: /Users/antonio/Documents/Unreal Projects/MyProject/Content/StarterContent/Maps/StarterMap.umap\n",
      "***Error: Invalid file /Users/antonio/Documents/Unreal Projects/MyProject/Content/StarterContent/Maps/StarterMap.umap. The FileType.UNK file type is not supported in partition.\n",
      "File: /Users/antonio/Documents/Unreal Projects/MyProject/Content/StarterContent/Maps/StarterMap_BuiltData.uasset\n",
      "***Error: Invalid file /Users/antonio/Documents/Unreal Projects/MyProject/Content/StarterContent/Maps/StarterMap_BuiltData.uasset. The FileType.UNK file type is not supported in partition.\n",
      "File: /Users/antonio/Documents/Unreal Projects/MyProject/Content/StarterContent/Maps/Advanced_Lighting_BuiltData.uasset\n",
      "***Error: Invalid file /Users/antonio/Documents/Unreal Projects/MyProject/Content/StarterContent/Maps/Advanced_Lighting_BuiltData.uasset. The FileType.UNK file type is not supported in partition.\n",
      "File: /Users/antonio/Documents/Unreal Projects/MyProject/Content/StarterContent/Maps/Minimal_Default_BuiltData.uasset\n",
      "***Error: Invalid file /Users/antonio/Documents/Unreal Projects/MyProject/Content/StarterContent/Maps/Minimal_Default_BuiltData.uasset. The FileType.UNK file type is not supported in partition.\n",
      "File: /Users/antonio/Documents/Unreal Projects/MyProject/Content/StarterContent/Maps/Minimal_Default.umap\n",
      "***Error: Invalid file /Users/antonio/Documents/Unreal Projects/MyProject/Content/StarterContent/Maps/Minimal_Default.umap. The FileType.UNK file type is not supported in partition.\n",
      "File: /Users/antonio/Documents/Unreal Projects/MyProject/Content/StarterContent/HDRI/HDRI_Epic_Courtyard_Daylight.uasset\n",
      "***Error: Invalid file /Users/antonio/Documents/Unreal Projects/MyProject/Content/StarterContent/HDRI/HDRI_Epic_Courtyard_Daylight.uasset. The FileType.UNK file type is not supported in partition.\n",
      "File: /Users/antonio/Documents/Unreal Projects/MyProject/Content/StarterContent/Textures/T_Ground_Moss_N.uasset\n",
      "***Error: Invalid file /Users/antonio/Documents/Unreal Projects/MyProject/Content/StarterContent/Textures/T_Ground_Moss_N.uasset. The FileType.UNK file type is not supported in partition.\n",
      "File: /Users/antonio/Documents/Unreal Projects/MyProject/Content/StarterContent/Textures/T_Bush_D.uasset\n",
      "***Error: Invalid file /Users/antonio/Documents/Unreal Projects/MyProject/Content/StarterContent/Textures/T_Bush_D.uasset. The FileType.UNK file type is not supported in partition.\n",
      "File: /Users/antonio/Documents/Unreal Projects/MyProject/Content/StarterContent/Textures/T_Detail_Rocky_N.uasset\n",
      "***Error: Invalid file /Users/antonio/Documents/Unreal Projects/MyProject/Content/StarterContent/Textures/T_Detail_Rocky_N.uasset. The FileType.UNK file type is not supported in partition.\n",
      "File: /Users/antonio/Documents/Unreal Projects/MyProject/Content/StarterContent/Textures/T_Statue_M.uasset\n",
      "***Error: Invalid file /Users/antonio/Documents/Unreal Projects/MyProject/Content/StarterContent/Textures/T_Statue_M.uasset. The FileType.UNK file type is not supported in partition.\n",
      "File: /Users/antonio/Documents/Unreal Projects/MyProject/Content/StarterContent/Textures/T_Brick_Hewn_Stone_M.uasset\n",
      "***Error: Invalid file /Users/antonio/Documents/Unreal Projects/MyProject/Content/StarterContent/Textures/T_Brick_Hewn_Stone_M.uasset. The FileType.UNK file type is not supported in partition.\n",
      "File: /Users/antonio/Documents/Unreal Projects/MyProject/Content/StarterContent/Textures/T_RockMesh_M.uasset\n",
      "***Error: Invalid file /Users/antonio/Documents/Unreal Projects/MyProject/Content/StarterContent/Textures/T_RockMesh_M.uasset. The FileType.UNK file type is not supported in partition.\n",
      "File: /Users/antonio/Documents/Unreal Projects/MyProject/Content/StarterContent/Textures/T_Brick_Clay_Old_D.uasset\n",
      "***Error: Invalid file /Users/antonio/Documents/Unreal Projects/MyProject/Content/StarterContent/Textures/T_Brick_Clay_Old_D.uasset. The FileType.UNK file type is not supported in partition.\n",
      "File: /Users/antonio/Documents/Unreal Projects/MyProject/Content/StarterContent/Textures/T_Brick_Clay_New_N.uasset\n",
      "***Error: Invalid file /Users/antonio/Documents/Unreal Projects/MyProject/Content/StarterContent/Textures/T_Brick_Clay_New_N.uasset. The FileType.UNK file type is not supported in partition.\n",
      "File: /Users/antonio/Documents/Unreal Projects/MyProject/Content/StarterContent/Textures/T_Perlin_Noise_M.uasset\n",
      "***Error: Invalid file /Users/antonio/Documents/Unreal Projects/MyProject/Content/StarterContent/Textures/T_Perlin_Noise_M.uasset. The FileType.UNK file type is not supported in partition.\n",
      "File: /Users/antonio/Documents/Unreal Projects/MyProject/Content/StarterContent/Textures/T_Concrete_Poured_D.uasset\n",
      "***Error: Invalid file /Users/antonio/Documents/Unreal Projects/MyProject/Content/StarterContent/Textures/T_Concrete_Poured_D.uasset. The FileType.UNK file type is not supported in partition.\n",
      "File: /Users/antonio/Documents/Unreal Projects/MyProject/Content/StarterContent/Textures/T_Wood_Pine_D.uasset\n",
      "***Error: Invalid file /Users/antonio/Documents/Unreal Projects/MyProject/Content/StarterContent/Textures/T_Wood_Pine_D.uasset. The FileType.UNK file type is not supported in partition.\n",
      "File: /Users/antonio/Documents/Unreal Projects/MyProject/Content/StarterContent/Textures/T_Lamp_M.uasset\n",
      "***Error: Invalid file /Users/antonio/Documents/Unreal Projects/MyProject/Content/StarterContent/Textures/T_Lamp_M.uasset. The FileType.UNK file type is not supported in partition.\n",
      "File: /Users/antonio/Documents/Unreal Projects/MyProject/Content/StarterContent/Textures/T_Smoke_SubUV.uasset\n"
     ]
    },
    {
     "name": "stdout",
     "output_type": "stream",
     "text": [
      "***Error: Invalid file /Users/antonio/Documents/Unreal Projects/MyProject/Content/StarterContent/Textures/T_Smoke_SubUV.uasset. The FileType.UNK file type is not supported in partition.\n",
      "File: /Users/antonio/Documents/Unreal Projects/MyProject/Content/StarterContent/Textures/T_Concrete_Tiles_D.uasset\n",
      "***Error: Invalid file /Users/antonio/Documents/Unreal Projects/MyProject/Content/StarterContent/Textures/T_Concrete_Tiles_D.uasset. The FileType.UNK file type is not supported in partition.\n",
      "File: /Users/antonio/Documents/Unreal Projects/MyProject/Content/StarterContent/Textures/T_Rock_Basalt_N.uasset\n",
      "***Error: Invalid file /Users/antonio/Documents/Unreal Projects/MyProject/Content/StarterContent/Textures/T_Rock_Basalt_N.uasset. The FileType.UNK file type is not supported in partition.\n",
      "File: /Users/antonio/Documents/Unreal Projects/MyProject/Content/StarterContent/Textures/T_CobbleStone_Smooth_N.uasset\n",
      "***Error: Invalid file /Users/antonio/Documents/Unreal Projects/MyProject/Content/StarterContent/Textures/T_CobbleStone_Smooth_N.uasset. The FileType.UNK file type is not supported in partition.\n",
      "File: /Users/antonio/Documents/Unreal Projects/MyProject/Content/StarterContent/Textures/T_Brick_Clay_Beveled_D.uasset\n",
      "***Error: Invalid file /Users/antonio/Documents/Unreal Projects/MyProject/Content/StarterContent/Textures/T_Brick_Clay_Beveled_D.uasset. The FileType.UNK file type is not supported in partition.\n",
      "File: /Users/antonio/Documents/Unreal Projects/MyProject/Content/StarterContent/Textures/T_Wood_Floor_Walnut_M.uasset\n",
      "***Error: Invalid file /Users/antonio/Documents/Unreal Projects/MyProject/Content/StarterContent/Textures/T_Wood_Floor_Walnut_M.uasset. The FileType.UNK file type is not supported in partition.\n",
      "File: /Users/antonio/Documents/Unreal Projects/MyProject/Content/StarterContent/Textures/T_Ground_Gravel_N.uasset\n",
      "***Error: Invalid file /Users/antonio/Documents/Unreal Projects/MyProject/Content/StarterContent/Textures/T_Ground_Gravel_N.uasset. The FileType.UNK file type is not supported in partition.\n",
      "File: /Users/antonio/Documents/Unreal Projects/MyProject/Content/StarterContent/Textures/T_Concrete_Tiles_Variation_M.uasset\n",
      "***Error: Invalid file /Users/antonio/Documents/Unreal Projects/MyProject/Content/StarterContent/Textures/T_Concrete_Tiles_Variation_M.uasset. The FileType.UNK file type is not supported in partition.\n",
      "File: /Users/antonio/Documents/Unreal Projects/MyProject/Content/StarterContent/Textures/T_Burst_M.uasset\n",
      "***Error: Invalid file /Users/antonio/Documents/Unreal Projects/MyProject/Content/StarterContent/Textures/T_Burst_M.uasset. The FileType.UNK file type is not supported in partition.\n",
      "File: /Users/antonio/Documents/Unreal Projects/MyProject/Content/StarterContent/Textures/T_CobbleStone_Pebble_D.uasset\n",
      "***Error: Invalid file /Users/antonio/Documents/Unreal Projects/MyProject/Content/StarterContent/Textures/T_CobbleStone_Pebble_D.uasset. The FileType.UNK file type is not supported in partition.\n",
      "File: /Users/antonio/Documents/Unreal Projects/MyProject/Content/StarterContent/Textures/T_Tech_Panel_M.uasset\n",
      "***Error: Invalid file /Users/antonio/Documents/Unreal Projects/MyProject/Content/StarterContent/Textures/T_Tech_Panel_M.uasset. The FileType.UNK file type is not supported in partition.\n",
      "File: /Users/antonio/Documents/Unreal Projects/MyProject/Content/StarterContent/Textures/T_Chair_M.uasset\n",
      "***Error: Invalid file /Users/antonio/Documents/Unreal Projects/MyProject/Content/StarterContent/Textures/T_Chair_M.uasset. The FileType.UNK file type is not supported in partition.\n",
      "File: /Users/antonio/Documents/Unreal Projects/MyProject/Content/StarterContent/Textures/T_Concrete_Tiles_N.uasset\n",
      "***Error: Invalid file /Users/antonio/Documents/Unreal Projects/MyProject/Content/StarterContent/Textures/T_Concrete_Tiles_N.uasset. The FileType.UNK file type is not supported in partition.\n",
      "File: /Users/antonio/Documents/Unreal Projects/MyProject/Content/StarterContent/Textures/T_Shelf_N.uasset\n",
      "***Error: Invalid file /Users/antonio/Documents/Unreal Projects/MyProject/Content/StarterContent/Textures/T_Shelf_N.uasset. The FileType.UNK file type is not supported in partition.\n",
      "File: /Users/antonio/Documents/Unreal Projects/MyProject/Content/StarterContent/Textures/T_Metal_Aluminum_D.uasset\n",
      "***Error: Invalid file /Users/antonio/Documents/Unreal Projects/MyProject/Content/StarterContent/Textures/T_Metal_Aluminum_D.uasset. The FileType.UNK file type is not supported in partition.\n",
      "File: /Users/antonio/Documents/Unreal Projects/MyProject/Content/StarterContent/Textures/T_Rock_Basalt_D.uasset\n",
      "***Error: Invalid file /Users/antonio/Documents/Unreal Projects/MyProject/Content/StarterContent/Textures/T_Rock_Basalt_D.uasset. The FileType.UNK file type is not supported in partition.\n",
      "File: /Users/antonio/Documents/Unreal Projects/MyProject/Content/StarterContent/Textures/T_Concrete_Poured_N.uasset\n",
      "***Error: Invalid file /Users/antonio/Documents/Unreal Projects/MyProject/Content/StarterContent/Textures/T_Concrete_Poured_N.uasset. The FileType.UNK file type is not supported in partition.\n",
      "File: /Users/antonio/Documents/Unreal Projects/MyProject/Content/StarterContent/Textures/T_Wood_Pine_N.uasset\n",
      "***Error: Invalid file /Users/antonio/Documents/Unreal Projects/MyProject/Content/StarterContent/Textures/T_Wood_Pine_N.uasset. The FileType.UNK file type is not supported in partition.\n",
      "File: /Users/antonio/Documents/Unreal Projects/MyProject/Content/StarterContent/Textures/T_Tech_Dot_M.uasset\n",
      "***Error: Invalid file /Users/antonio/Documents/Unreal Projects/MyProject/Content/StarterContent/Textures/T_Tech_Dot_M.uasset. The FileType.UNK file type is not supported in partition.\n",
      "File: /Users/antonio/Documents/Unreal Projects/MyProject/Content/StarterContent/Textures/T_TableRound_N.uasset\n",
      "***Error: Invalid file /Users/antonio/Documents/Unreal Projects/MyProject/Content/StarterContent/Textures/T_TableRound_N.uasset. The FileType.UNK file type is not supported in partition.\n",
      "File: /Users/antonio/Documents/Unreal Projects/MyProject/Content/StarterContent/Textures/T_Explosion_SubUV.uasset\n",
      "***Error: Invalid file /Users/antonio/Documents/Unreal Projects/MyProject/Content/StarterContent/Textures/T_Explosion_SubUV.uasset. The FileType.UNK file type is not supported in partition.\n",
      "File: /Users/antonio/Documents/Unreal Projects/MyProject/Content/StarterContent/Textures/T_Brick_Clay_New_D.uasset\n",
      "***Error: Invalid file /Users/antonio/Documents/Unreal Projects/MyProject/Content/StarterContent/Textures/T_Brick_Clay_New_D.uasset. The FileType.UNK file type is not supported in partition.\n",
      "File: /Users/antonio/Documents/Unreal Projects/MyProject/Content/StarterContent/Textures/T_Water_N.uasset\n",
      "***Error: Invalid file /Users/antonio/Documents/Unreal Projects/MyProject/Content/StarterContent/Textures/T_Water_N.uasset. The FileType.UNK file type is not supported in partition.\n",
      "File: /Users/antonio/Documents/Unreal Projects/MyProject/Content/StarterContent/Textures/T_Brick_Clay_Old_N.uasset\n",
      "***Error: Invalid file /Users/antonio/Documents/Unreal Projects/MyProject/Content/StarterContent/Textures/T_Brick_Clay_Old_N.uasset. The FileType.UNK file type is not supported in partition.\n",
      "File: /Users/antonio/Documents/Unreal Projects/MyProject/Content/StarterContent/Textures/T_Rock_Marble_Polished_D.uasset\n",
      "***Error: Invalid file /Users/antonio/Documents/Unreal Projects/MyProject/Content/StarterContent/Textures/T_Rock_Marble_Polished_D.uasset. The FileType.UNK file type is not supported in partition.\n",
      "File: /Users/antonio/Documents/Unreal Projects/MyProject/Content/StarterContent/Textures/T_ground_Moss_D.uasset\n",
      "***Error: Invalid file /Users/antonio/Documents/Unreal Projects/MyProject/Content/StarterContent/Textures/T_ground_Moss_D.uasset. The FileType.UNK file type is not supported in partition.\n",
      "File: /Users/antonio/Documents/Unreal Projects/MyProject/Content/StarterContent/Textures/T_Rock_Smooth_Granite_D.uasset\n",
      "***Error: Invalid file /Users/antonio/Documents/Unreal Projects/MyProject/Content/StarterContent/Textures/T_Rock_Smooth_Granite_D.uasset. The FileType.UNK file type is not supported in partition.\n",
      "File: /Users/antonio/Documents/Unreal Projects/MyProject/Content/StarterContent/Textures/T_Tech_Hex_Tile_M.uasset\n",
      "***Error: Invalid file /Users/antonio/Documents/Unreal Projects/MyProject/Content/StarterContent/Textures/T_Tech_Hex_Tile_M.uasset. The FileType.UNK file type is not supported in partition.\n",
      "File: /Users/antonio/Documents/Unreal Projects/MyProject/Content/StarterContent/Textures/T_Bush_N.uasset\n",
      "***Error: Invalid file /Users/antonio/Documents/Unreal Projects/MyProject/Content/StarterContent/Textures/T_Bush_N.uasset. The FileType.UNK file type is not supported in partition.\n",
      "File: /Users/antonio/Documents/Unreal Projects/MyProject/Content/StarterContent/Textures/T_Ceramic_Tile_M.uasset\n",
      "***Error: Invalid file /Users/antonio/Documents/Unreal Projects/MyProject/Content/StarterContent/Textures/T_Ceramic_Tile_M.uasset. The FileType.UNK file type is not supported in partition.\n",
      "File: /Users/antonio/Documents/Unreal Projects/MyProject/Content/StarterContent/Textures/T_CobbleStone_Pebble_N.uasset\n",
      "***Error: Invalid file /Users/antonio/Documents/Unreal Projects/MyProject/Content/StarterContent/Textures/T_CobbleStone_Pebble_N.uasset. The FileType.UNK file type is not supported in partition.\n",
      "File: /Users/antonio/Documents/Unreal Projects/MyProject/Content/StarterContent/Textures/T_Gradinet_01.uasset\n",
      "***Error: Invalid file /Users/antonio/Documents/Unreal Projects/MyProject/Content/StarterContent/Textures/T_Gradinet_01.uasset. The FileType.UNK file type is not supported in partition.\n",
      "File: /Users/antonio/Documents/Unreal Projects/MyProject/Content/StarterContent/Textures/T_Door_M.uasset\n",
      "***Error: Invalid file /Users/antonio/Documents/Unreal Projects/MyProject/Content/StarterContent/Textures/T_Door_M.uasset. The FileType.UNK file type is not supported in partition.\n",
      "File: /Users/antonio/Documents/Unreal Projects/MyProject/Content/StarterContent/Textures/T_Spark_Core.uasset\n",
      "***Error: Invalid file /Users/antonio/Documents/Unreal Projects/MyProject/Content/StarterContent/Textures/T_Spark_Core.uasset. The FileType.UNK file type is not supported in partition.\n",
      "File: /Users/antonio/Documents/Unreal Projects/MyProject/Content/StarterContent/Textures/T_Ground_Gravel_D.uasset\n"
     ]
    },
    {
     "name": "stdout",
     "output_type": "stream",
     "text": [
      "***Error: Invalid file /Users/antonio/Documents/Unreal Projects/MyProject/Content/StarterContent/Textures/T_Ground_Gravel_D.uasset. The FileType.UNK file type is not supported in partition.\n",
      "File: /Users/antonio/Documents/Unreal Projects/MyProject/Content/StarterContent/Textures/T_Frame_N.uasset\n",
      "***Error: Invalid file /Users/antonio/Documents/Unreal Projects/MyProject/Content/StarterContent/Textures/T_Frame_N.uasset. The FileType.UNK file type is not supported in partition.\n",
      "File: /Users/antonio/Documents/Unreal Projects/MyProject/Content/StarterContent/Textures/T_CobbleStone_Smooth_D.uasset\n",
      "***Error: Invalid file /Users/antonio/Documents/Unreal Projects/MyProject/Content/StarterContent/Textures/T_CobbleStone_Smooth_D.uasset. The FileType.UNK file type is not supported in partition.\n",
      "File: /Users/antonio/Documents/Unreal Projects/MyProject/Content/StarterContent/Textures/T_Brick_Clay_Beveled_N.uasset\n",
      "***Error: Invalid file /Users/antonio/Documents/Unreal Projects/MyProject/Content/StarterContent/Textures/T_Brick_Clay_Beveled_N.uasset. The FileType.UNK file type is not supported in partition.\n",
      "File: /Users/antonio/Documents/Unreal Projects/MyProject/Content/StarterContent/Textures/T_Concrete_Grime_D.uasset\n",
      "***Error: Invalid file /Users/antonio/Documents/Unreal Projects/MyProject/Content/StarterContent/Textures/T_Concrete_Grime_D.uasset. The FileType.UNK file type is not supported in partition.\n",
      "File: /Users/antonio/Documents/Unreal Projects/MyProject/Content/StarterContent/Textures/T_Brick_Cut_Stone_D.uasset\n",
      "***Error: Invalid file /Users/antonio/Documents/Unreal Projects/MyProject/Content/StarterContent/Textures/T_Brick_Cut_Stone_D.uasset. The FileType.UNK file type is not supported in partition.\n",
      "File: /Users/antonio/Documents/Unreal Projects/MyProject/Content/StarterContent/Textures/T_Wood_Floor_Walnut_N.uasset\n",
      "***Error: Invalid file /Users/antonio/Documents/Unreal Projects/MyProject/Content/StarterContent/Textures/T_Wood_Floor_Walnut_N.uasset. The FileType.UNK file type is not supported in partition.\n",
      "File: /Users/antonio/Documents/Unreal Projects/MyProject/Content/StarterContent/Textures/T_CobbleStone_Smooth_M.uasset\n",
      "***Error: Invalid file /Users/antonio/Documents/Unreal Projects/MyProject/Content/StarterContent/Textures/T_CobbleStone_Smooth_M.uasset. The FileType.UNK file type is not supported in partition.\n",
      "File: /Users/antonio/Documents/Unreal Projects/MyProject/Content/StarterContent/Textures/T_Concrete_Panels_D.uasset\n",
      "***Error: Invalid file /Users/antonio/Documents/Unreal Projects/MyProject/Content/StarterContent/Textures/T_Concrete_Panels_D.uasset. The FileType.UNK file type is not supported in partition.\n",
      "File: /Users/antonio/Documents/Unreal Projects/MyProject/Content/StarterContent/Textures/T_Ground_Grass_D.uasset\n",
      "***Error: Invalid file /Users/antonio/Documents/Unreal Projects/MyProject/Content/StarterContent/Textures/T_Ground_Grass_D.uasset. The FileType.UNK file type is not supported in partition.\n",
      "File: /Users/antonio/Documents/Unreal Projects/MyProject/Content/StarterContent/Textures/T_Chair_N.uasset\n",
      "***Error: Invalid file /Users/antonio/Documents/Unreal Projects/MyProject/Content/StarterContent/Textures/T_Chair_N.uasset. The FileType.UNK file type is not supported in partition.\n",
      "File: /Users/antonio/Documents/Unreal Projects/MyProject/Content/StarterContent/Textures/T_MacroVariation.uasset\n",
      "***Error: Invalid file /Users/antonio/Documents/Unreal Projects/MyProject/Content/StarterContent/Textures/T_MacroVariation.uasset. The FileType.UNK file type is not supported in partition.\n",
      "File: /Users/antonio/Documents/Unreal Projects/MyProject/Content/StarterContent/Textures/T_CobbleStone_Rough_N.uasset\n",
      "***Error: Invalid file /Users/antonio/Documents/Unreal Projects/MyProject/Content/StarterContent/Textures/T_CobbleStone_Rough_N.uasset. The FileType.UNK file type is not supported in partition.\n",
      "File: /Users/antonio/Documents/Unreal Projects/MyProject/Content/StarterContent/Textures/T_Metal_Gold_D.uasset\n",
      "***Error: Invalid file /Users/antonio/Documents/Unreal Projects/MyProject/Content/StarterContent/Textures/T_Metal_Gold_D.uasset. The FileType.UNK file type is not supported in partition.\n",
      "File: /Users/antonio/Documents/Unreal Projects/MyProject/Content/StarterContent/Textures/T_Tech_Panel_N.uasset\n",
      "***Error: Invalid file /Users/antonio/Documents/Unreal Projects/MyProject/Content/StarterContent/Textures/T_Tech_Panel_N.uasset. The FileType.UNK file type is not supported in partition.\n",
      "File: /Users/antonio/Documents/Unreal Projects/MyProject/Content/StarterContent/Textures/T_Rock_Sandstone_N.uasset\n",
      "***Error: Invalid file /Users/antonio/Documents/Unreal Projects/MyProject/Content/StarterContent/Textures/T_Rock_Sandstone_N.uasset. The FileType.UNK file type is not supported in partition.\n",
      "File: /Users/antonio/Documents/Unreal Projects/MyProject/Content/StarterContent/Textures/T_Brick_Clay_New_M.uasset\n",
      "***Error: Invalid file /Users/antonio/Documents/Unreal Projects/MyProject/Content/StarterContent/Textures/T_Brick_Clay_New_M.uasset. The FileType.UNK file type is not supported in partition.\n",
      "File: /Users/antonio/Documents/Unreal Projects/MyProject/Content/StarterContent/Textures/T_Checker_Noise_M.uasset\n",
      "***Error: Invalid file /Users/antonio/Documents/Unreal Projects/MyProject/Content/StarterContent/Textures/T_Checker_Noise_M.uasset. The FileType.UNK file type is not supported in partition.\n",
      "File: /Users/antonio/Documents/Unreal Projects/MyProject/Content/StarterContent/Textures/T_Fire_Tiled_D.uasset\n",
      "***Error: Invalid file /Users/antonio/Documents/Unreal Projects/MyProject/Content/StarterContent/Textures/T_Fire_Tiled_D.uasset. The FileType.UNK file type is not supported in partition.\n",
      "File: /Users/antonio/Documents/Unreal Projects/MyProject/Content/StarterContent/Textures/T_Dust_Particle_D.uasset\n",
      "***Error: Invalid file /Users/antonio/Documents/Unreal Projects/MyProject/Content/StarterContent/Textures/T_Dust_Particle_D.uasset. The FileType.UNK file type is not supported in partition.\n",
      "File: /Users/antonio/Documents/Unreal Projects/MyProject/Content/StarterContent/Textures/T_Wood_Walnut_N.uasset\n",
      "***Error: Invalid file /Users/antonio/Documents/Unreal Projects/MyProject/Content/StarterContent/Textures/T_Wood_Walnut_N.uasset. The FileType.UNK file type is not supported in partition.\n",
      "File: /Users/antonio/Documents/Unreal Projects/MyProject/Content/StarterContent/Textures/T_RockMesh_N.uasset\n",
      "***Error: Invalid file /Users/antonio/Documents/Unreal Projects/MyProject/Content/StarterContent/Textures/T_RockMesh_N.uasset. The FileType.UNK file type is not supported in partition.\n",
      "File: /Users/antonio/Documents/Unreal Projects/MyProject/Content/StarterContent/Textures/T_Brick_Hewn_Stone_N.uasset\n",
      "***Error: Invalid file /Users/antonio/Documents/Unreal Projects/MyProject/Content/StarterContent/Textures/T_Brick_Hewn_Stone_N.uasset. The FileType.UNK file type is not supported in partition.\n",
      "File: /Users/antonio/Documents/Unreal Projects/MyProject/Content/StarterContent/Textures/T_Statue_N.uasset\n",
      "***Error: Invalid file /Users/antonio/Documents/Unreal Projects/MyProject/Content/StarterContent/Textures/T_Statue_N.uasset. The FileType.UNK file type is not supported in partition.\n",
      "File: /Users/antonio/Documents/Unreal Projects/MyProject/Content/StarterContent/Textures/T_Rock_Slate_D.uasset\n",
      "***Error: Invalid file /Users/antonio/Documents/Unreal Projects/MyProject/Content/StarterContent/Textures/T_Rock_Slate_D.uasset. The FileType.UNK file type is not supported in partition.\n",
      "File: /Users/antonio/Documents/Unreal Projects/MyProject/Content/StarterContent/Textures/T_Lamp_N.uasset\n",
      "***Error: Invalid file /Users/antonio/Documents/Unreal Projects/MyProject/Content/StarterContent/Textures/T_Lamp_N.uasset. The FileType.UNK file type is not supported in partition.\n",
      "File: /Users/antonio/Documents/Unreal Projects/MyProject/Content/StarterContent/Textures/T_Single_Tile_N.uasset\n",
      "***Error: Invalid file /Users/antonio/Documents/Unreal Projects/MyProject/Content/StarterContent/Textures/T_Single_Tile_N.uasset. The FileType.UNK file type is not supported in partition.\n",
      "File: /Users/antonio/Documents/Unreal Projects/MyProject/Content/StarterContent/Textures/T_Wood_Oak_D.uasset\n",
      "***Error: Invalid file /Users/antonio/Documents/Unreal Projects/MyProject/Content/StarterContent/Textures/T_Wood_Oak_D.uasset. The FileType.UNK file type is not supported in partition.\n",
      "File: /Users/antonio/Documents/Unreal Projects/MyProject/Content/StarterContent/Textures/T_Metal_Steel_D.uasset\n",
      "***Error: Invalid file /Users/antonio/Documents/Unreal Projects/MyProject/Content/StarterContent/Textures/T_Metal_Steel_D.uasset. The FileType.UNK file type is not supported in partition.\n",
      "File: /Users/antonio/Documents/Unreal Projects/MyProject/Content/StarterContent/Textures/T_Metal_Rust_N.uasset\n",
      "***Error: Invalid file /Users/antonio/Documents/Unreal Projects/MyProject/Content/StarterContent/Textures/T_Metal_Rust_N.uasset. The FileType.UNK file type is not supported in partition.\n",
      "File: /Users/antonio/Documents/Unreal Projects/MyProject/Content/StarterContent/Textures/T_Metal_Copper_D.uasset\n",
      "***Error: Invalid file /Users/antonio/Documents/Unreal Projects/MyProject/Content/StarterContent/Textures/T_Metal_Copper_D.uasset. The FileType.UNK file type is not supported in partition.\n",
      "File: /Users/antonio/Documents/Unreal Projects/MyProject/Content/StarterContent/Textures/T_CobbleStone_Pebble_M.uasset\n",
      "***Error: Invalid file /Users/antonio/Documents/Unreal Projects/MyProject/Content/StarterContent/Textures/T_CobbleStone_Pebble_M.uasset. The FileType.UNK file type is not supported in partition.\n",
      "File: /Users/antonio/Documents/Unreal Projects/MyProject/Content/StarterContent/Textures/T_Rock_Sandstone_D.uasset\n",
      "***Error: Invalid file /Users/antonio/Documents/Unreal Projects/MyProject/Content/StarterContent/Textures/T_Rock_Sandstone_D.uasset. The FileType.UNK file type is not supported in partition.\n",
      "File: /Users/antonio/Documents/Unreal Projects/MyProject/Content/StarterContent/Textures/T_Metal_Gold_N.uasset\n"
     ]
    },
    {
     "name": "stdout",
     "output_type": "stream",
     "text": [
      "***Error: Invalid file /Users/antonio/Documents/Unreal Projects/MyProject/Content/StarterContent/Textures/T_Metal_Gold_N.uasset. The FileType.UNK file type is not supported in partition.\n",
      "File: /Users/antonio/Documents/Unreal Projects/MyProject/Content/StarterContent/Textures/T_Ceramic_Tile_N.uasset\n",
      "***Error: Invalid file /Users/antonio/Documents/Unreal Projects/MyProject/Content/StarterContent/Textures/T_Ceramic_Tile_N.uasset. The FileType.UNK file type is not supported in partition.\n",
      "File: /Users/antonio/Documents/Unreal Projects/MyProject/Content/StarterContent/Textures/T_CobbleStone_Rough_D.uasset\n",
      "***Error: Invalid file /Users/antonio/Documents/Unreal Projects/MyProject/Content/StarterContent/Textures/T_CobbleStone_Rough_D.uasset. The FileType.UNK file type is not supported in partition.\n",
      "File: /Users/antonio/Documents/Unreal Projects/MyProject/Content/StarterContent/Textures/T_Smoke_Tiled_D.uasset\n",
      "***Error: Invalid file /Users/antonio/Documents/Unreal Projects/MyProject/Content/StarterContent/Textures/T_Smoke_Tiled_D.uasset. The FileType.UNK file type is not supported in partition.\n",
      "File: /Users/antonio/Documents/Unreal Projects/MyProject/Content/StarterContent/Textures/T_Fire_SubUV.uasset\n",
      "***Error: Invalid file /Users/antonio/Documents/Unreal Projects/MyProject/Content/StarterContent/Textures/T_Fire_SubUV.uasset. The FileType.UNK file type is not supported in partition.\n",
      "File: /Users/antonio/Documents/Unreal Projects/MyProject/Content/StarterContent/Textures/T_Ground_Grass_N.uasset\n",
      "***Error: Invalid file /Users/antonio/Documents/Unreal Projects/MyProject/Content/StarterContent/Textures/T_Ground_Grass_N.uasset. The FileType.UNK file type is not supported in partition.\n",
      "File: /Users/antonio/Documents/Unreal Projects/MyProject/Content/StarterContent/Textures/T_Concrete_Panels_N.uasset\n",
      "***Error: Invalid file /Users/antonio/Documents/Unreal Projects/MyProject/Content/StarterContent/Textures/T_Concrete_Panels_N.uasset. The FileType.UNK file type is not supported in partition.\n",
      "File: /Users/antonio/Documents/Unreal Projects/MyProject/Content/StarterContent/Textures/T_Brick_Clay_Beveled_M.uasset\n",
      "***Error: Invalid file /Users/antonio/Documents/Unreal Projects/MyProject/Content/StarterContent/Textures/T_Brick_Clay_Beveled_M.uasset. The FileType.UNK file type is not supported in partition.\n",
      "File: /Users/antonio/Documents/Unreal Projects/MyProject/Content/StarterContent/Textures/T_Brick_Cut_Stone_N.uasset\n",
      "***Error: Invalid file /Users/antonio/Documents/Unreal Projects/MyProject/Content/StarterContent/Textures/T_Brick_Cut_Stone_N.uasset. The FileType.UNK file type is not supported in partition.\n",
      "File: /Users/antonio/Documents/Unreal Projects/MyProject/Content/StarterContent/Textures/T_Wood_Floor_Walnut_D.uasset\n",
      "***Error: Invalid file /Users/antonio/Documents/Unreal Projects/MyProject/Content/StarterContent/Textures/T_Wood_Floor_Walnut_D.uasset. The FileType.UNK file type is not supported in partition.\n",
      "File: /Users/antonio/Documents/Unreal Projects/MyProject/Content/StarterContent/Textures/T_Frame_M.uasset\n",
      "***Error: Invalid file /Users/antonio/Documents/Unreal Projects/MyProject/Content/StarterContent/Textures/T_Frame_M.uasset. The FileType.UNK file type is not supported in partition.\n",
      "File: /Users/antonio/Documents/Unreal Projects/MyProject/Content/StarterContent/Textures/T_Door_N.uasset\n",
      "***Error: Invalid file /Users/antonio/Documents/Unreal Projects/MyProject/Content/StarterContent/Textures/T_Door_N.uasset. The FileType.UNK file type is not supported in partition.\n",
      "File: /Users/antonio/Documents/Unreal Projects/MyProject/Content/StarterContent/Textures/T_TableRound_M.uasset\n",
      "***Error: Invalid file /Users/antonio/Documents/Unreal Projects/MyProject/Content/StarterContent/Textures/T_TableRound_M.uasset. The FileType.UNK file type is not supported in partition.\n",
      "File: /Users/antonio/Documents/Unreal Projects/MyProject/Content/StarterContent/Textures/T_Metal_Steel_N.uasset\n",
      "***Error: Invalid file /Users/antonio/Documents/Unreal Projects/MyProject/Content/StarterContent/Textures/T_Metal_Steel_N.uasset. The FileType.UNK file type is not supported in partition.\n",
      "File: /Users/antonio/Documents/Unreal Projects/MyProject/Content/StarterContent/Textures/T_Metal_Rust_D.uasset\n",
      "***Error: Invalid file /Users/antonio/Documents/Unreal Projects/MyProject/Content/StarterContent/Textures/T_Metal_Rust_D.uasset. The FileType.UNK file type is not supported in partition.\n",
      "File: /Users/antonio/Documents/Unreal Projects/MyProject/Content/StarterContent/Textures/T_Wood_Oak_N.uasset\n",
      "***Error: Invalid file /Users/antonio/Documents/Unreal Projects/MyProject/Content/StarterContent/Textures/T_Wood_Oak_N.uasset. The FileType.UNK file type is not supported in partition.\n",
      "File: /Users/antonio/Documents/Unreal Projects/MyProject/Content/StarterContent/Textures/T_Tech_Dot_N.uasset\n",
      "***Error: Invalid file /Users/antonio/Documents/Unreal Projects/MyProject/Content/StarterContent/Textures/T_Tech_Dot_N.uasset. The FileType.UNK file type is not supported in partition.\n",
      "File: /Users/antonio/Documents/Unreal Projects/MyProject/Content/StarterContent/Textures/T_Shelf_M.uasset\n",
      "***Error: Invalid file /Users/antonio/Documents/Unreal Projects/MyProject/Content/StarterContent/Textures/T_Shelf_M.uasset. The FileType.UNK file type is not supported in partition.\n",
      "File: /Users/antonio/Documents/Unreal Projects/MyProject/Content/StarterContent/Textures/T_Concrete_Tiles_M.uasset\n",
      "***Error: Invalid file /Users/antonio/Documents/Unreal Projects/MyProject/Content/StarterContent/Textures/T_Concrete_Tiles_M.uasset. The FileType.UNK file type is not supported in partition.\n",
      "File: /Users/antonio/Documents/Unreal Projects/MyProject/Content/StarterContent/Textures/T_Rock_Slate_N.uasset\n",
      "***Error: Invalid file /Users/antonio/Documents/Unreal Projects/MyProject/Content/StarterContent/Textures/T_Rock_Slate_N.uasset. The FileType.UNK file type is not supported in partition.\n",
      "File: /Users/antonio/Documents/Unreal Projects/MyProject/Content/StarterContent/Textures/T_Tech_Hex_Tile_N.uasset\n",
      "***Error: Invalid file /Users/antonio/Documents/Unreal Projects/MyProject/Content/StarterContent/Textures/T_Tech_Hex_Tile_N.uasset. The FileType.UNK file type is not supported in partition.\n",
      "File: /Users/antonio/Documents/Unreal Projects/MyProject/Content/StarterContent/Textures/T_Brick_Hewn_Stone_D.uasset\n",
      "***Error: Invalid file /Users/antonio/Documents/Unreal Projects/MyProject/Content/StarterContent/Textures/T_Brick_Hewn_Stone_D.uasset. The FileType.UNK file type is not supported in partition.\n",
      "File: /Users/antonio/Documents/Unreal Projects/MyProject/Content/StarterContent/Textures/T_Wood_Walnut_D.uasset\n",
      "***Error: Invalid file /Users/antonio/Documents/Unreal Projects/MyProject/Content/StarterContent/Textures/T_Wood_Walnut_D.uasset. The FileType.UNK file type is not supported in partition.\n",
      "File: /Users/antonio/Documents/Unreal Projects/MyProject/Content/StarterContent/Textures/T_Water_M.uasset\n",
      "***Error: Invalid file /Users/antonio/Documents/Unreal Projects/MyProject/Content/StarterContent/Textures/T_Water_M.uasset. The FileType.UNK file type is not supported in partition.\n",
      "File: /Users/antonio/Documents/Unreal Projects/MyProject/Content/StarterContent/Materials/M_Glass.uasset\n",
      "***Error: Invalid file /Users/antonio/Documents/Unreal Projects/MyProject/Content/StarterContent/Materials/M_Glass.uasset. The FileType.UNK file type is not supported in partition.\n",
      "File: /Users/antonio/Documents/Unreal Projects/MyProject/Content/StarterContent/Materials/M_Brick_Cut_Stone.uasset\n",
      "***Error: Invalid file /Users/antonio/Documents/Unreal Projects/MyProject/Content/StarterContent/Materials/M_Brick_Cut_Stone.uasset. The FileType.UNK file type is not supported in partition.\n",
      "File: /Users/antonio/Documents/Unreal Projects/MyProject/Content/StarterContent/Materials/M_Metal_Brushed_Nickel.uasset\n",
      "***Error: Invalid file /Users/antonio/Documents/Unreal Projects/MyProject/Content/StarterContent/Materials/M_Metal_Brushed_Nickel.uasset. The FileType.UNK file type is not supported in partition.\n",
      "File: /Users/antonio/Documents/Unreal Projects/MyProject/Content/StarterContent/Materials/M_CobbleStone_Rough.uasset\n",
      "***Error: Invalid file /Users/antonio/Documents/Unreal Projects/MyProject/Content/StarterContent/Materials/M_CobbleStone_Rough.uasset. The FileType.UNK file type is not supported in partition.\n",
      "File: /Users/antonio/Documents/Unreal Projects/MyProject/Content/StarterContent/Materials/M_Wood_Oak.uasset\n",
      "***Error: Invalid file /Users/antonio/Documents/Unreal Projects/MyProject/Content/StarterContent/Materials/M_Wood_Oak.uasset. The FileType.UNK file type is not supported in partition.\n",
      "File: /Users/antonio/Documents/Unreal Projects/MyProject/Content/StarterContent/Materials/M_Rock_Marble_Polished.uasset\n",
      "***Error: Invalid file /Users/antonio/Documents/Unreal Projects/MyProject/Content/StarterContent/Materials/M_Rock_Marble_Polished.uasset. The FileType.UNK file type is not supported in partition.\n",
      "File: /Users/antonio/Documents/Unreal Projects/MyProject/Content/StarterContent/Materials/M_AssetPlatform.uasset\n",
      "***Error: Invalid file /Users/antonio/Documents/Unreal Projects/MyProject/Content/StarterContent/Materials/M_AssetPlatform.uasset. The FileType.UNK file type is not supported in partition.\n",
      "File: /Users/antonio/Documents/Unreal Projects/MyProject/Content/StarterContent/Materials/M_Wood_Pine.uasset\n"
     ]
    },
    {
     "name": "stdout",
     "output_type": "stream",
     "text": [
      "***Error: Invalid file /Users/antonio/Documents/Unreal Projects/MyProject/Content/StarterContent/Materials/M_Wood_Pine.uasset. The FileType.UNK file type is not supported in partition.\n",
      "File: /Users/antonio/Documents/Unreal Projects/MyProject/Content/StarterContent/Materials/M_Wood_Floor_Walnut_Polished.uasset\n",
      "***Error: Invalid file /Users/antonio/Documents/Unreal Projects/MyProject/Content/StarterContent/Materials/M_Wood_Floor_Walnut_Polished.uasset. The FileType.UNK file type is not supported in partition.\n",
      "File: /Users/antonio/Documents/Unreal Projects/MyProject/Content/StarterContent/Materials/M_Rock_Basalt.uasset\n",
      "***Error: Invalid file /Users/antonio/Documents/Unreal Projects/MyProject/Content/StarterContent/Materials/M_Rock_Basalt.uasset. The FileType.UNK file type is not supported in partition.\n",
      "File: /Users/antonio/Documents/Unreal Projects/MyProject/Content/StarterContent/Materials/M_Metal_Rust.uasset\n",
      "***Error: Invalid file /Users/antonio/Documents/Unreal Projects/MyProject/Content/StarterContent/Materials/M_Metal_Rust.uasset. The FileType.UNK file type is not supported in partition.\n",
      "File: /Users/antonio/Documents/Unreal Projects/MyProject/Content/StarterContent/Materials/M_Water_Lake.uasset\n",
      "***Error: Invalid file /Users/antonio/Documents/Unreal Projects/MyProject/Content/StarterContent/Materials/M_Water_Lake.uasset. The FileType.UNK file type is not supported in partition.\n",
      "File: /Users/antonio/Documents/Unreal Projects/MyProject/Content/StarterContent/Materials/M_Wood_Floor_Walnut_Worn.uasset\n",
      "***Error: Invalid file /Users/antonio/Documents/Unreal Projects/MyProject/Content/StarterContent/Materials/M_Wood_Floor_Walnut_Worn.uasset. The FileType.UNK file type is not supported in partition.\n",
      "File: /Users/antonio/Documents/Unreal Projects/MyProject/Content/StarterContent/Materials/M_Brick_Clay_Old.uasset\n",
      "***Error: Invalid file /Users/antonio/Documents/Unreal Projects/MyProject/Content/StarterContent/Materials/M_Brick_Clay_Old.uasset. The FileType.UNK file type is not supported in partition.\n",
      "File: /Users/antonio/Documents/Unreal Projects/MyProject/Content/StarterContent/Materials/M_Water_Ocean.uasset\n",
      "***Error: Invalid file /Users/antonio/Documents/Unreal Projects/MyProject/Content/StarterContent/Materials/M_Water_Ocean.uasset. The FileType.UNK file type is not supported in partition.\n",
      "File: /Users/antonio/Documents/Unreal Projects/MyProject/Content/StarterContent/Materials/M_Brick_Clay_Beveled.uasset\n",
      "***Error: Invalid file /Users/antonio/Documents/Unreal Projects/MyProject/Content/StarterContent/Materials/M_Brick_Clay_Beveled.uasset. The FileType.UNK file type is not supported in partition.\n",
      "File: /Users/antonio/Documents/Unreal Projects/MyProject/Content/StarterContent/Materials/M_Rock_Slate.uasset\n",
      "***Error: Invalid file /Users/antonio/Documents/Unreal Projects/MyProject/Content/StarterContent/Materials/M_Rock_Slate.uasset. The FileType.UNK file type is not supported in partition.\n",
      "File: /Users/antonio/Documents/Unreal Projects/MyProject/Content/StarterContent/Materials/M_Concrete_Panels.uasset\n",
      "***Error: Invalid file /Users/antonio/Documents/Unreal Projects/MyProject/Content/StarterContent/Materials/M_Concrete_Panels.uasset. The FileType.UNK file type is not supported in partition.\n",
      "File: /Users/antonio/Documents/Unreal Projects/MyProject/Content/StarterContent/Materials/M_Basic_Wall.uasset\n",
      "***Error: Invalid file /Users/antonio/Documents/Unreal Projects/MyProject/Content/StarterContent/Materials/M_Basic_Wall.uasset. The FileType.UNK file type is not supported in partition.\n",
      "File: /Users/antonio/Documents/Unreal Projects/MyProject/Content/StarterContent/Materials/M_Concrete_Poured.uasset\n",
      "***Error: Invalid file /Users/antonio/Documents/Unreal Projects/MyProject/Content/StarterContent/Materials/M_Concrete_Poured.uasset. The FileType.UNK file type is not supported in partition.\n",
      "File: /Users/antonio/Documents/Unreal Projects/MyProject/Content/StarterContent/Materials/M_Metal_Gold.uasset\n",
      "***Error: Invalid file /Users/antonio/Documents/Unreal Projects/MyProject/Content/StarterContent/Materials/M_Metal_Gold.uasset. The FileType.UNK file type is not supported in partition.\n",
      "File: /Users/antonio/Documents/Unreal Projects/MyProject/Content/StarterContent/Materials/M_CobbleStone_Smooth.uasset\n",
      "***Error: Invalid file /Users/antonio/Documents/Unreal Projects/MyProject/Content/StarterContent/Materials/M_CobbleStone_Smooth.uasset. The FileType.UNK file type is not supported in partition.\n",
      "File: /Users/antonio/Documents/Unreal Projects/MyProject/Content/StarterContent/Materials/M_Ground_Grass.uasset\n",
      "***Error: Invalid file /Users/antonio/Documents/Unreal Projects/MyProject/Content/StarterContent/Materials/M_Ground_Grass.uasset. The FileType.UNK file type is not supported in partition.\n",
      "File: /Users/antonio/Documents/Unreal Projects/MyProject/Content/StarterContent/Materials/M_Brick_Clay_New.uasset\n",
      "***Error: Invalid file /Users/antonio/Documents/Unreal Projects/MyProject/Content/StarterContent/Materials/M_Brick_Clay_New.uasset. The FileType.UNK file type is not supported in partition.\n",
      "File: /Users/antonio/Documents/Unreal Projects/MyProject/Content/StarterContent/Materials/M_Tech_Panel.uasset\n",
      "***Error: Invalid file /Users/antonio/Documents/Unreal Projects/MyProject/Content/StarterContent/Materials/M_Tech_Panel.uasset. The FileType.UNK file type is not supported in partition.\n",
      "File: /Users/antonio/Documents/Unreal Projects/MyProject/Content/StarterContent/Materials/M_Metal_Steel.uasset\n",
      "***Error: Invalid file /Users/antonio/Documents/Unreal Projects/MyProject/Content/StarterContent/Materials/M_Metal_Steel.uasset. The FileType.UNK file type is not supported in partition.\n",
      "File: /Users/antonio/Documents/Unreal Projects/MyProject/Content/StarterContent/Materials/M_Metal_Copper.uasset\n",
      "***Error: Invalid file /Users/antonio/Documents/Unreal Projects/MyProject/Content/StarterContent/Materials/M_Metal_Copper.uasset. The FileType.UNK file type is not supported in partition.\n",
      "File: /Users/antonio/Documents/Unreal Projects/MyProject/Content/StarterContent/Materials/M_Metal_Burnished_Steel.uasset\n",
      "***Error: Invalid file /Users/antonio/Documents/Unreal Projects/MyProject/Content/StarterContent/Materials/M_Metal_Burnished_Steel.uasset. The FileType.UNK file type is not supported in partition.\n",
      "File: /Users/antonio/Documents/Unreal Projects/MyProject/Content/StarterContent/Materials/M_Tech_Hex_Tile_Pulse.uasset\n",
      "***Error: Invalid file /Users/antonio/Documents/Unreal Projects/MyProject/Content/StarterContent/Materials/M_Tech_Hex_Tile_Pulse.uasset. The FileType.UNK file type is not supported in partition.\n",
      "File: /Users/antonio/Documents/Unreal Projects/MyProject/Content/StarterContent/Materials/M_Brick_Hewn_Stone.uasset\n",
      "***Error: Invalid file /Users/antonio/Documents/Unreal Projects/MyProject/Content/StarterContent/Materials/M_Brick_Hewn_Stone.uasset. The FileType.UNK file type is not supported in partition.\n",
      "File: /Users/antonio/Documents/Unreal Projects/MyProject/Content/StarterContent/Materials/M_ColorGrid_LowSpec.uasset\n",
      "***Error: Invalid file /Users/antonio/Documents/Unreal Projects/MyProject/Content/StarterContent/Materials/M_ColorGrid_LowSpec.uasset. The FileType.UNK file type is not supported in partition.\n",
      "File: /Users/antonio/Documents/Unreal Projects/MyProject/Content/StarterContent/Materials/M_Wood_Walnut.uasset\n",
      "***Error: Invalid file /Users/antonio/Documents/Unreal Projects/MyProject/Content/StarterContent/Materials/M_Wood_Walnut.uasset. The FileType.UNK file type is not supported in partition.\n",
      "File: /Users/antonio/Documents/Unreal Projects/MyProject/Content/StarterContent/Materials/M_Ceramic_Tile_Checker.uasset\n",
      "***Error: Invalid file /Users/antonio/Documents/Unreal Projects/MyProject/Content/StarterContent/Materials/M_Ceramic_Tile_Checker.uasset. The FileType.UNK file type is not supported in partition.\n",
      "File: /Users/antonio/Documents/Unreal Projects/MyProject/Content/StarterContent/Materials/M_Concrete_Grime.uasset\n",
      "***Error: Invalid file /Users/antonio/Documents/Unreal Projects/MyProject/Content/StarterContent/Materials/M_Concrete_Grime.uasset. The FileType.UNK file type is not supported in partition.\n",
      "File: /Users/antonio/Documents/Unreal Projects/MyProject/Content/StarterContent/Materials/M_Basic_Floor.uasset\n",
      "***Error: Invalid file /Users/antonio/Documents/Unreal Projects/MyProject/Content/StarterContent/Materials/M_Basic_Floor.uasset. The FileType.UNK file type is not supported in partition.\n",
      "File: /Users/antonio/Documents/Unreal Projects/MyProject/Content/StarterContent/Materials/M_Ground_Gravel.uasset\n",
      "***Error: Invalid file /Users/antonio/Documents/Unreal Projects/MyProject/Content/StarterContent/Materials/M_Ground_Gravel.uasset. The FileType.UNK file type is not supported in partition.\n"
     ]
    },
    {
     "name": "stdout",
     "output_type": "stream",
     "text": [
      "File: /Users/antonio/Documents/Unreal Projects/MyProject/Content/StarterContent/Materials/M_Concrete_Tiles.uasset\n",
      "***Error: Invalid file /Users/antonio/Documents/Unreal Projects/MyProject/Content/StarterContent/Materials/M_Concrete_Tiles.uasset. The FileType.UNK file type is not supported in partition.\n",
      "File: /Users/antonio/Documents/Unreal Projects/MyProject/Content/StarterContent/Materials/M_Tech_Checker_Dot.uasset\n",
      "***Error: Invalid file /Users/antonio/Documents/Unreal Projects/MyProject/Content/StarterContent/Materials/M_Tech_Checker_Dot.uasset. The FileType.UNK file type is not supported in partition.\n",
      "File: /Users/antonio/Documents/Unreal Projects/MyProject/Content/StarterContent/Materials/M_Rock_Sandstone.uasset\n",
      "***Error: Invalid file /Users/antonio/Documents/Unreal Projects/MyProject/Content/StarterContent/Materials/M_Rock_Sandstone.uasset. The FileType.UNK file type is not supported in partition.\n",
      "File: /Users/antonio/Documents/Unreal Projects/MyProject/Content/StarterContent/Materials/M_Ground_Moss.uasset\n",
      "***Error: Invalid file /Users/antonio/Documents/Unreal Projects/MyProject/Content/StarterContent/Materials/M_Ground_Moss.uasset. The FileType.UNK file type is not supported in partition.\n",
      "File: /Users/antonio/Documents/Unreal Projects/MyProject/Content/StarterContent/Materials/M_Metal_Chrome.uasset\n",
      "***Error: Invalid file /Users/antonio/Documents/Unreal Projects/MyProject/Content/StarterContent/Materials/M_Metal_Chrome.uasset. The FileType.UNK file type is not supported in partition.\n",
      "File: /Users/antonio/Documents/Unreal Projects/MyProject/Content/StarterContent/Materials/M_CobbleStone_Pebble.uasset\n",
      "***Error: Invalid file /Users/antonio/Documents/Unreal Projects/MyProject/Content/StarterContent/Materials/M_CobbleStone_Pebble.uasset. The FileType.UNK file type is not supported in partition.\n",
      "File: /Users/antonio/Documents/Unreal Projects/MyProject/Content/StarterContent/Materials/M_Tech_Hex_Tile.uasset\n",
      "***Error: Invalid file /Users/antonio/Documents/Unreal Projects/MyProject/Content/StarterContent/Materials/M_Tech_Hex_Tile.uasset. The FileType.UNK file type is not supported in partition.\n",
      "File: /Users/antonio/Documents/Unreal Projects/MyProject/Content/StarterContent/Blueprints/Blueprint_Effect_Smoke.uasset\n",
      "***Error: Invalid file /Users/antonio/Documents/Unreal Projects/MyProject/Content/StarterContent/Blueprints/Blueprint_Effect_Smoke.uasset. The FileType.UNK file type is not supported in partition.\n",
      "File: /Users/antonio/Documents/Unreal Projects/MyProject/Content/StarterContent/Blueprints/Blueprint_Effect_Explosion.uasset\n",
      "***Error: Invalid file /Users/antonio/Documents/Unreal Projects/MyProject/Content/StarterContent/Blueprints/Blueprint_Effect_Explosion.uasset. The FileType.UNK file type is not supported in partition.\n",
      "File: /Users/antonio/Documents/Unreal Projects/MyProject/Content/StarterContent/Blueprints/BP_LightStudio.uasset\n",
      "***Error: Invalid file /Users/antonio/Documents/Unreal Projects/MyProject/Content/StarterContent/Blueprints/BP_LightStudio.uasset. The FileType.UNK file type is not supported in partition.\n",
      "File: /Users/antonio/Documents/Unreal Projects/MyProject/Content/StarterContent/Blueprints/Blueprint_WallSconce.uasset\n",
      "***Error: Invalid file /Users/antonio/Documents/Unreal Projects/MyProject/Content/StarterContent/Blueprints/Blueprint_WallSconce.uasset. The FileType.UNK file type is not supported in partition.\n",
      "File: /Users/antonio/Documents/Unreal Projects/MyProject/Content/StarterContent/Blueprints/Blueprint_Effect_Steam.uasset\n",
      "***Error: Invalid file /Users/antonio/Documents/Unreal Projects/MyProject/Content/StarterContent/Blueprints/Blueprint_Effect_Steam.uasset. The FileType.UNK file type is not supported in partition.\n",
      "File: /Users/antonio/Documents/Unreal Projects/MyProject/Content/StarterContent/Blueprints/Blueprint_CeilingLight.uasset\n",
      "***Error: Invalid file /Users/antonio/Documents/Unreal Projects/MyProject/Content/StarterContent/Blueprints/Blueprint_CeilingLight.uasset. The FileType.UNK file type is not supported in partition.\n",
      "File: /Users/antonio/Documents/Unreal Projects/MyProject/Content/StarterContent/Blueprints/Blueprint_Effect_Fire.uasset\n",
      "***Error: Invalid file /Users/antonio/Documents/Unreal Projects/MyProject/Content/StarterContent/Blueprints/Blueprint_Effect_Fire.uasset. The FileType.UNK file type is not supported in partition.\n",
      "File: /Users/antonio/Documents/Unreal Projects/MyProject/Content/StarterContent/Blueprints/Blueprint_Effect_Sparks.uasset\n",
      "***Error: Invalid file /Users/antonio/Documents/Unreal Projects/MyProject/Content/StarterContent/Blueprints/Blueprint_Effect_Sparks.uasset. The FileType.UNK file type is not supported in partition.\n",
      "File: /Users/antonio/Documents/Unreal Projects/MyProject/Content/StarterContent/Blueprints/Assets/M_LightStage_Arrows.uasset\n",
      "***Error: Invalid file /Users/antonio/Documents/Unreal Projects/MyProject/Content/StarterContent/Blueprints/Assets/M_LightStage_Arrows.uasset. The FileType.UNK file type is not supported in partition.\n",
      "File: /Users/antonio/Documents/Unreal Projects/MyProject/Content/StarterContent/Blueprints/Assets/SM_Arrows.uasset\n",
      "***Error: Invalid file /Users/antonio/Documents/Unreal Projects/MyProject/Content/StarterContent/Blueprints/Assets/SM_Arrows.uasset. The FileType.UNK file type is not supported in partition.\n",
      "File: /Users/antonio/Documents/Unreal Projects/MyProject/Content/StarterContent/Blueprints/Assets/M_LightStage_Skybox_Black.uasset\n",
      "***Error: Invalid file /Users/antonio/Documents/Unreal Projects/MyProject/Content/StarterContent/Blueprints/Assets/M_LightStage_Skybox_Black.uasset. The FileType.UNK file type is not supported in partition.\n",
      "File: /Users/antonio/Documents/Unreal Projects/MyProject/Content/StarterContent/Blueprints/Assets/M_LightStage_Skybox_HDRI.uasset\n",
      "***Error: Invalid file /Users/antonio/Documents/Unreal Projects/MyProject/Content/StarterContent/Blueprints/Assets/M_LightStage_Skybox_HDRI.uasset. The FileType.UNK file type is not supported in partition.\n",
      "File: /Users/antonio/Documents/Unreal Projects/MyProject/Content/StarterContent/Blueprints/Assets/SunlightColorLUT.uasset\n",
      "***Error: Invalid file /Users/antonio/Documents/Unreal Projects/MyProject/Content/StarterContent/Blueprints/Assets/SunlightColorLUT.uasset. The FileType.UNK file type is not supported in partition.\n",
      "File: /Users/antonio/Documents/Unreal Projects/MyProject/Content/StarterContent/Blueprints/Assets/FogBrightnessLUT.uasset\n",
      "***Error: Invalid file /Users/antonio/Documents/Unreal Projects/MyProject/Content/StarterContent/Blueprints/Assets/FogBrightnessLUT.uasset. The FileType.UNK file type is not supported in partition.\n",
      "File: /Users/antonio/Documents/Unreal Projects/MyProject/Content/StarterContent/Blueprints/Assets/M_LightStage_Skybox_Master.uasset\n",
      "***Error: Invalid file /Users/antonio/Documents/Unreal Projects/MyProject/Content/StarterContent/Blueprints/Assets/M_LightStage_Skybox_Master.uasset. The FileType.UNK file type is not supported in partition.\n",
      "File: /Users/antonio/Documents/Unreal Projects/MyProject/Content/StarterContent/Blueprints/Assets/Skybox.uasset\n",
      "***Error: Invalid file /Users/antonio/Documents/Unreal Projects/MyProject/Content/StarterContent/Blueprints/Assets/Skybox.uasset. The FileType.UNK file type is not supported in partition.\n",
      "File: /Users/antonio/Documents/Unreal Projects/MyProject/Content/StarterContent/Props/SM_PillarFrame.uasset\n",
      "***Error: Invalid file /Users/antonio/Documents/Unreal Projects/MyProject/Content/StarterContent/Props/SM_PillarFrame.uasset. The FileType.UNK file type is not supported in partition.\n",
      "File: /Users/antonio/Documents/Unreal Projects/MyProject/Content/StarterContent/Props/MaterialSphere.uasset\n",
      "***Error: Invalid file /Users/antonio/Documents/Unreal Projects/MyProject/Content/StarterContent/Props/MaterialSphere.uasset. The FileType.UNK file type is not supported in partition.\n",
      "File: /Users/antonio/Documents/Unreal Projects/MyProject/Content/StarterContent/Props/SM_CornerFrame.uasset\n",
      "***Error: Invalid file /Users/antonio/Documents/Unreal Projects/MyProject/Content/StarterContent/Props/SM_CornerFrame.uasset. The FileType.UNK file type is not supported in partition.\n",
      "File: /Users/antonio/Documents/Unreal Projects/MyProject/Content/StarterContent/Props/SM_TableRound.uasset\n",
      "***Error: Invalid file /Users/antonio/Documents/Unreal Projects/MyProject/Content/StarterContent/Props/SM_TableRound.uasset. The FileType.UNK file type is not supported in partition.\n",
      "File: /Users/antonio/Documents/Unreal Projects/MyProject/Content/StarterContent/Props/SM_Door.uasset\n"
     ]
    },
    {
     "name": "stdout",
     "output_type": "stream",
     "text": [
      "***Error: Invalid file /Users/antonio/Documents/Unreal Projects/MyProject/Content/StarterContent/Props/SM_Door.uasset. The FileType.UNK file type is not supported in partition.\n",
      "File: /Users/antonio/Documents/Unreal Projects/MyProject/Content/StarterContent/Props/SM_Chair.uasset\n",
      "***Error: Invalid file /Users/antonio/Documents/Unreal Projects/MyProject/Content/StarterContent/Props/SM_Chair.uasset. The FileType.UNK file type is not supported in partition.\n",
      "File: /Users/antonio/Documents/Unreal Projects/MyProject/Content/StarterContent/Props/SM_MatPreviewMesh_02.uasset\n",
      "***Error: Invalid file /Users/antonio/Documents/Unreal Projects/MyProject/Content/StarterContent/Props/SM_MatPreviewMesh_02.uasset. The FileType.UNK file type is not supported in partition.\n",
      "File: /Users/antonio/Documents/Unreal Projects/MyProject/Content/StarterContent/Props/SM_Couch.uasset\n",
      "***Error: Invalid file /Users/antonio/Documents/Unreal Projects/MyProject/Content/StarterContent/Props/SM_Couch.uasset. The FileType.UNK file type is not supported in partition.\n",
      "File: /Users/antonio/Documents/Unreal Projects/MyProject/Content/StarterContent/Props/SM_GlassWindow.uasset\n",
      "***Error: Invalid file /Users/antonio/Documents/Unreal Projects/MyProject/Content/StarterContent/Props/SM_GlassWindow.uasset. The FileType.UNK file type is not supported in partition.\n",
      "File: /Users/antonio/Documents/Unreal Projects/MyProject/Content/StarterContent/Props/SM_Shelf.uasset\n",
      "***Error: Invalid file /Users/antonio/Documents/Unreal Projects/MyProject/Content/StarterContent/Props/SM_Shelf.uasset. The FileType.UNK file type is not supported in partition.\n",
      "File: /Users/antonio/Documents/Unreal Projects/MyProject/Content/StarterContent/Props/SM_Rock.uasset\n",
      "***Error: Invalid file /Users/antonio/Documents/Unreal Projects/MyProject/Content/StarterContent/Props/SM_Rock.uasset. The FileType.UNK file type is not supported in partition.\n",
      "File: /Users/antonio/Documents/Unreal Projects/MyProject/Content/StarterContent/Props/SM_DoorFrame.uasset\n",
      "***Error: Invalid file /Users/antonio/Documents/Unreal Projects/MyProject/Content/StarterContent/Props/SM_DoorFrame.uasset. The FileType.UNK file type is not supported in partition.\n",
      "File: /Users/antonio/Documents/Unreal Projects/MyProject/Content/StarterContent/Props/SM_Statue.uasset\n",
      "***Error: Invalid file /Users/antonio/Documents/Unreal Projects/MyProject/Content/StarterContent/Props/SM_Statue.uasset. The FileType.UNK file type is not supported in partition.\n",
      "File: /Users/antonio/Documents/Unreal Projects/MyProject/Content/StarterContent/Props/SM_PillarFrame300.uasset\n",
      "***Error: Invalid file /Users/antonio/Documents/Unreal Projects/MyProject/Content/StarterContent/Props/SM_PillarFrame300.uasset. The FileType.UNK file type is not supported in partition.\n",
      "File: /Users/antonio/Documents/Unreal Projects/MyProject/Content/StarterContent/Props/SM_Lamp_Ceiling.uasset\n",
      "***Error: Invalid file /Users/antonio/Documents/Unreal Projects/MyProject/Content/StarterContent/Props/SM_Lamp_Ceiling.uasset. The FileType.UNK file type is not supported in partition.\n",
      "File: /Users/antonio/Documents/Unreal Projects/MyProject/Content/StarterContent/Props/SM_Stairs.uasset\n",
      "***Error: Invalid file /Users/antonio/Documents/Unreal Projects/MyProject/Content/StarterContent/Props/SM_Stairs.uasset. The FileType.UNK file type is not supported in partition.\n",
      "File: /Users/antonio/Documents/Unreal Projects/MyProject/Content/StarterContent/Props/SM_WindowFrame.uasset\n",
      "***Error: Invalid file /Users/antonio/Documents/Unreal Projects/MyProject/Content/StarterContent/Props/SM_WindowFrame.uasset. The FileType.UNK file type is not supported in partition.\n",
      "File: /Users/antonio/Documents/Unreal Projects/MyProject/Content/StarterContent/Props/SM_Bush.uasset\n",
      "***Error: Invalid file /Users/antonio/Documents/Unreal Projects/MyProject/Content/StarterContent/Props/SM_Bush.uasset. The FileType.UNK file type is not supported in partition.\n",
      "File: /Users/antonio/Documents/Unreal Projects/MyProject/Content/StarterContent/Props/SM_Lamp_Wall.uasset\n",
      "***Error: Invalid file /Users/antonio/Documents/Unreal Projects/MyProject/Content/StarterContent/Props/SM_Lamp_Wall.uasset. The FileType.UNK file type is not supported in partition.\n",
      "File: /Users/antonio/Documents/Unreal Projects/MyProject/Content/StarterContent/Props/Materials/M_TableRound.uasset\n",
      "***Error: Invalid file /Users/antonio/Documents/Unreal Projects/MyProject/Content/StarterContent/Props/Materials/M_TableRound.uasset. The FileType.UNK file type is not supported in partition.\n",
      "File: /Users/antonio/Documents/Unreal Projects/MyProject/Content/StarterContent/Props/Materials/M_Rock.uasset\n",
      "***Error: Invalid file /Users/antonio/Documents/Unreal Projects/MyProject/Content/StarterContent/Props/Materials/M_Rock.uasset. The FileType.UNK file type is not supported in partition.\n",
      "File: /Users/antonio/Documents/Unreal Projects/MyProject/Content/StarterContent/Props/Materials/M_Chair.uasset\n",
      "***Error: Invalid file /Users/antonio/Documents/Unreal Projects/MyProject/Content/StarterContent/Props/Materials/M_Chair.uasset. The FileType.UNK file type is not supported in partition.\n",
      "File: /Users/antonio/Documents/Unreal Projects/MyProject/Content/StarterContent/Props/Materials/M_StatueGlass.uasset\n",
      "***Error: Invalid file /Users/antonio/Documents/Unreal Projects/MyProject/Content/StarterContent/Props/Materials/M_StatueGlass.uasset. The FileType.UNK file type is not supported in partition.\n",
      "File: /Users/antonio/Documents/Unreal Projects/MyProject/Content/StarterContent/Props/Materials/M_Statue.uasset\n",
      "***Error: Invalid file /Users/antonio/Documents/Unreal Projects/MyProject/Content/StarterContent/Props/Materials/M_Statue.uasset. The FileType.UNK file type is not supported in partition.\n",
      "File: /Users/antonio/Documents/Unreal Projects/MyProject/Content/StarterContent/Props/Materials/M_MaterialSphere.uasset\n",
      "***Error: Invalid file /Users/antonio/Documents/Unreal Projects/MyProject/Content/StarterContent/Props/Materials/M_MaterialSphere.uasset. The FileType.UNK file type is not supported in partition.\n",
      "File: /Users/antonio/Documents/Unreal Projects/MyProject/Content/StarterContent/Props/Materials/M_Bush.uasset\n",
      "***Error: Invalid file /Users/antonio/Documents/Unreal Projects/MyProject/Content/StarterContent/Props/Materials/M_Bush.uasset. The FileType.UNK file type is not supported in partition.\n",
      "File: /Users/antonio/Documents/Unreal Projects/MyProject/Content/StarterContent/Props/Materials/M_MaterialSphere_Plain.uasset\n",
      "***Error: Invalid file /Users/antonio/Documents/Unreal Projects/MyProject/Content/StarterContent/Props/Materials/M_MaterialSphere_Plain.uasset. The FileType.UNK file type is not supported in partition.\n",
      "File: /Users/antonio/Documents/Unreal Projects/MyProject/Content/StarterContent/Props/Materials/M_Door.uasset\n",
      "***Error: Invalid file /Users/antonio/Documents/Unreal Projects/MyProject/Content/StarterContent/Props/Materials/M_Door.uasset. The FileType.UNK file type is not supported in partition.\n",
      "File: /Users/antonio/Documents/Unreal Projects/MyProject/Content/StarterContent/Props/Materials/M_Shelf.uasset\n",
      "***Error: Invalid file /Users/antonio/Documents/Unreal Projects/MyProject/Content/StarterContent/Props/Materials/M_Shelf.uasset. The FileType.UNK file type is not supported in partition.\n",
      "File: /Users/antonio/Documents/Unreal Projects/MyProject/Content/StarterContent/Props/Materials/M_Lamp.uasset\n",
      "***Error: Invalid file /Users/antonio/Documents/Unreal Projects/MyProject/Content/StarterContent/Props/Materials/M_Lamp.uasset. The FileType.UNK file type is not supported in partition.\n",
      "File: /Users/antonio/Documents/Unreal Projects/MyProject/Content/StarterContent/Props/Materials/M_Frame.uasset\n",
      "***Error: Invalid file /Users/antonio/Documents/Unreal Projects/MyProject/Content/StarterContent/Props/Materials/M_Frame.uasset. The FileType.UNK file type is not supported in partition.\n",
      "File: /Users/antonio/Documents/Unreal Projects/MyProject/Content/StarterContent/Shapes/Shape_Wedge_A.uasset\n",
      "***Error: Invalid file /Users/antonio/Documents/Unreal Projects/MyProject/Content/StarterContent/Shapes/Shape_Wedge_A.uasset. The FileType.UNK file type is not supported in partition.\n",
      "File: /Users/antonio/Documents/Unreal Projects/MyProject/Content/StarterContent/Shapes/Shape_WideCapsule.uasset\n",
      "***Error: Invalid file /Users/antonio/Documents/Unreal Projects/MyProject/Content/StarterContent/Shapes/Shape_WideCapsule.uasset. The FileType.UNK file type is not supported in partition.\n",
      "File: /Users/antonio/Documents/Unreal Projects/MyProject/Content/StarterContent/Shapes/Shape_Sphere.uasset\n",
      "***Error: Invalid file /Users/antonio/Documents/Unreal Projects/MyProject/Content/StarterContent/Shapes/Shape_Sphere.uasset. The FileType.UNK file type is not supported in partition.\n",
      "File: /Users/antonio/Documents/Unreal Projects/MyProject/Content/StarterContent/Shapes/Shape_Tube.uasset\n",
      "***Error: Invalid file /Users/antonio/Documents/Unreal Projects/MyProject/Content/StarterContent/Shapes/Shape_Tube.uasset. The FileType.UNK file type is not supported in partition.\n",
      "File: /Users/antonio/Documents/Unreal Projects/MyProject/Content/StarterContent/Shapes/Shape_Cylinder.uasset\n",
      "***Error: Invalid file /Users/antonio/Documents/Unreal Projects/MyProject/Content/StarterContent/Shapes/Shape_Cylinder.uasset. The FileType.UNK file type is not supported in partition.\n",
      "File: /Users/antonio/Documents/Unreal Projects/MyProject/Content/StarterContent/Shapes/Shape_TriPyramid.uasset\n",
      "***Error: Invalid file /Users/antonio/Documents/Unreal Projects/MyProject/Content/StarterContent/Shapes/Shape_TriPyramid.uasset. The FileType.UNK file type is not supported in partition.\n",
      "File: /Users/antonio/Documents/Unreal Projects/MyProject/Content/StarterContent/Shapes/Shape_Trim.uasset\n",
      "***Error: Invalid file /Users/antonio/Documents/Unreal Projects/MyProject/Content/StarterContent/Shapes/Shape_Trim.uasset. The FileType.UNK file type is not supported in partition.\n",
      "File: /Users/antonio/Documents/Unreal Projects/MyProject/Content/StarterContent/Shapes/Shape_Plane.uasset\n",
      "***Error: Invalid file /Users/antonio/Documents/Unreal Projects/MyProject/Content/StarterContent/Shapes/Shape_Plane.uasset. The FileType.UNK file type is not supported in partition.\n",
      "File: /Users/antonio/Documents/Unreal Projects/MyProject/Content/StarterContent/Shapes/Shape_Trim_90_Out.uasset\n",
      "***Error: Invalid file /Users/antonio/Documents/Unreal Projects/MyProject/Content/StarterContent/Shapes/Shape_Trim_90_Out.uasset. The FileType.UNK file type is not supported in partition.\n",
      "File: /Users/antonio/Documents/Unreal Projects/MyProject/Content/StarterContent/Shapes/Shape_Pipe_90.uasset\n",
      "***Error: Invalid file /Users/antonio/Documents/Unreal Projects/MyProject/Content/StarterContent/Shapes/Shape_Pipe_90.uasset. The FileType.UNK file type is not supported in partition.\n",
      "File: /Users/antonio/Documents/Unreal Projects/MyProject/Content/StarterContent/Shapes/Shape_Pipe_180.uasset\n",
      "***Error: Invalid file /Users/antonio/Documents/Unreal Projects/MyProject/Content/StarterContent/Shapes/Shape_Pipe_180.uasset. The FileType.UNK file type is not supported in partition.\n",
      "File: /Users/antonio/Documents/Unreal Projects/MyProject/Content/StarterContent/Shapes/Shape_Pipe.uasset\n",
      "***Error: Invalid file /Users/antonio/Documents/Unreal Projects/MyProject/Content/StarterContent/Shapes/Shape_Pipe.uasset. The FileType.UNK file type is not supported in partition.\n",
      "File: /Users/antonio/Documents/Unreal Projects/MyProject/Content/StarterContent/Shapes/Shape_Cube.uasset\n"
     ]
    },
    {
     "name": "stdout",
     "output_type": "stream",
     "text": [
      "***Error: Invalid file /Users/antonio/Documents/Unreal Projects/MyProject/Content/StarterContent/Shapes/Shape_Cube.uasset. The FileType.UNK file type is not supported in partition.\n",
      "File: /Users/antonio/Documents/Unreal Projects/MyProject/Content/StarterContent/Shapes/Shape_Cone.uasset\n",
      "***Error: Invalid file /Users/antonio/Documents/Unreal Projects/MyProject/Content/StarterContent/Shapes/Shape_Cone.uasset. The FileType.UNK file type is not supported in partition.\n",
      "File: /Users/antonio/Documents/Unreal Projects/MyProject/Content/StarterContent/Shapes/Shape_Wedge_B.uasset\n",
      "***Error: Invalid file /Users/antonio/Documents/Unreal Projects/MyProject/Content/StarterContent/Shapes/Shape_Wedge_B.uasset. The FileType.UNK file type is not supported in partition.\n",
      "File: /Users/antonio/Documents/Unreal Projects/MyProject/Content/StarterContent/Shapes/Shape_NarrowCapsule.uasset\n",
      "***Error: Invalid file /Users/antonio/Documents/Unreal Projects/MyProject/Content/StarterContent/Shapes/Shape_NarrowCapsule.uasset. The FileType.UNK file type is not supported in partition.\n",
      "File: /Users/antonio/Documents/Unreal Projects/MyProject/Content/StarterContent/Shapes/Shape_QuadPyramid.uasset\n",
      "***Error: Invalid file /Users/antonio/Documents/Unreal Projects/MyProject/Content/StarterContent/Shapes/Shape_QuadPyramid.uasset. The FileType.UNK file type is not supported in partition.\n",
      "File: /Users/antonio/Documents/Unreal Projects/MyProject/Content/StarterContent/Shapes/Shape_Trim_90_In.uasset\n",
      "***Error: Invalid file /Users/antonio/Documents/Unreal Projects/MyProject/Content/StarterContent/Shapes/Shape_Trim_90_In.uasset. The FileType.UNK file type is not supported in partition.\n",
      "File: /Users/antonio/Documents/Unreal Projects/MyProject/Content/StarterContent/Shapes/Shape_Torus.uasset\n",
      "***Error: Invalid file /Users/antonio/Documents/Unreal Projects/MyProject/Content/StarterContent/Shapes/Shape_Torus.uasset. The FileType.UNK file type is not supported in partition.\n",
      "File: /Users/antonio/Documents/Unreal Projects/MyProject/Content/StarterContent/Particles/P_Fire.uasset\n",
      "***Error: Invalid file /Users/antonio/Documents/Unreal Projects/MyProject/Content/StarterContent/Particles/P_Fire.uasset. The FileType.UNK file type is not supported in partition.\n",
      "File: /Users/antonio/Documents/Unreal Projects/MyProject/Content/StarterContent/Particles/P_Sparks.uasset\n",
      "***Error: Invalid file /Users/antonio/Documents/Unreal Projects/MyProject/Content/StarterContent/Particles/P_Sparks.uasset. The FileType.UNK file type is not supported in partition.\n",
      "File: /Users/antonio/Documents/Unreal Projects/MyProject/Content/StarterContent/Particles/P_Ambient_Dust.uasset\n",
      "***Error: Invalid file /Users/antonio/Documents/Unreal Projects/MyProject/Content/StarterContent/Particles/P_Ambient_Dust.uasset. The FileType.UNK file type is not supported in partition.\n",
      "File: /Users/antonio/Documents/Unreal Projects/MyProject/Content/StarterContent/Particles/P_Explosion.uasset\n",
      "***Error: Invalid file /Users/antonio/Documents/Unreal Projects/MyProject/Content/StarterContent/Particles/P_Explosion.uasset. The FileType.UNK file type is not supported in partition.\n",
      "File: /Users/antonio/Documents/Unreal Projects/MyProject/Content/StarterContent/Particles/P_Steam_Lit.uasset\n",
      "***Error: Invalid file /Users/antonio/Documents/Unreal Projects/MyProject/Content/StarterContent/Particles/P_Steam_Lit.uasset. The FileType.UNK file type is not supported in partition.\n",
      "File: /Users/antonio/Documents/Unreal Projects/MyProject/Content/StarterContent/Particles/P_Smoke.uasset\n",
      "***Error: Invalid file /Users/antonio/Documents/Unreal Projects/MyProject/Content/StarterContent/Particles/P_Smoke.uasset. The FileType.UNK file type is not supported in partition.\n",
      "File: /Users/antonio/Documents/Unreal Projects/MyProject/Content/StarterContent/Particles/Materials/M_Heat_Distortion.uasset\n",
      "***Error: Invalid file /Users/antonio/Documents/Unreal Projects/MyProject/Content/StarterContent/Particles/Materials/M_Heat_Distortion.uasset. The FileType.UNK file type is not supported in partition.\n",
      "File: /Users/antonio/Documents/Unreal Projects/MyProject/Content/StarterContent/Particles/Materials/M_smoke_subUV.uasset\n",
      "***Error: Invalid file /Users/antonio/Documents/Unreal Projects/MyProject/Content/StarterContent/Particles/Materials/M_smoke_subUV.uasset. The FileType.UNK file type is not supported in partition.\n",
      "File: /Users/antonio/Documents/Unreal Projects/MyProject/Content/StarterContent/Particles/Materials/M_Dust_Particle.uasset\n",
      "***Error: Invalid file /Users/antonio/Documents/Unreal Projects/MyProject/Content/StarterContent/Particles/Materials/M_Dust_Particle.uasset. The FileType.UNK file type is not supported in partition.\n",
      "File: /Users/antonio/Documents/Unreal Projects/MyProject/Content/StarterContent/Particles/Materials/M_Fire_SubUV.uasset\n",
      "***Error: Invalid file /Users/antonio/Documents/Unreal Projects/MyProject/Content/StarterContent/Particles/Materials/M_Fire_SubUV.uasset. The FileType.UNK file type is not supported in partition.\n",
      "File: /Users/antonio/Documents/Unreal Projects/MyProject/Content/StarterContent/Particles/Materials/M_Radial_Gradient.uasset\n",
      "***Error: Invalid file /Users/antonio/Documents/Unreal Projects/MyProject/Content/StarterContent/Particles/Materials/M_Radial_Gradient.uasset. The FileType.UNK file type is not supported in partition.\n",
      "File: /Users/antonio/Documents/Unreal Projects/MyProject/Content/StarterContent/Particles/Materials/M_radial_ramp.uasset\n",
      "***Error: Invalid file /Users/antonio/Documents/Unreal Projects/MyProject/Content/StarterContent/Particles/Materials/M_radial_ramp.uasset. The FileType.UNK file type is not supported in partition.\n",
      "File: /Users/antonio/Documents/Unreal Projects/MyProject/Content/StarterContent/Particles/Materials/m_flare_01.uasset\n",
      "***Error: Invalid file /Users/antonio/Documents/Unreal Projects/MyProject/Content/StarterContent/Particles/Materials/m_flare_01.uasset. The FileType.UNK file type is not supported in partition.\n",
      "File: /Users/antonio/Documents/Unreal Projects/MyProject/Content/StarterContent/Particles/Materials/M_explosion_subUV.uasset\n",
      "***Error: Invalid file /Users/antonio/Documents/Unreal Projects/MyProject/Content/StarterContent/Particles/Materials/M_explosion_subUV.uasset. The FileType.UNK file type is not supported in partition.\n",
      "File: /Users/antonio/Documents/Unreal Projects/MyProject/Content/StarterContent/Particles/Materials/M_Spark.uasset\n",
      "***Error: Invalid file /Users/antonio/Documents/Unreal Projects/MyProject/Content/StarterContent/Particles/Materials/M_Spark.uasset. The FileType.UNK file type is not supported in partition.\n",
      "File: /Users/antonio/Documents/Unreal Projects/MyProject/Content/StarterContent/Particles/Materials/M_Burst.uasset\n",
      "***Error: Invalid file /Users/antonio/Documents/Unreal Projects/MyProject/Content/StarterContent/Particles/Materials/M_Burst.uasset. The FileType.UNK file type is not supported in partition.\n",
      "File: /Users/antonio/Documents/Unreal Projects/MyProject/Content/StarterContent/Architecture/Wall_Door_400x400.uasset\n",
      "***Error: Invalid file /Users/antonio/Documents/Unreal Projects/MyProject/Content/StarterContent/Architecture/Wall_Door_400x400.uasset. The FileType.UNK file type is not supported in partition.\n",
      "File: /Users/antonio/Documents/Unreal Projects/MyProject/Content/StarterContent/Architecture/Wall_400x400.uasset\n",
      "***Error: Invalid file /Users/antonio/Documents/Unreal Projects/MyProject/Content/StarterContent/Architecture/Wall_400x400.uasset. The FileType.UNK file type is not supported in partition.\n",
      "File: /Users/antonio/Documents/Unreal Projects/MyProject/Content/StarterContent/Architecture/Wall_500x500.uasset\n",
      "***Error: Invalid file /Users/antonio/Documents/Unreal Projects/MyProject/Content/StarterContent/Architecture/Wall_500x500.uasset. The FileType.UNK file type is not supported in partition.\n",
      "File: /Users/antonio/Documents/Unreal Projects/MyProject/Content/StarterContent/Architecture/SM_AssetPlatform.uasset\n",
      "***Error: Invalid file /Users/antonio/Documents/Unreal Projects/MyProject/Content/StarterContent/Architecture/SM_AssetPlatform.uasset. The FileType.UNK file type is not supported in partition.\n",
      "File: /Users/antonio/Documents/Unreal Projects/MyProject/Content/StarterContent/Architecture/Pillar_50x500.uasset\n",
      "***Error: Invalid file /Users/antonio/Documents/Unreal Projects/MyProject/Content/StarterContent/Architecture/Pillar_50x500.uasset. The FileType.UNK file type is not supported in partition.\n",
      "File: /Users/antonio/Documents/Unreal Projects/MyProject/Content/StarterContent/Architecture/Wall_Door_400x300.uasset\n",
      "***Error: Invalid file /Users/antonio/Documents/Unreal Projects/MyProject/Content/StarterContent/Architecture/Wall_Door_400x300.uasset. The FileType.UNK file type is not supported in partition.\n",
      "File: /Users/antonio/Documents/Unreal Projects/MyProject/Content/StarterContent/Architecture/Wall_400x200.uasset\n",
      "***Error: Invalid file /Users/antonio/Documents/Unreal Projects/MyProject/Content/StarterContent/Architecture/Wall_400x200.uasset. The FileType.UNK file type is not supported in partition.\n",
      "File: /Users/antonio/Documents/Unreal Projects/MyProject/Content/StarterContent/Architecture/Wall_400x300.uasset\n",
      "***Error: Invalid file /Users/antonio/Documents/Unreal Projects/MyProject/Content/StarterContent/Architecture/Wall_400x300.uasset. The FileType.UNK file type is not supported in partition.\n",
      "File: /Users/antonio/Documents/Unreal Projects/MyProject/Content/StarterContent/Architecture/Wall_Window_400x400.uasset\n",
      "***Error: Invalid file /Users/antonio/Documents/Unreal Projects/MyProject/Content/StarterContent/Architecture/Wall_Window_400x400.uasset. The FileType.UNK file type is not supported in partition.\n",
      "File: /Users/antonio/Documents/Unreal Projects/MyProject/Content/StarterContent/Architecture/Floor_400x400.uasset\n",
      "***Error: Invalid file /Users/antonio/Documents/Unreal Projects/MyProject/Content/StarterContent/Architecture/Floor_400x400.uasset. The FileType.UNK file type is not supported in partition.\n",
      "File: /Users/antonio/Documents/Unreal Projects/MyProject/Content/StarterContent/Architecture/Wall_Window_400x300.uasset\n",
      "***Error: Invalid file /Users/antonio/Documents/Unreal Projects/MyProject/Content/StarterContent/Architecture/Wall_Window_400x300.uasset. The FileType.UNK file type is not supported in partition.\n",
      "File: /Users/antonio/Documents/Unreal Projects/MyProject/Content/StarterContent/Audio/Explosion02.uasset\n",
      "***Error: Invalid file /Users/antonio/Documents/Unreal Projects/MyProject/Content/StarterContent/Audio/Explosion02.uasset. The FileType.UNK file type is not supported in partition.\n",
      "File: /Users/antonio/Documents/Unreal Projects/MyProject/Content/StarterContent/Audio/Explosion_Cue.uasset\n",
      "***Error: Invalid file /Users/antonio/Documents/Unreal Projects/MyProject/Content/StarterContent/Audio/Explosion_Cue.uasset. The FileType.UNK file type is not supported in partition.\n",
      "File: /Users/antonio/Documents/Unreal Projects/MyProject/Content/StarterContent/Audio/Starter_Wind06.uasset\n",
      "***Error: Invalid file /Users/antonio/Documents/Unreal Projects/MyProject/Content/StarterContent/Audio/Starter_Wind06.uasset. The FileType.UNK file type is not supported in partition.\n",
      "File: /Users/antonio/Documents/Unreal Projects/MyProject/Content/StarterContent/Audio/Starter_Birds01.uasset\n",
      "***Error: Invalid file /Users/antonio/Documents/Unreal Projects/MyProject/Content/StarterContent/Audio/Starter_Birds01.uasset. The FileType.UNK file type is not supported in partition.\n",
      "File: /Users/antonio/Documents/Unreal Projects/MyProject/Content/StarterContent/Audio/Collapse_Cue.uasset\n",
      "***Error: Invalid file /Users/antonio/Documents/Unreal Projects/MyProject/Content/StarterContent/Audio/Collapse_Cue.uasset. The FileType.UNK file type is not supported in partition.\n",
      "File: /Users/antonio/Documents/Unreal Projects/MyProject/Content/StarterContent/Audio/Fire_Sparks01.uasset\n",
      "***Error: Invalid file /Users/antonio/Documents/Unreal Projects/MyProject/Content/StarterContent/Audio/Fire_Sparks01.uasset. The FileType.UNK file type is not supported in partition.\n",
      "File: /Users/antonio/Documents/Unreal Projects/MyProject/Content/StarterContent/Audio/Smoke01.uasset\n",
      "***Error: Invalid file /Users/antonio/Documents/Unreal Projects/MyProject/Content/StarterContent/Audio/Smoke01.uasset. The FileType.UNK file type is not supported in partition.\n",
      "File: /Users/antonio/Documents/Unreal Projects/MyProject/Content/StarterContent/Audio/Collapse01.uasset\n",
      "***Error: Invalid file /Users/antonio/Documents/Unreal Projects/MyProject/Content/StarterContent/Audio/Collapse01.uasset. The FileType.UNK file type is not supported in partition.\n"
     ]
    },
    {
     "name": "stdout",
     "output_type": "stream",
     "text": [
      "File: /Users/antonio/Documents/Unreal Projects/MyProject/Content/StarterContent/Audio/Starter_Background_Cue.uasset\n",
      "***Error: Invalid file /Users/antonio/Documents/Unreal Projects/MyProject/Content/StarterContent/Audio/Starter_Background_Cue.uasset. The FileType.UNK file type is not supported in partition.\n",
      "File: /Users/antonio/Documents/Unreal Projects/MyProject/Content/StarterContent/Audio/Light02.uasset\n",
      "***Error: Invalid file /Users/antonio/Documents/Unreal Projects/MyProject/Content/StarterContent/Audio/Light02.uasset. The FileType.UNK file type is not supported in partition.\n",
      "File: /Users/antonio/Documents/Unreal Projects/MyProject/Content/StarterContent/Audio/Light02_Cue.uasset\n",
      "***Error: Invalid file /Users/antonio/Documents/Unreal Projects/MyProject/Content/StarterContent/Audio/Light02_Cue.uasset. The FileType.UNK file type is not supported in partition.\n",
      "File: /Users/antonio/Documents/Unreal Projects/MyProject/Content/StarterContent/Audio/Smoke01_Cue.uasset\n",
      "***Error: Invalid file /Users/antonio/Documents/Unreal Projects/MyProject/Content/StarterContent/Audio/Smoke01_Cue.uasset. The FileType.UNK file type is not supported in partition.\n",
      "File: /Users/antonio/Documents/Unreal Projects/MyProject/Content/StarterContent/Audio/Fire_Sparks01_Cue.uasset\n",
      "***Error: Invalid file /Users/antonio/Documents/Unreal Projects/MyProject/Content/StarterContent/Audio/Fire_Sparks01_Cue.uasset. The FileType.UNK file type is not supported in partition.\n",
      "File: /Users/antonio/Documents/Unreal Projects/MyProject/Content/StarterContent/Audio/Fire01.uasset\n",
      "***Error: Invalid file /Users/antonio/Documents/Unreal Projects/MyProject/Content/StarterContent/Audio/Fire01.uasset. The FileType.UNK file type is not supported in partition.\n",
      "File: /Users/antonio/Documents/Unreal Projects/MyProject/Content/StarterContent/Audio/Fire01_Cue.uasset\n",
      "***Error: Invalid file /Users/antonio/Documents/Unreal Projects/MyProject/Content/StarterContent/Audio/Fire01_Cue.uasset. The FileType.UNK file type is not supported in partition.\n",
      "File: /Users/antonio/Documents/Unreal Projects/MyProject/Content/StarterContent/Audio/Light01_Cue.uasset\n",
      "***Error: Invalid file /Users/antonio/Documents/Unreal Projects/MyProject/Content/StarterContent/Audio/Light01_Cue.uasset. The FileType.UNK file type is not supported in partition.\n",
      "File: /Users/antonio/Documents/Unreal Projects/MyProject/Content/StarterContent/Audio/Steam01_Cue.uasset\n",
      "***Error: Invalid file /Users/antonio/Documents/Unreal Projects/MyProject/Content/StarterContent/Audio/Steam01_Cue.uasset. The FileType.UNK file type is not supported in partition.\n",
      "File: /Users/antonio/Documents/Unreal Projects/MyProject/Content/StarterContent/Audio/Starter_Wind05.uasset\n",
      "***Error: Invalid file /Users/antonio/Documents/Unreal Projects/MyProject/Content/StarterContent/Audio/Starter_Wind05.uasset. The FileType.UNK file type is not supported in partition.\n",
      "File: /Users/antonio/Documents/Unreal Projects/MyProject/Content/StarterContent/Audio/Steam01.uasset\n",
      "***Error: Invalid file /Users/antonio/Documents/Unreal Projects/MyProject/Content/StarterContent/Audio/Steam01.uasset. The FileType.UNK file type is not supported in partition.\n",
      "File: /Users/antonio/Documents/Unreal Projects/MyProject/Content/StarterContent/Audio/Starter_Music01.uasset\n",
      "***Error: Invalid file /Users/antonio/Documents/Unreal Projects/MyProject/Content/StarterContent/Audio/Starter_Music01.uasset. The FileType.UNK file type is not supported in partition.\n",
      "File: /Users/antonio/Documents/Unreal Projects/MyProject/Content/StarterContent/Audio/Explosion01.uasset\n",
      "***Error: Invalid file /Users/antonio/Documents/Unreal Projects/MyProject/Content/StarterContent/Audio/Explosion01.uasset. The FileType.UNK file type is not supported in partition.\n",
      "File: /Users/antonio/Documents/Unreal Projects/MyProject/Content/StarterContent/Audio/Light01.uasset\n",
      "***Error: Invalid file /Users/antonio/Documents/Unreal Projects/MyProject/Content/StarterContent/Audio/Light01.uasset. The FileType.UNK file type is not supported in partition.\n",
      "File: /Users/antonio/Documents/Unreal Projects/MyProject/Content/StarterContent/Audio/Collapse02.uasset\n",
      "***Error: Invalid file /Users/antonio/Documents/Unreal Projects/MyProject/Content/StarterContent/Audio/Collapse02.uasset. The FileType.UNK file type is not supported in partition.\n",
      "File: /Users/antonio/Documents/Unreal Projects/MyProject/Content/StarterContent/Audio/Starter_Music_Cue.uasset\n",
      "***Error: Invalid file /Users/antonio/Documents/Unreal Projects/MyProject/Content/StarterContent/Audio/Starter_Music_Cue.uasset. The FileType.UNK file type is not supported in partition.\n",
      "File: /Users/antonio/Documents/Unreal Projects/MyProject/Content/Developers/.DS_Store\n",
      "File: /Users/antonio/Documents/Unreal Projects/MyProject/Content/Developers/antonio/.DS_Store\n",
      "File: /Users/antonio/Documents/Unreal Projects/MyProject/Intermediate/CachedAssetRegistry.bin\n",
      "***Error: Invalid file /Users/antonio/Documents/Unreal Projects/MyProject/Intermediate/CachedAssetRegistry.bin. The FileType.UNK file type is not supported in partition.\n",
      "File: /Users/antonio/Documents/Unreal Projects/MyProject/Intermediate/ReimportCache/3688439234.bin\n",
      "***Error: Invalid file /Users/antonio/Documents/Unreal Projects/MyProject/Intermediate/ReimportCache/3688439234.bin. The FileType.UNK file type is not supported in partition.\n",
      "File: /Users/antonio/Documents/Unreal Projects/MyProject/Intermediate/Config/CoalescedSourceConfigs/UnrealInsightsSettings.ini\n",
      "***Error: Invalid file /Users/antonio/Documents/Unreal Projects/MyProject/Intermediate/Config/CoalescedSourceConfigs/UnrealInsightsSettings.ini. The FileType.UNK file type is not supported in partition.\n",
      "File: /Users/antonio/Documents/Unreal Projects/MyProject/Intermediate/Config/CoalescedSourceConfigs/GameUserSettings.ini\n",
      "***Error: Invalid file /Users/antonio/Documents/Unreal Projects/MyProject/Intermediate/Config/CoalescedSourceConfigs/GameUserSettings.ini. The FileType.UNK file type is not supported in partition.\n",
      "File: /Users/antonio/Documents/Unreal Projects/MyProject/Intermediate/Config/CoalescedSourceConfigs/LocalizationServiceSettings.ini\n",
      "***Error: Invalid file /Users/antonio/Documents/Unreal Projects/MyProject/Intermediate/Config/CoalescedSourceConfigs/LocalizationServiceSettings.ini. The FileType.UNK file type is not supported in partition.\n",
      "File: /Users/antonio/Documents/Unreal Projects/MyProject/Intermediate/Config/CoalescedSourceConfigs/VirtualCamera.ini\n",
      "***Error: Invalid file /Users/antonio/Documents/Unreal Projects/MyProject/Intermediate/Config/CoalescedSourceConfigs/VirtualCamera.ini. The FileType.UNK file type is not supported in partition.\n",
      "File: /Users/antonio/Documents/Unreal Projects/MyProject/Intermediate/Config/CoalescedSourceConfigs/RemoteControlProtocolWidgets.ini\n",
      "***Error: Invalid file /Users/antonio/Documents/Unreal Projects/MyProject/Intermediate/Config/CoalescedSourceConfigs/RemoteControlProtocolWidgets.ini. The FileType.UNK file type is not supported in partition.\n",
      "File: /Users/antonio/Documents/Unreal Projects/MyProject/Intermediate/Config/CoalescedSourceConfigs/Crypto.ini\n",
      "***Error: Invalid file /Users/antonio/Documents/Unreal Projects/MyProject/Intermediate/Config/CoalescedSourceConfigs/Crypto.ini. The FileType.UNK file type is not supported in partition.\n",
      "File: /Users/antonio/Documents/Unreal Projects/MyProject/Intermediate/Config/CoalescedSourceConfigs/Encryption.ini\n",
      "***Error: Invalid file /Users/antonio/Documents/Unreal Projects/MyProject/Intermediate/Config/CoalescedSourceConfigs/Encryption.ini. The FileType.UNK file type is not supported in partition.\n",
      "File: /Users/antonio/Documents/Unreal Projects/MyProject/Intermediate/Config/CoalescedSourceConfigs/Engine.ini\n",
      "***Error: Invalid file /Users/antonio/Documents/Unreal Projects/MyProject/Intermediate/Config/CoalescedSourceConfigs/Engine.ini. The FileType.UNK file type is not supported in partition.\n",
      "File: /Users/antonio/Documents/Unreal Projects/MyProject/Intermediate/ShaderAutogen/SF_METAL_MACES3/AutogenShaderHeaders.ush\n",
      "***Error: Invalid file /Users/antonio/Documents/Unreal Projects/MyProject/Intermediate/ShaderAutogen/SF_METAL_MACES3/AutogenShaderHeaders.ush. The FileType.UNK file type is not supported in partition.\n",
      "File: /Users/antonio/Documents/Unreal Projects/MyProject/Intermediate/ShaderAutogen/SF_METAL_SM5/AutogenShaderHeaders.ush\n",
      "***Error: Invalid file /Users/antonio/Documents/Unreal Projects/MyProject/Intermediate/ShaderAutogen/SF_METAL_SM5/AutogenShaderHeaders.ush. The FileType.UNK file type is not supported in partition.\n",
      "File: /Users/antonio/Documents/Unreal Projects/MyProject/Intermediate/Shaders/tmp/54F3C368DC4E46F9540F72B5421F8CED/0/WorkerInputOnly.in\n",
      "***Error: Invalid file /Users/antonio/Documents/Unreal Projects/MyProject/Intermediate/Shaders/tmp/54F3C368DC4E46F9540F72B5421F8CED/0/WorkerInputOnly.in. The FileType.UNK file type is not supported in partition.\n",
      "File: /Users/antonio/Documents/Unreal Projects/MyProject/Intermediate/Shaders/tmp/54F3C368DC4E46F9540F72B5421F8CED/1/WorkerInputOnly.in\n"
     ]
    },
    {
     "name": "stderr",
     "output_type": "stream",
     "text": [
      "The pdf_infer_table_structure kwarg is deprecated. Please use skip_infer_table_types instead.\n",
      "The pdf_infer_table_structure kwarg is deprecated. Please use skip_infer_table_types instead.\n"
     ]
    },
    {
     "name": "stdout",
     "output_type": "stream",
     "text": [
      "***Error: Invalid file /Users/antonio/Documents/Unreal Projects/MyProject/Intermediate/Shaders/tmp/54F3C368DC4E46F9540F72B5421F8CED/1/WorkerInputOnly.in. The FileType.UNK file type is not supported in partition.\n",
      "File: /Users/antonio/Documents/Unreal Projects/MyProject/Intermediate/Shaders/tmp/54F3C368DC4E46F9540F72B5421F8CED/4/WorkerInputOnly.in\n",
      "***Error: Invalid file /Users/antonio/Documents/Unreal Projects/MyProject/Intermediate/Shaders/tmp/54F3C368DC4E46F9540F72B5421F8CED/4/WorkerInputOnly.in. The FileType.UNK file type is not supported in partition.\n",
      "File: /Users/antonio/Documents/Unreal Projects/MyProject/Intermediate/Shaders/tmp/54F3C368DC4E46F9540F72B5421F8CED/3/WorkerInputOnly.in\n",
      "***Error: Invalid file /Users/antonio/Documents/Unreal Projects/MyProject/Intermediate/Shaders/tmp/54F3C368DC4E46F9540F72B5421F8CED/3/WorkerInputOnly.in. The FileType.UNK file type is not supported in partition.\n",
      "File: /Users/antonio/Documents/Unreal Projects/MyProject/Intermediate/Shaders/tmp/54F3C368DC4E46F9540F72B5421F8CED/2/WorkerInputOnly.in\n",
      "***Error: Invalid file /Users/antonio/Documents/Unreal Projects/MyProject/Intermediate/Shaders/tmp/54F3C368DC4E46F9540F72B5421F8CED/2/WorkerInputOnly.in. The FileType.UNK file type is not supported in partition.\n",
      "File: /Users/antonio/Documents/Unreal Projects/MyProject/Intermediate/Shaders/tmp/54F3C368DC4E46F9540F72B5421F8CED/5/WorkerInputOnly.in\n",
      "***Error: Invalid file /Users/antonio/Documents/Unreal Projects/MyProject/Intermediate/Shaders/tmp/54F3C368DC4E46F9540F72B5421F8CED/5/WorkerInputOnly.in. The FileType.UNK file type is not supported in partition.\n",
      "File: /Users/antonio/Documents/Antcar/.DS_Store\n",
      "File: /Users/antonio/Documents/Antcar/Cashflow 2021.xlsx\n",
      "File: /Users/antonio/Documents/Antcar/Capital Contributions.xlsx\n",
      "File: /Users/antonio/Documents/Antcar/Yorker/201014 Milton Deposit Claim.pdf\n",
      "File: /Users/antonio/Documents/Antcar/Yorker/200921 Lease Contract Yorker Executed.pdf\n"
     ]
    },
    {
     "name": "stderr",
     "output_type": "stream",
     "text": [
      "The pdf_infer_table_structure kwarg is deprecated. Please use skip_infer_table_types instead.\n",
      "The pdf_infer_table_structure kwarg is deprecated. Please use skip_infer_table_types instead.\n",
      "The pdf_infer_table_structure kwarg is deprecated. Please use skip_infer_table_types instead.\n",
      "The pdf_infer_table_structure kwarg is deprecated. Please use skip_infer_table_types instead.\n"
     ]
    },
    {
     "name": "stdout",
     "output_type": "stream",
     "text": [
      "File: /Users/antonio/Documents/Antcar/Yorker/200921 Lease Contract Yorker Executed Small.pdf\n",
      "File: /Users/antonio/Documents/Antcar/Yorker/200922 Erick Milon Recomendation Letter.pdf\n",
      "File: /Users/antonio/Documents/Antcar/Yorker/Insurance/191001 Dec Page RwlCPLI  CPL2584787D.pdf\n",
      "File: /Users/antonio/Documents/Antcar/Yorker/Insurance/210423 Citizens Page 1.pdf\n"
     ]
    },
    {
     "name": "stderr",
     "output_type": "stream",
     "text": [
      "The pdf_infer_table_structure kwarg is deprecated. Please use skip_infer_table_types instead.\n"
     ]
    },
    {
     "name": "stdout",
     "output_type": "stream",
     "text": [
      "File: /Users/antonio/Documents/Antcar/Yorker/Insurance/210423 Citizens Page 3.pdf\n"
     ]
    },
    {
     "name": "stderr",
     "output_type": "stream",
     "text": [
      "The pdf_infer_table_structure kwarg is deprecated. Please use skip_infer_table_types instead.\n"
     ]
    },
    {
     "name": "stdout",
     "output_type": "stream",
     "text": [
      "File: /Users/antonio/Documents/Antcar/Yorker/Insurance/210423 Citizens Page 2.pdf\n"
     ]
    },
    {
     "name": "stderr",
     "output_type": "stream",
     "text": [
      "The pdf_infer_table_structure kwarg is deprecated. Please use skip_infer_table_types instead.\n",
      "The pdf_infer_table_structure kwarg is deprecated. Please use skip_infer_table_types instead.\n"
     ]
    },
    {
     "name": "stdout",
     "output_type": "stream",
     "text": [
      "File: /Users/antonio/Documents/Antcar/Yorker/Insurance/210902 Appl Packet CPLI 100121.pdf\n",
      "File: /Users/antonio/Documents/Antcar/Yorker/Insurance/210423 Citizens Page 4.pdf\n"
     ]
    },
    {
     "name": "stderr",
     "output_type": "stream",
     "text": [
      "The pdf_infer_table_structure kwarg is deprecated. Please use skip_infer_table_types instead.\n"
     ]
    },
    {
     "name": "stdout",
     "output_type": "stream",
     "text": [
      "File: /Users/antonio/Documents/Antcar/Yorker/Insurance/201001 Dec Page RwlCPLI  CPL2584787E.PDF\n"
     ]
    },
    {
     "name": "stderr",
     "output_type": "stream",
     "text": [
      "The pdf_infer_table_structure kwarg is deprecated. Please use skip_infer_table_types instead.\n",
      "The pdf_infer_table_structure kwarg is deprecated. Please use skip_infer_table_types instead.\n"
     ]
    },
    {
     "name": "stdout",
     "output_type": "stream",
     "text": [
      "File: /Users/antonio/Documents/Antcar/Yorker/Insurance/191001 Dec Page RwlCPLI  CPL2584787D 1.pdf\n",
      "File: /Users/antonio/Documents/Antcar/Creation Documents/Antcar Realty LLC .pdf\n",
      "File: /Users/antonio/Documents/Digital Editions/welcome.epub\n",
      "File: /Users/antonio/Documents/Digital Editions/The Trump Indictments.epub\n",
      "***Error: Pandoc died with exitcode \"1\" during conversion: pandoc: Cannot decode byte '\\x93': Data.Text.Internal.Encoding.streamDecodeUtf8With: Invalid UTF-8 stream\n",
      "\n",
      "\n",
      "\n",
      "\n",
      "Current version of pandoc: 2.19.2\n",
      "Make sure you have the right version installed in your system. Please, follow the pandoc installation instructions in README.md to install the right version.\n",
      "File: /Users/antonio/Documents/Digital Editions/Manifest/The Trump Indictments.epub.xml\n",
      "File: /Users/antonio/Documents/Digital Editions/Manifest/welcome.epub.xml\n",
      "File: /Users/antonio/Documents/Digital Editions/Tags/borrowed.xml\n",
      "File: /Users/antonio/Documents/Digital Editions/Tags/purchased.xml\n",
      "File: /Users/antonio/Documents/Digital Editions/Thumbnails/The Trump Indictments.epub.png\n",
      "File: /Users/antonio/Documents/Digital Editions/Thumbnails/welcome.epub.png\n"
     ]
    },
    {
     "name": "stderr",
     "output_type": "stream",
     "text": [
      "The pdf_infer_table_structure kwarg is deprecated. Please use skip_infer_table_types instead.\n",
      "The pdf_infer_table_structure kwarg is deprecated. Please use skip_infer_table_types instead.\n"
     ]
    },
    {
     "name": "stdout",
     "output_type": "stream",
     "text": [
      "File: /Users/antonio/Documents/LRTimelapse/LRTimelapse.log\n",
      "File: /Users/antonio/Documents/No es dieta/Calendario RETO Inflamación .pdf\n",
      "File: /Users/antonio/Documents/No es dieta/Guia nutritiva para la inflamacion.pdf\n"
     ]
    },
    {
     "name": "stderr",
     "output_type": "stream",
     "text": [
      "The pdf_infer_table_structure kwarg is deprecated. Please use skip_infer_table_types instead.\n",
      "The pdf_infer_table_structure kwarg is deprecated. Please use skip_infer_table_types instead.\n"
     ]
    },
    {
     "name": "stdout",
     "output_type": "stream",
     "text": [
      "File: /Users/antonio/Documents/No es dieta/Marcas que recomiendo.pdf\n",
      "File: /Users/antonio/Documents/No es dieta/Lista de Alimentos Sustitutos.pdf\n"
     ]
    },
    {
     "name": "stderr",
     "output_type": "stream",
     "text": [
      "The pdf_infer_table_structure kwarg is deprecated. Please use skip_infer_table_types instead.\n"
     ]
    },
    {
     "name": "stdout",
     "output_type": "stream",
     "text": [
      "File: /Users/antonio/Documents/No es dieta/GUIA LOS SECRETOS PARA UNA VIDA LIBRE DE INFLAMACIÓN - NED.pdf\n"
     ]
    },
    {
     "name": "stderr",
     "output_type": "stream",
     "text": [
      "The MIME type of '/Users/antonio/Documents/Blurb/Miami.blurb' is 'application/x-sqlite3'. This file type is not currently supported in unstructured.\n",
      "The MIME type of '/Users/antonio/Documents/Blurb/Patagonia.blurb' is 'application/x-sqlite3'. This file type is not currently supported in unstructured.\n",
      "The pdf_infer_table_structure kwarg is deprecated. Please use skip_infer_table_types instead.\n",
      "The pdf_infer_table_structure kwarg is deprecated. Please use skip_infer_table_types instead.\n",
      "The pdf_infer_table_structure kwarg is deprecated. Please use skip_infer_table_types instead.\n"
     ]
    },
    {
     "name": "stdout",
     "output_type": "stream",
     "text": [
      "File: /Users/antonio/Documents/Blurb/Miami.blurb\n",
      "***Error: Invalid file /Users/antonio/Documents/Blurb/Miami.blurb. The FileType.UNK file type is not supported in partition.\n",
      "File: /Users/antonio/Documents/Blurb/Patagonia.blurb\n",
      "***Error: Invalid file /Users/antonio/Documents/Blurb/Patagonia.blurb. The FileType.UNK file type is not supported in partition.\n",
      "File: /Users/antonio/Documents/RDC Connections/.DS_Store\n",
      "File: /Users/antonio/Documents/RDC Connections/Default.rdp\n",
      "***Error: Invalid file /Users/antonio/Documents/RDC Connections/Default.rdp. The FileType.UNK file type is not supported in partition.\n",
      "File: /Users/antonio/Documents/Madrid/.DS_Store\n",
      "File: /Users/antonio/Documents/Madrid/Covid Madrid/Pisani AXA-Claim-Form-Trip-Interruption.pdf\n",
      "File: /Users/antonio/Documents/Madrid/Covid Madrid/Pisani AXA-Claim-Form-Medical (optimized).pdf\n",
      "File: /Users/antonio/Documents/Madrid/Covid Madrid/220214 Carolina Pisani Covid Positive Test.pdf\n"
     ]
    },
    {
     "name": "stderr",
     "output_type": "stream",
     "text": [
      "The pdf_infer_table_structure kwarg is deprecated. Please use skip_infer_table_types instead.\n",
      "The pdf_infer_table_structure kwarg is deprecated. Please use skip_infer_table_types instead.\n",
      "The pdf_infer_table_structure kwarg is deprecated. Please use skip_infer_table_types instead.\n",
      "The pdf_infer_table_structure kwarg is deprecated. Please use skip_infer_table_types instead.\n"
     ]
    },
    {
     "name": "stdout",
     "output_type": "stream",
     "text": [
      "File: /Users/antonio/Documents/Madrid/Covid Madrid/1561672_20211127_135246645_Antonio_Pisani_Platinum_SQM___NW.pdf\n",
      "File: /Users/antonio/Documents/Madrid/Covid Madrid/.DS_Store\n",
      "File: /Users/antonio/Documents/Madrid/Covid Madrid/1561672_20211127_135247426_Antonio_Pisani_Platinum_SQM___NW.pdf\n",
      "File: /Users/antonio/Documents/Madrid/Covid Madrid/220215 Antonio Pisani Medical Certificate.pdf\n",
      "File: /Users/antonio/Documents/Madrid/Covid Madrid/220215 Carolina Pisani Medical Certificate.pdf\n"
     ]
    },
    {
     "name": "stderr",
     "output_type": "stream",
     "text": [
      "The pdf_infer_table_structure kwarg is deprecated. Please use skip_infer_table_types instead.\n",
      "The pdf_infer_table_structure kwarg is deprecated. Please use skip_infer_table_types instead.\n"
     ]
    },
    {
     "name": "stdout",
     "output_type": "stream",
     "text": [
      "File: /Users/antonio/Documents/Madrid/Covid Madrid/Pisani AXA-Claim-Form-Medical.docx\n",
      "File: /Users/antonio/Documents/Madrid/Covid Madrid/Pisani AXA-Claim-Form-Trip-Interruption (optimized).pdf\n",
      "File: /Users/antonio/Documents/Madrid/Covid Madrid/AXA-Claim-Form-Medical.pdf\n"
     ]
    },
    {
     "name": "stderr",
     "output_type": "stream",
     "text": [
      "The pdf_infer_table_structure kwarg is deprecated. Please use skip_infer_table_types instead.\n"
     ]
    },
    {
     "name": "stdout",
     "output_type": "stream",
     "text": [
      "File: /Users/antonio/Documents/Madrid/Covid Madrid/AXA Platinum Single Plan-FL - COI - AG.pdf\n"
     ]
    },
    {
     "name": "stderr",
     "output_type": "stream",
     "text": [
      "The pdf_infer_table_structure kwarg is deprecated. Please use skip_infer_table_types instead.\n"
     ]
    },
    {
     "name": "stdout",
     "output_type": "stream",
     "text": [
      "File: /Users/antonio/Documents/Madrid/Covid Madrid/1561672_20211127_135247989_Antonio_Pisani_Platinum_SQM___NW.pdf\n",
      "File: /Users/antonio/Documents/Madrid/Covid Madrid/Pisani AXA-Claim-Form-Trip-Interruption.docx\n"
     ]
    },
    {
     "name": "stderr",
     "output_type": "stream",
     "text": [
      "The pdf_infer_table_structure kwarg is deprecated. Please use skip_infer_table_types instead.\n",
      "The pdf_infer_table_structure kwarg is deprecated. Please use skip_infer_table_types instead.\n"
     ]
    },
    {
     "name": "stdout",
     "output_type": "stream",
     "text": [
      "File: /Users/antonio/Documents/Madrid/Covid Madrid/Pisani AXA-Claim-Form-Medical.pdf\n",
      "File: /Users/antonio/Documents/Madrid/Covid Madrid/220214 Antonio Pisani Covid Positive Test.pdf\n"
     ]
    },
    {
     "name": "stderr",
     "output_type": "stream",
     "text": [
      "The pdf_infer_table_structure kwarg is deprecated. Please use skip_infer_table_types instead.\n"
     ]
    },
    {
     "name": "stdout",
     "output_type": "stream",
     "text": [
      "File: /Users/antonio/Documents/Madrid/Covid Madrid/AXA-Claim-Form-Trip-Interruption.pdf\n"
     ]
    },
    {
     "name": "stderr",
     "output_type": "stream",
     "text": [
      "The pdf_infer_table_structure kwarg is deprecated. Please use skip_infer_table_types instead.\n"
     ]
    },
    {
     "name": "stdout",
     "output_type": "stream",
     "text": [
      "File: /Users/antonio/Documents/Madrid/Covid Madrid/American Airlines/211018 Ofriginal Ticket.pdf\n"
     ]
    },
    {
     "name": "stderr",
     "output_type": "stream",
     "text": [
      "The pdf_infer_table_structure kwarg is deprecated. Please use skip_infer_table_types instead.\n",
      "The pdf_infer_table_structure kwarg is deprecated. Please use skip_infer_table_types instead.\n",
      "The pdf_infer_table_structure kwarg is deprecated. Please use skip_infer_table_types instead.\n"
     ]
    },
    {
     "name": "stdout",
     "output_type": "stream",
     "text": [
      "File: /Users/antonio/Documents/Madrid/Covid Madrid/American Airlines/220215 Itinertary Cancelation.pdf\n",
      "File: /Users/antonio/Documents/Madrid/Covid Madrid/American Airlines/220220 Ticket reissue.pdf\n",
      "File: /Users/antonio/Documents/Madrid/Covid Madrid/Luxury Rentals/.DS_Store\n",
      "File: /Users/antonio/Documents/Madrid/Covid Madrid/Luxury Rentals/220222 factura-2022-000481.pdf\n"
     ]
    },
    {
     "name": "stderr",
     "output_type": "stream",
     "text": [
      "The pdf_infer_table_structure kwarg is deprecated. Please use skip_infer_table_types instead.\n",
      "The pdf_infer_table_structure kwarg is deprecated. Please use skip_infer_table_types instead.\n"
     ]
    },
    {
     "name": "stdout",
     "output_type": "stream",
     "text": [
      "File: /Users/antonio/Documents/Madrid/Covid Madrid/Luxury Rentals/220222 factura-2022-000480.pdf\n",
      "File: /Users/antonio/Documents/Madrid/Covid Madrid/Luxury Rentals/220223 Payment Bank of America.pdf\n"
     ]
    },
    {
     "name": "stderr",
     "output_type": "stream",
     "text": [
      "The pdf_infer_table_structure kwarg is deprecated. Please use skip_infer_table_types instead.\n",
      "The pdf_infer_table_structure kwarg is deprecated. Please use skip_infer_table_types instead.\n",
      "The pdf_infer_table_structure kwarg is deprecated. Please use skip_infer_table_types instead.\n"
     ]
    },
    {
     "name": "stdout",
     "output_type": "stream",
     "text": [
      "File: /Users/antonio/Documents/Madrid/Covid Madrid/Luxury Rentals/210924 Payment Bank of America.pdf\n",
      "File: /Users/antonio/Documents/Madrid/Covid Madrid/Luxury Rentals/211230 Payment Bank of America.pdf\n",
      "File: /Users/antonio/Documents/Madrid/Covid Madrid/Luxury Rentals/210923 Booking Number_ 8309.pdf\n"
     ]
    },
    {
     "name": "stderr",
     "output_type": "stream",
     "text": [
      "The pdf_infer_table_structure kwarg is deprecated. Please use skip_infer_table_types instead.\n",
      "The pdf_infer_table_structure kwarg is deprecated. Please use skip_infer_table_types instead.\n",
      "The pdf_infer_table_structure kwarg is deprecated. Please use skip_infer_table_types instead.\n",
      "The pdf_infer_table_structure kwarg is deprecated. Please use skip_infer_table_types instead.\n"
     ]
    },
    {
     "name": "stdout",
     "output_type": "stream",
     "text": [
      "File: /Users/antonio/Documents/Madrid/Covid Madrid/Other DO NOT SED/220226 Antonio Pisani PCR Report.pdf\n",
      "File: /Users/antonio/Documents/Madrid/Covid Madrid/Other DO NOT SED/220215 OLD Antonio Pisani Medical Certificate.pdf\n",
      "File: /Users/antonio/Documents/Madrid/Covid Madrid/Other DO NOT SED/220215 OLD Carolina Pisani Medical Certificate.pdf\n",
      "File: /Users/antonio/Documents/Madrid/Covid Madrid/Other DO NOT SED/220226 Antonio Pisani Antigen Report.pdf\n",
      "File: /Users/antonio/Documents/Madrid/Covid Madrid/Other DO NOT SED/428c84fa-acc8-4738-9e52-ef87dcacbea8.JPG\n"
     ]
    },
    {
     "name": "stderr",
     "output_type": "stream",
     "text": [
      "The pdf_infer_table_structure kwarg is deprecated. Please use skip_infer_table_types instead.\n"
     ]
    },
    {
     "name": "stdout",
     "output_type": "stream",
     "text": [
      "File: /Users/antonio/Documents/Madrid/Covid Madrid/Medical/220214 Carolina Pisani Covid Positive Test.pdf\n"
     ]
    },
    {
     "name": "stderr",
     "output_type": "stream",
     "text": [
      "The pdf_infer_table_structure kwarg is deprecated. Please use skip_infer_table_types instead.\n",
      "The pdf_infer_table_structure kwarg is deprecated. Please use skip_infer_table_types instead.\n",
      "The pdf_infer_table_structure kwarg is deprecated. Please use skip_infer_table_types instead.\n",
      "The pdf_infer_table_structure kwarg is deprecated. Please use skip_infer_table_types instead.\n"
     ]
    },
    {
     "name": "stdout",
     "output_type": "stream",
     "text": [
      "File: /Users/antonio/Documents/Madrid/Covid Madrid/Medical/220215 Certificate Covid Invoice.pdf\n",
      "File: /Users/antonio/Documents/Madrid/Covid Madrid/Medical/220215 Antonio Pisani Medical Certificate.pdf\n",
      "File: /Users/antonio/Documents/Madrid/Covid Madrid/Medical/220215 Carolina Pisani Medical Certificate.pdf\n",
      "File: /Users/antonio/Documents/Madrid/Covid Madrid/Medical/220222 ANTONIO PISANI RECOVERY.pdf\n"
     ]
    },
    {
     "name": "stderr",
     "output_type": "stream",
     "text": [
      "The pdf_infer_table_structure kwarg is deprecated. Please use skip_infer_table_types instead.\n",
      "The pdf_infer_table_structure kwarg is deprecated. Please use skip_infer_table_types instead.\n",
      "The pdf_infer_table_structure kwarg is deprecated. Please use skip_infer_table_types instead.\n",
      "The pdf_infer_table_structure kwarg is deprecated. Please use skip_infer_table_types instead.\n"
     ]
    },
    {
     "name": "stdout",
     "output_type": "stream",
     "text": [
      "File: /Users/antonio/Documents/Madrid/Covid Madrid/Medical/220222 Certificate Recovery Invoice.pdf\n",
      "File: /Users/antonio/Documents/Madrid/Covid Madrid/Medical/220222 CAROLINA PISANI RECOVERY.pdf\n",
      "File: /Users/antonio/Documents/Madrid/Covid Madrid/Medical/220216 Farma2GO.pdf\n",
      "File: /Users/antonio/Documents/Madrid/Covid Madrid/Medical/220214 Antonio Pisani Covid Positive Test.pdf\n"
     ]
    },
    {
     "name": "stderr",
     "output_type": "stream",
     "text": [
      "The pdf_infer_table_structure kwarg is deprecated. Please use skip_infer_table_types instead.\n"
     ]
    },
    {
     "name": "stdout",
     "output_type": "stream",
     "text": [
      "File: /Users/antonio/Documents/Madrid/Documents for Travel/Requirement for Proof of Negative COVID-19 Test or Documentation of Recovery from COVID-19 | CDC copy.pdf\n"
     ]
    },
    {
     "name": "stderr",
     "output_type": "stream",
     "text": [
      "The pdf_infer_table_structure kwarg is deprecated. Please use skip_infer_table_types instead.\n"
     ]
    },
    {
     "name": "stdout",
     "output_type": "stream",
     "text": [
      "File: /Users/antonio/Documents/Madrid/Documents for Travel/.DS_Store\n",
      "File: /Users/antonio/Documents/Madrid/Documents for Travel/Airline_Checklist_Amended_for_Vaccine_Order_110621_for_posting_UPDATE.pdf\n"
     ]
    },
    {
     "name": "stderr",
     "output_type": "stream",
     "text": [
      "The pdf_infer_table_structure kwarg is deprecated. Please use skip_infer_table_types instead.\n",
      "The pdf_infer_table_structure kwarg is deprecated. Please use skip_infer_table_types instead.\n"
     ]
    },
    {
     "name": "stdout",
     "output_type": "stream",
     "text": [
      "File: /Users/antonio/Documents/Madrid/Documents for Travel/International Travel | CDC.pdf\n",
      "File: /Users/antonio/Documents/Madrid/Documents for Travel/Requirement for Proof of Negative COVID-19 Test or Documentation of Recovery from COVID-19 | CDC.pdf\n"
     ]
    },
    {
     "name": "stderr",
     "output_type": "stream",
     "text": [
      "The pdf_infer_table_structure kwarg is deprecated. Please use skip_infer_table_types instead.\n"
     ]
    },
    {
     "name": "stdout",
     "output_type": "stream",
     "text": [
      "File: /Users/antonio/Documents/Madrid/Documents for Travel/Combined-Passenger-Attestation-Amended-Testing-Order-12-02-2021-p .pdf\n"
     ]
    },
    {
     "name": "stderr",
     "output_type": "stream",
     "text": [
      "The pdf_infer_table_structure kwarg is deprecated. Please use skip_infer_table_types instead.\n",
      "The pdf_infer_table_structure kwarg is deprecated. Please use skip_infer_table_types instead.\n",
      "The pdf_infer_table_structure kwarg is deprecated. Please use skip_infer_table_types instead.\n"
     ]
    },
    {
     "name": "stdout",
     "output_type": "stream",
     "text": [
      "File: /Users/antonio/Documents/Madrid/Documents for Travel/Find out what is required to board a flight to the United States - U.S. Citizen, National, Lawful Permanent Resident, Immigrant | CDC.pdf\n",
      "File: /Users/antonio/Documents/Madrid/Antonio Acuña/220223 Bank of America.pdf\n",
      "File: /Users/antonio/Documents/Madrid/Antonio Acuña/220216 Renta 15:2 - 17:2.pdf\n"
     ]
    },
    {
     "name": "stderr",
     "output_type": "stream",
     "text": [
      "The pdf_infer_table_structure kwarg is deprecated. Please use skip_infer_table_types instead.\n",
      "The pdf_infer_table_structure kwarg is deprecated. Please use skip_infer_table_types instead.\n"
     ]
    },
    {
     "name": "stdout",
     "output_type": "stream",
     "text": [
      "File: /Users/antonio/Documents/Madrid/Antonio Acuña/.DS_Store\n",
      "File: /Users/antonio/Documents/Madrid/Antonio Acuña/220222 factura-2022-000481.pdf\n",
      "File: /Users/antonio/Documents/Madrid/Antonio Acuña/220222 factura-2022-000480.pdf\n"
     ]
    },
    {
     "name": "stderr",
     "output_type": "stream",
     "text": [
      "The pdf_infer_table_structure kwarg is deprecated. Please use skip_infer_table_types instead.\n",
      "The pdf_infer_table_structure kwarg is deprecated. Please use skip_infer_table_types instead.\n",
      "The pdf_infer_table_structure kwarg is deprecated. Please use skip_infer_table_types instead.\n",
      "The pdf_infer_table_structure kwarg is deprecated. Please use skip_infer_table_types instead.\n"
     ]
    },
    {
     "name": "stdout",
     "output_type": "stream",
     "text": [
      "File: /Users/antonio/Documents/Madrid/Antonio Acuña/220222 Cobro 18:2 - 24:2.pdf\n",
      "File: /Users/antonio/Documents/Madrid/Antonio Acuña/211230 Bank of America.pdf\n",
      "File: /Users/antonio/Documents/Madrid/Antonio Acuña/220216 Cobro 15:2 - 17:2.pdf\n",
      "File: /Users/antonio/Documents/Madrid/Antonio Acuña/220222 Renta 18:2 - 24:2.pdf\n",
      "File: /Users/antonio/Documents/Madrid/Antonio Acuña/210923 Reserva.pdf\n"
     ]
    },
    {
     "name": "stderr",
     "output_type": "stream",
     "text": [
      "The pdf_infer_table_structure kwarg is deprecated. Please use skip_infer_table_types instead.\n",
      "The pdf_infer_table_structure kwarg is deprecated. Please use skip_infer_table_types instead.\n"
     ]
    },
    {
     "name": "stdout",
     "output_type": "stream",
     "text": [
      "File: /Users/antonio/Documents/Madrid/Antonio Acuña/210924 Bank of America.pdf\n"
     ]
    },
    {
     "name": "stderr",
     "output_type": "stream",
     "text": [
      "Could not detect the filetype from application/octet-stream MIME type.\n",
      "The pdf_infer_table_structure kwarg is deprecated. Please use skip_infer_table_types instead.\n"
     ]
    },
    {
     "name": "stdout",
     "output_type": "stream",
     "text": [
      "File: /Users/antonio/Documents/FreeFileSync/EVO12Raid.ffs_gui\n",
      "***Error: Invalid file /Users/antonio/Documents/FreeFileSync/EVO12Raid.ffs_gui. The FileType.UNK file type is not supported in partition.\n",
      "File: /Users/antonio/Documents/FreeFileSync/Raid2EVO1.ffs_batch\n",
      "***Error: Invalid file /Users/antonio/Documents/FreeFileSync/Raid2EVO1.ffs_batch. The FileType.UNK file type is not supported in partition.\n",
      "File: /Users/antonio/Documents/FreeFileSync/Library.ffs_batch\n",
      "***Error: Invalid file /Users/antonio/Documents/FreeFileSync/Library.ffs_batch. The FileType.UNK file type is not supported in partition.\n",
      "File: /Users/antonio/Documents/FreeFileSync/Library.ffs_gui\n",
      "***Error: Invalid file /Users/antonio/Documents/FreeFileSync/Library.ffs_gui. The FileType.UNK file type is not supported in partition.\n",
      "File: /Users/antonio/Documents/FreeFileSync/Raid2EVO1.ffs_gui\n",
      "***Error: Invalid file /Users/antonio/Documents/FreeFileSync/Raid2EVO1.ffs_gui. The FileType.UNK file type is not supported in partition.\n",
      "File: /Users/antonio/Documents/H&R Block Business/AntcarRealtyLLC 2017 Tax Return.atx\n",
      "***Error: Invalid file /Users/antonio/Documents/H&R Block Business/AntcarRealtyLLC 2017 Tax Return.atx. The FileType.ZIP file type is not supported in partition.\n",
      "File: /Users/antonio/Documents/Wills/Help_Guide_for_Your_Will.pdf\n"
     ]
    },
    {
     "name": "stderr",
     "output_type": "stream",
     "text": [
      "The pdf_infer_table_structure kwarg is deprecated. Please use skip_infer_table_types instead.\n"
     ]
    },
    {
     "name": "stdout",
     "output_type": "stream",
     "text": [
      "File: /Users/antonio/Documents/Wills/Signing_Instructions.pdf\n",
      "File: /Users/antonio/Documents/Wills/Last_Will_and_Testament_Antonio.doc\n",
      "File: /Users/antonio/Documents/Wills/Last_Will_and_Testament_Carolina.doc\n"
     ]
    },
    {
     "name": "stderr",
     "output_type": "stream",
     "text": [
      "The pdf_infer_table_structure kwarg is deprecated. Please use skip_infer_table_types instead.\n"
     ]
    },
    {
     "name": "stdout",
     "output_type": "stream",
     "text": [
      "File: /Users/antonio/Documents/Wills/Last_Will_and_Testament_Antonio.pdf\n",
      "File: /Users/antonio/Documents/Wills/Last_Will_and_Testament_Carolina.rtf\n",
      "File: /Users/antonio/Documents/Adobe/.DS_Store\n",
      "File: /Users/antonio/Documents/Adobe/Adobe Media Encoder/5.5.0/Plugin Loading.log\n",
      "File: /Users/antonio/Documents/Adobe/Pixel Bender/samples/sepia.pbk\n",
      "***Error: Invalid file /Users/antonio/Documents/Adobe/Pixel Bender/samples/sepia.pbk. The FileType.UNK file type is not supported in partition.\n",
      "File: /Users/antonio/Documents/Adobe/Pixel Bender/samples/pixelate.pbk\n",
      "***Error: Invalid file /Users/antonio/Documents/Adobe/Pixel Bender/samples/pixelate.pbk. The FileType.UNK file type is not supported in partition.\n",
      "File: /Users/antonio/Documents/Adobe/Pixel Bender/samples/crossfade.pbk\n",
      "***Error: Invalid file /Users/antonio/Documents/Adobe/Pixel Bender/samples/crossfade.pbk. The FileType.UNK file type is not supported in partition.\n",
      "File: /Users/antonio/Documents/Adobe/Pixel Bender/samples/alphaFromMaxColor.pbk\n",
      "***Error: Invalid file /Users/antonio/Documents/Adobe/Pixel Bender/samples/alphaFromMaxColor.pbk. The FileType.UNK file type is not supported in partition.\n",
      "File: /Users/antonio/Documents/Adobe/Pixel Bender/samples/simpleBoxBlur.pbk\n",
      "***Error: Invalid file /Users/antonio/Documents/Adobe/Pixel Bender/samples/simpleBoxBlur.pbk. The FileType.UNK file type is not supported in partition.\n",
      "File: /Users/antonio/Documents/Adobe/Pixel Bender/samples/twirl.pbk\n",
      "***Error: Invalid file /Users/antonio/Documents/Adobe/Pixel Bender/samples/twirl.pbk. The FileType.UNK file type is not supported in partition.\n",
      "File: /Users/antonio/Documents/Adobe/Pixel Bender/samples/invertRGB.pbk\n",
      "***Error: Invalid file /Users/antonio/Documents/Adobe/Pixel Bender/samples/invertRGB.pbk. The FileType.UNK file type is not supported in partition.\n",
      "File: /Users/antonio/Documents/Adobe/Pixel Bender/samples/notFlashCompatible/basicBoxBlur.pbk\n",
      "***Error: Invalid file /Users/antonio/Documents/Adobe/Pixel Bender/samples/notFlashCompatible/basicBoxBlur.pbk. The FileType.UNK file type is not supported in partition.\n",
      "File: /Users/antonio/Documents/Adobe/Pixel Bender/samples/notFlashCompatible/checkerboard.pbk\n",
      "***Error: Invalid file /Users/antonio/Documents/Adobe/Pixel Bender/samples/notFlashCompatible/checkerboard.pbk. The FileType.UNK file type is not supported in partition.\n",
      "File: /Users/antonio/Documents/Adobe/Pixel Bender/samples/graphs/CombineTwoInputs.pbg\n",
      "***Error: Invalid file /Users/antonio/Documents/Adobe/Pixel Bender/samples/graphs/CombineTwoInputs.pbg. The FileType.UNK file type is not supported in partition.\n",
      "File: /Users/antonio/Documents/Adobe/Pixel Bender/samples/graphs/pixelate.pbg\n",
      "***Error: Invalid file /Users/antonio/Documents/Adobe/Pixel Bender/samples/graphs/pixelate.pbg. The FileType.UNK file type is not supported in partition.\n",
      "File: /Users/antonio/Documents/Adobe/Pixel Bender/samples/graphs/sepia-twirl.pbg\n",
      "***Error: Invalid file /Users/antonio/Documents/Adobe/Pixel Bender/samples/graphs/sepia-twirl.pbg. The FileType.UNK file type is not supported in partition.\n",
      "File: /Users/antonio/Documents/Adobe/Pixel Bender/samples/graphs/inFocus.pbg\n",
      "***Error: Invalid file /Users/antonio/Documents/Adobe/Pixel Bender/samples/graphs/inFocus.pbg. The FileType.UNK file type is not supported in partition.\n",
      "File: /Users/antonio/Documents/Adobe/Lumetri/9.0/settings/User_Settings.xml\n",
      "***Error: Start tag expected, '<' not found, line 3, column 1 (User_Settings.xml, line 3)\n",
      "File: /Users/antonio/Documents/Adobe/Lumetri/9.0/logs/Lumetri.log\n",
      "File: /Users/antonio/Documents/Adobe/Premiere Rush/1.0/Profile-antonio/Installed Guides.guides\n",
      "***Error: Invalid file /Users/antonio/Documents/Adobe/Premiere Rush/1.0/Profile-antonio/Installed Guides.guides. The FileType.UNK file type is not supported in partition.\n",
      "File: /Users/antonio/Documents/Adobe/Premiere Rush/1.0/Profile-antonio/SharedView Column Settings\n",
      "***Error: Invalid file /Users/antonio/Documents/Adobe/Premiere Rush/1.0/Profile-antonio/SharedView Column Settings. The FileType.UNK file type is not supported in partition.\n",
      "File: /Users/antonio/Documents/Adobe/Premiere Rush/1.0/Profile-antonio/Media Browser Provider Exception\n",
      "***Error: Invalid file /Users/antonio/Documents/Adobe/Premiere Rush/1.0/Profile-antonio/Media Browser Provider Exception. The FileType.UNK file type is not supported in partition.\n",
      "File: /Users/antonio/Documents/Adobe/Premiere Rush/1.0/Profile-antonio/Adobe Premiere Rush Prefs\n",
      "***Error: Invalid file /Users/antonio/Documents/Adobe/Premiere Rush/1.0/Profile-antonio/Adobe Premiere Rush Prefs. The FileType.UNK file type is not supported in partition.\n",
      "File: /Users/antonio/Documents/Adobe/Premiere Rush/1.0/Profile-antonio/Recent Directories\n",
      "***Error: Invalid file /Users/antonio/Documents/Adobe/Premiere Rush/1.0/Profile-antonio/Recent Directories. The FileType.UNK file type is not supported in partition.\n",
      "File: /Users/antonio/Documents/Adobe/Premiere Rush/1.0/Profile-antonio/Settings/Overlay Presets/Custom Overlay.olp\n",
      "***Error: Invalid file /Users/antonio/Documents/Adobe/Premiere Rush/1.0/Profile-antonio/Settings/Overlay Presets/Custom Overlay.olp. The FileType.UNK file type is not supported in partition.\n",
      "File: /Users/antonio/Documents/Adobe/Premiere Rush/1.0/Profile-antonio/Settings/EssentialSound/Default/music/(Config).essentialsound\n",
      "***Error: Invalid file /Users/antonio/Documents/Adobe/Premiere Rush/1.0/Profile-antonio/Settings/EssentialSound/Default/music/(Config).essentialsound. The FileType.UNK file type is not supported in partition.\n",
      "File: /Users/antonio/Documents/Adobe/Premiere Rush/1.0/Profile-antonio/Settings/EssentialSound/Default/music/(Default).essentialsound\n",
      "***Error: Invalid file /Users/antonio/Documents/Adobe/Premiere Rush/1.0/Profile-antonio/Settings/EssentialSound/Default/music/(Default).essentialsound. The FileType.UNK file type is not supported in partition.\n",
      "File: /Users/antonio/Documents/Adobe/Premiere Rush/1.0/Profile-antonio/Settings/EssentialSound/Default/sfx/(Config).essentialsound\n",
      "***Error: Invalid file /Users/antonio/Documents/Adobe/Premiere Rush/1.0/Profile-antonio/Settings/EssentialSound/Default/sfx/(Config).essentialsound. The FileType.UNK file type is not supported in partition.\n",
      "File: /Users/antonio/Documents/Adobe/Premiere Rush/1.0/Profile-antonio/Settings/EssentialSound/Default/dialog/(Config).essentialsound\n",
      "***Error: Invalid file /Users/antonio/Documents/Adobe/Premiere Rush/1.0/Profile-antonio/Settings/EssentialSound/Default/dialog/(Config).essentialsound. The FileType.UNK file type is not supported in partition.\n",
      "File: /Users/antonio/Documents/Adobe/Premiere Rush/1.0/Profile-antonio/Settings/EssentialSound/Default/dialog/(Default).essentialsound\n",
      "***Error: Invalid file /Users/antonio/Documents/Adobe/Premiere Rush/1.0/Profile-antonio/Settings/EssentialSound/Default/dialog/(Default).essentialsound. The FileType.UNK file type is not supported in partition.\n",
      "File: /Users/antonio/Documents/Adobe/Premiere Rush/1.0/Profile-antonio/Settings/EssentialSound/Default/generic/(Config).essentialsound\n",
      "***Error: Invalid file /Users/antonio/Documents/Adobe/Premiere Rush/1.0/Profile-antonio/Settings/EssentialSound/Default/generic/(Config).essentialsound. The FileType.UNK file type is not supported in partition.\n",
      "File: /Users/antonio/Documents/Adobe/Premiere Rush/1.0/Profile-antonio/Settings/EssentialSound/Default/generic/(Default).essentialsound\n",
      "***Error: Invalid file /Users/antonio/Documents/Adobe/Premiere Rush/1.0/Profile-antonio/Settings/EssentialSound/Default/generic/(Default).essentialsound. The FileType.UNK file type is not supported in partition.\n",
      "File: /Users/antonio/Documents/Adobe/Premiere Rush/1.0/Profile-antonio/Settings/EssentialSound/Default/ambience/(Config).essentialsound\n",
      "***Error: Invalid file /Users/antonio/Documents/Adobe/Premiere Rush/1.0/Profile-antonio/Settings/EssentialSound/Default/ambience/(Config).essentialsound. The FileType.UNK file type is not supported in partition.\n",
      "File: /Users/antonio/Documents/Adobe/Premiere Rush/1.0/Profile-antonio/Layouts/WorkspaceConfig.xml\n",
      "File: /Users/antonio/Documents/Adobe/Premiere Rush/1.5/Profile-Antonio/Installed Guides.guides\n",
      "***Error: Invalid file /Users/antonio/Documents/Adobe/Premiere Rush/1.5/Profile-Antonio/Installed Guides.guides. The FileType.UNK file type is not supported in partition.\n",
      "File: /Users/antonio/Documents/Adobe/Premiere Rush/1.5/Profile-Antonio/SharedView Column Settings\n",
      "***Error: Invalid file /Users/antonio/Documents/Adobe/Premiere Rush/1.5/Profile-Antonio/SharedView Column Settings. The FileType.UNK file type is not supported in partition.\n",
      "File: /Users/antonio/Documents/Adobe/Premiere Rush/1.5/Profile-Antonio/Media Browser Provider Exception\n",
      "***Error: Invalid file /Users/antonio/Documents/Adobe/Premiere Rush/1.5/Profile-Antonio/Media Browser Provider Exception. The FileType.UNK file type is not supported in partition.\n",
      "File: /Users/antonio/Documents/Adobe/Premiere Rush/1.5/Profile-Antonio/Adobe Premiere Rush Prefs\n",
      "***Error: Invalid file /Users/antonio/Documents/Adobe/Premiere Rush/1.5/Profile-Antonio/Adobe Premiere Rush Prefs. The FileType.UNK file type is not supported in partition.\n",
      "File: /Users/antonio/Documents/Adobe/Premiere Rush/1.5/Profile-Antonio/Recent Directories\n",
      "***Error: Invalid file /Users/antonio/Documents/Adobe/Premiere Rush/1.5/Profile-Antonio/Recent Directories. The FileType.UNK file type is not supported in partition.\n",
      "File: /Users/antonio/Documents/Adobe/Premiere Rush/1.5/Profile-Antonio/Settings/Overlay Presets/Custom Overlay.olp\n",
      "***Error: Invalid file /Users/antonio/Documents/Adobe/Premiere Rush/1.5/Profile-Antonio/Settings/Overlay Presets/Custom Overlay.olp. The FileType.UNK file type is not supported in partition.\n",
      "File: /Users/antonio/Documents/Adobe/Premiere Rush/1.5/Profile-Antonio/Settings/EssentialSound/Default/music/(Config).essentialsound\n",
      "***Error: Invalid file /Users/antonio/Documents/Adobe/Premiere Rush/1.5/Profile-Antonio/Settings/EssentialSound/Default/music/(Config).essentialsound. The FileType.UNK file type is not supported in partition.\n",
      "File: /Users/antonio/Documents/Adobe/Premiere Rush/1.5/Profile-Antonio/Settings/EssentialSound/Default/music/(Default).essentialsound\n",
      "***Error: Invalid file /Users/antonio/Documents/Adobe/Premiere Rush/1.5/Profile-Antonio/Settings/EssentialSound/Default/music/(Default).essentialsound. The FileType.UNK file type is not supported in partition.\n",
      "File: /Users/antonio/Documents/Adobe/Premiere Rush/1.5/Profile-Antonio/Settings/EssentialSound/Default/music/(RushDefaultAutoLoudnessDisabled).essentialsound\n"
     ]
    },
    {
     "name": "stdout",
     "output_type": "stream",
     "text": [
      "***Error: Invalid file /Users/antonio/Documents/Adobe/Premiere Rush/1.5/Profile-Antonio/Settings/EssentialSound/Default/music/(RushDefaultAutoLoudnessDisabled).essentialsound. The FileType.UNK file type is not supported in partition.\n",
      "File: /Users/antonio/Documents/Adobe/Premiere Rush/1.5/Profile-Antonio/Settings/EssentialSound/Default/sfx/(Config).essentialsound\n",
      "***Error: Invalid file /Users/antonio/Documents/Adobe/Premiere Rush/1.5/Profile-Antonio/Settings/EssentialSound/Default/sfx/(Config).essentialsound. The FileType.UNK file type is not supported in partition.\n",
      "File: /Users/antonio/Documents/Adobe/Premiere Rush/1.5/Profile-Antonio/Settings/EssentialSound/Default/dialog/(Config).essentialsound\n",
      "***Error: Invalid file /Users/antonio/Documents/Adobe/Premiere Rush/1.5/Profile-Antonio/Settings/EssentialSound/Default/dialog/(Config).essentialsound. The FileType.UNK file type is not supported in partition.\n",
      "File: /Users/antonio/Documents/Adobe/Premiere Rush/1.5/Profile-Antonio/Settings/EssentialSound/Default/dialog/(Default).essentialsound\n",
      "***Error: Invalid file /Users/antonio/Documents/Adobe/Premiere Rush/1.5/Profile-Antonio/Settings/EssentialSound/Default/dialog/(Default).essentialsound. The FileType.UNK file type is not supported in partition.\n",
      "File: /Users/antonio/Documents/Adobe/Premiere Rush/1.5/Profile-Antonio/Settings/EssentialSound/Default/dialog/(RushDefaultAutoLoudnessDisabled).essentialsound\n",
      "***Error: Invalid file /Users/antonio/Documents/Adobe/Premiere Rush/1.5/Profile-Antonio/Settings/EssentialSound/Default/dialog/(RushDefaultAutoLoudnessDisabled).essentialsound. The FileType.UNK file type is not supported in partition.\n",
      "File: /Users/antonio/Documents/Adobe/Premiere Rush/1.5/Profile-Antonio/Settings/EssentialSound/Default/generic/(Config).essentialsound\n",
      "***Error: Invalid file /Users/antonio/Documents/Adobe/Premiere Rush/1.5/Profile-Antonio/Settings/EssentialSound/Default/generic/(Config).essentialsound. The FileType.UNK file type is not supported in partition.\n",
      "File: /Users/antonio/Documents/Adobe/Premiere Rush/1.5/Profile-Antonio/Settings/EssentialSound/Default/generic/(Default).essentialsound\n",
      "***Error: Invalid file /Users/antonio/Documents/Adobe/Premiere Rush/1.5/Profile-Antonio/Settings/EssentialSound/Default/generic/(Default).essentialsound. The FileType.UNK file type is not supported in partition.\n",
      "File: /Users/antonio/Documents/Adobe/Premiere Rush/1.5/Profile-Antonio/Settings/EssentialSound/Default/generic/(RushDefaultAutoLoudnessDisabled).essentialsound\n",
      "***Error: Invalid file /Users/antonio/Documents/Adobe/Premiere Rush/1.5/Profile-Antonio/Settings/EssentialSound/Default/generic/(RushDefaultAutoLoudnessDisabled).essentialsound. The FileType.UNK file type is not supported in partition.\n",
      "File: /Users/antonio/Documents/Adobe/Premiere Rush/1.5/Profile-Antonio/Settings/EssentialSound/Default/ambience/(Config).essentialsound\n",
      "***Error: Invalid file /Users/antonio/Documents/Adobe/Premiere Rush/1.5/Profile-Antonio/Settings/EssentialSound/Default/ambience/(Config).essentialsound. The FileType.UNK file type is not supported in partition.\n",
      "File: /Users/antonio/Documents/Adobe/Premiere Rush/1.5/Profile-Antonio/Layouts/UserWorkspace.xml\n"
     ]
    },
    {
     "name": "stderr",
     "output_type": "stream",
     "text": [
      "The pdf_infer_table_structure kwarg is deprecated. Please use skip_infer_table_types instead.\n"
     ]
    },
    {
     "name": "stdout",
     "output_type": "stream",
     "text": [
      "File: /Users/antonio/Documents/Adobe/Premiere Rush/1.5/Profile-Antonio/Layouts/WorkspaceConfig.xml\n",
      "File: /Users/antonio/Documents/VW/2902770-7110-ANTONIO_JOSE_PISANI.pdf\n"
     ]
    },
    {
     "name": "stderr",
     "output_type": "stream",
     "text": [
      "The pdf_infer_table_structure kwarg is deprecated. Please use skip_infer_table_types instead.\n",
      "The pdf_infer_table_structure kwarg is deprecated. Please use skip_infer_table_types instead.\n",
      "The pdf_infer_table_structure kwarg is deprecated. Please use skip_infer_table_types instead.\n",
      "The pdf_infer_table_structure kwarg is deprecated. Please use skip_infer_table_types instead.\n"
     ]
    },
    {
     "name": "stdout",
     "output_type": "stream",
     "text": [
      "File: /Users/antonio/Documents/11211SW82PL/Alarm Registration.pdf\n",
      "File: /Users/antonio/Documents/11211SW82PL/.DS_Store\n",
      "File: /Users/antonio/Documents/11211SW82PL/210326 Dryer Order.pdf\n",
      "File: /Users/antonio/Documents/11211SW82PL/211015 LZRoofing Contract.pdf\n",
      "File: /Users/antonio/Documents/11211SW82PL/11211 Home Automation.docx\n",
      "File: /Users/antonio/Documents/11211SW82PL/alarm-registration-form.pdf\n"
     ]
    },
    {
     "name": "stderr",
     "output_type": "stream",
     "text": [
      "The pdf_infer_table_structure kwarg is deprecated. Please use skip_infer_table_types instead.\n"
     ]
    },
    {
     "name": "stdout",
     "output_type": "stream",
     "text": [
      "File: /Users/antonio/Documents/11211SW82PL/Title Transfer/11211 Title Policy.pdf\n"
     ]
    },
    {
     "name": "stderr",
     "output_type": "stream",
     "text": [
      "The pdf_infer_table_structure kwarg is deprecated. Please use skip_infer_table_types instead.\n"
     ]
    },
    {
     "name": "stdout",
     "output_type": "stream",
     "text": [
      "File: /Users/antonio/Documents/11211SW82PL/Title Transfer/p523.pdf\n"
     ]
    },
    {
     "name": "stderr",
     "output_type": "stream",
     "text": [
      "The pdf_infer_table_structure kwarg is deprecated. Please use skip_infer_table_types instead.\n",
      "The pdf_infer_table_structure kwarg is deprecated. Please use skip_infer_table_types instead.\n",
      "The pdf_infer_table_structure kwarg is deprecated. Please use skip_infer_table_types instead.\n"
     ]
    },
    {
     "name": "stdout",
     "output_type": "stream",
     "text": [
      "File: /Users/antonio/Documents/11211SW82PL/Title Transfer/Pisani Recorded Deed.pdf\n",
      "File: /Users/antonio/Documents/11211SW82PL/Title Transfer/Cost Basis 11211.xlsx\n",
      "File: /Users/antonio/Documents/11211SW82PL/Title Transfer/QCD 11211.pdf\n",
      "File: /Users/antonio/Documents/11211SW82PL/Title Transfer/p527.pdf\n"
     ]
    },
    {
     "name": "stderr",
     "output_type": "stream",
     "text": [
      "The pdf_infer_table_structure kwarg is deprecated. Please use skip_infer_table_types instead.\n",
      "The pdf_infer_table_structure kwarg is deprecated. Please use skip_infer_table_types instead.\n",
      "The pdf_infer_table_structure kwarg is deprecated. Please use skip_infer_table_types instead.\n",
      "The pdf_infer_table_structure kwarg is deprecated. Please use skip_infer_table_types instead.\n"
     ]
    },
    {
     "name": "stdout",
     "output_type": "stream",
     "text": [
      "File: /Users/antonio/Documents/11211SW82PL/Title Transfer/Closing 11211.pdf\n",
      "File: /Users/antonio/Documents/11211SW82PL/Title Transfer/Pisani Title Insurance Policy 11211.pdf\n",
      "File: /Users/antonio/Documents/11211SW82PL/2020/201228 Rain Gutters receipt.pdf\n",
      "File: /Users/antonio/Documents/11211SW82PL/2020/201117 Mold Remediation.pdf\n"
     ]
    },
    {
     "name": "stderr",
     "output_type": "stream",
     "text": [
      "The pdf_infer_table_structure kwarg is deprecated. Please use skip_infer_table_types instead.\n",
      "The pdf_infer_table_structure kwarg is deprecated. Please use skip_infer_table_types instead.\n",
      "The pdf_infer_table_structure kwarg is deprecated. Please use skip_infer_table_types instead.\n"
     ]
    },
    {
     "name": "stdout",
     "output_type": "stream",
     "text": [
      "File: /Users/antonio/Documents/11211SW82PL/2020/201102 Mold Inspection Receipt.pdf\n",
      "File: /Users/antonio/Documents/11211SW82PL/2020/201101 Mold Inspection Invoice 1434.pdf\n",
      "File: /Users/antonio/Documents/11211SW82PL/2020/11211SW82PL LLC 2020.xlsx\n",
      "File: /Users/antonio/Documents/11211SW82PL/2020/201006 Spray_Foam.pdf\n"
     ]
    },
    {
     "name": "stderr",
     "output_type": "stream",
     "text": [
      "The pdf_infer_table_structure kwarg is deprecated. Please use skip_infer_table_types instead.\n",
      "The pdf_infer_table_structure kwarg is deprecated. Please use skip_infer_table_types instead.\n"
     ]
    },
    {
     "name": "stdout",
     "output_type": "stream",
     "text": [
      "File: /Users/antonio/Documents/11211SW82PL/2020/201020 Duct Pro LLC invoice 507.pdf\n",
      "File: /Users/antonio/Documents/11211SW82PL/2020/11211SW82PLLLC 2020.pdf\n"
     ]
    },
    {
     "name": "stderr",
     "output_type": "stream",
     "text": [
      "The pdf_infer_table_structure kwarg is deprecated. Please use skip_infer_table_types instead.\n",
      "The MIME type of '/Users/antonio/Documents/11211SW82PL/2020/Walk-Through/Moment-20200915153141612.MOV' is 'video/quicktime'. This file type is not currently supported in unstructured.\n",
      "The MIME type of '/Users/antonio/Documents/11211SW82PL/2020/Walk-Through/IMG_0928.MOV' is 'video/quicktime'. This file type is not currently supported in unstructured.\n",
      "The MIME type of '/Users/antonio/Documents/11211SW82PL/2020/Walk-Through/Moment-20200915152900859.MOV' is 'video/quicktime'. This file type is not currently supported in unstructured.\n",
      "The MIME type of '/Users/antonio/Documents/11211SW82PL/2020/Walk-Through/IMG_0929.MOV' is 'video/quicktime'. This file type is not currently supported in unstructured.\n",
      "The MIME type of '/Users/antonio/Documents/11211SW82PL/2020/Walk-Through/IMG_0939.MOV' is 'video/quicktime'. This file type is not currently supported in unstructured.\n",
      "The MIME type of '/Users/antonio/Documents/11211SW82PL/2020/Walk-Through/Moment-20200915151140366.MOV' is 'video/quicktime'. This file type is not currently supported in unstructured.\n",
      "The MIME type of '/Users/antonio/Documents/11211SW82PL/2020/Walk-Through/IMG_0938.MOV' is 'video/quicktime'. This file type is not currently supported in unstructured.\n",
      "The MIME type of '/Users/antonio/Documents/11211SW82PL/2020/Walk-Through/Moment-20200915150915928.MOV' is 'video/quicktime'. This file type is not currently supported in unstructured.\n",
      "The MIME type of '/Users/antonio/Documents/11211SW82PL/2020/Walk-Through/Moment-20200915150946547.MOV' is 'video/quicktime'. This file type is not currently supported in unstructured.\n",
      "The MIME type of '/Users/antonio/Documents/11211SW82PL/2020/Walk-Through/IMG_0940.MOV' is 'video/quicktime'. This file type is not currently supported in unstructured.\n",
      "The MIME type of '/Users/antonio/Documents/11211SW82PL/2020/Walk-Through/IMG_0922.MOV' is 'video/quicktime'. This file type is not currently supported in unstructured.\n",
      "The MIME type of '/Users/antonio/Documents/11211SW82PL/2020/Walk-Through/IMG_0936.MOV' is 'video/quicktime'. This file type is not currently supported in unstructured.\n",
      "The MIME type of '/Users/antonio/Documents/11211SW82PL/2020/Walk-Through/Moment-20200915151021152.MOV' is 'video/quicktime'. This file type is not currently supported in unstructured.\n",
      "The MIME type of '/Users/antonio/Documents/11211SW82PL/2020/Walk-Through/IMG_0937.MOV' is 'video/quicktime'. This file type is not currently supported in unstructured.\n",
      "The MIME type of '/Users/antonio/Documents/11211SW82PL/2020/Walk-Through/IMG_0935.MOV' is 'video/quicktime'. This file type is not currently supported in unstructured.\n",
      "The MIME type of '/Users/antonio/Documents/11211SW82PL/2020/Walk-Through/Moment-20200915152541314.MOV' is 'video/quicktime'. This file type is not currently supported in unstructured.\n",
      "The MIME type of '/Users/antonio/Documents/11211SW82PL/2020/Walk-Through/IMG_0934.MOV' is 'video/quicktime'. This file type is not currently supported in unstructured.\n",
      "The MIME type of '/Users/antonio/Documents/11211SW82PL/2020/Walk-Through/IMG_0930.MOV' is 'video/quicktime'. This file type is not currently supported in unstructured.\n",
      "The MIME type of '/Users/antonio/Documents/11211SW82PL/2020/Walk-Through/IMG_0925.MOV' is 'video/quicktime'. This file type is not currently supported in unstructured.\n",
      "The MIME type of '/Users/antonio/Documents/11211SW82PL/2020/Walk-Through/IMG_0931.MOV' is 'video/quicktime'. This file type is not currently supported in unstructured.\n",
      "The MIME type of '/Users/antonio/Documents/11211SW82PL/2020/Walk-Through/IMG_0927.MOV' is 'video/quicktime'. This file type is not currently supported in unstructured.\n",
      "The MIME type of '/Users/antonio/Documents/11211SW82PL/2020/Walk-Through/IMG_0933.MOV' is 'video/quicktime'. This file type is not currently supported in unstructured.\n",
      "The MIME type of '/Users/antonio/Documents/11211SW82PL/2020/Walk-Through/IMG_0932.MOV' is 'video/quicktime'. This file type is not currently supported in unstructured.\n",
      "The MIME type of '/Users/antonio/Documents/11211SW82PL/2020/Walk-Through/IMG_0926.MOV' is 'video/quicktime'. This file type is not currently supported in unstructured.\n"
     ]
    },
    {
     "name": "stdout",
     "output_type": "stream",
     "text": [
      "File: /Users/antonio/Documents/11211SW82PL/2020/201223 Rain Gutters Invoice 1365.pdf\n",
      "File: /Users/antonio/Documents/11211SW82PL/2020/Walk-Through/Moment-20200915153141612.MOV\n",
      "***Error: Invalid file /Users/antonio/Documents/11211SW82PL/2020/Walk-Through/Moment-20200915153141612.MOV. The FileType.UNK file type is not supported in partition.\n",
      "File: /Users/antonio/Documents/11211SW82PL/2020/Walk-Through/IMG_0928.MOV\n",
      "***Error: Invalid file /Users/antonio/Documents/11211SW82PL/2020/Walk-Through/IMG_0928.MOV. The FileType.UNK file type is not supported in partition.\n",
      "File: /Users/antonio/Documents/11211SW82PL/2020/Walk-Through/Moment-20200915152900859.MOV\n",
      "***Error: Invalid file /Users/antonio/Documents/11211SW82PL/2020/Walk-Through/Moment-20200915152900859.MOV. The FileType.UNK file type is not supported in partition.\n",
      "File: /Users/antonio/Documents/11211SW82PL/2020/Walk-Through/IMG_0929.MOV\n",
      "***Error: Invalid file /Users/antonio/Documents/11211SW82PL/2020/Walk-Through/IMG_0929.MOV. The FileType.UNK file type is not supported in partition.\n",
      "File: /Users/antonio/Documents/11211SW82PL/2020/Walk-Through/IMG_0939.MOV\n",
      "***Error: Invalid file /Users/antonio/Documents/11211SW82PL/2020/Walk-Through/IMG_0939.MOV. The FileType.UNK file type is not supported in partition.\n",
      "File: /Users/antonio/Documents/11211SW82PL/2020/Walk-Through/Moment-20200915151140366.MOV\n",
      "***Error: Invalid file /Users/antonio/Documents/11211SW82PL/2020/Walk-Through/Moment-20200915151140366.MOV. The FileType.UNK file type is not supported in partition.\n",
      "File: /Users/antonio/Documents/11211SW82PL/2020/Walk-Through/IMG_0938.MOV\n",
      "***Error: Invalid file /Users/antonio/Documents/11211SW82PL/2020/Walk-Through/IMG_0938.MOV. The FileType.UNK file type is not supported in partition.\n",
      "File: /Users/antonio/Documents/11211SW82PL/2020/Walk-Through/Moment-20200915150915928.MOV\n",
      "***Error: Invalid file /Users/antonio/Documents/11211SW82PL/2020/Walk-Through/Moment-20200915150915928.MOV. The FileType.UNK file type is not supported in partition.\n",
      "File: /Users/antonio/Documents/11211SW82PL/2020/Walk-Through/Moment-20200915150946547.MOV\n",
      "***Error: Invalid file /Users/antonio/Documents/11211SW82PL/2020/Walk-Through/Moment-20200915150946547.MOV. The FileType.UNK file type is not supported in partition.\n",
      "File: /Users/antonio/Documents/11211SW82PL/2020/Walk-Through/IMG_0940.MOV\n",
      "***Error: Invalid file /Users/antonio/Documents/11211SW82PL/2020/Walk-Through/IMG_0940.MOV. The FileType.UNK file type is not supported in partition.\n",
      "File: /Users/antonio/Documents/11211SW82PL/2020/Walk-Through/IMG_0922.MOV\n",
      "***Error: Invalid file /Users/antonio/Documents/11211SW82PL/2020/Walk-Through/IMG_0922.MOV. The FileType.UNK file type is not supported in partition.\n",
      "File: /Users/antonio/Documents/11211SW82PL/2020/Walk-Through/IMG_0936.MOV\n",
      "***Error: Invalid file /Users/antonio/Documents/11211SW82PL/2020/Walk-Through/IMG_0936.MOV. The FileType.UNK file type is not supported in partition.\n",
      "File: /Users/antonio/Documents/11211SW82PL/2020/Walk-Through/Moment-20200915151021152.MOV\n",
      "***Error: Invalid file /Users/antonio/Documents/11211SW82PL/2020/Walk-Through/Moment-20200915151021152.MOV. The FileType.UNK file type is not supported in partition.\n",
      "File: /Users/antonio/Documents/11211SW82PL/2020/Walk-Through/IMG_0937.MOV\n",
      "***Error: Invalid file /Users/antonio/Documents/11211SW82PL/2020/Walk-Through/IMG_0937.MOV. The FileType.UNK file type is not supported in partition.\n",
      "File: /Users/antonio/Documents/11211SW82PL/2020/Walk-Through/IMG_0935.MOV\n",
      "***Error: Invalid file /Users/antonio/Documents/11211SW82PL/2020/Walk-Through/IMG_0935.MOV. The FileType.UNK file type is not supported in partition.\n",
      "File: /Users/antonio/Documents/11211SW82PL/2020/Walk-Through/Moment-20200915152541314.MOV\n",
      "***Error: Invalid file /Users/antonio/Documents/11211SW82PL/2020/Walk-Through/Moment-20200915152541314.MOV. The FileType.UNK file type is not supported in partition.\n",
      "File: /Users/antonio/Documents/11211SW82PL/2020/Walk-Through/IMG_0934.MOV\n",
      "***Error: Invalid file /Users/antonio/Documents/11211SW82PL/2020/Walk-Through/IMG_0934.MOV. The FileType.UNK file type is not supported in partition.\n",
      "File: /Users/antonio/Documents/11211SW82PL/2020/Walk-Through/IMG_0930.MOV\n",
      "***Error: Invalid file /Users/antonio/Documents/11211SW82PL/2020/Walk-Through/IMG_0930.MOV. The FileType.UNK file type is not supported in partition.\n",
      "File: /Users/antonio/Documents/11211SW82PL/2020/Walk-Through/IMG_0925.MOV\n",
      "***Error: Invalid file /Users/antonio/Documents/11211SW82PL/2020/Walk-Through/IMG_0925.MOV. The FileType.UNK file type is not supported in partition.\n",
      "File: /Users/antonio/Documents/11211SW82PL/2020/Walk-Through/IMG_0931.MOV\n",
      "***Error: Invalid file /Users/antonio/Documents/11211SW82PL/2020/Walk-Through/IMG_0931.MOV. The FileType.UNK file type is not supported in partition.\n",
      "File: /Users/antonio/Documents/11211SW82PL/2020/Walk-Through/IMG_0927.MOV\n",
      "***Error: Invalid file /Users/antonio/Documents/11211SW82PL/2020/Walk-Through/IMG_0927.MOV. The FileType.UNK file type is not supported in partition.\n",
      "File: /Users/antonio/Documents/11211SW82PL/2020/Walk-Through/IMG_0933.MOV\n",
      "***Error: Invalid file /Users/antonio/Documents/11211SW82PL/2020/Walk-Through/IMG_0933.MOV. The FileType.UNK file type is not supported in partition.\n",
      "File: /Users/antonio/Documents/11211SW82PL/2020/Walk-Through/IMG_0932.MOV\n",
      "***Error: Invalid file /Users/antonio/Documents/11211SW82PL/2020/Walk-Through/IMG_0932.MOV. The FileType.UNK file type is not supported in partition.\n",
      "File: /Users/antonio/Documents/11211SW82PL/2020/Walk-Through/IMG_0926.MOV\n",
      "***Error: Invalid file /Users/antonio/Documents/11211SW82PL/2020/Walk-Through/IMG_0926.MOV. The FileType.UNK file type is not supported in partition.\n",
      "File: /Users/antonio/Documents/11211SW82PL/2020/Mold Damage/IMG_2083.HEIC\n",
      "File: /Users/antonio/Documents/11211SW82PL/2020/Mold Damage/IMG_2082.HEIC\n",
      "File: /Users/antonio/Documents/11211SW82PL/2020/Mold Damage/IMG_2089.HEIC\n",
      "File: /Users/antonio/Documents/11211SW82PL/2020/Mold Damage/IMG_2085.HEIC\n",
      "File: /Users/antonio/Documents/11211SW82PL/2020/Mold Damage/IMG_2084.HEIC\n",
      "File: /Users/antonio/Documents/11211SW82PL/2020/Mold Damage/IMG_2077.JPG\n",
      "File: /Users/antonio/Documents/11211SW82PL/2020/Mold Damage/IMG_2088.HEIC\n",
      "File: /Users/antonio/Documents/11211SW82PL/2020/Mold Damage/IMG_2078.JPG\n",
      "File: /Users/antonio/Documents/11211SW82PL/2020/Mold Damage/IMG_2079.JPG\n",
      "File: /Users/antonio/Documents/11211SW82PL/2020/Mold Damage/IMG_2087.HEIC\n",
      "File: /Users/antonio/Documents/11211SW82PL/2020/Mold Damage/IMG_2081.HEIC\n",
      "File: /Users/antonio/Documents/11211SW82PL/2020/Mold Damage/IMG_2080.HEIC\n"
     ]
    },
    {
     "name": "stderr",
     "output_type": "stream",
     "text": [
      "The pdf_infer_table_structure kwarg is deprecated. Please use skip_infer_table_types instead.\n",
      "The pdf_infer_table_structure kwarg is deprecated. Please use skip_infer_table_types instead.\n"
     ]
    },
    {
     "name": "stdout",
     "output_type": "stream",
     "text": [
      "File: /Users/antonio/Documents/11211SW82PL/Accountant/Tax Memorandum_Antonio Pisani.pdf\n",
      "File: /Users/antonio/Documents/11211SW82PL/Accountant/Tax Memorandum_Antonio Pisani Answers.pdf\n"
     ]
    },
    {
     "name": "stderr",
     "output_type": "stream",
     "text": [
      "The pdf_infer_table_structure kwarg is deprecated. Please use skip_infer_table_types instead.\n",
      "The pdf_infer_table_structure kwarg is deprecated. Please use skip_infer_table_types instead.\n",
      "The pdf_infer_table_structure kwarg is deprecated. Please use skip_infer_table_types instead.\n",
      "The pdf_infer_table_structure kwarg is deprecated. Please use skip_infer_table_types instead.\n",
      "The pdf_infer_table_structure kwarg is deprecated. Please use skip_infer_table_types instead.\n",
      "The pdf_infer_table_structure kwarg is deprecated. Please use skip_infer_table_types instead.\n",
      "The pdf_infer_table_structure kwarg is deprecated. Please use skip_infer_table_types instead.\n",
      "The pdf_infer_table_structure kwarg is deprecated. Please use skip_infer_table_types instead.\n"
     ]
    },
    {
     "name": "stdout",
     "output_type": "stream",
     "text": [
      "File: /Users/antonio/Documents/11211SW82PL/Accountant/Accountant.docx\n",
      "File: /Users/antonio/Documents/11211SW82PL/Accountant/statements_2020-04-23_2020-05-22/T301745282.pdf\n",
      "File: /Users/antonio/Documents/11211SW82PL/Accountant/statements_2020-04-23_2020-05-22/T301745281.pdf\n",
      "File: /Users/antonio/Documents/11211SW82PL/Accountant/statements_2020-04-23_2020-05-22/T302940115.pdf\n",
      "File: /Users/antonio/Documents/11211SW82PL/Accountant/statements_2020-04-23_2020-05-22/T302940116.pdf\n",
      "File: /Users/antonio/Documents/11211SW82PL/Accountant/statements_2020-04-23_2020-05-22/T302940162.pdf\n",
      "File: /Users/antonio/Documents/11211SW82PL/Accountant/statements_2020-04-23_2020-05-22/T302940161.pdf\n",
      "File: /Users/antonio/Documents/11211SW82PL/Incfile/Incfile Receipt.pdf\n",
      "File: /Users/antonio/Documents/11211SW82PL/Incfile/Incfile_Start_Your_Business_Checklist.pdf\n"
     ]
    },
    {
     "name": "stderr",
     "output_type": "stream",
     "text": [
      "The pdf_infer_table_structure kwarg is deprecated. Please use skip_infer_table_types instead.\n",
      "The pdf_infer_table_structure kwarg is deprecated. Please use skip_infer_table_types instead.\n",
      "The pdf_infer_table_structure kwarg is deprecated. Please use skip_infer_table_types instead.\n",
      "The pdf_infer_table_structure kwarg is deprecated. Please use skip_infer_table_types instead.\n",
      "The pdf_infer_table_structure kwarg is deprecated. Please use skip_infer_table_types instead.\n"
     ]
    },
    {
     "name": "stdout",
     "output_type": "stream",
     "text": [
      "File: /Users/antonio/Documents/11211SW82PL/Lease Contract/Horta/Pool Addendum.pdf\n",
      "File: /Users/antonio/Documents/11211SW82PL/Lease Contract/Horta/Hurricane Addendum.docx\n",
      "File: /Users/antonio/Documents/11211SW82PL/Lease Contract/Horta/200730 Contract to Lease 11211.pdf\n",
      "File: /Users/antonio/Documents/11211SW82PL/Lease Contract/Horta/200915 11211 Walk-Thru.pdf\n",
      "File: /Users/antonio/Documents/11211SW82PL/Lease Contract/Horta/200731 Lease Contract 11211 Executed.pdf\n",
      "File: /Users/antonio/Documents/11211SW82PL/Lease Contract/Horta/200730 Lease Contract Base.pdf\n"
     ]
    },
    {
     "name": "stderr",
     "output_type": "stream",
     "text": [
      "The pdf_infer_table_structure kwarg is deprecated. Please use skip_infer_table_types instead.\n",
      "The pdf_infer_table_structure kwarg is deprecated. Please use skip_infer_table_types instead.\n",
      "The pdf_infer_table_structure kwarg is deprecated. Please use skip_infer_table_types instead.\n"
     ]
    },
    {
     "name": "stdout",
     "output_type": "stream",
     "text": [
      "File: /Users/antonio/Documents/11211SW82PL/Lease Contract/Horta/210815 Lease Contract 11211.pdf\n",
      "File: /Users/antonio/Documents/11211SW82PL/Lease Contract/Horta/210815 Lease Contract 11211 Executed.pdf\n",
      "File: /Users/antonio/Documents/11211SW82PL/Lease Contract/Horta/200730 Lease Contract 11211.pdf\n"
     ]
    },
    {
     "name": "stderr",
     "output_type": "stream",
     "text": [
      "The pdf_infer_table_structure kwarg is deprecated. Please use skip_infer_table_types instead.\n",
      "The pdf_infer_table_structure kwarg is deprecated. Please use skip_infer_table_types instead.\n",
      "The pdf_infer_table_structure kwarg is deprecated. Please use skip_infer_table_types instead.\n"
     ]
    },
    {
     "name": "stdout",
     "output_type": "stream",
     "text": [
      "File: /Users/antonio/Documents/11211SW82PL/Lease Contract/Horta/General Addendum.docx\n",
      "File: /Users/antonio/Documents/11211SW82PL/Lease Contract/Horta/Hurricane Addendum.pdf\n",
      "File: /Users/antonio/Documents/11211SW82PL/Lease Contract/Horta/200731 Addendum C 1211.pdf\n",
      "File: /Users/antonio/Documents/11211SW82PL/Lease Contract/Horta/200803 Escrow Letter.pdf\n",
      "File: /Users/antonio/Documents/11211SW82PL/Lease Contract/Horta/Pool Addendum.docx\n",
      "File: /Users/antonio/Documents/11211SW82PL/Lease Contract/Horta/General Addendum 2nd Year.docx\n"
     ]
    },
    {
     "name": "stderr",
     "output_type": "stream",
     "text": [
      "The pdf_infer_table_structure kwarg is deprecated. Please use skip_infer_table_types instead.\n",
      "The pdf_infer_table_structure kwarg is deprecated. Please use skip_infer_table_types instead.\n",
      "The pdf_infer_table_structure kwarg is deprecated. Please use skip_infer_table_types instead.\n",
      "The pdf_infer_table_structure kwarg is deprecated. Please use skip_infer_table_types instead.\n",
      "The pdf_infer_table_structure kwarg is deprecated. Please use skip_infer_table_types instead.\n"
     ]
    },
    {
     "name": "stdout",
     "output_type": "stream",
     "text": [
      "File: /Users/antonio/Documents/11211SW82PL/Lease Contract/Horta/200730 Contract to Lease 11211 Signed.pdf\n",
      "File: /Users/antonio/Documents/11211SW82PL/Lease Contract/Horta/General Addendum.pdf\n",
      "File: /Users/antonio/Documents/11211SW82PL/Lease Contract/Rodriguez/200714 Contract to Lease R&H.pdf\n",
      "File: /Users/antonio/Documents/11211SW82PL/Lease Contract/Poignant/Pool Addendum.pdf\n",
      "File: /Users/antonio/Documents/11211SW82PL/Lease Contract/Poignant/200712 Contract to Lease 11211 Modified.pdf\n"
     ]
    },
    {
     "name": "stderr",
     "output_type": "stream",
     "text": [
      "The pdf_infer_table_structure kwarg is deprecated. Please use skip_infer_table_types instead.\n",
      "The pdf_infer_table_structure kwarg is deprecated. Please use skip_infer_table_types instead.\n"
     ]
    },
    {
     "name": "stdout",
     "output_type": "stream",
     "text": [
      "File: /Users/antonio/Documents/11211SW82PL/Lease Contract/Poignant/Hurricane Addendum.docx\n",
      "File: /Users/antonio/Documents/11211SW82PL/Lease Contract/Poignant/200721 Contract to Lease 11211 Signed.pdf\n",
      "File: /Users/antonio/Documents/11211SW82PL/Lease Contract/Poignant/200727 Lease 11211 Signed by Tenants.pdf\n"
     ]
    },
    {
     "name": "stderr",
     "output_type": "stream",
     "text": [
      "The pdf_infer_table_structure kwarg is deprecated. Please use skip_infer_table_types instead.\n",
      "The pdf_infer_table_structure kwarg is deprecated. Please use skip_infer_table_types instead.\n",
      "The pdf_infer_table_structure kwarg is deprecated. Please use skip_infer_table_types instead.\n"
     ]
    },
    {
     "name": "stdout",
     "output_type": "stream",
     "text": [
      "File: /Users/antonio/Documents/11211SW82PL/Lease Contract/Poignant/200712 Contract to Lease 11211.pdf\n",
      "File: /Users/antonio/Documents/11211SW82PL/Lease Contract/Poignant/200728 Lease 11211 Signed.pdf\n",
      "File: /Users/antonio/Documents/11211SW82PL/Lease Contract/Poignant/200722 Lease Contract Base.pdf\n"
     ]
    },
    {
     "name": "stderr",
     "output_type": "stream",
     "text": [
      "The pdf_infer_table_structure kwarg is deprecated. Please use skip_infer_table_types instead.\n",
      "The pdf_infer_table_structure kwarg is deprecated. Please use skip_infer_table_types instead.\n",
      "The pdf_infer_table_structure kwarg is deprecated. Please use skip_infer_table_types instead.\n",
      "The pdf_infer_table_structure kwarg is deprecated. Please use skip_infer_table_types instead.\n"
     ]
    },
    {
     "name": "stdout",
     "output_type": "stream",
     "text": [
      "File: /Users/antonio/Documents/11211SW82PL/Lease Contract/Poignant/General Addendum.docx\n",
      "File: /Users/antonio/Documents/11211SW82PL/Lease Contract/Poignant/200713 Contract to Lease 11211 Signed.pdf\n",
      "File: /Users/antonio/Documents/11211SW82PL/Lease Contract/Poignant/Hurricane Addendum.pdf\n",
      "File: /Users/antonio/Documents/11211SW82PL/Lease Contract/Poignant/Pool Addendum.docx\n",
      "File: /Users/antonio/Documents/11211SW82PL/Lease Contract/Poignant/200727 Lease 11211 Signed.pdf\n",
      "File: /Users/antonio/Documents/11211SW82PL/Lease Contract/Poignant/General Addendum.pdf\n"
     ]
    },
    {
     "name": "stderr",
     "output_type": "stream",
     "text": [
      "The pdf_infer_table_structure kwarg is deprecated. Please use skip_infer_table_types instead.\n",
      "The pdf_infer_table_structure kwarg is deprecated. Please use skip_infer_table_types instead.\n",
      "The pdf_infer_table_structure kwarg is deprecated. Please use skip_infer_table_types instead.\n",
      "The pdf_infer_table_structure kwarg is deprecated. Please use skip_infer_table_types instead.\n"
     ]
    },
    {
     "name": "stdout",
     "output_type": "stream",
     "text": [
      "File: /Users/antonio/Documents/11211SW82PL/Creation Documents/Statement of the Organizaer.pdf\n",
      "File: /Users/antonio/Documents/11211SW82PL/Creation Documents/Banking Resolution.pdf\n",
      "File: /Users/antonio/Documents/11211SW82PL/Creation Documents/Operating Agreement.pdf\n",
      "File: /Users/antonio/Documents/11211SW82PL/Creation Documents/Articles of Incorporation.pdf\n"
     ]
    },
    {
     "name": "stderr",
     "output_type": "stream",
     "text": [
      "The pdf_infer_table_structure kwarg is deprecated. Please use skip_infer_table_types instead.\n",
      "The pdf_infer_table_structure kwarg is deprecated. Please use skip_infer_table_types instead.\n",
      "The pdf_infer_table_structure kwarg is deprecated. Please use skip_infer_table_types instead.\n",
      "The pdf_infer_table_structure kwarg is deprecated. Please use skip_infer_table_types instead.\n"
     ]
    },
    {
     "name": "stdout",
     "output_type": "stream",
     "text": [
      "File: /Users/antonio/Documents/11211SW82PL/Creation Documents/EIN.pdf\n",
      "File: /Users/antonio/Documents/11211SW82PL/Insurance/200708 CItizen Appliaction 11211.pdf\n",
      "File: /Users/antonio/Documents/11211SW82PL/Insurance/200708 CItizen Appliaction 11211 Initials.pdf\n",
      "File: /Users/antonio/Documents/11211SW82PL/Insurance/210423 Citizens Page 1.pdf\n"
     ]
    },
    {
     "name": "stderr",
     "output_type": "stream",
     "text": [
      "The pdf_infer_table_structure kwarg is deprecated. Please use skip_infer_table_types instead.\n",
      "The pdf_infer_table_structure kwarg is deprecated. Please use skip_infer_table_types instead.\n"
     ]
    },
    {
     "name": "stdout",
     "output_type": "stream",
     "text": [
      "File: /Users/antonio/Documents/11211SW82PL/Insurance/200708 Liability Appliaction 11211.pdf\n",
      "File: /Users/antonio/Documents/11211SW82PL/Insurance/210423 Citizens Page 3.pdf\n"
     ]
    },
    {
     "name": "stderr",
     "output_type": "stream",
     "text": [
      "The pdf_infer_table_structure kwarg is deprecated. Please use skip_infer_table_types instead.\n"
     ]
    },
    {
     "name": "stdout",
     "output_type": "stream",
     "text": [
      "File: /Users/antonio/Documents/11211SW82PL/Insurance/210423 Citizens Page 2.pdf\n"
     ]
    },
    {
     "name": "stderr",
     "output_type": "stream",
     "text": [
      "The pdf_infer_table_structure kwarg is deprecated. Please use skip_infer_table_types instead.\n",
      "The pdf_infer_table_structure kwarg is deprecated. Please use skip_infer_table_types instead.\n"
     ]
    },
    {
     "name": "stdout",
     "output_type": "stream",
     "text": [
      "File: /Users/antonio/Documents/11211SW82PL/Insurance/210825 Flood.pdf\n",
      "File: /Users/antonio/Documents/11211SW82PL/Insurance/210423 Citizens Page 4.pdf\n"
     ]
    },
    {
     "name": "stderr",
     "output_type": "stream",
     "text": [
      "The pdf_infer_table_structure kwarg is deprecated. Please use skip_infer_table_types instead.\n",
      "The pdf_infer_table_structure kwarg is deprecated. Please use skip_infer_table_types instead.\n"
     ]
    },
    {
     "name": "stdout",
     "output_type": "stream",
     "text": [
      "File: /Users/antonio/Documents/11211SW82PL/Insurance/200923 Flood Pisani.pdf\n",
      "File: /Users/antonio/Documents/11211SW82PL/Insurance/Dec PageNew Buss Liability.pdf\n"
     ]
    },
    {
     "name": "stderr",
     "output_type": "stream",
     "text": [
      "The pdf_infer_table_structure kwarg is deprecated. Please use skip_infer_table_types instead.\n",
      "The pdf_infer_table_structure kwarg is deprecated. Please use skip_infer_table_types instead.\n"
     ]
    },
    {
     "name": "stdout",
     "output_type": "stream",
     "text": [
      "File: /Users/antonio/Documents/11211SW82PL/Insurance/210617 Application Package CPLI 071421.pdf\n",
      "File: /Users/antonio/Documents/11211SW82PL/Insurance/Citizens Policy Jacket DP3 07072020.pdf\n",
      "File: /Users/antonio/Documents/Scanned Documents/Senior (2).jpg\n",
      "File: /Users/antonio/Documents/Scanned Documents/199907 Compaq Venezuela Farewell.jpg\n",
      "File: /Users/antonio/Documents/Scanned Documents/AJRADJPP.jpg\n",
      "File: /Users/antonio/Documents/Scanned Documents/.DS_Store\n",
      "File: /Users/antonio/Documents/Scanned Documents/Senior.jpg\n",
      "File: /Users/antonio/Documents/Scanned Documents/19621219 Nancy.jpg\n",
      "File: /Users/antonio/Documents/Scanned Documents/scan0002.tif\n",
      "File: /Users/antonio/Documents/Scanned Documents/scan0001.tif\n",
      "File: /Users/antonio/Documents/Scanned Documents/HC.jpg\n",
      "File: /Users/antonio/Documents/Scanned Documents/.picasa.ini\n",
      "File: /Users/antonio/Documents/Scanned Documents/scan0001 (2).tif\n",
      "File: /Users/antonio/Documents/Scanned Documents/Nancy.jpg\n",
      "File: /Users/antonio/Documents/Scanned Documents/HC (2).jpg\n",
      "File: /Users/antonio/Documents/Scanned Documents/scan0002 (2).tif\n",
      "File: /Users/antonio/Documents/Scanned Documents/Carlos Soccer Banquet/scan0003.jpg\n",
      "File: /Users/antonio/Documents/Scanned Documents/Carlos Soccer Banquet/scan0002.jpg\n",
      "File: /Users/antonio/Documents/Scanned Documents/Carlos Soccer Banquet/scan0001.jpg\n",
      "File: /Users/antonio/Documents/Scanned Documents/Carlos Soccer Banquet/scan0011.jpg\n",
      "File: /Users/antonio/Documents/Scanned Documents/Carlos Soccer Banquet/scan0005.jpg\n",
      "File: /Users/antonio/Documents/Scanned Documents/Carlos Soccer Banquet/scan0004.jpg\n",
      "File: /Users/antonio/Documents/Scanned Documents/Carlos Soccer Banquet/scan0010.jpg\n",
      "File: /Users/antonio/Documents/Scanned Documents/Carlos Soccer Banquet/Carlos Pisani 8y.jpg\n",
      "File: /Users/antonio/Documents/Scanned Documents/Carlos Soccer Banquet/scan0006.jpg\n",
      "File: /Users/antonio/Documents/Scanned Documents/Carlos Soccer Banquet/scan0012.jpg\n",
      "File: /Users/antonio/Documents/Scanned Documents/Carlos Soccer Banquet/scan0007.jpg\n",
      "File: /Users/antonio/Documents/Scanned Documents/Carlos Soccer Banquet/Carlos Pisani 18.jpg\n",
      "File: /Users/antonio/Documents/Scanned Documents/Carlos Soccer Banquet/.picasa.ini\n",
      "File: /Users/antonio/Documents/Scanned Documents/Carlos Soccer Banquet/Carlos Pisani 18y.jpg\n",
      "File: /Users/antonio/Documents/Scanned Documents/Carlos Soccer Banquet/scan0009.jpg\n",
      "File: /Users/antonio/Documents/Scanned Documents/Carlos Soccer Banquet/scan0008.jpg\n",
      "File: /Users/antonio/Documents/Scanned Documents/Carlos Soccer Banquet/Carlos Pisani 8.jpg\n",
      "File: /Users/antonio/Documents/Scanned Documents/2006-04 (Apr)/scan0002.jpg\n",
      "File: /Users/antonio/Documents/Scanned Documents/2006-04 (Apr)/scan0001.jpg\n",
      "File: /Users/antonio/Documents/Scanned Documents/2006-04 (Apr)/scan.jpg\n",
      "File: /Users/antonio/Documents/Scanned Documents/2005-03 (Mar)/scan0003.jpg\n",
      "File: /Users/antonio/Documents/Scanned Documents/2005-03 (Mar)/scan0002.jpg\n",
      "File: /Users/antonio/Documents/Scanned Documents/2005-03 (Mar)/scan0001.jpg\n",
      "File: /Users/antonio/Documents/Scanned Documents/2005-03 (Mar)/scan0005.jpg\n",
      "File: /Users/antonio/Documents/Scanned Documents/2005-03 (Mar)/scan0004.jpg\n",
      "File: /Users/antonio/Documents/Scanned Documents/2005-03 (Mar)/scan0006.jpg\n",
      "File: /Users/antonio/Documents/Scanned Documents/2005-03 (Mar)/scan.jpg\n",
      "File: /Users/antonio/Documents/Scanned Documents/2005-10 (Oct)/scan0002.jpg\n",
      "File: /Users/antonio/Documents/Scanned Documents/2005-10 (Oct)/scan0001.jpg\n",
      "File: /Users/antonio/Documents/Scanned Documents/2005-01 (Jan)/scan0003.jpg\n",
      "File: /Users/antonio/Documents/Scanned Documents/2005-01 (Jan)/scan0002.jpg\n",
      "File: /Users/antonio/Documents/Scanned Documents/2005-01 (Jan)/scan0001.jpg\n",
      "File: /Users/antonio/Documents/Scanned Documents/2005-01 (Jan)/scan0004.jpg\n",
      "File: /Users/antonio/Documents/Scanned Documents/2005-01 (Jan)/scan.jpg\n",
      "File: /Users/antonio/Documents/Scanned Documents/Carlos Top Ten/4 Program - Inside.jpg\n",
      "File: /Users/antonio/Documents/Scanned Documents/Carlos Top Ten/5 Certificate.jpg\n",
      "File: /Users/antonio/Documents/Scanned Documents/Carlos Top Ten/6 Rank.jpg\n",
      "File: /Users/antonio/Documents/Scanned Documents/Carlos Top Ten/2 Sticker.jpg\n",
      "File: /Users/antonio/Documents/Scanned Documents/Carlos Top Ten/Napkins.jpg\n",
      "File: /Users/antonio/Documents/Scanned Documents/Carlos Top Ten/3 Program - Outside.jpg\n",
      "File: /Users/antonio/Documents/Scanned Documents/Carlos Top Ten/1 Invitation.jpg\n",
      "File: /Users/antonio/Documents/Scanned Documents/2006-03 (Mar)/scan0001.jpg\n",
      "File: /Users/antonio/Documents/Scanned Documents/2006-03 (Mar)/scan.jpg\n"
     ]
    },
    {
     "name": "stderr",
     "output_type": "stream",
     "text": [
      "The pdf_infer_table_structure kwarg is deprecated. Please use skip_infer_table_types instead.\n"
     ]
    },
    {
     "name": "stdout",
     "output_type": "stream",
     "text": [
      "File: /Users/antonio/Documents/BPOD/Invoice-INV100091.pdf\n",
      "File: /Users/antonio/Documents/BPOD/Template Master Outsource Services Agreement v1.docx\n",
      "File: /Users/antonio/Documents/BPOD/2021-07-27 - Adistec - Referral Fee Agreement (DRAFT).doc\n"
     ]
    },
    {
     "name": "stderr",
     "output_type": "stream",
     "text": [
      "The pdf_infer_table_structure kwarg is deprecated. Please use skip_infer_table_types instead.\n"
     ]
    },
    {
     "name": "stdout",
     "output_type": "stream",
     "text": [
      "File: /Users/antonio/Documents/BPOD/2021-08-23-BPOD - Pisani Referral Fee Agreement Executed.pdf\n",
      "File: /Users/antonio/Documents/BPOD/BPOD v7.pptx\n",
      "File: /Users/antonio/Documents/BPOD/2021-08-06 - BPOD - Referral Fee Agreement (Final) copy.docx\n",
      "File: /Users/antonio/Documents/BPOD/2021-08-06 - BPOD - Referral Fee Agreement (DRAFT).doc\n"
     ]
    },
    {
     "name": "stderr",
     "output_type": "stream",
     "text": [
      "The pdf_infer_table_structure kwarg is deprecated. Please use skip_infer_table_types instead.\n",
      "The pdf_infer_table_structure kwarg is deprecated. Please use skip_infer_table_types instead.\n"
     ]
    },
    {
     "name": "stdout",
     "output_type": "stream",
     "text": [
      "File: /Users/antonio/Documents/BPOD/2021-08-12-BPOD - Pisani Referral Fee Agreement pdf.pdf\n",
      "File: /Users/antonio/Documents/BPOD/2021-08-06 - BPOD - Referral Fee Agreement (Final).docx\n",
      "File: /Users/antonio/Documents/HBR/.DS_Store\n",
      "File: /Users/antonio/Documents/HBR/AI, Machine Learning, Data Analytics/Reshaping Business With Artificial Intelligence.PDF\n"
     ]
    },
    {
     "name": "stderr",
     "output_type": "stream",
     "text": [
      "The pdf_infer_table_structure kwarg is deprecated. Please use skip_infer_table_types instead.\n"
     ]
    },
    {
     "name": "stdout",
     "output_type": "stream",
     "text": [
      "File: /Users/antonio/Documents/HBR/AI, Machine Learning, Data Analytics/.DS_Store\n",
      "File: /Users/antonio/Documents/HBR/AI, Machine Learning, Data Analytics/Prediction Machines.PDF\n"
     ]
    },
    {
     "name": "stderr",
     "output_type": "stream",
     "text": [
      "The pdf_infer_table_structure kwarg is deprecated. Please use skip_infer_table_types instead.\n"
     ]
    },
    {
     "name": "stdout",
     "output_type": "stream",
     "text": [
      "File: /Users/antonio/Documents/HBR/AI, Machine Learning, Data Analytics/Human + Machine.PDF\n"
     ]
    },
    {
     "name": "stderr",
     "output_type": "stream",
     "text": [
      "The pdf_infer_table_structure kwarg is deprecated. Please use skip_infer_table_types instead.\n"
     ]
    },
    {
     "name": "stdout",
     "output_type": "stream",
     "text": [
      "File: /Users/antonio/Documents/HBR/AI, Machine Learning, Data Analytics/Artificial Intelligence for the Real World.PDF\n"
     ]
    },
    {
     "name": "stderr",
     "output_type": "stream",
     "text": [
      "The pdf_infer_table_structure kwarg is deprecated. Please use skip_infer_table_types instead.\n"
     ]
    },
    {
     "name": "stdout",
     "output_type": "stream",
     "text": [
      "File: /Users/antonio/Documents/HBR/AI, Machine Learning, Data Analytics/Data Analytics Basics for Managers.PDF\n"
     ]
    },
    {
     "name": "stderr",
     "output_type": "stream",
     "text": [
      "Invalid dictionary construct: [/'SA', /b'fal', /b'se', /'Type', /'ExtGState']\n",
      "PDF text extraction failed, skip text extraction...\n",
      "The pdf_infer_table_structure kwarg is deprecated. Please use skip_infer_table_types instead.\n"
     ]
    },
    {
     "name": "stdout",
     "output_type": "stream",
     "text": [
      "File: /Users/antonio/Documents/HBR/AI, Machine Learning, Data Analytics/AI and Machine Learning.PDF\n"
     ]
    },
    {
     "name": "stderr",
     "output_type": "stream",
     "text": [
      "The pdf_infer_table_structure kwarg is deprecated. Please use skip_infer_table_types instead.\n"
     ]
    },
    {
     "name": "stdout",
     "output_type": "stream",
     "text": [
      "File: /Users/antonio/Documents/HBR/AI, Machine Learning, Data Analytics/Data Analytics Tools/06_Running a Business Experiment.docx\n",
      "File: /Users/antonio/Documents/HBR/AI, Machine Learning, Data Analytics/Data Analytics Tools/07_Article - A refresher on AB testing.pdf\n"
     ]
    },
    {
     "name": "stderr",
     "output_type": "stream",
     "text": [
      "The pdf_infer_table_structure kwarg is deprecated. Please use skip_infer_table_types instead.\n",
      "The pdf_infer_table_structure kwarg is deprecated. Please use skip_infer_table_types instead.\n"
     ]
    },
    {
     "name": "stdout",
     "output_type": "stream",
     "text": [
      "File: /Users/antonio/Documents/HBR/AI, Machine Learning, Data Analytics/Data Analytics Tools/12_Avoid Biases in Data-Driven Decisions.pdf\n",
      "File: /Users/antonio/Documents/HBR/AI, Machine Learning, Data Analytics/Data Analytics Tools/09_Should You Trust Your Analysis.pdf\n",
      "File: /Users/antonio/Documents/HBR/AI, Machine Learning, Data Analytics/Data Analytics Tools/05_Slide Deck - The Discipline of Business Experimentation.pptx\n"
     ]
    },
    {
     "name": "stderr",
     "output_type": "stream",
     "text": [
      "The MIME type of '/Users/antonio/Documents/HBR/AI, Machine Learning, Data Analytics/Data Analytics Tools/10_Video -The Refresher- Regression Analysis.mp4' is 'video/mp4'. This file type is not currently supported in unstructured.\n",
      "The pdf_infer_table_structure kwarg is deprecated. Please use skip_infer_table_types instead.\n"
     ]
    },
    {
     "name": "stdout",
     "output_type": "stream",
     "text": [
      "File: /Users/antonio/Documents/HBR/AI, Machine Learning, Data Analytics/Data Analytics Tools/10_Video -The Refresher- Regression Analysis.mp4\n",
      "***Error: Invalid file /Users/antonio/Documents/HBR/AI, Machine Learning, Data Analytics/Data Analytics Tools/10_Video -The Refresher- Regression Analysis.mp4. The FileType.UNK file type is not supported in partition.\n",
      "File: /Users/antonio/Documents/HBR/AI, Machine Learning, Data Analytics/Data Analytics Tools/04_Article - The Discipline of Business Experimentation.pdf\n"
     ]
    },
    {
     "name": "stderr",
     "output_type": "stream",
     "text": [
      "The MIME type of '/Users/antonio/Documents/HBR/AI, Machine Learning, Data Analytics/Data Analytics Tools/01_Video - The Explainer- Big Data and Analytics.mp4' is 'video/mp4'. This file type is not currently supported in unstructured.\n",
      "The pdf_infer_table_structure kwarg is deprecated. Please use skip_infer_table_types instead.\n",
      "The pdf_infer_table_structure kwarg is deprecated. Please use skip_infer_table_types instead.\n"
     ]
    },
    {
     "name": "stdout",
     "output_type": "stream",
     "text": [
      "File: /Users/antonio/Documents/HBR/AI, Machine Learning, Data Analytics/Data Analytics Tools/01_Video - The Explainer- Big Data and Analytics.mp4\n",
      "***Error: Invalid file /Users/antonio/Documents/HBR/AI, Machine Learning, Data Analytics/Data Analytics Tools/01_Video - The Explainer- Big Data and Analytics.mp4. The FileType.UNK file type is not supported in partition.\n",
      "File: /Users/antonio/Documents/HBR/AI, Machine Learning, Data Analytics/Data Analytics Tools/02_Select Your Analytics Software.pdf\n",
      "File: /Users/antonio/Documents/HBR/AI, Machine Learning, Data Analytics/Data Analytics Tools/03_Defining Metrics That Matter.pdf\n"
     ]
    },
    {
     "name": "stderr",
     "output_type": "stream",
     "text": [
      "The pdf_infer_table_structure kwarg is deprecated. Please use skip_infer_table_types instead.\n",
      "The pdf_infer_table_structure kwarg is deprecated. Please use skip_infer_table_types instead.\n",
      "The pdf_infer_table_structure kwarg is deprecated. Please use skip_infer_table_types instead.\n"
     ]
    },
    {
     "name": "stdout",
     "output_type": "stream",
     "text": [
      "File: /Users/antonio/Documents/HBR/AI, Machine Learning, Data Analytics/Data Analytics Tools/14_Tell a Story with Your Data.pdf\n",
      "File: /Users/antonio/Documents/HBR/AI, Machine Learning, Data Analytics/Data Analytics Tools/11_Quick Reference - Regression Analysis.pdf\n",
      "File: /Users/antonio/Documents/HBR/AI, Machine Learning, Data Analytics/Data Analytics Tools/00_HBR_DataAnalytics_Handbook.pdf\n"
     ]
    },
    {
     "name": "stderr",
     "output_type": "stream",
     "text": [
      "The pdf_infer_table_structure kwarg is deprecated. Please use skip_infer_table_types instead.\n"
     ]
    },
    {
     "name": "stdout",
     "output_type": "stream",
     "text": [
      "File: /Users/antonio/Documents/HBR/AI, Machine Learning, Data Analytics/Data Analytics Tools/08_Article - Boost Your Marketing ROI with Experimental Design.pdf\n"
     ]
    },
    {
     "name": "stderr",
     "output_type": "stream",
     "text": [
      "The pdf_infer_table_structure kwarg is deprecated. Please use skip_infer_table_types instead.\n"
     ]
    },
    {
     "name": "stdout",
     "output_type": "stream",
     "text": [
      "File: /Users/antonio/Documents/HBR/AI, Machine Learning, Data Analytics/Data Analytics Tools/13_Article - Visualizations That Really Work.pdf\n"
     ]
    },
    {
     "name": "stderr",
     "output_type": "stream",
     "text": [
      "The pdf_infer_table_structure kwarg is deprecated. Please use skip_infer_table_types instead.\n",
      "The pdf_infer_table_structure kwarg is deprecated. Please use skip_infer_table_types instead.\n"
     ]
    },
    {
     "name": "stdout",
     "output_type": "stream",
     "text": [
      "File: /Users/antonio/Documents/Unemployment Insurance/Pay Date 2020-01-10.pdf\n",
      "File: /Users/antonio/Documents/Unemployment Insurance/UI Online.pdf\n"
     ]
    },
    {
     "name": "stderr",
     "output_type": "stream",
     "text": [
      "The pdf_infer_table_structure kwarg is deprecated. Please use skip_infer_table_types instead.\n",
      "The pdf_infer_table_structure kwarg is deprecated. Please use skip_infer_table_types instead.\n",
      "The pdf_infer_table_structure kwarg is deprecated. Please use skip_infer_table_types instead.\n"
     ]
    },
    {
     "name": "stdout",
     "output_type": "stream",
     "text": [
      "File: /Users/antonio/Documents/Unemployment Insurance/OpenFileDialog.pdf\n",
      "File: /Users/antonio/Documents/Unemployment Insurance/Pay Date 2020-03-06.pdf\n",
      "File: /Users/antonio/Documents/Unemployment Insurance/UI Online - Doc_20210830000000 (1).pdf\n"
     ]
    },
    {
     "name": "stderr",
     "output_type": "stream",
     "text": [
      "The pdf_infer_table_structure kwarg is deprecated. Please use skip_infer_table_types instead.\n",
      "The pdf_infer_table_structure kwarg is deprecated. Please use skip_infer_table_types instead.\n",
      "The pdf_infer_table_structure kwarg is deprecated. Please use skip_infer_table_types instead.\n"
     ]
    },
    {
     "name": "stdout",
     "output_type": "stream",
     "text": [
      "File: /Users/antonio/Documents/Unemployment Insurance/UI Online - Doc_20210108000000.pdf\n",
      "File: /Users/antonio/Documents/Unemployment Insurance/UI Online - Doc_20200603000000 copy.pdf\n",
      "File: /Users/antonio/Documents/Unemployment Insurance/UI Online - Doc_20210830000000.pdf\n"
     ]
    },
    {
     "name": "stderr",
     "output_type": "stream",
     "text": [
      "The pdf_infer_table_structure kwarg is deprecated. Please use skip_infer_table_types instead.\n",
      "The pdf_infer_table_structure kwarg is deprecated. Please use skip_infer_table_types instead.\n",
      "The pdf_infer_table_structure kwarg is deprecated. Please use skip_infer_table_types instead.\n"
     ]
    },
    {
     "name": "stdout",
     "output_type": "stream",
     "text": [
      "File: /Users/antonio/Documents/Unemployment Insurance/Pay Date 2020-02-21.pdf\n",
      "File: /Users/antonio/Documents/Unemployment Insurance/Print Preview.pdf\n",
      "File: /Users/antonio/Documents/Unemployment Insurance/UI Online - Doc_20200603000000 (1).pdf\n"
     ]
    },
    {
     "name": "stderr",
     "output_type": "stream",
     "text": [
      "The pdf_infer_table_structure kwarg is deprecated. Please use skip_infer_table_types instead.\n",
      "The pdf_infer_table_structure kwarg is deprecated. Please use skip_infer_table_types instead.\n"
     ]
    },
    {
     "name": "stdout",
     "output_type": "stream",
     "text": [
      "File: /Users/antonio/Documents/Unemployment Insurance/UI Online - Doc_20200603000000.pdf\n",
      "File: /Users/antonio/Documents/Unemployment Insurance/UI Online - Doc_20210210000000.pdf\n"
     ]
    },
    {
     "name": "stderr",
     "output_type": "stream",
     "text": [
      "The pdf_infer_table_structure kwarg is deprecated. Please use skip_infer_table_types instead.\n",
      "The pdf_infer_table_structure kwarg is deprecated. Please use skip_infer_table_types instead.\n"
     ]
    },
    {
     "name": "stdout",
     "output_type": "stream",
     "text": [
      "File: /Users/antonio/Documents/Unemployment Insurance/Job Seacrch Log.xlsx\n",
      "File: /Users/antonio/Documents/Unemployment Insurance/UI Online - Doc_20210308000000.pdf\n",
      "File: /Users/antonio/Documents/Unemployment Insurance/UI Online - Doc_20210830000000 (3).pdf\n"
     ]
    },
    {
     "name": "stderr",
     "output_type": "stream",
     "text": [
      "The pdf_infer_table_structure kwarg is deprecated. Please use skip_infer_table_types instead.\n"
     ]
    },
    {
     "name": "stdout",
     "output_type": "stream",
     "text": [
      "File: /Users/antonio/Documents/Unemployment Insurance/UI Online - Doc_20210830000000 (2).pdf\n"
     ]
    },
    {
     "name": "stderr",
     "output_type": "stream",
     "text": [
      "The pdf_infer_table_structure kwarg is deprecated. Please use skip_infer_table_types instead.\n",
      "The pdf_infer_table_structure kwarg is deprecated. Please use skip_infer_table_types instead.\n",
      "The pdf_infer_table_structure kwarg is deprecated. Please use skip_infer_table_types instead.\n"
     ]
    },
    {
     "name": "stdout",
     "output_type": "stream",
     "text": [
      "File: /Users/antonio/Documents/Unemployment Insurance/UI Online - Doc_20210210000000 copy.pdf\n",
      "File: /Users/antonio/Documents/Unemployment Insurance/Pay Date 2020-02-07.pdf\n",
      "File: /Users/antonio/Documents/Unemployment Insurance/Pay Date 2020-03-20.pdf\n"
     ]
    },
    {
     "name": "stderr",
     "output_type": "stream",
     "text": [
      "The pdf_infer_table_structure kwarg is deprecated. Please use skip_infer_table_types instead.\n",
      "The pdf_infer_table_structure kwarg is deprecated. Please use skip_infer_table_types instead.\n",
      "The pdf_infer_table_structure kwarg is deprecated. Please use skip_infer_table_types instead.\n"
     ]
    },
    {
     "name": "stdout",
     "output_type": "stream",
     "text": [
      "File: /Users/antonio/Documents/Unemployment Insurance/Pay Date 2020-01-24.pdf\n",
      "File: /Users/antonio/Documents/Unemployment Insurance/Pay Date 2020-04-03.pdf\n",
      "File: /Users/antonio/Documents/Unemployment Insurance/UI Online - Doc_20210830000000 (4).pdf\n"
     ]
    },
    {
     "name": "stderr",
     "output_type": "stream",
     "text": [
      "The pdf_infer_table_structure kwarg is deprecated. Please use skip_infer_table_types instead.\n"
     ]
    },
    {
     "name": "stdout",
     "output_type": "stream",
     "text": [
      "File: /Users/antonio/Documents/Unemployment Insurance/UI Online - Doc_20210108000000 (1).pdf\n",
      "File: /Users/antonio/Documents/Horos Data.nosync/Horos Data/ReportTemplate.odt\n",
      "File: /Users/antonio/Documents/Horos Data.nosync/Horos Data/.DS_Store\n",
      "File: /Users/antonio/Documents/Horos Data.nosync/Horos Data/ReportTemplate.rtf\n"
     ]
    },
    {
     "name": "stderr",
     "output_type": "stream",
     "text": [
      "The MIME type of '/Users/antonio/Documents/Horos Data.nosync/Horos Data/Database.sql' is 'application/x-sqlite3'. This file type is not currently supported in unstructured.\n"
     ]
    },
    {
     "name": "stdout",
     "output_type": "stream",
     "text": [
      "File: /Users/antonio/Documents/Horos Data.nosync/Horos Data/AlbumSortDescriptors.plist\n",
      "***Error: Invalid file /Users/antonio/Documents/Horos Data.nosync/Horos Data/AlbumSortDescriptors.plist. The FileType.UNK file type is not supported in partition.\n",
      "File: /Users/antonio/Documents/Horos Data.nosync/Horos Data/DB_VERSION\n",
      "***Error: Invalid file /Users/antonio/Documents/Horos Data.nosync/Horos Data/DB_VERSION. The FileType.UNK file type is not supported in partition.\n",
      "File: /Users/antonio/Documents/Horos Data.nosync/Horos Data/Database.sql\n",
      "***Error: Invalid file /Users/antonio/Documents/Horos Data.nosync/Horos Data/Database.sql. The FileType.UNK file type is not supported in partition.\n",
      "File: /Users/antonio/Documents/Horos Data.nosync/Horos Data/Database.momd/OsiriXDB_DataModel.omo\n",
      "***Error: Invalid file /Users/antonio/Documents/Horos Data.nosync/Horos Data/Database.momd/OsiriXDB_DataModel.omo. The FileType.UNK file type is not supported in partition.\n",
      "File: /Users/antonio/Documents/Horos Data.nosync/Horos Data/Database.momd/VersionInfo.plist\n",
      "***Error: Invalid file /Users/antonio/Documents/Horos Data.nosync/Horos Data/Database.momd/VersionInfo.plist. The FileType.UNK file type is not supported in partition.\n",
      "File: /Users/antonio/Documents/Horos Data.nosync/Horos Data/Database.momd/OsiriXDB_DataModel.mom\n",
      "***Error: Invalid file /Users/antonio/Documents/Horos Data.nosync/Horos Data/Database.momd/OsiriXDB_DataModel.mom. The FileType.UNK file type is not supported in partition.\n",
      "File: /Users/antonio/Documents/Horos Data.nosync/Horos Data/HTML_TEMPLATES/QTExportPatientsTemplate.html\n",
      "File: /Users/antonio/Documents/Horos Data.nosync/Horos Data/HTML_TEMPLATES/QTExportSeriesTemplate.html\n",
      "File: /Users/antonio/Documents/Horos Data.nosync/Horos Data/HTML_TEMPLATES/QTExportStudiesTemplate.html\n",
      "File: /Users/antonio/Documents/Horos Data.nosync/Horos Data/HTML_TEMPLATES/html-extra/style.css\n",
      "***Error: Invalid file /Users/antonio/Documents/Horos Data.nosync/Horos Data/HTML_TEMPLATES/html-extra/style.css. The FileType.UNK file type is not supported in partition.\n",
      "File: /Users/antonio/Documents/Horos Data.nosync/Horos Data/WORD TEMPLATES/Basic Report Template.doc\n"
     ]
    },
    {
     "name": "stderr",
     "output_type": "stream",
     "text": [
      "Could not detect the filetype from application/octet-stream MIME type.\n"
     ]
    },
    {
     "name": "stdout",
     "output_type": "stream",
     "text": [
      "File: /Users/antonio/Documents/Horos Data.nosync/Horos Data/PAGES TEMPLATES/Horos Basic Report.pages\n",
      "***Error: Invalid file /Users/antonio/Documents/Horos Data.nosync/Horos Data/PAGES TEMPLATES/Horos Basic Report.pages. The FileType.ZIP file type is not supported in partition.\n",
      "File: /Users/antonio/Documents/DialogBlocks Samples/AUI/cut.xpm\n",
      "***Error: Invalid file /Users/antonio/Documents/DialogBlocks Samples/AUI/cut.xpm. The FileType.UNK file type is not supported in partition.\n",
      "File: /Users/antonio/Documents/DialogBlocks Samples/AUI/undo.xpm\n",
      "***Error: Invalid file /Users/antonio/Documents/DialogBlocks Samples/AUI/undo.xpm. The FileType.UNK file type is not supported in partition.\n",
      "File: /Users/antonio/Documents/DialogBlocks Samples/AUI/find.xpm\n",
      "***Error: Invalid file /Users/antonio/Documents/DialogBlocks Samples/AUI/find.xpm. The FileType.UNK file type is not supported in partition.\n",
      "File: /Users/antonio/Documents/DialogBlocks Samples/AUI/filesaveas.xpm\n",
      "***Error: Invalid file /Users/antonio/Documents/DialogBlocks Samples/AUI/filesaveas.xpm. The FileType.UNK file type is not supported in partition.\n",
      "File: /Users/antonio/Documents/DialogBlocks Samples/AUI/redo.xpm\n",
      "***Error: Invalid file /Users/antonio/Documents/DialogBlocks Samples/AUI/redo.xpm. The FileType.UNK file type is not supported in partition.\n",
      "File: /Users/antonio/Documents/DialogBlocks Samples/AUI/aui.rc\n",
      "***Error: Invalid file /Users/antonio/Documents/DialogBlocks Samples/AUI/aui.rc. The FileType.UNK file type is not supported in partition.\n",
      "File: /Users/antonio/Documents/DialogBlocks Samples/AUI/save.xpm\n",
      "***Error: Invalid file /Users/antonio/Documents/DialogBlocks Samples/AUI/save.xpm. The FileType.UNK file type is not supported in partition.\n",
      "File: /Users/antonio/Documents/DialogBlocks Samples/AUI/copy.xpm\n",
      "***Error: Invalid file /Users/antonio/Documents/DialogBlocks Samples/AUI/copy.xpm. The FileType.UNK file type is not supported in partition.\n",
      "File: /Users/antonio/Documents/DialogBlocks Samples/AUI/open.xpm\n",
      "***Error: Invalid file /Users/antonio/Documents/DialogBlocks Samples/AUI/open.xpm. The FileType.UNK file type is not supported in partition.\n",
      "File: /Users/antonio/Documents/DialogBlocks Samples/AUI/paste.xpm\n",
      "***Error: Invalid file /Users/antonio/Documents/DialogBlocks Samples/AUI/paste.xpm. The FileType.UNK file type is not supported in partition.\n",
      "File: /Users/antonio/Documents/DialogBlocks Samples/AUI/aui.pjd\n",
      "***Error: Invalid file /Users/antonio/Documents/DialogBlocks Samples/AUI/aui.pjd. The FileType.UNK file type is not supported in partition.\n",
      "File: /Users/antonio/Documents/DialogBlocks Samples/AUI/aui.h\n",
      "***Error: Invalid file /Users/antonio/Documents/DialogBlocks Samples/AUI/aui.h. The FileType.UNK file type is not supported in partition.\n",
      "File: /Users/antonio/Documents/DialogBlocks Samples/AUI/auiframe.h\n",
      "***Error: Invalid file /Users/antonio/Documents/DialogBlocks Samples/AUI/auiframe.h. The FileType.UNK file type is not supported in partition.\n",
      "File: /Users/antonio/Documents/DialogBlocks Samples/AUI/aui.cpp\n",
      "File: /Users/antonio/Documents/DialogBlocks Samples/AUI/deffile.xpm\n",
      "***Error: Invalid file /Users/antonio/Documents/DialogBlocks Samples/AUI/deffile.xpm. The FileType.UNK file type is not supported in partition.\n",
      "File: /Users/antonio/Documents/DialogBlocks Samples/AUI/auiframe.cpp\n",
      "File: /Users/antonio/Documents/DialogBlocks Samples/Acme/cut.xpm\n",
      "***Error: Invalid file /Users/antonio/Documents/DialogBlocks Samples/Acme/cut.xpm. The FileType.UNK file type is not supported in partition.\n",
      "File: /Users/antonio/Documents/DialogBlocks Samples/Acme/undo.xpm\n",
      "***Error: Invalid file /Users/antonio/Documents/DialogBlocks Samples/Acme/undo.xpm. The FileType.UNK file type is not supported in partition.\n",
      "File: /Users/antonio/Documents/DialogBlocks Samples/Acme/notebkdlg.cpp\n",
      "File: /Users/antonio/Documents/DialogBlocks Samples/Acme/acme.pyw\n",
      "***Error: Invalid file /Users/antonio/Documents/DialogBlocks Samples/Acme/acme.pyw. The FileType.UNK file type is not supported in partition.\n",
      "File: /Users/antonio/Documents/DialogBlocks Samples/Acme/redo.xpm\n",
      "***Error: Invalid file /Users/antonio/Documents/DialogBlocks Samples/Acme/redo.xpm. The FileType.UNK file type is not supported in partition.\n",
      "File: /Users/antonio/Documents/DialogBlocks Samples/Acme/Acme.rc\n",
      "***Error: Invalid file /Users/antonio/Documents/DialogBlocks Samples/Acme/Acme.rc. The FileType.UNK file type is not supported in partition.\n",
      "File: /Users/antonio/Documents/DialogBlocks Samples/Acme/save.xpm\n",
      "***Error: Invalid file /Users/antonio/Documents/DialogBlocks Samples/Acme/save.xpm. The FileType.UNK file type is not supported in partition.\n",
      "File: /Users/antonio/Documents/DialogBlocks Samples/Acme/copy.xpm\n",
      "***Error: Invalid file /Users/antonio/Documents/DialogBlocks Samples/Acme/copy.xpm. The FileType.UNK file type is not supported in partition.\n",
      "File: /Users/antonio/Documents/DialogBlocks Samples/Acme/myframe.cpp\n",
      "File: /Users/antonio/Documents/DialogBlocks Samples/Acme/image0001.png\n",
      "File: /Users/antonio/Documents/DialogBlocks Samples/Acme/open.xpm\n",
      "***Error: Invalid file /Users/antonio/Documents/DialogBlocks Samples/Acme/open.xpm. The FileType.UNK file type is not supported in partition.\n",
      "File: /Users/antonio/Documents/DialogBlocks Samples/Acme/paste.xpm\n",
      "***Error: Invalid file /Users/antonio/Documents/DialogBlocks Samples/Acme/paste.xpm. The FileType.UNK file type is not supported in partition.\n",
      "File: /Users/antonio/Documents/DialogBlocks Samples/Acme/Acme.pjd\n",
      "***Error: Invalid file /Users/antonio/Documents/DialogBlocks Samples/Acme/Acme.pjd. The FileType.UNK file type is not supported in partition.\n",
      "File: /Users/antonio/Documents/DialogBlocks Samples/Acme/notebkdlg.h\n",
      "***Error: Invalid file /Users/antonio/Documents/DialogBlocks Samples/Acme/notebkdlg.h. The FileType.UNK file type is not supported in partition.\n",
      "File: /Users/antonio/Documents/DialogBlocks Samples/Acme/myframe.h\n",
      "***Error: Invalid file /Users/antonio/Documents/DialogBlocks Samples/Acme/myframe.h. The FileType.UNK file type is not supported in partition.\n",
      "File: /Users/antonio/Documents/DialogBlocks Samples/Acme/acme.cpp\n",
      "File: /Users/antonio/Documents/DialogBlocks Samples/Acme/newproject.cpp\n",
      "File: /Users/antonio/Documents/DialogBlocks Samples/Acme/newproject.h\n",
      "***Error: Invalid file /Users/antonio/Documents/DialogBlocks Samples/Acme/newproject.h. The FileType.UNK file type is not supported in partition.\n",
      "File: /Users/antonio/Documents/DialogBlocks Samples/Acme/image0001.xpm\n",
      "***Error: Invalid file /Users/antonio/Documents/DialogBlocks Samples/Acme/image0001.xpm. The FileType.UNK file type is not supported in partition.\n",
      "File: /Users/antonio/Documents/DialogBlocks Samples/Acme/acme.h\n",
      "***Error: Invalid file /Users/antonio/Documents/DialogBlocks Samples/Acme/acme.h. The FileType.UNK file type is not supported in partition.\n",
      "File: /Users/antonio/Documents/DialogBlocks Samples/Elements/Elements.pjd\n",
      "***Error: Invalid file /Users/antonio/Documents/DialogBlocks Samples/Elements/Elements.pjd. The FileType.UNK file type is not supported in partition.\n",
      "File: /Users/antonio/Documents/DialogBlocks Samples/Elements/cut.xpm\n",
      "***Error: Invalid file /Users/antonio/Documents/DialogBlocks Samples/Elements/cut.xpm. The FileType.UNK file type is not supported in partition.\n",
      "File: /Users/antonio/Documents/DialogBlocks Samples/Elements/undo.xpm\n",
      "***Error: Invalid file /Users/antonio/Documents/DialogBlocks Samples/Elements/undo.xpm. The FileType.UNK file type is not supported in partition.\n",
      "File: /Users/antonio/Documents/DialogBlocks Samples/Elements/Elements.pjd.bak\n",
      "***Error: Invalid file /Users/antonio/Documents/DialogBlocks Samples/Elements/Elements.pjd.bak. The FileType.UNK file type is not supported in partition.\n",
      "File: /Users/antonio/Documents/DialogBlocks Samples/Elements/elements.cpp\n",
      "File: /Users/antonio/Documents/DialogBlocks Samples/Elements/find.xpm\n",
      "***Error: Invalid file /Users/antonio/Documents/DialogBlocks Samples/Elements/find.xpm. The FileType.UNK file type is not supported in partition.\n",
      "File: /Users/antonio/Documents/DialogBlocks Samples/Elements/wxwin32x32.xpm\n",
      "***Error: Invalid file /Users/antonio/Documents/DialogBlocks Samples/Elements/wxwin32x32.xpm. The FileType.UNK file type is not supported in partition.\n",
      "File: /Users/antonio/Documents/DialogBlocks Samples/Elements/elements.h\n",
      "***Error: Invalid file /Users/antonio/Documents/DialogBlocks Samples/Elements/elements.h. The FileType.UNK file type is not supported in partition.\n",
      "File: /Users/antonio/Documents/DialogBlocks Samples/Elements/complexdialog.h\n",
      "***Error: Invalid file /Users/antonio/Documents/DialogBlocks Samples/Elements/complexdialog.h. The FileType.UNK file type is not supported in partition.\n",
      "File: /Users/antonio/Documents/DialogBlocks Samples/Elements/filesaveas.xpm\n",
      "***Error: Invalid file /Users/antonio/Documents/DialogBlocks Samples/Elements/filesaveas.xpm. The FileType.UNK file type is not supported in partition.\n",
      "File: /Users/antonio/Documents/DialogBlocks Samples/Elements/tipicon.xpm\n",
      "***Error: Invalid file /Users/antonio/Documents/DialogBlocks Samples/Elements/tipicon.xpm. The FileType.UNK file type is not supported in partition.\n",
      "File: /Users/antonio/Documents/DialogBlocks Samples/Elements/redo.xpm\n",
      "***Error: Invalid file /Users/antonio/Documents/DialogBlocks Samples/Elements/redo.xpm. The FileType.UNK file type is not supported in partition.\n",
      "File: /Users/antonio/Documents/DialogBlocks Samples/Elements/wizard.png\n"
     ]
    },
    {
     "name": "stdout",
     "output_type": "stream",
     "text": [
      "File: /Users/antonio/Documents/DialogBlocks Samples/Elements/scrollingdialog.h\n",
      "***Error: Invalid file /Users/antonio/Documents/DialogBlocks Samples/Elements/scrollingdialog.h. The FileType.UNK file type is not supported in partition.\n",
      "File: /Users/antonio/Documents/DialogBlocks Samples/Elements/save.xpm\n",
      "***Error: Invalid file /Users/antonio/Documents/DialogBlocks Samples/Elements/save.xpm. The FileType.UNK file type is not supported in partition.\n",
      "File: /Users/antonio/Documents/DialogBlocks Samples/Elements/basiccontrols.h\n",
      "***Error: Invalid file /Users/antonio/Documents/DialogBlocks Samples/Elements/basiccontrols.h. The FileType.UNK file type is not supported in partition.\n",
      "File: /Users/antonio/Documents/DialogBlocks Samples/Elements/copy.xpm\n",
      "***Error: Invalid file /Users/antonio/Documents/DialogBlocks Samples/Elements/copy.xpm. The FileType.UNK file type is not supported in partition.\n",
      "File: /Users/antonio/Documents/DialogBlocks Samples/Elements/settingsdialog.cpp\n",
      "File: /Users/antonio/Documents/DialogBlocks Samples/Elements/myframe.cpp\n",
      "File: /Users/antonio/Documents/DialogBlocks Samples/Elements/wizarddialog.cpp\n",
      "File: /Users/antonio/Documents/DialogBlocks Samples/Elements/independentpanel.h\n",
      "***Error: Invalid file /Users/antonio/Documents/DialogBlocks Samples/Elements/independentpanel.h. The FileType.UNK file type is not supported in partition.\n",
      "File: /Users/antonio/Documents/DialogBlocks Samples/Elements/open.xpm\n",
      "***Error: Invalid file /Users/antonio/Documents/DialogBlocks Samples/Elements/open.xpm. The FileType.UNK file type is not supported in partition.\n",
      "File: /Users/antonio/Documents/DialogBlocks Samples/Elements/paste.xpm\n",
      "***Error: Invalid file /Users/antonio/Documents/DialogBlocks Samples/Elements/paste.xpm. The FileType.UNK file type is not supported in partition.\n",
      "File: /Users/antonio/Documents/DialogBlocks Samples/Elements/basiccontrols.cpp\n",
      "File: /Users/antonio/Documents/DialogBlocks Samples/Elements/find.prv.jpg\n",
      "File: /Users/antonio/Documents/DialogBlocks Samples/Elements/advancedcontrols.cpp\n",
      "File: /Users/antonio/Documents/DialogBlocks Samples/Elements/splitterdialog.cpp\n",
      "File: /Users/antonio/Documents/DialogBlocks Samples/Elements/myframe.h\n",
      "***Error: Invalid file /Users/antonio/Documents/DialogBlocks Samples/Elements/myframe.h. The FileType.UNK file type is not supported in partition.\n",
      "File: /Users/antonio/Documents/DialogBlocks Samples/Elements/topdialog.cpp\n",
      "File: /Users/antonio/Documents/DialogBlocks Samples/Elements/Elements.rc\n",
      "***Error: Invalid file /Users/antonio/Documents/DialogBlocks Samples/Elements/Elements.rc. The FileType.UNK file type is not supported in partition.\n",
      "File: /Users/antonio/Documents/DialogBlocks Samples/Elements/topdialog.h\n",
      "***Error: Invalid file /Users/antonio/Documents/DialogBlocks Samples/Elements/topdialog.h. The FileType.UNK file type is not supported in partition.\n",
      "File: /Users/antonio/Documents/DialogBlocks Samples/Elements/independentpanel.cpp\n",
      "File: /Users/antonio/Documents/DialogBlocks Samples/Elements/splitterdialog.h\n",
      "***Error: Invalid file /Users/antonio/Documents/DialogBlocks Samples/Elements/splitterdialog.h. The FileType.UNK file type is not supported in partition.\n",
      "File: /Users/antonio/Documents/DialogBlocks Samples/Elements/scrollingdialog.cpp\n",
      "File: /Users/antonio/Documents/DialogBlocks Samples/Elements/deffile.xpm\n",
      "***Error: Invalid file /Users/antonio/Documents/DialogBlocks Samples/Elements/deffile.xpm. The FileType.UNK file type is not supported in partition.\n",
      "File: /Users/antonio/Documents/DialogBlocks Samples/Elements/complexdialog.cpp\n"
     ]
    },
    {
     "name": "stderr",
     "output_type": "stream",
     "text": [
      "Could not detect the filetype from application/octet-stream MIME type.\n",
      "Could not detect the filetype from application/octet-stream MIME type.\n"
     ]
    },
    {
     "name": "stdout",
     "output_type": "stream",
     "text": [
      "File: /Users/antonio/Documents/DialogBlocks Samples/Elements/helpicon.xpm\n",
      "***Error: Invalid file /Users/antonio/Documents/DialogBlocks Samples/Elements/helpicon.xpm. The FileType.UNK file type is not supported in partition.\n",
      "File: /Users/antonio/Documents/DialogBlocks Samples/Elements/wizard.xpm\n",
      "***Error: Invalid file /Users/antonio/Documents/DialogBlocks Samples/Elements/wizard.xpm. The FileType.UNK file type is not supported in partition.\n",
      "File: /Users/antonio/Documents/DialogBlocks Samples/Elements/wizarddialog.h\n",
      "***Error: Invalid file /Users/antonio/Documents/DialogBlocks Samples/Elements/wizarddialog.h. The FileType.UNK file type is not supported in partition.\n",
      "File: /Users/antonio/Documents/DialogBlocks Samples/Elements/advancedcontrols.h\n",
      "***Error: Invalid file /Users/antonio/Documents/DialogBlocks Samples/Elements/advancedcontrols.h. The FileType.UNK file type is not supported in partition.\n",
      "File: /Users/antonio/Documents/DialogBlocks Samples/Elements/settingsdialog.h\n",
      "***Error: Invalid file /Users/antonio/Documents/DialogBlocks Samples/Elements/settingsdialog.h. The FileType.UNK file type is not supported in partition.\n",
      "File: /Users/antonio/Documents/Presentation Templates/New Update.zip\n",
      "***Error: Invalid file /Users/antonio/Documents/Presentation Templates/New Update.zip. The FileType.ZIP file type is not supported in partition.\n",
      "File: /Users/antonio/Documents/Presentation Templates/.DS_Store\n",
      "File: /Users/antonio/Documents/Presentation Templates/January_2020_New_Update_Infograpia.zip\n",
      "***Error: Invalid file /Users/antonio/Documents/Presentation Templates/January_2020_New_Update_Infograpia.zip. The FileType.ZIP file type is not supported in partition.\n",
      "File: /Users/antonio/Documents/Presentation Templates/AP Presentation Master.pptx\n",
      "File: /Users/antonio/Documents/Presentation Templates/Powerpoint Files/Business Slides/Read me - Fonts links 2.rtf\n",
      "File: /Users/antonio/Documents/Presentation Templates/Powerpoint Files/Business Slides/Read me - Fonts links.rtf\n",
      "File: /Users/antonio/Documents/Presentation Templates/Powerpoint Files/Business Slides/Presentation/Business Infographics Powerpoint Template.pptx\n",
      "File: /Users/antonio/Documents/Presentation Templates/Powerpoint Files/Iceberg Slides/Read me - Fonts links 2.rtf\n",
      "File: /Users/antonio/Documents/Presentation Templates/Powerpoint Files/Iceberg Slides/Read me - Fonts links.rtf\n",
      "File: /Users/antonio/Documents/Presentation Templates/Powerpoint Files/Iceberg Slides/Presentation file/Iceberg Diagram Slides Powerpoint Template.pptx\n",
      "File: /Users/antonio/Documents/Presentation Templates/Powerpoint Files/SWOT Slides/Read me - Fonts links.rtf\n",
      "File: /Users/antonio/Documents/Presentation Templates/Powerpoint Files/SWOT Slides/Presentation file/SWOT Analysis Slides Powerpoint Template.pptx\n",
      "File: /Users/antonio/Documents/Presentation Templates/Powerpoint Files/Medical Slides/Read me - Fonts links 2.rtf\n",
      "File: /Users/antonio/Documents/Presentation Templates/Powerpoint Files/Medical Slides/Read me - Fonts links.rtf\n",
      "File: /Users/antonio/Documents/Presentation Templates/Powerpoint Files/Medical Slides/Presentation/Medical Slides Powerpoint Template.pptx\n",
      "File: /Users/antonio/Documents/Presentation Templates/Powerpoint Files/Goals Slides/Read me - Fonts links.rtf\n",
      "File: /Users/antonio/Documents/Presentation Templates/Powerpoint Files/Goals Slides/Presentation File/Goals Slides Powerpoint Template.pptx\n",
      "File: /Users/antonio/Documents/Presentation Templates/Powerpoint Files/Business Plan Slides/Read me - Fonts links 2.rtf\n",
      "File: /Users/antonio/Documents/Presentation Templates/Powerpoint Files/Business Plan Slides/Read me - Fonts links.rtf\n",
      "File: /Users/antonio/Documents/Presentation Templates/Powerpoint Files/Business Plan Slides/Presentation/Business Plan Infographics Powerpoint Template.pptx\n",
      "File: /Users/antonio/Documents/Presentation Templates/Powerpoint Files/Gantt Slides/Gantt Slides V4 Powerpoint Template/Read me - Fonts links 2.rtf\n",
      "File: /Users/antonio/Documents/Presentation Templates/Powerpoint Files/Gantt Slides/Gantt Slides V4 Powerpoint Template/Read me - Fonts links.rtf\n",
      "File: /Users/antonio/Documents/Presentation Templates/Powerpoint Files/Gantt Slides/Gantt Slides V4 Powerpoint Template/Presentation file/Gantt Slides V4 Powerpoint Template.pptx\n",
      "File: /Users/antonio/Documents/Presentation Templates/Powerpoint Files/Gantt Slides/Gantt Slides V1 Powerpoint Template/Read me - Fonts links 2.rtf\n",
      "File: /Users/antonio/Documents/Presentation Templates/Powerpoint Files/Gantt Slides/Gantt Slides V1 Powerpoint Template/Read me - Fonts links.rtf\n",
      "File: /Users/antonio/Documents/Presentation Templates/Powerpoint Files/Gantt Slides/Gantt Slides V1 Powerpoint Template/Presentation file/Gantt Slides V1 Powerpoint Template.pptx\n",
      "File: /Users/antonio/Documents/Presentation Templates/Powerpoint Files/Gantt Slides/Gantt Slides V2 Powerpoint Template/Read me - Fonts links 2.rtf\n",
      "File: /Users/antonio/Documents/Presentation Templates/Powerpoint Files/Gantt Slides/Gantt Slides V2 Powerpoint Template/Read me - Fonts links.rtf\n",
      "File: /Users/antonio/Documents/Presentation Templates/Powerpoint Files/Gantt Slides/Gantt Slides V2 Powerpoint Template/Presentation file/Gantt Slides V2 Powerpoint Template.pptx\n",
      "File: /Users/antonio/Documents/Presentation Templates/Powerpoint Files/Gantt Slides/Gantt Slides V3 Powerpoint Template/Read me - Fonts links 2.rtf\n",
      "File: /Users/antonio/Documents/Presentation Templates/Powerpoint Files/Gantt Slides/Gantt Slides V3 Powerpoint Template/Read me - Fonts links.rtf\n",
      "File: /Users/antonio/Documents/Presentation Templates/Powerpoint Files/Gantt Slides/Gantt Slides V3 Powerpoint Template/Presentation file/Gantt Slides V3 Powerpoint Template.pptx\n",
      "File: /Users/antonio/Documents/Presentation Templates/Powerpoint Files/Timeline Slides/Read me - Fonts links 2.rtf\n",
      "File: /Users/antonio/Documents/Presentation Templates/Powerpoint Files/Timeline Slides/Read me - Fonts links.rtf\n",
      "File: /Users/antonio/Documents/Presentation Templates/Powerpoint Files/Timeline Slides/Presentation file/Timeline Slides Powerpoint Template.pptx\n",
      "File: /Users/antonio/Documents/Presentation Templates/Powerpoint Files/Finance Slides/Read me - Fonts links 2.rtf\n",
      "File: /Users/antonio/Documents/Presentation Templates/Powerpoint Files/Finance Slides/Read me - Fonts links.rtf\n",
      "File: /Users/antonio/Documents/Presentation Templates/Powerpoint Files/Finance Slides/Presentation/Finance Slide Powerpoint Template.pptx\n",
      "File: /Users/antonio/Documents/Presentation Templates/Powerpoint Files/Budget Slides/Budget Powerpoint Slides.pptx\n",
      "File: /Users/antonio/Documents/Presentation Templates/Powerpoint Files/Budget Slides/Read me - Fonts links 3.rtf\n",
      "File: /Users/antonio/Documents/Presentation Templates/Powerpoint Files/Budget Slides/Read me - Fonts links 2.rtf\n",
      "File: /Users/antonio/Documents/Presentation Templates/Powerpoint Files/Budget Slides/Read me - Fonts links.rtf\n",
      "File: /Users/antonio/Documents/Presentation Templates/Powerpoint Files/Budget Slides/Budget Powerpoint Slides 2.pptx\n",
      "File: /Users/antonio/Documents/Presentation Templates/Powerpoint Files/Decision Tree Slides/Read me - Fonts links 2.rtf\n",
      "File: /Users/antonio/Documents/Presentation Templates/Powerpoint Files/Decision Tree Slides/Read me - Fonts links.rtf\n",
      "File: /Users/antonio/Documents/Presentation Templates/Powerpoint Files/Decision Tree Slides/Presentation file/Decision Tree Powerpoint Template.pptx\n",
      "File: /Users/antonio/Documents/Presentation Templates/Powerpoint Files/Food Slides/Food Slides V2/Read me - Fonts links 2.rtf\n",
      "File: /Users/antonio/Documents/Presentation Templates/Powerpoint Files/Food Slides/Food Slides V2/Read me - Fonts links.rtf\n",
      "File: /Users/antonio/Documents/Presentation Templates/Powerpoint Files/Food Slides/Food Slides V2/Presentation/Food Slides V2 Powerpoint Template.pptx\n",
      "File: /Users/antonio/Documents/Presentation Templates/Powerpoint Files/Food Slides/Food Slides V3/Read me - Fonts links 2.rtf\n",
      "File: /Users/antonio/Documents/Presentation Templates/Powerpoint Files/Food Slides/Food Slides V3/Read me - Fonts links.rtf\n",
      "File: /Users/antonio/Documents/Presentation Templates/Powerpoint Files/Food Slides/Food Slides V3/Presentation/Food Slides V3 Powerpoint Template.pptx\n",
      "File: /Users/antonio/Documents/Presentation Templates/Powerpoint Files/Food Slides/Food Slides V1/Read me - Fonts links 2.rtf\n"
     ]
    },
    {
     "name": "stdout",
     "output_type": "stream",
     "text": [
      "File: /Users/antonio/Documents/Presentation Templates/Powerpoint Files/Food Slides/Food Slides V1/Read me - Fonts links.rtf\n",
      "File: /Users/antonio/Documents/Presentation Templates/Powerpoint Files/Food Slides/Food Slides V1/Presentation file/Food Slides V1 Powerpoint Template.pptx\n",
      "File: /Users/antonio/Documents/Presentation Templates/Powerpoint Files/Fishbone Slides/Read me - Fonts links.rtf\n",
      "File: /Users/antonio/Documents/Presentation Templates/Powerpoint Files/Fishbone Slides/Presentation file/Fishbone Powerpoint Template.pptx\n",
      "File: /Users/antonio/Documents/Presentation Templates/Powerpoint Files/Real Estate Slides/Real Estate Infographic V2/Read me - Fonts links 2.rtf\n",
      "File: /Users/antonio/Documents/Presentation Templates/Powerpoint Files/Real Estate Slides/Real Estate Infographic V2/Read me - Fonts links.rtf\n",
      "File: /Users/antonio/Documents/Presentation Templates/Powerpoint Files/Real Estate Slides/Real Estate Infographic V2/Presentation/Real Estate Slides V2 Powerpoint Template.pptx\n",
      "File: /Users/antonio/Documents/Presentation Templates/Powerpoint Files/Real Estate Slides/Real Estate Infographic V3/Read me - Fonts links 2.rtf\n",
      "File: /Users/antonio/Documents/Presentation Templates/Powerpoint Files/Real Estate Slides/Real Estate Infographic V3/Read me - Fonts links.rtf\n",
      "File: /Users/antonio/Documents/Presentation Templates/Powerpoint Files/Real Estate Slides/Real Estate Infographic V3/Presentation/Real Estate Slides V3 Powerpoint Template.pptx\n",
      "File: /Users/antonio/Documents/Presentation Templates/Powerpoint Files/Real Estate Slides/Real Estate Infographic V1/Read me - Fonts links.rtf\n",
      "File: /Users/antonio/Documents/Presentation Templates/Powerpoint Files/Real Estate Slides/Real Estate Infographic V1/Presentation/Real Estate Slides V1 Powerpoint Template.pptx\n",
      "File: /Users/antonio/Documents/Presentation Templates/Powerpoint Files/Value Chain Slides/Read me - Fonts links 2.rtf\n",
      "File: /Users/antonio/Documents/Presentation Templates/Powerpoint Files/Value Chain Slides/Read me - Fonts links.rtf\n",
      "File: /Users/antonio/Documents/Presentation Templates/Powerpoint Files/Value Chain Slides/Presentation/Value Chain Slides Powerpoint Template.pptx\n",
      "File: /Users/antonio/Documents/Presentation Templates/Powerpoint Files/Harvey Ball Slides/Read me - Fonts links 2.rtf\n",
      "File: /Users/antonio/Documents/Presentation Templates/Powerpoint Files/Harvey Ball Slides/Read me - Fonts links.rtf\n",
      "File: /Users/antonio/Documents/Presentation Templates/Powerpoint Files/Harvey Ball Slides/Presentation file/Harvey Ball Powerpoint Template.pptx\n",
      "File: /Users/antonio/Documents/Presentation Templates/Powerpoint Files/Funnel Slides/Funnel Slides V4 Powerpoint Template/Read me - Fonts links 2.rtf\n",
      "File: /Users/antonio/Documents/Presentation Templates/Powerpoint Files/Funnel Slides/Funnel Slides V4 Powerpoint Template/Read me - Fonts links.rtf\n",
      "File: /Users/antonio/Documents/Presentation Templates/Powerpoint Files/Funnel Slides/Funnel Slides V4 Powerpoint Template/Presentation file/Funnel Slides V4 Powerpoint Template.pptx\n",
      "File: /Users/antonio/Documents/Presentation Templates/Powerpoint Files/Funnel Slides/Funnel Slides V5 Powerpoint Template/Read me - Fonts links 2.rtf\n",
      "File: /Users/antonio/Documents/Presentation Templates/Powerpoint Files/Funnel Slides/Funnel Slides V5 Powerpoint Template/Read me - Fonts links.rtf\n",
      "File: /Users/antonio/Documents/Presentation Templates/Powerpoint Files/Funnel Slides/Funnel Slides V5 Powerpoint Template/Presentation file/Funnel Slides V5 Powerpoint Template.pptx\n",
      "File: /Users/antonio/Documents/Presentation Templates/Powerpoint Files/Funnel Slides/Funnel Slides V3 Powerpoint Template/Read me - Fonts links 2.rtf\n",
      "File: /Users/antonio/Documents/Presentation Templates/Powerpoint Files/Funnel Slides/Funnel Slides V3 Powerpoint Template/Read me - Fonts links.rtf\n",
      "File: /Users/antonio/Documents/Presentation Templates/Powerpoint Files/Funnel Slides/Funnel Slides V3 Powerpoint Template/Presentation file/Funnel Slides V3 Powerpoint Template.pptx\n",
      "File: /Users/antonio/Documents/Presentation Templates/Powerpoint Files/Funnel Slides/Funnel Slides V2 Powerpoint Template/Read me - Fonts links 2.rtf\n",
      "File: /Users/antonio/Documents/Presentation Templates/Powerpoint Files/Funnel Slides/Funnel Slides V2 Powerpoint Template/Read me - Fonts links.rtf\n",
      "File: /Users/antonio/Documents/Presentation Templates/Powerpoint Files/Funnel Slides/Funnel Slides V2 Powerpoint Template/Presentation file/Funnel Slides V2 Powerpoint Template.pptx\n",
      "File: /Users/antonio/Documents/Presentation Templates/Powerpoint Files/Funnel Slides/Funnel Slides V1 Powerpoint Template/Read me - Fonts links.rtf\n",
      "File: /Users/antonio/Documents/Presentation Templates/Powerpoint Files/Funnel Slides/Funnel Slides V1 Powerpoint Template/Presentation file/Funnel Slides V1 Powerpoint Template.pptx\n",
      "File: /Users/antonio/Documents/Presentation Templates/Powerpoint Files/Comparison Slides/Read me - Fonts links 2.rtf\n",
      "File: /Users/antonio/Documents/Presentation Templates/Powerpoint Files/Comparison Slides/Read me - Fonts links.rtf\n",
      "File: /Users/antonio/Documents/Presentation Templates/Powerpoint Files/Comparison Slides/Presentation File/Comparison Slides Powerpiont Template.pptx\n",
      "File: /Users/antonio/Documents/Presentation Templates/Powerpoint Files/Risk Management Slides/Read me - Fonts links 2.rtf\n",
      "File: /Users/antonio/Documents/Presentation Templates/Powerpoint Files/Risk Management Slides/Read me - Fonts links.rtf\n",
      "File: /Users/antonio/Documents/Presentation Templates/Powerpoint Files/Risk Management Slides/Presentation/Risk Management Slide Powerpoint Template.pptx\n",
      "File: /Users/antonio/Documents/Presentation Templates/Powerpoint Files/Arrow Slides/Read me - Fonts links 2.rtf\n",
      "File: /Users/antonio/Documents/Presentation Templates/Powerpoint Files/Arrow Slides/Read me - Fonts links.rtf\n",
      "File: /Users/antonio/Documents/Presentation Templates/Powerpoint Files/Arrow Slides/Presentation file/Arrow Powerpoint Template.pptx\n",
      "File: /Users/antonio/Documents/Presentation Templates/Powerpoint Files/World Map Slides/Read me - Fonts links 2.rtf\n",
      "File: /Users/antonio/Documents/Presentation Templates/Powerpoint Files/World Map Slides/Read me - Fonts links.rtf\n",
      "File: /Users/antonio/Documents/Presentation Templates/Powerpoint Files/World Map Slides/Presentation File/Worldmap Slides Powerpoint Template.pptx\n",
      "File: /Users/antonio/Documents/Presentation Templates/Powerpoint Files/Dashboard Slides/Read me - Fonts links 2.rtf\n",
      "File: /Users/antonio/Documents/Presentation Templates/Powerpoint Files/Dashboard Slides/Read me - Fonts links.rtf\n",
      "File: /Users/antonio/Documents/Presentation Templates/Powerpoint Files/Dashboard Slides/Presentation/Dashboard Slides Powerpoint Template.pptx\n",
      "File: /Users/antonio/Documents/Presentation Templates/Powerpoint Files/Pie Chart Slides/Read me - Fonts links 2.rtf\n",
      "File: /Users/antonio/Documents/Presentation Templates/Powerpoint Files/Pie Chart Slides/Read me - Fonts links.rtf\n",
      "File: /Users/antonio/Documents/Presentation Templates/Powerpoint Files/Pie Chart Slides/Presentation File/Pie Chart Slides Powerpoint Template.pptx\n",
      "File: /Users/antonio/Documents/Presentation Templates/Powerpoint Files/ICON LIBRARY/Powerpoint Google Slides Icons.ppt\n",
      "File: /Users/antonio/Documents/Presentation Templates/Powerpoint Files/HR slides/Read me - Fonts links 3.rtf\n",
      "File: /Users/antonio/Documents/Presentation Templates/Powerpoint Files/HR slides/Read me - Fonts links 2.rtf\n",
      "File: /Users/antonio/Documents/Presentation Templates/Powerpoint Files/HR slides/Read me - Fonts links.rtf\n",
      "File: /Users/antonio/Documents/Presentation Templates/Powerpoint Files/HR slides/Read me - Fonts links 4.rtf\n",
      "File: /Users/antonio/Documents/Presentation Templates/Powerpoint Files/HR slides/Human Resources Powerpoint Slides.pptx\n",
      "File: /Users/antonio/Documents/Presentation Templates/Powerpoint Files/HR slides/Human Resources Powerpoint Slides 2.pptx\n",
      "File: /Users/antonio/Documents/Presentation Templates/Powerpoint Files/Strategy Slides/Strategy Powerpoint Slides.pptx\n",
      "File: /Users/antonio/Documents/Presentation Templates/Powerpoint Files/Strategy Slides/Read me - Fonts links 3.rtf\n",
      "File: /Users/antonio/Documents/Presentation Templates/Powerpoint Files/Strategy Slides/Read me - Fonts links 2.rtf\n"
     ]
    },
    {
     "name": "stdout",
     "output_type": "stream",
     "text": [
      "File: /Users/antonio/Documents/Presentation Templates/Powerpoint Files/Strategy Slides/Read me - Fonts links.rtf\n",
      "File: /Users/antonio/Documents/Presentation Templates/Powerpoint Files/Strategy Slides/Strategy Powerpoint Slides 2.pptx\n",
      "File: /Users/antonio/Documents/Presentation Templates/Powerpoint Files/Strategy Slides/Read me - Fonts links 4.rtf\n",
      "File: /Users/antonio/Documents/Presentation Templates/Powerpoint Files/Table Slides/Table Powerpoint Slides.pptx\n",
      "File: /Users/antonio/Documents/Presentation Templates/Powerpoint Files/Table Slides/Read me - Fonts links 2.rtf\n",
      "File: /Users/antonio/Documents/Presentation Templates/Powerpoint Files/Table Slides/Read me - Fonts links.rtf\n",
      "File: /Users/antonio/Documents/Presentation Templates/Powerpoint Files/Chart Slides/Read me - Fonts links 2.rtf\n",
      "File: /Users/antonio/Documents/Presentation Templates/Powerpoint Files/Chart Slides/Read me - Fonts links.rtf\n",
      "File: /Users/antonio/Documents/Presentation Templates/Powerpoint Files/Chart Slides/Presentation File/Chart Slides Powerpoint Template.pptx\n",
      "File: /Users/antonio/Documents/Presentation Templates/Powerpoint Files/Org Chart Slides/Read me - Fonts links 2.rtf\n",
      "File: /Users/antonio/Documents/Presentation Templates/Powerpoint Files/Org Chart Slides/Read me - Fonts links.rtf\n",
      "File: /Users/antonio/Documents/Presentation Templates/Powerpoint Files/Org Chart Slides/Presentation File/Org Chart Slides Powerpoint Template.pptx\n",
      "File: /Users/antonio/Documents/Presentation Templates/Powerpoint Files/Profit and Loss Slides/Read me - Fonts links 2.rtf\n",
      "File: /Users/antonio/Documents/Presentation Templates/Powerpoint Files/Profit and Loss Slides/Read me - Fonts links.rtf\n",
      "File: /Users/antonio/Documents/Presentation Templates/Powerpoint Files/Profit and Loss Slides/Presentation/Profit and Loss Slides Powerpoint Template.pptx\n",
      "File: /Users/antonio/Documents/Presentation Templates/Powerpoint Files/Pricing Table Slides/Pricing Table Powerpoint Slides .pptx\n",
      "File: /Users/antonio/Documents/Presentation Templates/Powerpoint Files/Pricing Table Slides/Read me - Fonts links 2.rtf\n",
      "File: /Users/antonio/Documents/Presentation Templates/Powerpoint Files/Pricing Table Slides/Read me - Fonts links.rtf\n",
      "File: /Users/antonio/Documents/Presentation Templates/Powerpoint Files/Marketing Slides/Read me - Fonts links.rtf\n",
      "File: /Users/antonio/Documents/Presentation Templates/Powerpoint Files/Marketing Slides/Marketing Powerpoint Slides.pptx\n",
      "File: /Users/antonio/Documents/Presentation Templates/Powerpoint Files/Marketing Slides/Marketing Slides V1 Powerpoint Template/Read me - Fonts links 2.rtf\n",
      "File: /Users/antonio/Documents/Presentation Templates/Powerpoint Files/Marketing Slides/Marketing Slides V1 Powerpoint Template/Read me - Fonts links.rtf\n",
      "File: /Users/antonio/Documents/Presentation Templates/Powerpoint Files/Marketing Slides/Marketing Slides V1 Powerpoint Template/Presentation file/Marketing Slides V1 Powerpoint Template.pptx\n",
      "File: /Users/antonio/Documents/Presentation Templates/Powerpoint Files/Marketing Slides/Marketing Slides V2 Powerpoint Template/Read me - Fonts links 2.rtf\n",
      "File: /Users/antonio/Documents/Presentation Templates/Powerpoint Files/Marketing Slides/Marketing Slides V2 Powerpoint Template/Read me - Fonts links.rtf\n",
      "File: /Users/antonio/Documents/Presentation Templates/Powerpoint Files/Marketing Slides/Marketing Slides V2 Powerpoint Template/Presentation file/Marketing Slides V2 Powerpoint Template.pptx\n",
      "File: /Users/antonio/Documents/Presentation Templates/Powerpoint Files/Marketing Slides/Marketing Slides V3 Powerpoint Template/Read me - Fonts links 2.rtf\n",
      "File: /Users/antonio/Documents/Presentation Templates/Powerpoint Files/Marketing Slides/Marketing Slides V3 Powerpoint Template/Read me - Fonts links.rtf\n",
      "File: /Users/antonio/Documents/Presentation Templates/Powerpoint Files/Marketing Slides/Marketing Slides V3 Powerpoint Template/Presentation file/Marketing Slides V3 Powerpoint Template.pptx\n",
      "File: /Users/antonio/Documents/Presentation Templates/Powerpoint Files/Education Slides/Read me - Fonts links 2.rtf\n",
      "File: /Users/antonio/Documents/Presentation Templates/Powerpoint Files/Education Slides/Read me - Fonts links.rtf\n",
      "File: /Users/antonio/Documents/Presentation Templates/Powerpoint Files/Education Slides/Presentation File/Education Slides Powerpoint Template.pptx\n",
      "File: /Users/antonio/Documents/Presentation Templates/Powerpoint Files/Agenda Slides/Read me - Fonts links 2.rtf\n",
      "File: /Users/antonio/Documents/Presentation Templates/Powerpoint Files/Agenda Slides/Read me - Fonts links.rtf\n",
      "File: /Users/antonio/Documents/Presentation Templates/Powerpoint Files/Agenda Slides/CCA Presentation Master V2.pptx\n",
      "File: /Users/antonio/Documents/Presentation Templates/Powerpoint Files/Agenda Slides/Agenda Powerpoint Slides.pptx\n",
      "File: /Users/antonio/Documents/Presentation Templates/Powerpoint Files/ADKAR Slides/Read me - Fonts links 2.rtf\n",
      "File: /Users/antonio/Documents/Presentation Templates/Powerpoint Files/ADKAR Slides/Read me - Fonts links.rtf\n",
      "File: /Users/antonio/Documents/Presentation Templates/Powerpoint Files/ADKAR Slides/Presentation/ADKAR Slides Powerpoint Template.pptx\n",
      "File: /Users/antonio/Documents/Presentation Templates/Powerpoint Files/Ecology Slides/Read me - Fonts links 2.rtf\n",
      "File: /Users/antonio/Documents/Presentation Templates/Powerpoint Files/Ecology Slides/Read me - Fonts links.rtf\n",
      "File: /Users/antonio/Documents/Presentation Templates/Powerpoint Files/Ecology Slides/Presentation/Ecology Slides Powerpoint Template.pptx\n",
      "File: /Users/antonio/Documents/Presentation Templates/Powerpoint Files/Product Roadmap Slides/Read me - Fonts links 2.rtf\n",
      "File: /Users/antonio/Documents/Presentation Templates/Powerpoint Files/Product Roadmap Slides/Read me - Fonts links.rtf\n",
      "File: /Users/antonio/Documents/Presentation Templates/Powerpoint Files/Product Roadmap Slides/Product Roadmap Powerpoint Slides.pptx\n",
      "File: /Users/antonio/Documents/Presentation Templates/Powerpoint Files/Process Slides/Process Slides V1Powerpoint Template/Read me - Fonts links 2.rtf\n",
      "File: /Users/antonio/Documents/Presentation Templates/Powerpoint Files/Process Slides/Process Slides V1Powerpoint Template/Read me - Fonts links.rtf\n",
      "File: /Users/antonio/Documents/Presentation Templates/Powerpoint Files/Process Slides/Process Slides V1Powerpoint Template/Presentation File/Process Slides V1 Powerpoint Template.pptx\n",
      "File: /Users/antonio/Documents/Presentation Templates/Powerpoint Files/Process Slides/Process Slides V3 Powerpoint Template/Read me - Fonts links 2.rtf\n",
      "File: /Users/antonio/Documents/Presentation Templates/Powerpoint Files/Process Slides/Process Slides V3 Powerpoint Template/Read me - Fonts links.rtf\n",
      "File: /Users/antonio/Documents/Presentation Templates/Powerpoint Files/Process Slides/Process Slides V3 Powerpoint Template/Presentation File/Process Slides V3 Powerpoint Template.pptx\n",
      "File: /Users/antonio/Documents/Presentation Templates/Powerpoint Files/Process Slides/Process Slides V2 Powerpoint Template/Read me - Fonts links 2.rtf\n",
      "File: /Users/antonio/Documents/Presentation Templates/Powerpoint Files/Process Slides/Process Slides V2 Powerpoint Template/Read me - Fonts links.rtf\n",
      "File: /Users/antonio/Documents/Presentation Templates/Powerpoint Files/Process Slides/Process Slides V2 Powerpoint Template/Presentation File/Process Slides V2 Powerpoint Template.pptx\n",
      "File: /Users/antonio/Documents/Presentation Templates/Powerpoint Files/Process Slides/Process Slides V4 Powerpoint Template/Read me - Fonts links.rtf\n",
      "File: /Users/antonio/Documents/Presentation Templates/Powerpoint Files/Process Slides/Process Slides V4 Powerpoint Template/Presentation File/Process Slides V4 Powerpoint Template.pptx\n",
      "File: /Users/antonio/Documents/Presentation Templates/Powerpoint Files/Milestones Slides/Read me - Fonts links.rtf\n",
      "File: /Users/antonio/Documents/Presentation Templates/Powerpoint Files/Milestones Slides/Presenteton File/Milestones Slides Powerpoint Template.pptx\n",
      "File: /Users/antonio/Documents/Presentation Templates/Powerpoint Files/Pyramid Slides/Read me - Fonts links 2.rtf\n",
      "File: /Users/antonio/Documents/Presentation Templates/Powerpoint Files/Pyramid Slides/Read me - Fonts links.rtf\n",
      "File: /Users/antonio/Documents/Presentation Templates/Powerpoint Files/Pyramid Slides/Presentation file/Pyramid Slides Powerpoint Template.pptx\n",
      "File: /Users/antonio/Documents/Presentation Templates/Powerpoint Files/Technology Slides/Read me - Fonts links 2.rtf\n"
     ]
    },
    {
     "name": "stdout",
     "output_type": "stream",
     "text": [
      "File: /Users/antonio/Documents/Presentation Templates/Powerpoint Files/Technology Slides/Read me - Fonts links.rtf\n",
      "File: /Users/antonio/Documents/Presentation Templates/Powerpoint Files/Technology Slides/Presentation/Technology Infographics Powerpoint Template.pptx\n",
      "File: /Users/antonio/Documents/Presentation Templates/Powerpoint Files/Cycle Slides/Read me - Fonts links 2.rtf\n",
      "File: /Users/antonio/Documents/Presentation Templates/Powerpoint Files/Cycle Slides/Read me - Fonts links.rtf\n",
      "File: /Users/antonio/Documents/Presentation Templates/Powerpoint Files/Cycle Slides/Presentation file/Cycle Powerpoint Template.pptx\n",
      "File: /Users/antonio/Documents/Presentation Templates/Powerpoint Files/Mekko Chart Slides/Read me - Fonts links 2.rtf\n",
      "File: /Users/antonio/Documents/Presentation Templates/Powerpoint Files/Mekko Chart Slides/Read me - Fonts links.rtf\n",
      "File: /Users/antonio/Documents/Presentation Templates/Powerpoint Files/Mekko Chart Slides/Presentation/Mekko Chart Slides Powerpoint Template.pptx\n",
      "File: /Users/antonio/Documents/Presentation Templates/Powerpoint Files/SCRUM Slides/Read me - Fonts links 2.rtf\n",
      "File: /Users/antonio/Documents/Presentation Templates/Powerpoint Files/SCRUM Slides/Read me - Fonts links.rtf\n",
      "File: /Users/antonio/Documents/Presentation Templates/Powerpoint Files/SCRUM Slides/Presentation/SCRUM Powerpoint Template.pptx\n",
      "File: /Users/antonio/Documents/Presentation Templates/Powerpoint Files/Project Management Slides/Read me - Fonts links 2.rtf\n",
      "File: /Users/antonio/Documents/Presentation Templates/Powerpoint Files/Project Management Slides/Read me - Fonts links.rtf\n",
      "File: /Users/antonio/Documents/Presentation Templates/Powerpoint Files/Project Management Slides/Presentation/Project Management Slides Powerpoint Template.pptx\n",
      "File: /Users/antonio/Documents/Presentation Templates/Powerpoint Files/Brain Slides/Read me - Fonts links 2.rtf\n",
      "File: /Users/antonio/Documents/Presentation Templates/Powerpoint Files/Brain Slides/Read me - Fonts links.rtf\n",
      "File: /Users/antonio/Documents/Presentation Templates/Powerpoint Files/Brain Slides/Brain Powerpoint Slides.pptx\n",
      "File: /Users/antonio/Documents/Presentation Templates/Powerpoint Files/Supply Chain Slides/Read me - Fonts links 2.rtf\n",
      "File: /Users/antonio/Documents/Presentation Templates/Powerpoint Files/Supply Chain Slides/Read me - Fonts links.rtf\n",
      "File: /Users/antonio/Documents/Presentation Templates/Powerpoint Files/Supply Chain Slides/Presentation/Supply Chain Slides Powerpoint Template.pptx\n",
      "File: /Users/antonio/Documents/Presentation Templates/Powerpoint Files/Mindmap Slides/Read me - Fonts links 2.rtf\n",
      "File: /Users/antonio/Documents/Presentation Templates/Powerpoint Files/Mindmap Slides/Read me - Fonts links.rtf\n",
      "File: /Users/antonio/Documents/Presentation Templates/Powerpoint Files/Mindmap Slides/Presentation File/Mindmap Slides Powerpoint Template.pptx\n",
      "File: /Users/antonio/Documents/Presentation Templates/Powerpoint Files/Roadmap Slides/Read me - Fonts links 2.rtf\n",
      "File: /Users/antonio/Documents/Presentation Templates/Powerpoint Files/Roadmap Slides/Read me - Fonts links.rtf\n",
      "File: /Users/antonio/Documents/Presentation Templates/Powerpoint Files/Roadmap Slides/Presentation file/Roadmap Slides V1 Powerpoint Template.pptx\n",
      "File: /Users/antonio/Documents/Presentation Templates/Powerpoint Files/Healthcare Slides/Healthcare Slides V5 Powerpoint Template/Read me - Fonts links 2.rtf\n",
      "File: /Users/antonio/Documents/Presentation Templates/Powerpoint Files/Healthcare Slides/Healthcare Slides V5 Powerpoint Template/Read me - Fonts links.rtf\n",
      "File: /Users/antonio/Documents/Presentation Templates/Powerpoint Files/Healthcare Slides/Healthcare Slides V5 Powerpoint Template/Presentation file/Healthcare Slides V5 Powerpoint Template.pptx\n",
      "File: /Users/antonio/Documents/Presentation Templates/Powerpoint Files/Healthcare Slides/Healthcare Slides V4 Powerpoint Template/Read me - Fonts links 2.rtf\n",
      "File: /Users/antonio/Documents/Presentation Templates/Powerpoint Files/Healthcare Slides/Healthcare Slides V4 Powerpoint Template/Read me - Fonts links.rtf\n",
      "File: /Users/antonio/Documents/Presentation Templates/Powerpoint Files/Healthcare Slides/Healthcare Slides V4 Powerpoint Template/Presentation file/Healthcare Slides V4 Powerpoint Template.pptx\n",
      "File: /Users/antonio/Documents/Presentation Templates/Powerpoint Files/Healthcare Slides/Healthcare Slides V1 Powerpoint Template/Read me - Fonts links 2.rtf\n",
      "File: /Users/antonio/Documents/Presentation Templates/Powerpoint Files/Healthcare Slides/Healthcare Slides V1 Powerpoint Template/Read me - Fonts links.rtf\n",
      "File: /Users/antonio/Documents/Presentation Templates/Powerpoint Files/Healthcare Slides/Healthcare Slides V1 Powerpoint Template/Presentation file/Healthcare Slides V1 Powerpoint Template.pptx\n",
      "File: /Users/antonio/Documents/Presentation Templates/Powerpoint Files/Healthcare Slides/Healthcare Slides V2 Powerpoint Template/Read me - Fonts links 2.rtf\n",
      "File: /Users/antonio/Documents/Presentation Templates/Powerpoint Files/Healthcare Slides/Healthcare Slides V2 Powerpoint Template/Read me - Fonts links.rtf\n",
      "File: /Users/antonio/Documents/Presentation Templates/Powerpoint Files/Healthcare Slides/Healthcare Slides V2 Powerpoint Template/Presentation file/Healthcare Slides V2 Powerpoint Template.pptx\n",
      "File: /Users/antonio/Documents/Presentation Templates/Powerpoint Files/Healthcare Slides/Healthcare Slides V3 Powerpoint Template/Presentation file/Healthcare Slides V3 Powerpoint Template.pptx\n",
      "File: /Users/antonio/Documents/Presentation Templates/Powerpoint Files/Social Media Slides/Social Media Slides V2 Powerpoint Template/Read me - Fonts links 2.rtf\n",
      "File: /Users/antonio/Documents/Presentation Templates/Powerpoint Files/Social Media Slides/Social Media Slides V2 Powerpoint Template/Read me - Fonts links.rtf\n",
      "File: /Users/antonio/Documents/Presentation Templates/Powerpoint Files/Social Media Slides/Social Media Slides V2 Powerpoint Template/Presentation file/Social Media Slides V2 Powerpoint Template.pptx\n",
      "File: /Users/antonio/Documents/Presentation Templates/Powerpoint Files/Social Media Slides/Social Media Slides V3 Powerpoint Template/Read me - Fonts links 2.rtf\n",
      "File: /Users/antonio/Documents/Presentation Templates/Powerpoint Files/Social Media Slides/Social Media Slides V3 Powerpoint Template/Read me - Fonts links.rtf\n",
      "File: /Users/antonio/Documents/Presentation Templates/Powerpoint Files/Social Media Slides/Social Media Slides V3 Powerpoint Template/Presentation file/Social Media Slides V3 Powerpoint Template.pptx\n",
      "File: /Users/antonio/Documents/Presentation Templates/Powerpoint Files/Social Media Slides/Social Media Slides V1 Powerpoint Template/Read me - Fonts links.rtf\n"
     ]
    },
    {
     "name": "stderr",
     "output_type": "stream",
     "text": [
      "Could not detect the filetype from application/octet-stream MIME type.\n",
      "Could not detect the filetype from application/octet-stream MIME type.\n",
      "Could not detect the filetype from application/octet-stream MIME type.\n",
      "Could not detect the filetype from application/octet-stream MIME type.\n",
      "Could not detect the filetype from application/octet-stream MIME type.\n",
      "Could not detect the filetype from application/octet-stream MIME type.\n",
      "Could not detect the filetype from application/octet-stream MIME type.\n",
      "Could not detect the filetype from application/octet-stream MIME type.\n",
      "Could not detect the filetype from application/octet-stream MIME type.\n",
      "Could not detect the filetype from application/octet-stream MIME type.\n",
      "Could not detect the filetype from application/octet-stream MIME type.\n",
      "Could not detect the filetype from application/octet-stream MIME type.\n",
      "Could not detect the filetype from application/octet-stream MIME type.\n",
      "Could not detect the filetype from application/octet-stream MIME type.\n",
      "Could not detect the filetype from application/octet-stream MIME type.\n",
      "Could not detect the filetype from application/octet-stream MIME type.\n"
     ]
    },
    {
     "name": "stdout",
     "output_type": "stream",
     "text": [
      "File: /Users/antonio/Documents/Presentation Templates/Powerpoint Files/Social Media Slides/Social Media Slides V1 Powerpoint Template/Presentation file/Social Media Slides V1 Powerpoint Template.pptx\n",
      "File: /Users/antonio/Documents/Presentation Templates/Zip/FREE-BONUS-Icon-LIBRARY.zip\n",
      "***Error: Invalid file /Users/antonio/Documents/Presentation Templates/Zip/FREE-BONUS-Icon-LIBRARY.zip. The FileType.ZIP file type is not supported in partition.\n",
      "File: /Users/antonio/Documents/Presentation Templates/Zip/Google-Slides-Infographics.zip\n",
      "***Error: Invalid file /Users/antonio/Documents/Presentation Templates/Zip/Google-Slides-Infographics.zip. The FileType.ZIP file type is not supported in partition.\n",
      "File: /Users/antonio/Documents/Presentation Templates/Zip/Powerpoint-Infographics.zip\n",
      "***Error: Invalid file /Users/antonio/Documents/Presentation Templates/Zip/Powerpoint-Infographics.zip. The FileType.ZIP file type is not supported in partition.\n",
      "File: /Users/antonio/Documents/Presentation Templates/Zip/Update 2/human-resource-slides.zip\n",
      "***Error: Invalid file /Users/antonio/Documents/Presentation Templates/Zip/Update 2/human-resource-slides.zip. The FileType.ZIP file type is not supported in partition.\n",
      "File: /Users/antonio/Documents/Presentation Templates/Zip/Update 2/brain-slides.zip\n",
      "***Error: Invalid file /Users/antonio/Documents/Presentation Templates/Zip/Update 2/brain-slides.zip. The FileType.ZIP file type is not supported in partition.\n",
      "File: /Users/antonio/Documents/Presentation Templates/Zip/Update 2/strategy-slides.zip\n",
      "***Error: Invalid file /Users/antonio/Documents/Presentation Templates/Zip/Update 2/strategy-slides.zip. The FileType.ZIP file type is not supported in partition.\n",
      "File: /Users/antonio/Documents/Presentation Templates/Zip/Update 2/budget-slides.zip\n",
      "***Error: Invalid file /Users/antonio/Documents/Presentation Templates/Zip/Update 2/budget-slides.zip. The FileType.ZIP file type is not supported in partition.\n",
      "File: /Users/antonio/Documents/Presentation Templates/Zip/Update 3/human-resource-slides.zip\n",
      "***Error: Invalid file /Users/antonio/Documents/Presentation Templates/Zip/Update 3/human-resource-slides.zip. The FileType.ZIP file type is not supported in partition.\n",
      "File: /Users/antonio/Documents/Presentation Templates/Zip/Update 3/strategy-slides.zip\n",
      "***Error: Invalid file /Users/antonio/Documents/Presentation Templates/Zip/Update 3/strategy-slides.zip. The FileType.ZIP file type is not supported in partition.\n",
      "File: /Users/antonio/Documents/Presentation Templates/Zip/Update 3/budget-slides.zip\n",
      "***Error: Invalid file /Users/antonio/Documents/Presentation Templates/Zip/Update 3/budget-slides.zip. The FileType.ZIP file type is not supported in partition.\n",
      "File: /Users/antonio/Documents/Presentation Templates/Zip/Update 1/table-slides.zip\n",
      "***Error: Invalid file /Users/antonio/Documents/Presentation Templates/Zip/Update 1/table-slides.zip. The FileType.ZIP file type is not supported in partition.\n",
      "File: /Users/antonio/Documents/Presentation Templates/Zip/Update 1/product-roadmap-slides.zip\n",
      "***Error: Invalid file /Users/antonio/Documents/Presentation Templates/Zip/Update 1/product-roadmap-slides.zip. The FileType.ZIP file type is not supported in partition.\n",
      "File: /Users/antonio/Documents/Presentation Templates/Zip/Update 1/pricing-table-slides.zip\n",
      "***Error: Invalid file /Users/antonio/Documents/Presentation Templates/Zip/Update 1/pricing-table-slides.zip. The FileType.ZIP file type is not supported in partition.\n",
      "File: /Users/antonio/Documents/Presentation Templates/Zip/Update 1/marketing-slides.zip\n",
      "***Error: Invalid file /Users/antonio/Documents/Presentation Templates/Zip/Update 1/marketing-slides.zip. The FileType.ZIP file type is not supported in partition.\n",
      "File: /Users/antonio/Documents/Presentation Templates/Zip/Update 1/agenda-slides.zip\n",
      "***Error: Invalid file /Users/antonio/Documents/Presentation Templates/Zip/Update 1/agenda-slides.zip. The FileType.ZIP file type is not supported in partition.\n",
      "File: /Users/antonio/Documents/Presentation Templates/Countries/Venezuela.key\n",
      "***Error: Invalid file /Users/antonio/Documents/Presentation Templates/Countries/Venezuela.key. The FileType.ZIP file type is not supported in partition.\n",
      "File: /Users/antonio/Documents/Presentation Templates/Countries/Colombia.key\n"
     ]
    },
    {
     "name": "stderr",
     "output_type": "stream",
     "text": [
      "Could not detect the filetype from application/octet-stream MIME type.\n",
      "Could not detect the filetype from application/octet-stream MIME type.\n",
      "Could not detect the filetype from application/octet-stream MIME type.\n",
      "Could not detect the filetype from application/octet-stream MIME type.\n",
      "Could not detect the filetype from application/octet-stream MIME type.\n",
      "Could not detect the filetype from application/octet-stream MIME type.\n",
      "Could not detect the filetype from application/octet-stream MIME type.\n",
      "Could not detect the filetype from application/octet-stream MIME type.\n",
      "Could not detect the filetype from application/octet-stream MIME type.\n",
      "Could not detect the filetype from application/octet-stream MIME type.\n",
      "Could not detect the filetype from application/octet-stream MIME type.\n",
      "The pdf_infer_table_structure kwarg is deprecated. Please use skip_infer_table_types instead.\n"
     ]
    },
    {
     "name": "stdout",
     "output_type": "stream",
     "text": [
      "***Error: Invalid file /Users/antonio/Documents/Presentation Templates/Countries/Colombia.key. The FileType.ZIP file type is not supported in partition.\n",
      "File: /Users/antonio/Documents/Presentation Templates/Countries/Guatemala.key\n",
      "***Error: Invalid file /Users/antonio/Documents/Presentation Templates/Countries/Guatemala.key. The FileType.ZIP file type is not supported in partition.\n",
      "File: /Users/antonio/Documents/Presentation Templates/Countries/Caribbean Region.key\n",
      "***Error: Invalid file /Users/antonio/Documents/Presentation Templates/Countries/Caribbean Region.key. The FileType.ZIP file type is not supported in partition.\n",
      "File: /Users/antonio/Documents/Presentation Templates/Countries/South America.key\n",
      "***Error: Invalid file /Users/antonio/Documents/Presentation Templates/Countries/South America.key. The FileType.ZIP file type is not supported in partition.\n",
      "File: /Users/antonio/Documents/Presentation Templates/Countries/Ecuador.key\n",
      "***Error: Invalid file /Users/antonio/Documents/Presentation Templates/Countries/Ecuador.key. The FileType.ZIP file type is not supported in partition.\n",
      "File: /Users/antonio/Documents/Presentation Templates/Countries/Panama.key\n",
      "***Error: Invalid file /Users/antonio/Documents/Presentation Templates/Countries/Panama.key. The FileType.ZIP file type is not supported in partition.\n",
      "File: /Users/antonio/Documents/Presentation Templates/Countries/Caribbean Region 2.key\n",
      "***Error: Invalid file /Users/antonio/Documents/Presentation Templates/Countries/Caribbean Region 2.key. The FileType.ZIP file type is not supported in partition.\n",
      "File: /Users/antonio/Documents/Presentation Templates/Countries/Central American Integration System.key\n",
      "***Error: Invalid file /Users/antonio/Documents/Presentation Templates/Countries/Central American Integration System.key. The FileType.ZIP file type is not supported in partition.\n",
      "File: /Users/antonio/Documents/Presentation Templates/Countries/Costa Rica.key\n",
      "***Error: Invalid file /Users/antonio/Documents/Presentation Templates/Countries/Costa Rica.key. The FileType.ZIP file type is not supported in partition.\n",
      "File: /Users/antonio/Documents/Presentation Templates/Countries/CARICOM.key\n",
      "***Error: Invalid file /Users/antonio/Documents/Presentation Templates/Countries/CARICOM.key. The FileType.ZIP file type is not supported in partition.\n",
      "File: /Users/antonio/Documents/Presentation Templates/Countries/Dominican Republic.key\n",
      "***Error: Invalid file /Users/antonio/Documents/Presentation Templates/Countries/Dominican Republic.key. The FileType.ZIP file type is not supported in partition.\n",
      "File: /Users/antonio/Documents/Log Files/Screencast2.txt\n",
      "File: /Users/antonio/Documents/Log Files/Screencast3.txt\n",
      "File: /Users/antonio/Documents/Log Files/Screencast1.txt\n",
      "File: /Users/antonio/Documents/Log Files/Screencast0.txt\n",
      "File: /Users/antonio/Documents/Epson/.DS_Store\n",
      "File: /Users/antonio/Documents/Epson/Separation Agreement.pdf\n",
      "File: /Users/antonio/Documents/Epson/Documents/.DS_Store\n",
      "File: /Users/antonio/Documents/Epson/Documents/Antonio Pisani.vcf\n",
      "***Error: Invalid file /Users/antonio/Documents/Epson/Documents/Antonio Pisani.vcf. The FileType.UNK file type is not supported in partition.\n",
      "File: /Users/antonio/Documents/Epson/Documents/CCA Top Issues.xlsx\n",
      "File: /Users/antonio/Documents/Epson/Documents/Forecast/WorkForce Pro Ink Cartridge March 2020 Allocation_V1.xlsx\n",
      "File: /Users/antonio/Documents/Epson/Documents/Forecast/4Q20/CCA Forecast February 2020.xlsx\n",
      "File: /Users/antonio/Documents/Epson/Documents/Forecast/4Q20/Month Plan Miami March 2020.xls\n",
      "File: /Users/antonio/Documents/Epson/Documents/Forecast/4Q20/CCA Forecast March 2020.xlsx\n",
      "File: /Users/antonio/Documents/Epson/Documents/Forecast/4Q20/WFC_FY19-20_3months Venezuela.xlsm\n"
     ]
    },
    {
     "name": "stderr",
     "output_type": "stream",
     "text": [
      "/Users/antonio/miniconda3/envs/myenv/lib/python3.12/site-packages/openpyxl/worksheet/_reader.py:329: UserWarning: Data Validation extension is not supported and will be removed\n",
      "  warn(msg)\n",
      "/Users/antonio/miniconda3/envs/myenv/lib/python3.12/site-packages/openpyxl/worksheet/_reader.py:329: UserWarning: Data Validation extension is not supported and will be removed\n",
      "  warn(msg)\n",
      "/Users/antonio/miniconda3/envs/myenv/lib/python3.12/site-packages/openpyxl/worksheet/_reader.py:329: UserWarning: Data Validation extension is not supported and will be removed\n",
      "  warn(msg)\n",
      "/Users/antonio/miniconda3/envs/myenv/lib/python3.12/site-packages/openpyxl/worksheet/_reader.py:329: UserWarning: Data Validation extension is not supported and will be removed\n",
      "  warn(msg)\n",
      "/Users/antonio/miniconda3/envs/myenv/lib/python3.12/site-packages/openpyxl/worksheet/_reader.py:329: UserWarning: Data Validation extension is not supported and will be removed\n",
      "  warn(msg)\n",
      "/Users/antonio/miniconda3/envs/myenv/lib/python3.12/site-packages/openpyxl/worksheet/_reader.py:329: UserWarning: Data Validation extension is not supported and will be removed\n",
      "  warn(msg)\n",
      "/Users/antonio/miniconda3/envs/myenv/lib/python3.12/site-packages/openpyxl/worksheet/_reader.py:329: UserWarning: Data Validation extension is not supported and will be removed\n",
      "  warn(msg)\n",
      "/Users/antonio/miniconda3/envs/myenv/lib/python3.12/site-packages/openpyxl/worksheet/_reader.py:329: UserWarning: Data Validation extension is not supported and will be removed\n",
      "  warn(msg)\n"
     ]
    },
    {
     "name": "stdout",
     "output_type": "stream",
     "text": [
      "File: /Users/antonio/Documents/Epson/Documents/Forecast/4Q20/WFC_CO.xlsm\n"
     ]
    },
    {
     "name": "stderr",
     "output_type": "stream",
     "text": [
      "/Users/antonio/miniconda3/envs/myenv/lib/python3.12/site-packages/openpyxl/worksheet/_reader.py:329: UserWarning: Data Validation extension is not supported and will be removed\n",
      "  warn(msg)\n",
      "/Users/antonio/miniconda3/envs/myenv/lib/python3.12/site-packages/openpyxl/worksheet/_reader.py:329: UserWarning: Data Validation extension is not supported and will be removed\n",
      "  warn(msg)\n",
      "/Users/antonio/miniconda3/envs/myenv/lib/python3.12/site-packages/openpyxl/worksheet/_reader.py:329: UserWarning: Data Validation extension is not supported and will be removed\n",
      "  warn(msg)\n",
      "/Users/antonio/miniconda3/envs/myenv/lib/python3.12/site-packages/openpyxl/worksheet/_reader.py:329: UserWarning: Data Validation extension is not supported and will be removed\n",
      "  warn(msg)\n",
      "/Users/antonio/miniconda3/envs/myenv/lib/python3.12/site-packages/openpyxl/worksheet/_reader.py:329: UserWarning: Data Validation extension is not supported and will be removed\n",
      "  warn(msg)\n",
      "/Users/antonio/miniconda3/envs/myenv/lib/python3.12/site-packages/openpyxl/worksheet/_reader.py:329: UserWarning: Data Validation extension is not supported and will be removed\n",
      "  warn(msg)\n",
      "/Users/antonio/miniconda3/envs/myenv/lib/python3.12/site-packages/openpyxl/worksheet/_reader.py:329: UserWarning: Data Validation extension is not supported and will be removed\n",
      "  warn(msg)\n",
      "/Users/antonio/miniconda3/envs/myenv/lib/python3.12/site-packages/openpyxl/worksheet/_reader.py:329: UserWarning: Data Validation extension is not supported and will be removed\n",
      "  warn(msg)\n"
     ]
    },
    {
     "name": "stdout",
     "output_type": "stream",
     "text": [
      "File: /Users/antonio/Documents/Epson/Documents/Forecast/4Q20/L3150-L4160 Allocation vs FC3 CCA FOB Sales.xlsx\n",
      "File: /Users/antonio/Documents/Epson/Documents/Forecast/4Q20/Plantilla Month Execution 09-03-20.xlsx\n",
      "File: /Users/antonio/Documents/Epson/Documents/Forecast/4Q20/Copy of WFC_FY19-20_March 10_2020.xlsm\n"
     ]
    },
    {
     "name": "stderr",
     "output_type": "stream",
     "text": [
      "/Users/antonio/miniconda3/envs/myenv/lib/python3.12/site-packages/openpyxl/worksheet/_reader.py:329: UserWarning: Data Validation extension is not supported and will be removed\n",
      "  warn(msg)\n",
      "/Users/antonio/miniconda3/envs/myenv/lib/python3.12/site-packages/openpyxl/worksheet/_reader.py:329: UserWarning: Data Validation extension is not supported and will be removed\n",
      "  warn(msg)\n",
      "/Users/antonio/miniconda3/envs/myenv/lib/python3.12/site-packages/openpyxl/worksheet/_reader.py:329: UserWarning: Data Validation extension is not supported and will be removed\n",
      "  warn(msg)\n",
      "/Users/antonio/miniconda3/envs/myenv/lib/python3.12/site-packages/openpyxl/worksheet/_reader.py:329: UserWarning: Data Validation extension is not supported and will be removed\n",
      "  warn(msg)\n",
      "/Users/antonio/miniconda3/envs/myenv/lib/python3.12/site-packages/openpyxl/worksheet/_reader.py:329: UserWarning: Data Validation extension is not supported and will be removed\n",
      "  warn(msg)\n",
      "/Users/antonio/miniconda3/envs/myenv/lib/python3.12/site-packages/openpyxl/worksheet/_reader.py:329: UserWarning: Data Validation extension is not supported and will be removed\n",
      "  warn(msg)\n",
      "/Users/antonio/miniconda3/envs/myenv/lib/python3.12/site-packages/openpyxl/worksheet/_reader.py:329: UserWarning: Data Validation extension is not supported and will be removed\n",
      "  warn(msg)\n",
      "/Users/antonio/miniconda3/envs/myenv/lib/python3.12/site-packages/openpyxl/worksheet/_reader.py:329: UserWarning: Data Validation extension is not supported and will be removed\n",
      "  warn(msg)\n"
     ]
    },
    {
     "name": "stdout",
     "output_type": "stream",
     "text": [
      "File: /Users/antonio/Documents/Epson/Documents/Forecast/4Q20/FY20 March End-of Year Plan CCA v2.0.xlsx\n",
      "File: /Users/antonio/Documents/Epson/Documents/Forecast/4Q20/WorkForce Pro Ink Cartridge March 2020 Allocation_V1.xlsx\n",
      "File: /Users/antonio/Documents/Epson/Documents/Forecast/4Q20/CCA Forecast January 2020.xlsx\n",
      "File: /Users/antonio/Documents/Epson/Documents/Forecast/4Q20/WorkForce Pro Ink Cartridge March 2020 Allocation.xlsx\n",
      "File: /Users/antonio/Documents/Epson/Documents/Forecast/4Q20/MonthPlan  Enero 2020.xls\n",
      "File: /Users/antonio/Documents/Epson/Documents/Forecast/4Q20/WFC_FY19-20_3months.xlsm\n"
     ]
    },
    {
     "name": "stderr",
     "output_type": "stream",
     "text": [
      "/Users/antonio/miniconda3/envs/myenv/lib/python3.12/site-packages/openpyxl/worksheet/_reader.py:329: UserWarning: Data Validation extension is not supported and will be removed\n",
      "  warn(msg)\n",
      "/Users/antonio/miniconda3/envs/myenv/lib/python3.12/site-packages/openpyxl/worksheet/_reader.py:329: UserWarning: Data Validation extension is not supported and will be removed\n",
      "  warn(msg)\n",
      "/Users/antonio/miniconda3/envs/myenv/lib/python3.12/site-packages/openpyxl/worksheet/_reader.py:329: UserWarning: Data Validation extension is not supported and will be removed\n",
      "  warn(msg)\n",
      "/Users/antonio/miniconda3/envs/myenv/lib/python3.12/site-packages/openpyxl/worksheet/_reader.py:329: UserWarning: Data Validation extension is not supported and will be removed\n",
      "  warn(msg)\n",
      "/Users/antonio/miniconda3/envs/myenv/lib/python3.12/site-packages/openpyxl/worksheet/_reader.py:329: UserWarning: Data Validation extension is not supported and will be removed\n",
      "  warn(msg)\n",
      "/Users/antonio/miniconda3/envs/myenv/lib/python3.12/site-packages/openpyxl/worksheet/_reader.py:329: UserWarning: Data Validation extension is not supported and will be removed\n",
      "  warn(msg)\n",
      "/Users/antonio/miniconda3/envs/myenv/lib/python3.12/site-packages/openpyxl/worksheet/_reader.py:329: UserWarning: Data Validation extension is not supported and will be removed\n",
      "  warn(msg)\n",
      "/Users/antonio/miniconda3/envs/myenv/lib/python3.12/site-packages/openpyxl/worksheet/_reader.py:329: UserWarning: Data Validation extension is not supported and will be removed\n",
      "  warn(msg)\n"
     ]
    },
    {
     "name": "stdout",
     "output_type": "stream",
     "text": [
      "File: /Users/antonio/Documents/Epson/Documents/Forecast/4Q20/VI Sales March 2020 Allocation.xlsx\n",
      "File: /Users/antonio/Documents/Epson/Documents/Forecast/4Q20/March Plan Riask & Oportunitties.xlsx\n",
      "File: /Users/antonio/Documents/Epson/Documents/Forecast/4Q20/Month Plan CA Enero 2020V2.xls\n",
      "File: /Users/antonio/Documents/Epson/Documents/Forecast/4Q20/Month Plan - Miami January 2020.xls\n",
      "File: /Users/antonio/Documents/Epson/Documents/Forecast/4Q20/CCA Weekly Summary09-03-20.xlsx\n",
      "File: /Users/antonio/Documents/Epson/Documents/Forecast/4Q20/CCA Forecast Feb-Mar 2020.xlsx\n",
      "File: /Users/antonio/Documents/Epson/Documents/Forecast/4Q20/EcoTnk FOB Sales March 2020 Allocation.xlsx\n",
      "File: /Users/antonio/Documents/Epson/Documents/Forecast/4Q20/ST Ink March 2020 Allocation.xlsx\n",
      "File: /Users/antonio/Documents/Epson/Documents/Forecast/4Q20/Plantilla Month Execution 09-03-20 (1).xlsx\n",
      "File: /Users/antonio/Documents/Epson/Documents/Forecast/4Q20/Month Plan Jan Colombia_V2.xlsx\n",
      "File: /Users/antonio/Documents/Epson/Documents/Forecast/4Q20/EcoTank FOB Sales March 2020 Allocation.xlsx\n",
      "File: /Users/antonio/Documents/Epson/Documents/Forecast/1Q20/CCA Forecast Apr 2019 .xlsx\n",
      "File: /Users/antonio/Documents/Epson/Documents/Forecast/1Q20/CCA Forecast June 2019 .xlsx\n",
      "File: /Users/antonio/Documents/Epson/Documents/Forecast/1Q20/Month Plan Ecuador V4_Abr_2019.xls\n",
      "File: /Users/antonio/Documents/Epson/Documents/Forecast/1Q20/Month Plan Apr Colombia.xlsx\n",
      "File: /Users/antonio/Documents/Epson/Documents/Forecast/1Q20/WFC_FY19-20_3monthsA Central America.xlsm\n"
     ]
    },
    {
     "name": "stderr",
     "output_type": "stream",
     "text": [
      "/Users/antonio/miniconda3/envs/myenv/lib/python3.12/site-packages/openpyxl/worksheet/_reader.py:329: UserWarning: Data Validation extension is not supported and will be removed\n",
      "  warn(msg)\n",
      "/Users/antonio/miniconda3/envs/myenv/lib/python3.12/site-packages/openpyxl/worksheet/_reader.py:329: UserWarning: Data Validation extension is not supported and will be removed\n",
      "  warn(msg)\n",
      "/Users/antonio/miniconda3/envs/myenv/lib/python3.12/site-packages/openpyxl/worksheet/_reader.py:329: UserWarning: Data Validation extension is not supported and will be removed\n",
      "  warn(msg)\n",
      "/Users/antonio/miniconda3/envs/myenv/lib/python3.12/site-packages/openpyxl/worksheet/_reader.py:329: UserWarning: Data Validation extension is not supported and will be removed\n",
      "  warn(msg)\n",
      "/Users/antonio/miniconda3/envs/myenv/lib/python3.12/site-packages/openpyxl/worksheet/_reader.py:329: UserWarning: Data Validation extension is not supported and will be removed\n",
      "  warn(msg)\n",
      "/Users/antonio/miniconda3/envs/myenv/lib/python3.12/site-packages/openpyxl/worksheet/_reader.py:329: UserWarning: Data Validation extension is not supported and will be removed\n",
      "  warn(msg)\n",
      "/Users/antonio/miniconda3/envs/myenv/lib/python3.12/site-packages/openpyxl/worksheet/_reader.py:329: UserWarning: Data Validation extension is not supported and will be removed\n",
      "  warn(msg)\n",
      "/Users/antonio/miniconda3/envs/myenv/lib/python3.12/site-packages/openpyxl/worksheet/_reader.py:329: UserWarning: Data Validation extension is not supported and will be removed\n",
      "  warn(msg)\n"
     ]
    },
    {
     "name": "stdout",
     "output_type": "stream",
     "text": [
      "File: /Users/antonio/Documents/Epson/Documents/Forecast/1Q20/Month Execution Colombia 27-05-19_V2.xlsx\n",
      "File: /Users/antonio/Documents/Epson/Documents/Forecast/1Q20/Month Plan CA Mayo 2019.xls\n",
      "File: /Users/antonio/Documents/Epson/Documents/Forecast/1Q20/Month Plan Ecuador V4_May_2019.xls\n",
      "File: /Users/antonio/Documents/Epson/Documents/Forecast/1Q20/MonthPlan Venezuela Junio  2019.xls\n",
      "File: /Users/antonio/Documents/Epson/Documents/Forecast/1Q20/CCA Forecast May 2019 .xlsx\n",
      "File: /Users/antonio/Documents/Epson/Documents/Forecast/1Q20/Month Plan - Miami April 2019 (003).xls\n",
      "File: /Users/antonio/Documents/Epson/Documents/Forecast/1Q20/WFC_FY19-20_3months_April'19_semana3 Ecuador.xlsm\n"
     ]
    },
    {
     "name": "stderr",
     "output_type": "stream",
     "text": [
      "/Users/antonio/miniconda3/envs/myenv/lib/python3.12/site-packages/openpyxl/worksheet/_reader.py:329: UserWarning: Data Validation extension is not supported and will be removed\n",
      "  warn(msg)\n",
      "/Users/antonio/miniconda3/envs/myenv/lib/python3.12/site-packages/openpyxl/worksheet/_reader.py:329: UserWarning: Data Validation extension is not supported and will be removed\n",
      "  warn(msg)\n",
      "/Users/antonio/miniconda3/envs/myenv/lib/python3.12/site-packages/openpyxl/worksheet/_reader.py:329: UserWarning: Data Validation extension is not supported and will be removed\n",
      "  warn(msg)\n",
      "/Users/antonio/miniconda3/envs/myenv/lib/python3.12/site-packages/openpyxl/worksheet/_reader.py:329: UserWarning: Data Validation extension is not supported and will be removed\n",
      "  warn(msg)\n",
      "/Users/antonio/miniconda3/envs/myenv/lib/python3.12/site-packages/openpyxl/worksheet/_reader.py:329: UserWarning: Data Validation extension is not supported and will be removed\n",
      "  warn(msg)\n",
      "/Users/antonio/miniconda3/envs/myenv/lib/python3.12/site-packages/openpyxl/worksheet/_reader.py:329: UserWarning: Data Validation extension is not supported and will be removed\n",
      "  warn(msg)\n",
      "/Users/antonio/miniconda3/envs/myenv/lib/python3.12/site-packages/openpyxl/worksheet/_reader.py:329: UserWarning: Data Validation extension is not supported and will be removed\n",
      "  warn(msg)\n",
      "/Users/antonio/miniconda3/envs/myenv/lib/python3.12/site-packages/openpyxl/worksheet/_reader.py:329: UserWarning: Data Validation extension is not supported and will be removed\n",
      "  warn(msg)\n"
     ]
    },
    {
     "name": "stdout",
     "output_type": "stream",
     "text": [
      "File: /Users/antonio/Documents/Epson/Documents/Forecast/1Q20/Most Probable Ecuador V4_al_21_05_2019 v2.xls\n",
      "File: /Users/antonio/Documents/Epson/Documents/Forecast/1Q20/Month Plan Miami June 2019.xls\n",
      "File: /Users/antonio/Documents/Epson/Documents/Forecast/1Q20/Month Plan May Colombia.xlsx\n",
      "File: /Users/antonio/Documents/Epson/Documents/Forecast/1Q20/Month Plan - Miami August 2019.xls\n",
      "File: /Users/antonio/Documents/Epson/Documents/Forecast/1Q20/Month Plan - Miami May 2019.xls\n",
      "File: /Users/antonio/Documents/Epson/Documents/Forecast/1Q20/Month Execution Colombia 20-05-19.xlsx\n",
      "File: /Users/antonio/Documents/Epson/Documents/Forecast/1Q20/MonthPlan Venezuela May  2019.xls\n",
      "File: /Users/antonio/Documents/Epson/Documents/Forecast/1Q20/Copy of Month Plan Jun Colombia.xlsx\n",
      "File: /Users/antonio/Documents/Epson/Documents/Forecast/1Q20/Month Plan CA Abril 2019.xls\n",
      "File: /Users/antonio/Documents/Epson/Documents/Forecast/1Q20/MonthPlan Ecuador Junio  2019.xls\n",
      "File: /Users/antonio/Documents/Epson/Documents/Forecast/1Q20/Template Month Execution 11-06-19_V1.xlsx\n",
      "File: /Users/antonio/Documents/Epson/Documents/Forecast/1Q20/Most Probable Ecuador V4_al_16_04_2019.xls\n",
      "File: /Users/antonio/Documents/Epson/Documents/Forecast/Planning/FY15 Planning Template Q1.ppt\n",
      "File: /Users/antonio/Documents/Epson/Documents/Forecast/Planning/CCA Operations.pptx\n",
      "File: /Users/antonio/Documents/Epson/Documents/Forecast/Planning/FY18 Forecast - Country Name - Jul17.xlsx\n",
      "File: /Users/antonio/Documents/Epson/Documents/Forecast/Planning/Month Plan V3.1.xls\n",
      "File: /Users/antonio/Documents/Epson/Documents/Forecast/Planning/FC Sanity Check.xlsx\n",
      "File: /Users/antonio/Documents/Epson/Documents/Forecast/Planning/FY18 Q2 Planning Template.pptx\n",
      "File: /Users/antonio/Documents/Epson/Documents/Forecast/Planning/CCA distributor planning tool v2.0.pptx\n",
      "File: /Users/antonio/Documents/Epson/Documents/Forecast/Planning/FY15 & FY16 Forecast Sep14.xlsx\n",
      "File: /Users/antonio/Documents/Epson/Documents/Forecast/Planning/Month Execution V4.xls\n",
      "File: /Users/antonio/Documents/Epson/Documents/Forecast/Planning/Month Plan V3.0.xls\n",
      "File: /Users/antonio/Documents/Epson/Documents/Forecast/Planning/FY13 Business Plan 4Q.xlsx\n",
      "File: /Users/antonio/Documents/Epson/Documents/Forecast/Planning/FY14 Plan Q4.ppt\n",
      "File: /Users/antonio/Documents/Epson/Documents/Forecast/Planning/CCA New Business MBR.pptx\n",
      "File: /Users/antonio/Documents/Epson/Documents/Forecast/Planning/FY15 Planning Template Q2.ppt\n",
      "File: /Users/antonio/Documents/Epson/Documents/Forecast/Planning/FY14 Business Plan.xlsx\n",
      "File: /Users/antonio/Documents/Epson/Documents/Forecast/Planning/CCA Country MBR V2.0.pptx\n",
      "File: /Users/antonio/Documents/Epson/Documents/Forecast/Planning/CCA Weekly Summary.xlsx\n",
      "File: /Users/antonio/Documents/Epson/Documents/Forecast/Planning/FY13 Business Plan 2Q.xls\n",
      "File: /Users/antonio/Documents/Epson/Documents/Forecast/Planning/CCA MBR Sep 2017.xlsx\n",
      "File: /Users/antonio/Documents/Epson/Documents/Forecast/Planning/FY14 Planning Template.ppt\n",
      "File: /Users/antonio/Documents/Epson/Documents/Forecast/Planning/FY16 Forecast Jul15.xlsx\n",
      "File: /Users/antonio/Documents/Epson/Documents/Forecast/Planning/FY16 Forecast Mar15.xlsx\n",
      "File: /Users/antonio/Documents/Epson/Documents/Forecast/Planning/FY16 Planning Template Mar15.ppt\n",
      "File: /Users/antonio/Documents/Epson/Documents/Forecast/Planning/Central America Month Plan.xls\n",
      "File: /Users/antonio/Documents/Epson/Documents/Forecast/Planning/Month Plan V3.0.xlsx\n",
      "File: /Users/antonio/Documents/Epson/Documents/Forecast/Planning/FY13 Business Plan 2Q.xlsx\n",
      "File: /Users/antonio/Documents/Epson/Documents/Forecast/Planning/FY15 Planning Template Q4.ppt\n",
      "File: /Users/antonio/Documents/Epson/Documents/Forecast/Planning/FY13 Business Plan 4Q (versión final).xlsx\n",
      "File: /Users/antonio/Documents/Epson/Documents/Forecast/Planning/FY17 Q2 Planning Template.pptx\n",
      "File: /Users/antonio/Documents/Epson/Documents/Forecast/Planning/Central America Month Execution.xls\n",
      "File: /Users/antonio/Documents/Epson/Documents/Forecast/Planning/FY17 Forecast Apr16 V2.xlsx\n",
      "File: /Users/antonio/Documents/Epson/Documents/Forecast/Planning/Mid Term Plan.xls\n",
      "File: /Users/antonio/Documents/Epson/Documents/Forecast/Planning/FY15 & FY16 Forecast Oct14.xlsx\n",
      "File: /Users/antonio/Documents/Epson/Documents/Forecast/Planning/CCA Review Template.ppt\n",
      "File: /Users/antonio/Documents/Epson/Documents/Forecast/Planning/FY17 Forecast Dec16.xlsx\n",
      "File: /Users/antonio/Documents/Epson/Documents/Forecast/Planning/FY18-FY19 Forecast - Country Name - Nov17.xlsx\n"
     ]
    },
    {
     "name": "stderr",
     "output_type": "stream",
     "text": [
      "/Users/antonio/miniconda3/envs/myenv/lib/python3.12/site-packages/openpyxl/worksheet/_reader.py:329: UserWarning: Data Validation extension is not supported and will be removed\n",
      "  warn(msg)\n",
      "/Users/antonio/miniconda3/envs/myenv/lib/python3.12/site-packages/openpyxl/worksheet/_reader.py:329: UserWarning: Data Validation extension is not supported and will be removed\n",
      "  warn(msg)\n",
      "/Users/antonio/miniconda3/envs/myenv/lib/python3.12/site-packages/openpyxl/worksheet/_reader.py:329: UserWarning: Data Validation extension is not supported and will be removed\n",
      "  warn(msg)\n",
      "/Users/antonio/miniconda3/envs/myenv/lib/python3.12/site-packages/openpyxl/worksheet/_reader.py:329: UserWarning: Data Validation extension is not supported and will be removed\n",
      "  warn(msg)\n",
      "/Users/antonio/miniconda3/envs/myenv/lib/python3.12/site-packages/openpyxl/worksheet/_reader.py:329: UserWarning: Data Validation extension is not supported and will be removed\n",
      "  warn(msg)\n"
     ]
    },
    {
     "name": "stdout",
     "output_type": "stream",
     "text": [
      "File: /Users/antonio/Documents/Epson/Documents/Forecast/Planning/FY16 Planning Template Oct15.ppt\n",
      "File: /Users/antonio/Documents/Epson/Documents/Forecast/Planning/FY12 Business Plan Q4.xls\n",
      "File: /Users/antonio/Documents/Epson/Documents/Forecast/Planning/FY14 & FY15 Forecast Oct13.xlsx\n",
      "File: /Users/antonio/Documents/Epson/Documents/Forecast/Planning/Month Execution.xls\n",
      "File: /Users/antonio/Documents/Epson/Documents/Forecast/Planning/FY12 Planning Template.ppt\n"
     ]
    },
    {
     "name": "stderr",
     "output_type": "stream",
     "text": [
      "libpng warning: iCCP: known incorrect sRGB profile\n"
     ]
    },
    {
     "name": "stdout",
     "output_type": "stream",
     "text": [
      "File: /Users/antonio/Documents/Epson/Documents/Forecast/Planning/Month Plan V2.0.xls\n",
      "File: /Users/antonio/Documents/Epson/Documents/Forecast/Planning/Month Plan.xls\n",
      "File: /Users/antonio/Documents/Epson/Documents/Forecast/Planning/FY17 Q4 Planning Template.pptx\n",
      "File: /Users/antonio/Documents/Epson/Documents/Forecast/Planning/FY14 & FY15 Planning Template Oct13.ppt\n",
      "File: /Users/antonio/Documents/Epson/Documents/Forecast/Planning/FY17 Forecast Apr16.xlsx\n",
      "File: /Users/antonio/Documents/Epson/Documents/Forecast/Planning/FY17 Q3-Q4 Planning Template.pptx\n",
      "File: /Users/antonio/Documents/Epson/Documents/Forecast/Planning/FY14 Planning Template Q1.ppt\n",
      "File: /Users/antonio/Documents/Epson/Documents/Forecast/Planning/FY12 Business Plan Q2.xls\n",
      "File: /Users/antonio/Documents/Epson/Documents/Forecast/Planning/IJP HW Classification FY13.xls\n",
      "File: /Users/antonio/Documents/Epson/Documents/Forecast/Planning/FY18 Q3 Planning Template.pptx\n",
      "File: /Users/antonio/Documents/Epson/Documents/Forecast/Planning/FY12 Business Plan Q3.xls\n",
      "File: /Users/antonio/Documents/Epson/Documents/Forecast/Planning/FY14 Planning Template Q2.ppt\n",
      "File: /Users/antonio/Documents/Epson/Documents/Forecast/Planning/Month Plan V4.xls\n",
      "File: /Users/antonio/Documents/Epson/Documents/Forecast/Planning/FY16 Planning Template Dec15.ppt\n",
      "File: /Users/antonio/Documents/Epson/Documents/Forecast/Planning/FY14 Business Plan 1Q.xlsx\n",
      "File: /Users/antonio/Documents/Epson/Documents/Forecast/Planning/FY12 Planning Template Q4.ppt\n",
      "File: /Users/antonio/Documents/Epson/Documents/Forecast/Planning/FY15 & FY16 Planning Template Sep14.ppt\n",
      "File: /Users/antonio/Documents/Epson/Documents/Forecast/Planning/CCA Finance.pptx\n",
      "File: /Users/antonio/Documents/Epson/Documents/Forecast/Planning/FY17 Q2-Q3 Planning Template.pptx\n",
      "File: /Users/antonio/Documents/Epson/Documents/Forecast/Planning/FY18 Forecast - Country Name - Oct17.xlsx\n",
      "File: /Users/antonio/Documents/Epson/Documents/Forecast/Planning/CCA Country MBR.ppt\n",
      "File: /Users/antonio/Documents/Epson/Documents/Forecast/Planning/FY15 Forecast Dec14.xlsx\n",
      "File: /Users/antonio/Documents/Epson/Documents/Forecast/Planning/FY15 Forecast.xlsx\n",
      "File: /Users/antonio/Documents/Epson/Documents/Forecast/Planning/Quarterly  Review Template.ppt\n",
      "File: /Users/antonio/Documents/Epson/Documents/Forecast/Planning/FY19 Q4 Planning Template.pptx\n",
      "File: /Users/antonio/Documents/Epson/Documents/Forecast/Planning/Quarterly Plan.xls\n",
      "File: /Users/antonio/Documents/Epson/Documents/Forecast/Planning/Country quarterly plan by distributor.xls\n",
      "File: /Users/antonio/Documents/Epson/Documents/Forecast/Planning/Country plan by distributor V2.0.xls\n",
      "File: /Users/antonio/Documents/Epson/Documents/Forecast/Planning/RFC CCA Sep 2017.xlsx\n",
      "File: /Users/antonio/Documents/Epson/Documents/Forecast/Planning/FY15 Forecast Q2.xlsx\n",
      "File: /Users/antonio/Documents/Epson/Documents/Forecast/Planning/CCA Country MBR.pptx\n",
      "File: /Users/antonio/Documents/Epson/Documents/Forecast/Planning/Marketing Investment 1Q13.xlsx\n",
      "File: /Users/antonio/Documents/Epson/Documents/Forecast/Planning/Central America Month Forecast.xls\n",
      "File: /Users/antonio/Documents/Epson/Documents/Forecast/Planning/FY16 Planning Template Q2.ppt\n",
      "File: /Users/antonio/Documents/Epson/Documents/Forecast/Planning/FY12 Planning Template Q3.ppt\n",
      "File: /Users/antonio/Documents/Epson/Documents/Forecast/Planning/FC Sanity Check V1.1.xlsx\n",
      "File: /Users/antonio/Documents/Epson/Documents/Forecast/Planning/CCA Pre-FC3 and Pre-Budget.xlsx\n"
     ]
    },
    {
     "name": "stderr",
     "output_type": "stream",
     "text": [
      "/Users/antonio/miniconda3/envs/myenv/lib/python3.12/site-packages/openpyxl/worksheet/_reader.py:329: UserWarning: Data Validation extension is not supported and will be removed\n",
      "  warn(msg)\n"
     ]
    },
    {
     "name": "stdout",
     "output_type": "stream",
     "text": [
      "File: /Users/antonio/Documents/Epson/Documents/Forecast/Planning/FY12 Planning Template Q2.ppt\n",
      "File: /Users/antonio/Documents/Epson/Documents/Forecast/Planning/Top 3 Customers.xlsx\n",
      "File: /Users/antonio/Documents/Epson/Documents/Forecast/Planning/FY16 Forecast Oct15.xlsx\n",
      "File: /Users/antonio/Documents/Epson/Documents/Forecast/Planning/Month Execution v1.2.xls\n",
      "File: /Users/antonio/Documents/Epson/Documents/Forecast/Planning/KK Report.xlsx\n",
      "File: /Users/antonio/Documents/Epson/Documents/Forecast/Planning/FY16 Forecast Dec15.xlsx\n",
      "File: /Users/antonio/Documents/Epson/Documents/Forecast/Planning/FC2 Summary.xls\n",
      "File: /Users/antonio/Documents/Epson/Documents/Forecast/Planning/FY18-FY19 Forecast - Country- Nov17.xlsx\n"
     ]
    },
    {
     "name": "stderr",
     "output_type": "stream",
     "text": [
      "/Users/antonio/miniconda3/envs/myenv/lib/python3.12/site-packages/openpyxl/worksheet/_reader.py:329: UserWarning: Data Validation extension is not supported and will be removed\n",
      "  warn(msg)\n",
      "/Users/antonio/miniconda3/envs/myenv/lib/python3.12/site-packages/openpyxl/worksheet/_reader.py:329: UserWarning: Data Validation extension is not supported and will be removed\n",
      "  warn(msg)\n",
      "/Users/antonio/miniconda3/envs/myenv/lib/python3.12/site-packages/openpyxl/worksheet/_reader.py:329: UserWarning: Data Validation extension is not supported and will be removed\n",
      "  warn(msg)\n",
      "/Users/antonio/miniconda3/envs/myenv/lib/python3.12/site-packages/openpyxl/worksheet/_reader.py:329: UserWarning: Data Validation extension is not supported and will be removed\n",
      "  warn(msg)\n",
      "/Users/antonio/miniconda3/envs/myenv/lib/python3.12/site-packages/openpyxl/worksheet/_reader.py:329: UserWarning: Data Validation extension is not supported and will be removed\n",
      "  warn(msg)\n"
     ]
    },
    {
     "name": "stdout",
     "output_type": "stream",
     "text": [
      "File: /Users/antonio/Documents/Epson/Documents/Forecast/Planning/FC1 Summary.xls\n",
      "File: /Users/antonio/Documents/Epson/Documents/Forecast/Planning/FY14 Business Plan 2Q.xlsx\n",
      "File: /Users/antonio/Documents/Epson/Documents/Forecast/Planning/CCA Pre-FC3 and Pre-Budget V2.xlsx\n"
     ]
    },
    {
     "name": "stderr",
     "output_type": "stream",
     "text": [
      "/Users/antonio/miniconda3/envs/myenv/lib/python3.12/site-packages/openpyxl/worksheet/_reader.py:329: UserWarning: Data Validation extension is not supported and will be removed\n",
      "  warn(msg)\n"
     ]
    },
    {
     "name": "stdout",
     "output_type": "stream",
     "text": [
      "File: /Users/antonio/Documents/Epson/Documents/Forecast/Planning/KK report V2.xls\n",
      "File: /Users/antonio/Documents/Epson/Documents/Forecast/Planning/FY13 Planning Template.ppt\n",
      "File: /Users/antonio/Documents/Epson/Documents/Forecast/Planning/FY13 Business Plan.xls\n",
      "File: /Users/antonio/Documents/Epson/Documents/Forecast/Planning/FY14 & FY15 Plan Q4.ppt\n",
      "File: /Users/antonio/Documents/Epson/Documents/Forecast/Planning/Miami Month Execution.xls\n",
      "File: /Users/antonio/Documents/Epson/Documents/Forecast/Planning/CCA Volume Business MBR.pptx\n",
      "File: /Users/antonio/Documents/Epson/Documents/Forecast/Planning/Costa Rica.xls\n",
      "File: /Users/antonio/Documents/Epson/Documents/Forecast/Planning/FY13 Planning Template 4Q.pptx\n",
      "File: /Users/antonio/Documents/Epson/Documents/Forecast/Planning/Month Forecast.xls\n",
      "File: /Users/antonio/Documents/Epson/Documents/Forecast/Planning/Quarterly Plan Miami.xls\n",
      "File: /Users/antonio/Documents/Epson/Documents/Forecast/Planning/Latin America Three Months Forecast Current Month Summary - CCA.xls\n",
      "File: /Users/antonio/Documents/Epson/Documents/Forecast/Planning/SG&A Planning V2.xlsx\n"
     ]
    },
    {
     "name": "stderr",
     "output_type": "stream",
     "text": [
      "/Users/antonio/miniconda3/envs/myenv/lib/python3.12/site-packages/openpyxl/worksheet/_reader.py:329: UserWarning: Data Validation extension is not supported and will be removed\n",
      "  warn(msg)\n"
     ]
    },
    {
     "name": "stdout",
     "output_type": "stream",
     "text": [
      "File: /Users/antonio/Documents/Epson/Documents/Forecast/Planning/Weekly Region Status Report.xls\n",
      "File: /Users/antonio/Documents/Epson/Documents/Forecast/Planning/FY12 Business Plan.xls\n",
      "File: /Users/antonio/Documents/Epson/Documents/Forecast/Planning/FY14 Forecast Dec13.xlsx\n",
      "File: /Users/antonio/Documents/Epson/Documents/Forecast/Planning/FY13 Planning Template 2Q.ppt\n",
      "File: /Users/antonio/Documents/Epson/Documents/Forecast/Planning/Month Execution v2.0.xls\n",
      "File: /Users/antonio/Documents/Epson/Documents/Forecast/Planning/Country plan by distributor V2.0 looking back.xls\n",
      "File: /Users/antonio/Documents/Epson/Documents/Forecast/2Q20/190912 WSVenezuela.xlsx\n",
      "File: /Users/antonio/Documents/Epson/Documents/Forecast/2Q20/Month Plan Miami September 2019.xls\n",
      "File: /Users/antonio/Documents/Epson/Documents/Forecast/2Q20/Month Plan CA Agosto 2019.xls\n",
      "File: /Users/antonio/Documents/Epson/Documents/Forecast/2Q20/Month Plan Aug Colombia.xlsx\n",
      "File: /Users/antonio/Documents/Epson/Documents/Forecast/2Q20/190912 WS Colombia.xlsx\n",
      "File: /Users/antonio/Documents/Epson/Documents/Forecast/2Q20/190912 WS Ecuador.xlsx\n",
      "File: /Users/antonio/Documents/Epson/Documents/Forecast/2Q20/190909 WS Miami.xlsx\n",
      "File: /Users/antonio/Documents/Epson/Documents/Forecast/2Q20/CCA Forecast August 2019.xlsx\n",
      "File: /Users/antonio/Documents/Epson/Documents/Forecast/2Q20/Month Plan JuL Colombia.xlsx\n",
      "File: /Users/antonio/Documents/Epson/Documents/Forecast/2Q20/Month Plan Ecuador V4_Ago_2019.xls\n",
      "File: /Users/antonio/Documents/Epson/Documents/Forecast/2Q20/Month Plan CA September 2019.xls\n",
      "File: /Users/antonio/Documents/Epson/Documents/Forecast/2Q20/Plantilla Month Execution CA 08-07-19.xlsx\n",
      "File: /Users/antonio/Documents/Epson/Documents/Forecast/2Q20/Month Plan Ecuador September 2019.xls\n",
      "File: /Users/antonio/Documents/Epson/Documents/Forecast/2Q20/Month Plan CA Julio 2019.xls\n"
     ]
    },
    {
     "name": "stderr",
     "output_type": "stream",
     "text": [
      "The pdf_infer_table_structure kwarg is deprecated. Please use skip_infer_table_types instead.\n"
     ]
    },
    {
     "name": "stdout",
     "output_type": "stream",
     "text": [
      "File: /Users/antonio/Documents/Epson/Documents/Forecast/2Q20/Month Plan Venezuela September 2019.xls\n",
      "File: /Users/antonio/Documents/Epson/Documents/Forecast/2Q20/190812 Financial Sales Flash.pdf\n",
      "File: /Users/antonio/Documents/Epson/Documents/Forecast/2Q20/MonthPlan Venezuela Julio  2019.xls\n",
      "File: /Users/antonio/Documents/Epson/Documents/Forecast/2Q20/CCA Forecast July 2019 .xlsx\n",
      "File: /Users/antonio/Documents/Epson/Documents/Forecast/2Q20/190912 WS CCA.xlsx\n",
      "File: /Users/antonio/Documents/Epson/Documents/Forecast/2Q20/Template Month Execution Colombia 8-07-19_V1.xlsx\n",
      "File: /Users/antonio/Documents/Epson/Documents/Forecast/2Q20/Month Plan - August 2019.xls\n",
      "File: /Users/antonio/Documents/Epson/Documents/Forecast/2Q20/Month Plan Colombia September 2019.xlsx\n",
      "File: /Users/antonio/Documents/Epson/Documents/Forecast/2Q20/Month Plan - Miami July 2019.xls\n",
      "File: /Users/antonio/Documents/Epson/Documents/Forecast/2Q20/190912 WS Central America.xlsx\n",
      "File: /Users/antonio/Documents/Epson/Documents/Forecast/3Q20/CCA Weekly Summary 11-11-19.xlsx\n",
      "File: /Users/antonio/Documents/Epson/Documents/Forecast/3Q20/Month Plan Dec Colombia.xlsx\n",
      "File: /Users/antonio/Documents/Epson/Documents/Forecast/3Q20/Month Plan - Miami December 2019.xls\n",
      "File: /Users/antonio/Documents/Epson/Documents/Forecast/3Q20/WFC_FY19-20_3months_Oct'19_Week4.xlsm\n"
     ]
    },
    {
     "name": "stderr",
     "output_type": "stream",
     "text": [
      "/Users/antonio/miniconda3/envs/myenv/lib/python3.12/site-packages/openpyxl/worksheet/_reader.py:329: UserWarning: Data Validation extension is not supported and will be removed\n",
      "  warn(msg)\n",
      "/Users/antonio/miniconda3/envs/myenv/lib/python3.12/site-packages/openpyxl/worksheet/_reader.py:329: UserWarning: Data Validation extension is not supported and will be removed\n",
      "  warn(msg)\n",
      "/Users/antonio/miniconda3/envs/myenv/lib/python3.12/site-packages/openpyxl/worksheet/_reader.py:329: UserWarning: Data Validation extension is not supported and will be removed\n",
      "  warn(msg)\n",
      "/Users/antonio/miniconda3/envs/myenv/lib/python3.12/site-packages/openpyxl/worksheet/_reader.py:329: UserWarning: Data Validation extension is not supported and will be removed\n",
      "  warn(msg)\n",
      "/Users/antonio/miniconda3/envs/myenv/lib/python3.12/site-packages/openpyxl/worksheet/_reader.py:329: UserWarning: Data Validation extension is not supported and will be removed\n",
      "  warn(msg)\n",
      "/Users/antonio/miniconda3/envs/myenv/lib/python3.12/site-packages/openpyxl/worksheet/_reader.py:329: UserWarning: Data Validation extension is not supported and will be removed\n",
      "  warn(msg)\n",
      "/Users/antonio/miniconda3/envs/myenv/lib/python3.12/site-packages/openpyxl/worksheet/_reader.py:329: UserWarning: Data Validation extension is not supported and will be removed\n",
      "  warn(msg)\n",
      "/Users/antonio/miniconda3/envs/myenv/lib/python3.12/site-packages/openpyxl/worksheet/_reader.py:329: UserWarning: Data Validation extension is not supported and will be removed\n",
      "  warn(msg)\n"
     ]
    },
    {
     "name": "stdout",
     "output_type": "stream",
     "text": [
      "File: /Users/antonio/Documents/Epson/Documents/Forecast/3Q20/CCA Weekly Summary.xlsx\n",
      "File: /Users/antonio/Documents/Epson/Documents/Forecast/3Q20/Template Month Execution 12-11-19_V1.xlsx\n",
      "File: /Users/antonio/Documents/Epson/Documents/Forecast/3Q20/WFC_FY19-20_3months_Dec'19_Week3.xlsm\n"
     ]
    },
    {
     "name": "stderr",
     "output_type": "stream",
     "text": [
      "/Users/antonio/miniconda3/envs/myenv/lib/python3.12/site-packages/openpyxl/worksheet/_reader.py:329: UserWarning: Data Validation extension is not supported and will be removed\n",
      "  warn(msg)\n",
      "/Users/antonio/miniconda3/envs/myenv/lib/python3.12/site-packages/openpyxl/worksheet/_reader.py:329: UserWarning: Data Validation extension is not supported and will be removed\n",
      "  warn(msg)\n",
      "/Users/antonio/miniconda3/envs/myenv/lib/python3.12/site-packages/openpyxl/worksheet/_reader.py:329: UserWarning: Data Validation extension is not supported and will be removed\n",
      "  warn(msg)\n",
      "/Users/antonio/miniconda3/envs/myenv/lib/python3.12/site-packages/openpyxl/worksheet/_reader.py:329: UserWarning: Data Validation extension is not supported and will be removed\n",
      "  warn(msg)\n",
      "/Users/antonio/miniconda3/envs/myenv/lib/python3.12/site-packages/openpyxl/worksheet/_reader.py:329: UserWarning: Data Validation extension is not supported and will be removed\n",
      "  warn(msg)\n",
      "/Users/antonio/miniconda3/envs/myenv/lib/python3.12/site-packages/openpyxl/worksheet/_reader.py:329: UserWarning: Data Validation extension is not supported and will be removed\n",
      "  warn(msg)\n",
      "/Users/antonio/miniconda3/envs/myenv/lib/python3.12/site-packages/openpyxl/worksheet/_reader.py:329: UserWarning: Data Validation extension is not supported and will be removed\n",
      "  warn(msg)\n",
      "/Users/antonio/miniconda3/envs/myenv/lib/python3.12/site-packages/openpyxl/worksheet/_reader.py:329: UserWarning: Data Validation extension is not supported and will be removed\n",
      "  warn(msg)\n"
     ]
    },
    {
     "name": "stdout",
     "output_type": "stream",
     "text": [
      "File: /Users/antonio/Documents/Epson/Documents/Forecast/3Q20/WFC_FY19-20_3months 11-11.xlsm\n"
     ]
    },
    {
     "name": "stderr",
     "output_type": "stream",
     "text": [
      "/Users/antonio/miniconda3/envs/myenv/lib/python3.12/site-packages/openpyxl/worksheet/_reader.py:329: UserWarning: Data Validation extension is not supported and will be removed\n",
      "  warn(msg)\n",
      "/Users/antonio/miniconda3/envs/myenv/lib/python3.12/site-packages/openpyxl/worksheet/_reader.py:329: UserWarning: Data Validation extension is not supported and will be removed\n",
      "  warn(msg)\n",
      "/Users/antonio/miniconda3/envs/myenv/lib/python3.12/site-packages/openpyxl/worksheet/_reader.py:329: UserWarning: Data Validation extension is not supported and will be removed\n",
      "  warn(msg)\n",
      "/Users/antonio/miniconda3/envs/myenv/lib/python3.12/site-packages/openpyxl/worksheet/_reader.py:329: UserWarning: Data Validation extension is not supported and will be removed\n",
      "  warn(msg)\n",
      "/Users/antonio/miniconda3/envs/myenv/lib/python3.12/site-packages/openpyxl/worksheet/_reader.py:329: UserWarning: Data Validation extension is not supported and will be removed\n",
      "  warn(msg)\n",
      "/Users/antonio/miniconda3/envs/myenv/lib/python3.12/site-packages/openpyxl/worksheet/_reader.py:329: UserWarning: Data Validation extension is not supported and will be removed\n",
      "  warn(msg)\n",
      "/Users/antonio/miniconda3/envs/myenv/lib/python3.12/site-packages/openpyxl/worksheet/_reader.py:329: UserWarning: Data Validation extension is not supported and will be removed\n",
      "  warn(msg)\n",
      "/Users/antonio/miniconda3/envs/myenv/lib/python3.12/site-packages/openpyxl/worksheet/_reader.py:329: UserWarning: Data Validation extension is not supported and will be removed\n",
      "  warn(msg)\n"
     ]
    },
    {
     "name": "stdout",
     "output_type": "stream",
     "text": [
      "File: /Users/antonio/Documents/Epson/Documents/Forecast/3Q20/WFC_FY19-20_3monthsD 9-12.xlsm\n"
     ]
    },
    {
     "name": "stderr",
     "output_type": "stream",
     "text": [
      "/Users/antonio/miniconda3/envs/myenv/lib/python3.12/site-packages/openpyxl/worksheet/_reader.py:329: UserWarning: Data Validation extension is not supported and will be removed\n",
      "  warn(msg)\n",
      "/Users/antonio/miniconda3/envs/myenv/lib/python3.12/site-packages/openpyxl/worksheet/_reader.py:329: UserWarning: Data Validation extension is not supported and will be removed\n",
      "  warn(msg)\n",
      "/Users/antonio/miniconda3/envs/myenv/lib/python3.12/site-packages/openpyxl/worksheet/_reader.py:329: UserWarning: Data Validation extension is not supported and will be removed\n",
      "  warn(msg)\n",
      "/Users/antonio/miniconda3/envs/myenv/lib/python3.12/site-packages/openpyxl/worksheet/_reader.py:329: UserWarning: Data Validation extension is not supported and will be removed\n",
      "  warn(msg)\n",
      "/Users/antonio/miniconda3/envs/myenv/lib/python3.12/site-packages/openpyxl/worksheet/_reader.py:329: UserWarning: Data Validation extension is not supported and will be removed\n",
      "  warn(msg)\n",
      "/Users/antonio/miniconda3/envs/myenv/lib/python3.12/site-packages/openpyxl/worksheet/_reader.py:329: UserWarning: Data Validation extension is not supported and will be removed\n",
      "  warn(msg)\n",
      "/Users/antonio/miniconda3/envs/myenv/lib/python3.12/site-packages/openpyxl/worksheet/_reader.py:329: UserWarning: Data Validation extension is not supported and will be removed\n",
      "  warn(msg)\n",
      "/Users/antonio/miniconda3/envs/myenv/lib/python3.12/site-packages/openpyxl/worksheet/_reader.py:329: UserWarning: Data Validation extension is not supported and will be removed\n",
      "  warn(msg)\n"
     ]
    },
    {
     "name": "stdout",
     "output_type": "stream",
     "text": [
      "File: /Users/antonio/Documents/Epson/Documents/Forecast/3Q20/WFC_FY19-20_3months_Dec'19_Week2.xlsm\n"
     ]
    },
    {
     "name": "stderr",
     "output_type": "stream",
     "text": [
      "/Users/antonio/miniconda3/envs/myenv/lib/python3.12/site-packages/openpyxl/worksheet/_reader.py:329: UserWarning: Data Validation extension is not supported and will be removed\n",
      "  warn(msg)\n",
      "/Users/antonio/miniconda3/envs/myenv/lib/python3.12/site-packages/openpyxl/worksheet/_reader.py:329: UserWarning: Data Validation extension is not supported and will be removed\n",
      "  warn(msg)\n",
      "/Users/antonio/miniconda3/envs/myenv/lib/python3.12/site-packages/openpyxl/worksheet/_reader.py:329: UserWarning: Data Validation extension is not supported and will be removed\n",
      "  warn(msg)\n",
      "/Users/antonio/miniconda3/envs/myenv/lib/python3.12/site-packages/openpyxl/worksheet/_reader.py:329: UserWarning: Data Validation extension is not supported and will be removed\n",
      "  warn(msg)\n",
      "/Users/antonio/miniconda3/envs/myenv/lib/python3.12/site-packages/openpyxl/worksheet/_reader.py:329: UserWarning: Data Validation extension is not supported and will be removed\n",
      "  warn(msg)\n",
      "/Users/antonio/miniconda3/envs/myenv/lib/python3.12/site-packages/openpyxl/worksheet/_reader.py:329: UserWarning: Data Validation extension is not supported and will be removed\n",
      "  warn(msg)\n",
      "/Users/antonio/miniconda3/envs/myenv/lib/python3.12/site-packages/openpyxl/worksheet/_reader.py:329: UserWarning: Data Validation extension is not supported and will be removed\n",
      "  warn(msg)\n",
      "/Users/antonio/miniconda3/envs/myenv/lib/python3.12/site-packages/openpyxl/worksheet/_reader.py:329: UserWarning: Data Validation extension is not supported and will be removed\n",
      "  warn(msg)\n"
     ]
    },
    {
     "name": "stdout",
     "output_type": "stream",
     "text": [
      "File: /Users/antonio/Documents/Epson/Documents/Forecast/3Q20/CCA Weekly Summary (1).xlsx\n",
      "File: /Users/antonio/Documents/Epson/Documents/Forecast/3Q20/WFC_FY19-20_3months_Oct'19_Week5.xlsm\n"
     ]
    },
    {
     "name": "stderr",
     "output_type": "stream",
     "text": [
      "/Users/antonio/miniconda3/envs/myenv/lib/python3.12/site-packages/openpyxl/worksheet/_reader.py:329: UserWarning: Data Validation extension is not supported and will be removed\n",
      "  warn(msg)\n",
      "/Users/antonio/miniconda3/envs/myenv/lib/python3.12/site-packages/openpyxl/worksheet/_reader.py:329: UserWarning: Data Validation extension is not supported and will be removed\n",
      "  warn(msg)\n",
      "/Users/antonio/miniconda3/envs/myenv/lib/python3.12/site-packages/openpyxl/worksheet/_reader.py:329: UserWarning: Data Validation extension is not supported and will be removed\n",
      "  warn(msg)\n",
      "/Users/antonio/miniconda3/envs/myenv/lib/python3.12/site-packages/openpyxl/worksheet/_reader.py:329: UserWarning: Data Validation extension is not supported and will be removed\n",
      "  warn(msg)\n",
      "/Users/antonio/miniconda3/envs/myenv/lib/python3.12/site-packages/openpyxl/worksheet/_reader.py:329: UserWarning: Data Validation extension is not supported and will be removed\n",
      "  warn(msg)\n",
      "/Users/antonio/miniconda3/envs/myenv/lib/python3.12/site-packages/openpyxl/worksheet/_reader.py:329: UserWarning: Data Validation extension is not supported and will be removed\n",
      "  warn(msg)\n",
      "/Users/antonio/miniconda3/envs/myenv/lib/python3.12/site-packages/openpyxl/worksheet/_reader.py:329: UserWarning: Data Validation extension is not supported and will be removed\n",
      "  warn(msg)\n",
      "/Users/antonio/miniconda3/envs/myenv/lib/python3.12/site-packages/openpyxl/worksheet/_reader.py:329: UserWarning: Data Validation extension is not supported and will be removed\n",
      "  warn(msg)\n"
     ]
    },
    {
     "name": "stdout",
     "output_type": "stream",
     "text": [
      "File: /Users/antonio/Documents/Epson/Documents/Forecast/3Q20/ECU Weekly Summary Nov'19 - Week_1.xlsx\n",
      "File: /Users/antonio/Documents/Epson/Documents/Forecast/3Q20/WFC_CO.xlsm\n"
     ]
    },
    {
     "name": "stderr",
     "output_type": "stream",
     "text": [
      "/Users/antonio/miniconda3/envs/myenv/lib/python3.12/site-packages/openpyxl/worksheet/_reader.py:329: UserWarning: Data Validation extension is not supported and will be removed\n",
      "  warn(msg)\n",
      "/Users/antonio/miniconda3/envs/myenv/lib/python3.12/site-packages/openpyxl/worksheet/_reader.py:329: UserWarning: Data Validation extension is not supported and will be removed\n",
      "  warn(msg)\n",
      "/Users/antonio/miniconda3/envs/myenv/lib/python3.12/site-packages/openpyxl/worksheet/_reader.py:329: UserWarning: Data Validation extension is not supported and will be removed\n",
      "  warn(msg)\n",
      "/Users/antonio/miniconda3/envs/myenv/lib/python3.12/site-packages/openpyxl/worksheet/_reader.py:329: UserWarning: Data Validation extension is not supported and will be removed\n",
      "  warn(msg)\n",
      "/Users/antonio/miniconda3/envs/myenv/lib/python3.12/site-packages/openpyxl/worksheet/_reader.py:329: UserWarning: Data Validation extension is not supported and will be removed\n",
      "  warn(msg)\n",
      "/Users/antonio/miniconda3/envs/myenv/lib/python3.12/site-packages/openpyxl/worksheet/_reader.py:329: UserWarning: Data Validation extension is not supported and will be removed\n",
      "  warn(msg)\n",
      "/Users/antonio/miniconda3/envs/myenv/lib/python3.12/site-packages/openpyxl/worksheet/_reader.py:329: UserWarning: Data Validation extension is not supported and will be removed\n",
      "  warn(msg)\n",
      "/Users/antonio/miniconda3/envs/myenv/lib/python3.12/site-packages/openpyxl/worksheet/_reader.py:329: UserWarning: Data Validation extension is not supported and will be removed\n",
      "  warn(msg)\n"
     ]
    },
    {
     "name": "stdout",
     "output_type": "stream",
     "text": [
      "File: /Users/antonio/Documents/Epson/Documents/Forecast/3Q20/CCA Weekly Summary (3).xlsx\n",
      "File: /Users/antonio/Documents/Epson/Documents/Forecast/3Q20/CCA Forecast November 2019.xlsx\n",
      "File: /Users/antonio/Documents/Epson/Documents/Forecast/3Q20/CCA Forecast December 2019.xlsx\n",
      "File: /Users/antonio/Documents/Epson/Documents/Forecast/3Q20/CCA Weekly Summary 191024.xlsx\n",
      "File: /Users/antonio/Documents/Epson/Documents/Forecast/3Q20/CCA Weekly Summary 10-22-19.xlsx\n",
      "File: /Users/antonio/Documents/Epson/Documents/Forecast/3Q20/CCA Weekly Summary (4).xlsx\n",
      "File: /Users/antonio/Documents/Epson/Documents/Forecast/3Q20/CCA Forecast August 2019.xlsx\n",
      "File: /Users/antonio/Documents/Epson/Documents/Forecast/3Q20/Template Month Execution 09-12-19_V1.xlsx\n",
      "File: /Users/antonio/Documents/Epson/Documents/Forecast/3Q20/WFC_FY19-20_3monthsN Central America.xlsm\n"
     ]
    },
    {
     "name": "stderr",
     "output_type": "stream",
     "text": [
      "/Users/antonio/miniconda3/envs/myenv/lib/python3.12/site-packages/openpyxl/worksheet/_reader.py:329: UserWarning: Data Validation extension is not supported and will be removed\n",
      "  warn(msg)\n",
      "/Users/antonio/miniconda3/envs/myenv/lib/python3.12/site-packages/openpyxl/worksheet/_reader.py:329: UserWarning: Data Validation extension is not supported and will be removed\n",
      "  warn(msg)\n",
      "/Users/antonio/miniconda3/envs/myenv/lib/python3.12/site-packages/openpyxl/worksheet/_reader.py:329: UserWarning: Data Validation extension is not supported and will be removed\n",
      "  warn(msg)\n",
      "/Users/antonio/miniconda3/envs/myenv/lib/python3.12/site-packages/openpyxl/worksheet/_reader.py:329: UserWarning: Data Validation extension is not supported and will be removed\n",
      "  warn(msg)\n",
      "/Users/antonio/miniconda3/envs/myenv/lib/python3.12/site-packages/openpyxl/worksheet/_reader.py:329: UserWarning: Data Validation extension is not supported and will be removed\n",
      "  warn(msg)\n",
      "/Users/antonio/miniconda3/envs/myenv/lib/python3.12/site-packages/openpyxl/worksheet/_reader.py:329: UserWarning: Data Validation extension is not supported and will be removed\n",
      "  warn(msg)\n",
      "/Users/antonio/miniconda3/envs/myenv/lib/python3.12/site-packages/openpyxl/worksheet/_reader.py:329: UserWarning: Data Validation extension is not supported and will be removed\n",
      "  warn(msg)\n",
      "/Users/antonio/miniconda3/envs/myenv/lib/python3.12/site-packages/openpyxl/worksheet/_reader.py:329: UserWarning: Data Validation extension is not supported and will be removed\n",
      "  warn(msg)\n"
     ]
    },
    {
     "name": "stdout",
     "output_type": "stream",
     "text": [
      "File: /Users/antonio/Documents/Epson/Documents/Forecast/3Q20/Plantilla Month Execution 11-11-19.xlsx\n",
      "File: /Users/antonio/Documents/Epson/Documents/Forecast/3Q20/Template Month Execution 7-10-19_V1.xlsx\n",
      "File: /Users/antonio/Documents/Epson/Documents/Forecast/3Q20/Template Month Execution 18-11-19_V1.xlsx\n",
      "File: /Users/antonio/Documents/Epson/Documents/Forecast/3Q20/WFC_FY19-20_3monthsDEC 18-12.xlsm\n"
     ]
    },
    {
     "name": "stderr",
     "output_type": "stream",
     "text": [
      "/Users/antonio/miniconda3/envs/myenv/lib/python3.12/site-packages/openpyxl/worksheet/_reader.py:329: UserWarning: Data Validation extension is not supported and will be removed\n",
      "  warn(msg)\n",
      "/Users/antonio/miniconda3/envs/myenv/lib/python3.12/site-packages/openpyxl/worksheet/_reader.py:329: UserWarning: Data Validation extension is not supported and will be removed\n",
      "  warn(msg)\n",
      "/Users/antonio/miniconda3/envs/myenv/lib/python3.12/site-packages/openpyxl/worksheet/_reader.py:329: UserWarning: Data Validation extension is not supported and will be removed\n",
      "  warn(msg)\n",
      "/Users/antonio/miniconda3/envs/myenv/lib/python3.12/site-packages/openpyxl/worksheet/_reader.py:329: UserWarning: Data Validation extension is not supported and will be removed\n",
      "  warn(msg)\n",
      "/Users/antonio/miniconda3/envs/myenv/lib/python3.12/site-packages/openpyxl/worksheet/_reader.py:329: UserWarning: Data Validation extension is not supported and will be removed\n",
      "  warn(msg)\n",
      "/Users/antonio/miniconda3/envs/myenv/lib/python3.12/site-packages/openpyxl/worksheet/_reader.py:329: UserWarning: Data Validation extension is not supported and will be removed\n",
      "  warn(msg)\n",
      "/Users/antonio/miniconda3/envs/myenv/lib/python3.12/site-packages/openpyxl/worksheet/_reader.py:329: UserWarning: Data Validation extension is not supported and will be removed\n",
      "  warn(msg)\n",
      "/Users/antonio/miniconda3/envs/myenv/lib/python3.12/site-packages/openpyxl/worksheet/_reader.py:329: UserWarning: Data Validation extension is not supported and will be removed\n",
      "  warn(msg)\n"
     ]
    },
    {
     "name": "stdout",
     "output_type": "stream",
     "text": [
      "File: /Users/antonio/Documents/Epson/Documents/Forecast/3Q20/WFC_FY19-20_3monthsOct.xlsm\n"
     ]
    },
    {
     "name": "stderr",
     "output_type": "stream",
     "text": [
      "/Users/antonio/miniconda3/envs/myenv/lib/python3.12/site-packages/openpyxl/worksheet/_reader.py:329: UserWarning: Data Validation extension is not supported and will be removed\n",
      "  warn(msg)\n",
      "/Users/antonio/miniconda3/envs/myenv/lib/python3.12/site-packages/openpyxl/worksheet/_reader.py:329: UserWarning: Data Validation extension is not supported and will be removed\n",
      "  warn(msg)\n",
      "/Users/antonio/miniconda3/envs/myenv/lib/python3.12/site-packages/openpyxl/worksheet/_reader.py:329: UserWarning: Data Validation extension is not supported and will be removed\n",
      "  warn(msg)\n",
      "/Users/antonio/miniconda3/envs/myenv/lib/python3.12/site-packages/openpyxl/worksheet/_reader.py:329: UserWarning: Data Validation extension is not supported and will be removed\n",
      "  warn(msg)\n",
      "/Users/antonio/miniconda3/envs/myenv/lib/python3.12/site-packages/openpyxl/worksheet/_reader.py:329: UserWarning: Data Validation extension is not supported and will be removed\n",
      "  warn(msg)\n",
      "/Users/antonio/miniconda3/envs/myenv/lib/python3.12/site-packages/openpyxl/worksheet/_reader.py:329: UserWarning: Data Validation extension is not supported and will be removed\n",
      "  warn(msg)\n",
      "/Users/antonio/miniconda3/envs/myenv/lib/python3.12/site-packages/openpyxl/worksheet/_reader.py:329: UserWarning: Data Validation extension is not supported and will be removed\n",
      "  warn(msg)\n",
      "/Users/antonio/miniconda3/envs/myenv/lib/python3.12/site-packages/openpyxl/worksheet/_reader.py:329: UserWarning: Data Validation extension is not supported and will be removed\n",
      "  warn(msg)\n"
     ]
    },
    {
     "name": "stdout",
     "output_type": "stream",
     "text": [
      "File: /Users/antonio/Documents/Epson/Documents/Forecast/3Q20/Month Plan Octover Colombia.xlsx\n",
      "File: /Users/antonio/Documents/Epson/Documents/Forecast/3Q20/WFC_FY19-20_October 22_2019.xlsm\n"
     ]
    },
    {
     "name": "stderr",
     "output_type": "stream",
     "text": [
      "/Users/antonio/miniconda3/envs/myenv/lib/python3.12/site-packages/openpyxl/worksheet/_reader.py:329: UserWarning: Data Validation extension is not supported and will be removed\n",
      "  warn(msg)\n",
      "/Users/antonio/miniconda3/envs/myenv/lib/python3.12/site-packages/openpyxl/worksheet/_reader.py:329: UserWarning: Data Validation extension is not supported and will be removed\n",
      "  warn(msg)\n",
      "/Users/antonio/miniconda3/envs/myenv/lib/python3.12/site-packages/openpyxl/worksheet/_reader.py:329: UserWarning: Data Validation extension is not supported and will be removed\n",
      "  warn(msg)\n",
      "/Users/antonio/miniconda3/envs/myenv/lib/python3.12/site-packages/openpyxl/worksheet/_reader.py:329: UserWarning: Data Validation extension is not supported and will be removed\n",
      "  warn(msg)\n",
      "/Users/antonio/miniconda3/envs/myenv/lib/python3.12/site-packages/openpyxl/worksheet/_reader.py:329: UserWarning: Data Validation extension is not supported and will be removed\n",
      "  warn(msg)\n",
      "/Users/antonio/miniconda3/envs/myenv/lib/python3.12/site-packages/openpyxl/worksheet/_reader.py:329: UserWarning: Data Validation extension is not supported and will be removed\n",
      "  warn(msg)\n",
      "/Users/antonio/miniconda3/envs/myenv/lib/python3.12/site-packages/openpyxl/worksheet/_reader.py:329: UserWarning: Data Validation extension is not supported and will be removed\n",
      "  warn(msg)\n",
      "/Users/antonio/miniconda3/envs/myenv/lib/python3.12/site-packages/openpyxl/worksheet/_reader.py:329: UserWarning: Data Validation extension is not supported and will be removed\n",
      "  warn(msg)\n"
     ]
    },
    {
     "name": "stdout",
     "output_type": "stream",
     "text": [
      "File: /Users/antonio/Documents/Epson/Documents/Forecast/3Q20/CCA Weekly Summary (2).xlsx\n",
      "File: /Users/antonio/Documents/Epson/Documents/Forecast/3Q20/WFC_FY19-20_November 5_2019 Miami.xlsm\n"
     ]
    },
    {
     "name": "stderr",
     "output_type": "stream",
     "text": [
      "/Users/antonio/miniconda3/envs/myenv/lib/python3.12/site-packages/openpyxl/worksheet/_reader.py:329: UserWarning: Data Validation extension is not supported and will be removed\n",
      "  warn(msg)\n",
      "/Users/antonio/miniconda3/envs/myenv/lib/python3.12/site-packages/openpyxl/worksheet/_reader.py:329: UserWarning: Data Validation extension is not supported and will be removed\n",
      "  warn(msg)\n",
      "/Users/antonio/miniconda3/envs/myenv/lib/python3.12/site-packages/openpyxl/worksheet/_reader.py:329: UserWarning: Data Validation extension is not supported and will be removed\n",
      "  warn(msg)\n",
      "/Users/antonio/miniconda3/envs/myenv/lib/python3.12/site-packages/openpyxl/worksheet/_reader.py:329: UserWarning: Data Validation extension is not supported and will be removed\n",
      "  warn(msg)\n",
      "/Users/antonio/miniconda3/envs/myenv/lib/python3.12/site-packages/openpyxl/worksheet/_reader.py:329: UserWarning: Data Validation extension is not supported and will be removed\n",
      "  warn(msg)\n",
      "/Users/antonio/miniconda3/envs/myenv/lib/python3.12/site-packages/openpyxl/worksheet/_reader.py:329: UserWarning: Data Validation extension is not supported and will be removed\n",
      "  warn(msg)\n",
      "/Users/antonio/miniconda3/envs/myenv/lib/python3.12/site-packages/openpyxl/worksheet/_reader.py:329: UserWarning: Data Validation extension is not supported and will be removed\n",
      "  warn(msg)\n",
      "/Users/antonio/miniconda3/envs/myenv/lib/python3.12/site-packages/openpyxl/worksheet/_reader.py:329: UserWarning: Data Validation extension is not supported and will be removed\n",
      "  warn(msg)\n"
     ]
    },
    {
     "name": "stdout",
     "output_type": "stream",
     "text": [
      "File: /Users/antonio/Documents/Epson/Documents/Forecast/3Q20/Plantilla Month Execution 16-12-19.xlsx\n",
      "File: /Users/antonio/Documents/Epson/Documents/Forecast/3Q20/WFC_FY19-20_November 12_2019.xlsm\n"
     ]
    },
    {
     "name": "stderr",
     "output_type": "stream",
     "text": [
      "/Users/antonio/miniconda3/envs/myenv/lib/python3.12/site-packages/openpyxl/worksheet/_reader.py:329: UserWarning: Data Validation extension is not supported and will be removed\n",
      "  warn(msg)\n",
      "/Users/antonio/miniconda3/envs/myenv/lib/python3.12/site-packages/openpyxl/worksheet/_reader.py:329: UserWarning: Data Validation extension is not supported and will be removed\n",
      "  warn(msg)\n",
      "/Users/antonio/miniconda3/envs/myenv/lib/python3.12/site-packages/openpyxl/worksheet/_reader.py:329: UserWarning: Data Validation extension is not supported and will be removed\n",
      "  warn(msg)\n",
      "/Users/antonio/miniconda3/envs/myenv/lib/python3.12/site-packages/openpyxl/worksheet/_reader.py:329: UserWarning: Data Validation extension is not supported and will be removed\n",
      "  warn(msg)\n",
      "/Users/antonio/miniconda3/envs/myenv/lib/python3.12/site-packages/openpyxl/worksheet/_reader.py:329: UserWarning: Data Validation extension is not supported and will be removed\n",
      "  warn(msg)\n",
      "/Users/antonio/miniconda3/envs/myenv/lib/python3.12/site-packages/openpyxl/worksheet/_reader.py:329: UserWarning: Data Validation extension is not supported and will be removed\n",
      "  warn(msg)\n",
      "/Users/antonio/miniconda3/envs/myenv/lib/python3.12/site-packages/openpyxl/worksheet/_reader.py:329: UserWarning: Data Validation extension is not supported and will be removed\n",
      "  warn(msg)\n",
      "/Users/antonio/miniconda3/envs/myenv/lib/python3.12/site-packages/openpyxl/worksheet/_reader.py:329: UserWarning: Data Validation extension is not supported and will be removed\n",
      "  warn(msg)\n"
     ]
    },
    {
     "name": "stdout",
     "output_type": "stream",
     "text": [
      "File: /Users/antonio/Documents/Epson/Documents/Forecast/3Q20/CCA Forecast October 2019 2.xlsx\n",
      "File: /Users/antonio/Documents/Epson/Documents/Forecast/3Q20/Month Plan CA Noviembre 2019.xls\n",
      "File: /Users/antonio/Documents/Epson/Documents/Forecast/3Q20/Template Month Execution 28-10-19_V1.xlsx\n",
      "File: /Users/antonio/Documents/Epson/Documents/Forecast/3Q20/WFC_CO (2).xlsm\n"
     ]
    },
    {
     "name": "stderr",
     "output_type": "stream",
     "text": [
      "/Users/antonio/miniconda3/envs/myenv/lib/python3.12/site-packages/openpyxl/worksheet/_reader.py:329: UserWarning: Data Validation extension is not supported and will be removed\n",
      "  warn(msg)\n",
      "/Users/antonio/miniconda3/envs/myenv/lib/python3.12/site-packages/openpyxl/worksheet/_reader.py:329: UserWarning: Data Validation extension is not supported and will be removed\n",
      "  warn(msg)\n",
      "/Users/antonio/miniconda3/envs/myenv/lib/python3.12/site-packages/openpyxl/worksheet/_reader.py:329: UserWarning: Data Validation extension is not supported and will be removed\n",
      "  warn(msg)\n",
      "/Users/antonio/miniconda3/envs/myenv/lib/python3.12/site-packages/openpyxl/worksheet/_reader.py:329: UserWarning: Data Validation extension is not supported and will be removed\n",
      "  warn(msg)\n",
      "/Users/antonio/miniconda3/envs/myenv/lib/python3.12/site-packages/openpyxl/worksheet/_reader.py:329: UserWarning: Data Validation extension is not supported and will be removed\n",
      "  warn(msg)\n",
      "/Users/antonio/miniconda3/envs/myenv/lib/python3.12/site-packages/openpyxl/worksheet/_reader.py:329: UserWarning: Data Validation extension is not supported and will be removed\n",
      "  warn(msg)\n",
      "/Users/antonio/miniconda3/envs/myenv/lib/python3.12/site-packages/openpyxl/worksheet/_reader.py:329: UserWarning: Data Validation extension is not supported and will be removed\n",
      "  warn(msg)\n",
      "/Users/antonio/miniconda3/envs/myenv/lib/python3.12/site-packages/openpyxl/worksheet/_reader.py:329: UserWarning: Data Validation extension is not supported and will be removed\n",
      "  warn(msg)\n"
     ]
    },
    {
     "name": "stdout",
     "output_type": "stream",
     "text": [
      "File: /Users/antonio/Documents/Epson/Documents/Forecast/3Q20/WFC_FY19-20_3months_Nov'19 Ecuador.xlsm\n"
     ]
    },
    {
     "name": "stderr",
     "output_type": "stream",
     "text": [
      "/Users/antonio/miniconda3/envs/myenv/lib/python3.12/site-packages/openpyxl/worksheet/_reader.py:329: UserWarning: Data Validation extension is not supported and will be removed\n",
      "  warn(msg)\n",
      "/Users/antonio/miniconda3/envs/myenv/lib/python3.12/site-packages/openpyxl/worksheet/_reader.py:329: UserWarning: Data Validation extension is not supported and will be removed\n",
      "  warn(msg)\n",
      "/Users/antonio/miniconda3/envs/myenv/lib/python3.12/site-packages/openpyxl/worksheet/_reader.py:329: UserWarning: Data Validation extension is not supported and will be removed\n",
      "  warn(msg)\n",
      "/Users/antonio/miniconda3/envs/myenv/lib/python3.12/site-packages/openpyxl/worksheet/_reader.py:329: UserWarning: Data Validation extension is not supported and will be removed\n",
      "  warn(msg)\n",
      "/Users/antonio/miniconda3/envs/myenv/lib/python3.12/site-packages/openpyxl/worksheet/_reader.py:329: UserWarning: Data Validation extension is not supported and will be removed\n",
      "  warn(msg)\n",
      "/Users/antonio/miniconda3/envs/myenv/lib/python3.12/site-packages/openpyxl/worksheet/_reader.py:329: UserWarning: Data Validation extension is not supported and will be removed\n",
      "  warn(msg)\n",
      "/Users/antonio/miniconda3/envs/myenv/lib/python3.12/site-packages/openpyxl/worksheet/_reader.py:329: UserWarning: Data Validation extension is not supported and will be removed\n",
      "  warn(msg)\n",
      "/Users/antonio/miniconda3/envs/myenv/lib/python3.12/site-packages/openpyxl/worksheet/_reader.py:329: UserWarning: Data Validation extension is not supported and will be removed\n",
      "  warn(msg)\n"
     ]
    },
    {
     "name": "stdout",
     "output_type": "stream",
     "text": [
      "File: /Users/antonio/Documents/Epson/Documents/Forecast/3Q20/WFC_FY19-20_3monthsN 18-11.xlsm\n"
     ]
    },
    {
     "name": "stderr",
     "output_type": "stream",
     "text": [
      "/Users/antonio/miniconda3/envs/myenv/lib/python3.12/site-packages/openpyxl/worksheet/_reader.py:329: UserWarning: Data Validation extension is not supported and will be removed\n",
      "  warn(msg)\n",
      "/Users/antonio/miniconda3/envs/myenv/lib/python3.12/site-packages/openpyxl/worksheet/_reader.py:329: UserWarning: Data Validation extension is not supported and will be removed\n",
      "  warn(msg)\n",
      "/Users/antonio/miniconda3/envs/myenv/lib/python3.12/site-packages/openpyxl/worksheet/_reader.py:329: UserWarning: Data Validation extension is not supported and will be removed\n",
      "  warn(msg)\n",
      "/Users/antonio/miniconda3/envs/myenv/lib/python3.12/site-packages/openpyxl/worksheet/_reader.py:329: UserWarning: Data Validation extension is not supported and will be removed\n",
      "  warn(msg)\n",
      "/Users/antonio/miniconda3/envs/myenv/lib/python3.12/site-packages/openpyxl/worksheet/_reader.py:329: UserWarning: Data Validation extension is not supported and will be removed\n",
      "  warn(msg)\n",
      "/Users/antonio/miniconda3/envs/myenv/lib/python3.12/site-packages/openpyxl/worksheet/_reader.py:329: UserWarning: Data Validation extension is not supported and will be removed\n",
      "  warn(msg)\n",
      "/Users/antonio/miniconda3/envs/myenv/lib/python3.12/site-packages/openpyxl/worksheet/_reader.py:329: UserWarning: Data Validation extension is not supported and will be removed\n",
      "  warn(msg)\n",
      "/Users/antonio/miniconda3/envs/myenv/lib/python3.12/site-packages/openpyxl/worksheet/_reader.py:329: UserWarning: Data Validation extension is not supported and will be removed\n",
      "  warn(msg)\n"
     ]
    },
    {
     "name": "stdout",
     "output_type": "stream",
     "text": [
      "File: /Users/antonio/Documents/Epson/Documents/Forecast/3Q20/WFC_FY19-20_December 10_2019.xlsm\n"
     ]
    },
    {
     "name": "stderr",
     "output_type": "stream",
     "text": [
      "/Users/antonio/miniconda3/envs/myenv/lib/python3.12/site-packages/openpyxl/worksheet/_reader.py:329: UserWarning: Data Validation extension is not supported and will be removed\n",
      "  warn(msg)\n",
      "/Users/antonio/miniconda3/envs/myenv/lib/python3.12/site-packages/openpyxl/worksheet/_reader.py:329: UserWarning: Data Validation extension is not supported and will be removed\n",
      "  warn(msg)\n",
      "/Users/antonio/miniconda3/envs/myenv/lib/python3.12/site-packages/openpyxl/worksheet/_reader.py:329: UserWarning: Data Validation extension is not supported and will be removed\n",
      "  warn(msg)\n",
      "/Users/antonio/miniconda3/envs/myenv/lib/python3.12/site-packages/openpyxl/worksheet/_reader.py:329: UserWarning: Data Validation extension is not supported and will be removed\n",
      "  warn(msg)\n",
      "/Users/antonio/miniconda3/envs/myenv/lib/python3.12/site-packages/openpyxl/worksheet/_reader.py:329: UserWarning: Data Validation extension is not supported and will be removed\n",
      "  warn(msg)\n",
      "/Users/antonio/miniconda3/envs/myenv/lib/python3.12/site-packages/openpyxl/worksheet/_reader.py:329: UserWarning: Data Validation extension is not supported and will be removed\n",
      "  warn(msg)\n",
      "/Users/antonio/miniconda3/envs/myenv/lib/python3.12/site-packages/openpyxl/worksheet/_reader.py:329: UserWarning: Data Validation extension is not supported and will be removed\n",
      "  warn(msg)\n",
      "/Users/antonio/miniconda3/envs/myenv/lib/python3.12/site-packages/openpyxl/worksheet/_reader.py:329: UserWarning: Data Validation extension is not supported and will be removed\n",
      "  warn(msg)\n"
     ]
    },
    {
     "name": "stdout",
     "output_type": "stream",
     "text": [
      "File: /Users/antonio/Documents/Epson/Documents/Forecast/3Q20/Month Plan Nov Colombia.xlsx\n",
      "File: /Users/antonio/Documents/Epson/Documents/Forecast/3Q20/November Results 2019.xlsx\n",
      "File: /Users/antonio/Documents/Epson/Documents/Forecast/3Q20/WFC_FY19-20_3months (Semana 0) Venezuela.xlsm\n"
     ]
    },
    {
     "name": "stderr",
     "output_type": "stream",
     "text": [
      "/Users/antonio/miniconda3/envs/myenv/lib/python3.12/site-packages/openpyxl/worksheet/_reader.py:329: UserWarning: Data Validation extension is not supported and will be removed\n",
      "  warn(msg)\n",
      "/Users/antonio/miniconda3/envs/myenv/lib/python3.12/site-packages/openpyxl/worksheet/_reader.py:329: UserWarning: Data Validation extension is not supported and will be removed\n",
      "  warn(msg)\n",
      "/Users/antonio/miniconda3/envs/myenv/lib/python3.12/site-packages/openpyxl/worksheet/_reader.py:329: UserWarning: Data Validation extension is not supported and will be removed\n",
      "  warn(msg)\n",
      "/Users/antonio/miniconda3/envs/myenv/lib/python3.12/site-packages/openpyxl/worksheet/_reader.py:329: UserWarning: Data Validation extension is not supported and will be removed\n",
      "  warn(msg)\n",
      "/Users/antonio/miniconda3/envs/myenv/lib/python3.12/site-packages/openpyxl/worksheet/_reader.py:329: UserWarning: Data Validation extension is not supported and will be removed\n",
      "  warn(msg)\n",
      "/Users/antonio/miniconda3/envs/myenv/lib/python3.12/site-packages/openpyxl/worksheet/_reader.py:329: UserWarning: Data Validation extension is not supported and will be removed\n",
      "  warn(msg)\n",
      "/Users/antonio/miniconda3/envs/myenv/lib/python3.12/site-packages/openpyxl/worksheet/_reader.py:329: UserWarning: Data Validation extension is not supported and will be removed\n",
      "  warn(msg)\n",
      "/Users/antonio/miniconda3/envs/myenv/lib/python3.12/site-packages/openpyxl/worksheet/_reader.py:329: UserWarning: Data Validation extension is not supported and will be removed\n",
      "  warn(msg)\n"
     ]
    },
    {
     "name": "stdout",
     "output_type": "stream",
     "text": [
      "File: /Users/antonio/Documents/Epson/Documents/Forecast/3Q20/WFC_CO (4).xlsm\n"
     ]
    },
    {
     "name": "stderr",
     "output_type": "stream",
     "text": [
      "/Users/antonio/miniconda3/envs/myenv/lib/python3.12/site-packages/openpyxl/worksheet/_reader.py:329: UserWarning: Data Validation extension is not supported and will be removed\n",
      "  warn(msg)\n",
      "/Users/antonio/miniconda3/envs/myenv/lib/python3.12/site-packages/openpyxl/worksheet/_reader.py:329: UserWarning: Data Validation extension is not supported and will be removed\n",
      "  warn(msg)\n",
      "/Users/antonio/miniconda3/envs/myenv/lib/python3.12/site-packages/openpyxl/worksheet/_reader.py:329: UserWarning: Data Validation extension is not supported and will be removed\n",
      "  warn(msg)\n",
      "/Users/antonio/miniconda3/envs/myenv/lib/python3.12/site-packages/openpyxl/worksheet/_reader.py:329: UserWarning: Data Validation extension is not supported and will be removed\n",
      "  warn(msg)\n",
      "/Users/antonio/miniconda3/envs/myenv/lib/python3.12/site-packages/openpyxl/worksheet/_reader.py:329: UserWarning: Data Validation extension is not supported and will be removed\n",
      "  warn(msg)\n",
      "/Users/antonio/miniconda3/envs/myenv/lib/python3.12/site-packages/openpyxl/worksheet/_reader.py:329: UserWarning: Data Validation extension is not supported and will be removed\n",
      "  warn(msg)\n",
      "/Users/antonio/miniconda3/envs/myenv/lib/python3.12/site-packages/openpyxl/worksheet/_reader.py:329: UserWarning: Data Validation extension is not supported and will be removed\n",
      "  warn(msg)\n",
      "/Users/antonio/miniconda3/envs/myenv/lib/python3.12/site-packages/openpyxl/worksheet/_reader.py:329: UserWarning: Data Validation extension is not supported and will be removed\n",
      "  warn(msg)\n"
     ]
    },
    {
     "name": "stdout",
     "output_type": "stream",
     "text": [
      "File: /Users/antonio/Documents/Epson/Documents/Forecast/3Q20/CCA Forecast October 2019.xlsx\n",
      "File: /Users/antonio/Documents/Epson/Documents/Forecast/3Q20/ECU Weekly Summary Dec'19 - Week_3.xlsx\n",
      "File: /Users/antonio/Documents/Epson/Documents/Forecast/3Q20/Template Month Execution 21-10-19_V1.xlsx\n",
      "File: /Users/antonio/Documents/Epson/Documents/Forecast/3Q20/WFC_CO (1).xlsm\n"
     ]
    },
    {
     "name": "stderr",
     "output_type": "stream",
     "text": [
      "/Users/antonio/miniconda3/envs/myenv/lib/python3.12/site-packages/openpyxl/worksheet/_reader.py:329: UserWarning: Data Validation extension is not supported and will be removed\n",
      "  warn(msg)\n",
      "/Users/antonio/miniconda3/envs/myenv/lib/python3.12/site-packages/openpyxl/worksheet/_reader.py:329: UserWarning: Data Validation extension is not supported and will be removed\n",
      "  warn(msg)\n",
      "/Users/antonio/miniconda3/envs/myenv/lib/python3.12/site-packages/openpyxl/worksheet/_reader.py:329: UserWarning: Data Validation extension is not supported and will be removed\n",
      "  warn(msg)\n",
      "/Users/antonio/miniconda3/envs/myenv/lib/python3.12/site-packages/openpyxl/worksheet/_reader.py:329: UserWarning: Data Validation extension is not supported and will be removed\n",
      "  warn(msg)\n",
      "/Users/antonio/miniconda3/envs/myenv/lib/python3.12/site-packages/openpyxl/worksheet/_reader.py:329: UserWarning: Data Validation extension is not supported and will be removed\n",
      "  warn(msg)\n",
      "/Users/antonio/miniconda3/envs/myenv/lib/python3.12/site-packages/openpyxl/worksheet/_reader.py:329: UserWarning: Data Validation extension is not supported and will be removed\n",
      "  warn(msg)\n",
      "/Users/antonio/miniconda3/envs/myenv/lib/python3.12/site-packages/openpyxl/worksheet/_reader.py:329: UserWarning: Data Validation extension is not supported and will be removed\n",
      "  warn(msg)\n",
      "/Users/antonio/miniconda3/envs/myenv/lib/python3.12/site-packages/openpyxl/worksheet/_reader.py:329: UserWarning: Data Validation extension is not supported and will be removed\n",
      "  warn(msg)\n"
     ]
    },
    {
     "name": "stdout",
     "output_type": "stream",
     "text": [
      "File: /Users/antonio/Documents/Epson/Documents/Forecast/3Q20/ECU Weekly Summary Nov'19 - Week_2.xlsx\n",
      "File: /Users/antonio/Documents/Epson/Documents/Forecast/3Q20/ECU Weekly Summary Oct'19 - semana4.xlsx\n",
      "File: /Users/antonio/Documents/Epson/Documents/Forecast/3Q20/WFC_FY19-20_3months_Nov'19_Week_2.xlsm\n"
     ]
    },
    {
     "name": "stderr",
     "output_type": "stream",
     "text": [
      "/Users/antonio/miniconda3/envs/myenv/lib/python3.12/site-packages/openpyxl/worksheet/_reader.py:329: UserWarning: Data Validation extension is not supported and will be removed\n",
      "  warn(msg)\n",
      "/Users/antonio/miniconda3/envs/myenv/lib/python3.12/site-packages/openpyxl/worksheet/_reader.py:329: UserWarning: Data Validation extension is not supported and will be removed\n",
      "  warn(msg)\n",
      "/Users/antonio/miniconda3/envs/myenv/lib/python3.12/site-packages/openpyxl/worksheet/_reader.py:329: UserWarning: Data Validation extension is not supported and will be removed\n",
      "  warn(msg)\n",
      "/Users/antonio/miniconda3/envs/myenv/lib/python3.12/site-packages/openpyxl/worksheet/_reader.py:329: UserWarning: Data Validation extension is not supported and will be removed\n",
      "  warn(msg)\n",
      "/Users/antonio/miniconda3/envs/myenv/lib/python3.12/site-packages/openpyxl/worksheet/_reader.py:329: UserWarning: Data Validation extension is not supported and will be removed\n",
      "  warn(msg)\n",
      "/Users/antonio/miniconda3/envs/myenv/lib/python3.12/site-packages/openpyxl/worksheet/_reader.py:329: UserWarning: Data Validation extension is not supported and will be removed\n",
      "  warn(msg)\n",
      "/Users/antonio/miniconda3/envs/myenv/lib/python3.12/site-packages/openpyxl/worksheet/_reader.py:329: UserWarning: Data Validation extension is not supported and will be removed\n",
      "  warn(msg)\n",
      "/Users/antonio/miniconda3/envs/myenv/lib/python3.12/site-packages/openpyxl/worksheet/_reader.py:329: UserWarning: Data Validation extension is not supported and will be removed\n",
      "  warn(msg)\n"
     ]
    },
    {
     "name": "stdout",
     "output_type": "stream",
     "text": [
      "File: /Users/antonio/Documents/Epson/Documents/Forecast/3Q20/Plantilla Month Execution 18-11-19.xlsx\n",
      "File: /Users/antonio/Documents/Epson/Documents/Forecast/3Q20/WFC_CO (3).xlsm\n"
     ]
    },
    {
     "name": "stderr",
     "output_type": "stream",
     "text": [
      "/Users/antonio/miniconda3/envs/myenv/lib/python3.12/site-packages/openpyxl/worksheet/_reader.py:329: UserWarning: Data Validation extension is not supported and will be removed\n",
      "  warn(msg)\n",
      "/Users/antonio/miniconda3/envs/myenv/lib/python3.12/site-packages/openpyxl/worksheet/_reader.py:329: UserWarning: Data Validation extension is not supported and will be removed\n",
      "  warn(msg)\n",
      "/Users/antonio/miniconda3/envs/myenv/lib/python3.12/site-packages/openpyxl/worksheet/_reader.py:329: UserWarning: Data Validation extension is not supported and will be removed\n",
      "  warn(msg)\n",
      "/Users/antonio/miniconda3/envs/myenv/lib/python3.12/site-packages/openpyxl/worksheet/_reader.py:329: UserWarning: Data Validation extension is not supported and will be removed\n",
      "  warn(msg)\n",
      "/Users/antonio/miniconda3/envs/myenv/lib/python3.12/site-packages/openpyxl/worksheet/_reader.py:329: UserWarning: Data Validation extension is not supported and will be removed\n",
      "  warn(msg)\n",
      "/Users/antonio/miniconda3/envs/myenv/lib/python3.12/site-packages/openpyxl/worksheet/_reader.py:329: UserWarning: Data Validation extension is not supported and will be removed\n",
      "  warn(msg)\n",
      "/Users/antonio/miniconda3/envs/myenv/lib/python3.12/site-packages/openpyxl/worksheet/_reader.py:329: UserWarning: Data Validation extension is not supported and will be removed\n",
      "  warn(msg)\n",
      "/Users/antonio/miniconda3/envs/myenv/lib/python3.12/site-packages/openpyxl/worksheet/_reader.py:329: UserWarning: Data Validation extension is not supported and will be removed\n",
      "  warn(msg)\n"
     ]
    },
    {
     "name": "stdout",
     "output_type": "stream",
     "text": [
      "File: /Users/antonio/Documents/Epson/Documents/Forecast/3Q20/MonthPlan  Venezuela Noviembre  2019.xls\n",
      "File: /Users/antonio/Documents/Epson/Documents/Forecast/3Q20/Copy of CCA Weekly Summary18-11-19.xlsx\n",
      "File: /Users/antonio/Documents/Epson/Documents/Forecast/3Q20/CCA Weekly Summary16-12-19.xlsx\n",
      "File: /Users/antonio/Documents/Epson/Documents/Forecast/3Q20/WFC_FY19-20_3months_Nov'19_Week_3.xlsm\n"
     ]
    },
    {
     "name": "stderr",
     "output_type": "stream",
     "text": [
      "/Users/antonio/miniconda3/envs/myenv/lib/python3.12/site-packages/openpyxl/worksheet/_reader.py:329: UserWarning: Data Validation extension is not supported and will be removed\n",
      "  warn(msg)\n",
      "/Users/antonio/miniconda3/envs/myenv/lib/python3.12/site-packages/openpyxl/worksheet/_reader.py:329: UserWarning: Data Validation extension is not supported and will be removed\n",
      "  warn(msg)\n",
      "/Users/antonio/miniconda3/envs/myenv/lib/python3.12/site-packages/openpyxl/worksheet/_reader.py:329: UserWarning: Data Validation extension is not supported and will be removed\n",
      "  warn(msg)\n",
      "/Users/antonio/miniconda3/envs/myenv/lib/python3.12/site-packages/openpyxl/worksheet/_reader.py:329: UserWarning: Data Validation extension is not supported and will be removed\n",
      "  warn(msg)\n",
      "/Users/antonio/miniconda3/envs/myenv/lib/python3.12/site-packages/openpyxl/worksheet/_reader.py:329: UserWarning: Data Validation extension is not supported and will be removed\n",
      "  warn(msg)\n",
      "/Users/antonio/miniconda3/envs/myenv/lib/python3.12/site-packages/openpyxl/worksheet/_reader.py:329: UserWarning: Data Validation extension is not supported and will be removed\n",
      "  warn(msg)\n",
      "/Users/antonio/miniconda3/envs/myenv/lib/python3.12/site-packages/openpyxl/worksheet/_reader.py:329: UserWarning: Data Validation extension is not supported and will be removed\n",
      "  warn(msg)\n",
      "/Users/antonio/miniconda3/envs/myenv/lib/python3.12/site-packages/openpyxl/worksheet/_reader.py:329: UserWarning: Data Validation extension is not supported and will be removed\n",
      "  warn(msg)\n"
     ]
    },
    {
     "name": "stdout",
     "output_type": "stream",
     "text": [
      "File: /Users/antonio/Documents/Epson/Documents/Forecast/3Q20/ECU Weekly Summary Oct'19 - semana5.xlsx\n",
      "File: /Users/antonio/Documents/Epson/Documents/Forecast/3Q20/ECU Weekly Summary Nov'19 - Week_3.xlsx\n",
      "File: /Users/antonio/Documents/Epson/Documents/Forecast/3Q20/WFC_CO (5).xlsm\n"
     ]
    },
    {
     "name": "stderr",
     "output_type": "stream",
     "text": [
      "/Users/antonio/miniconda3/envs/myenv/lib/python3.12/site-packages/openpyxl/worksheet/_reader.py:329: UserWarning: Data Validation extension is not supported and will be removed\n",
      "  warn(msg)\n",
      "/Users/antonio/miniconda3/envs/myenv/lib/python3.12/site-packages/openpyxl/worksheet/_reader.py:329: UserWarning: Data Validation extension is not supported and will be removed\n",
      "  warn(msg)\n",
      "/Users/antonio/miniconda3/envs/myenv/lib/python3.12/site-packages/openpyxl/worksheet/_reader.py:329: UserWarning: Data Validation extension is not supported and will be removed\n",
      "  warn(msg)\n",
      "/Users/antonio/miniconda3/envs/myenv/lib/python3.12/site-packages/openpyxl/worksheet/_reader.py:329: UserWarning: Data Validation extension is not supported and will be removed\n",
      "  warn(msg)\n",
      "/Users/antonio/miniconda3/envs/myenv/lib/python3.12/site-packages/openpyxl/worksheet/_reader.py:329: UserWarning: Data Validation extension is not supported and will be removed\n",
      "  warn(msg)\n",
      "/Users/antonio/miniconda3/envs/myenv/lib/python3.12/site-packages/openpyxl/worksheet/_reader.py:329: UserWarning: Data Validation extension is not supported and will be removed\n",
      "  warn(msg)\n",
      "/Users/antonio/miniconda3/envs/myenv/lib/python3.12/site-packages/openpyxl/worksheet/_reader.py:329: UserWarning: Data Validation extension is not supported and will be removed\n",
      "  warn(msg)\n",
      "/Users/antonio/miniconda3/envs/myenv/lib/python3.12/site-packages/openpyxl/worksheet/_reader.py:329: UserWarning: Data Validation extension is not supported and will be removed\n",
      "  warn(msg)\n"
     ]
    },
    {
     "name": "stdout",
     "output_type": "stream",
     "text": [
      "File: /Users/antonio/Documents/Epson/Documents/Financial Plans/FC1/FF_Segment_COL_Fob.xlsb\n",
      "File: /Users/antonio/Documents/Epson/Documents/Financial Plans/FC1/FF_Segment_VEN_Fob.xlsb\n",
      "File: /Users/antonio/Documents/Epson/Documents/Financial Plans/FC1/FF_Segment_ECU_Sub.xlsb\n",
      "File: /Users/antonio/Documents/Epson/Documents/Financial Plans/FC1/PL FC1_FY20 - Colombia_AO.xls\n",
      "File: /Users/antonio/Documents/Epson/Documents/Financial Plans/FC1/PL FC1_FY20 - Costa Rica_AO.xls\n",
      "File: /Users/antonio/Documents/Epson/Documents/Financial Plans/FC1/FF_Segment_COR_Fob.xlsb\n",
      "File: /Users/antonio/Documents/Epson/Documents/Financial Plans/FC1/PL FC1_FY20 - Miami_AO.xls\n",
      "File: /Users/antonio/Documents/Epson/Documents/Financial Plans/FC1/PL FC1_FY20 - Venezuela_AO.xls\n",
      "File: /Users/antonio/Documents/Epson/Documents/Financial Plans/FC1/FF_Segment_COL_Sub.xlsb\n",
      "File: /Users/antonio/Documents/Epson/Documents/Financial Plans/FC1/FF_Segment_VEN_Sub.xlsb\n",
      "File: /Users/antonio/Documents/Epson/Documents/Financial Plans/FC1/FF_Segment_LA_DIST.xlsb\n",
      "File: /Users/antonio/Documents/Epson/Documents/Financial Plans/FC1/Colombia MDF FC1.xlsx\n",
      "File: /Users/antonio/Documents/Epson/Documents/Financial Plans/FC1/FF_Segment_ECU_Fob.xlsb\n",
      "File: /Users/antonio/Documents/Epson/Documents/Financial Plans/FC1/PL FC1_FY20 - Ecuador_AO.xls\n",
      "File: /Users/antonio/Documents/Epson/Documents/Financial Plans/FC1/FF_Segment_COR_Sub.xlsb\n",
      "File: /Users/antonio/Documents/Epson/Documents/Financial Plans/FC1/Pre FC1/FF_Segment_COL_Fob.xlsb\n",
      "File: /Users/antonio/Documents/Epson/Documents/Financial Plans/FC1/Pre FC1/PM_proposal_FC1_19_05_22 -MP.xlsx\n",
      "File: /Users/antonio/Documents/Epson/Documents/Financial Plans/FC1/Pre FC1/FY19-FY20 FC1 Expenses Marcom.xlsx\n",
      "File: /Users/antonio/Documents/Epson/Documents/Financial Plans/FC1/Pre FC1/FY19-FY20 FC1 Expenses Venezuela.xlsx\n",
      "File: /Users/antonio/Documents/Epson/Documents/Financial Plans/FC1/Pre FC1/FF_Segment_COR_Fob.xlsb\n",
      "File: /Users/antonio/Documents/Epson/Documents/Financial Plans/FC1/Pre FC1/CCA Pre-FC1 FY 19-20 Summary v3.1.xlsx\n"
     ]
    },
    {
     "name": "stderr",
     "output_type": "stream",
     "text": [
      "/Users/antonio/miniconda3/envs/myenv/lib/python3.12/site-packages/openpyxl/worksheet/_reader.py:329: UserWarning: Data Validation extension is not supported and will be removed\n",
      "  warn(msg)\n",
      "/Users/antonio/miniconda3/envs/myenv/lib/python3.12/site-packages/openpyxl/worksheet/_reader.py:329: UserWarning: Data Validation extension is not supported and will be removed\n",
      "  warn(msg)\n",
      "/Users/antonio/miniconda3/envs/myenv/lib/python3.12/site-packages/openpyxl/worksheet/_reader.py:329: UserWarning: Data Validation extension is not supported and will be removed\n",
      "  warn(msg)\n",
      "/Users/antonio/miniconda3/envs/myenv/lib/python3.12/site-packages/openpyxl/worksheet/_reader.py:329: UserWarning: Data Validation extension is not supported and will be removed\n",
      "  warn(msg)\n",
      "/Users/antonio/miniconda3/envs/myenv/lib/python3.12/site-packages/openpyxl/worksheet/_reader.py:329: UserWarning: Data Validation extension is not supported and will be removed\n",
      "  warn(msg)\n",
      "/Users/antonio/miniconda3/envs/myenv/lib/python3.12/site-packages/openpyxl/worksheet/_reader.py:329: UserWarning: Data Validation extension is not supported and will be removed\n",
      "  warn(msg)\n",
      "/Users/antonio/miniconda3/envs/myenv/lib/python3.12/site-packages/openpyxl/worksheet/_reader.py:329: UserWarning: Data Validation extension is not supported and will be removed\n",
      "  warn(msg)\n"
     ]
    },
    {
     "name": "stdout",
     "output_type": "stream",
     "text": [
      "File: /Users/antonio/Documents/Epson/Documents/Financial Plans/FC1/Pre FC1/FY19-FY20 FC1 Expenses Costa Rica - Detail.xlsx\n",
      "File: /Users/antonio/Documents/Epson/Documents/Financial Plans/FC1/Pre FC1/CCA Pre-FC1 FY 19-20 Summary v3.xlsx\n"
     ]
    },
    {
     "name": "stderr",
     "output_type": "stream",
     "text": [
      "/Users/antonio/miniconda3/envs/myenv/lib/python3.12/site-packages/openpyxl/worksheet/_reader.py:329: UserWarning: Data Validation extension is not supported and will be removed\n",
      "  warn(msg)\n",
      "/Users/antonio/miniconda3/envs/myenv/lib/python3.12/site-packages/openpyxl/worksheet/_reader.py:329: UserWarning: Data Validation extension is not supported and will be removed\n",
      "  warn(msg)\n",
      "/Users/antonio/miniconda3/envs/myenv/lib/python3.12/site-packages/openpyxl/worksheet/_reader.py:329: UserWarning: Data Validation extension is not supported and will be removed\n",
      "  warn(msg)\n",
      "/Users/antonio/miniconda3/envs/myenv/lib/python3.12/site-packages/openpyxl/worksheet/_reader.py:329: UserWarning: Data Validation extension is not supported and will be removed\n",
      "  warn(msg)\n",
      "/Users/antonio/miniconda3/envs/myenv/lib/python3.12/site-packages/openpyxl/worksheet/_reader.py:329: UserWarning: Data Validation extension is not supported and will be removed\n",
      "  warn(msg)\n",
      "/Users/antonio/miniconda3/envs/myenv/lib/python3.12/site-packages/openpyxl/worksheet/_reader.py:329: UserWarning: Data Validation extension is not supported and will be removed\n",
      "  warn(msg)\n",
      "/Users/antonio/miniconda3/envs/myenv/lib/python3.12/site-packages/openpyxl/worksheet/_reader.py:329: UserWarning: Data Validation extension is not supported and will be removed\n",
      "  warn(msg)\n"
     ]
    },
    {
     "name": "stdout",
     "output_type": "stream",
     "text": [
      "File: /Users/antonio/Documents/Epson/Documents/Financial Plans/FC1/Pre FC1/FY19-FY20 FC1 Expenses Colombia.xlsx\n",
      "File: /Users/antonio/Documents/Epson/Documents/Financial Plans/FC1/Pre FC1/FY19-FY20 FC1 Expenses Ecuador Draft.xlsx\n",
      "File: /Users/antonio/Documents/Epson/Documents/Financial Plans/FC1/Pre FC1/FF_Segment_LA_DIST.xls\n",
      "File: /Users/antonio/Documents/Epson/Documents/Financial Plans/FC1/Pre FC1/FY19-FY20 FC1 Expenses Miami - Detail.xlsm\n",
      "File: /Users/antonio/Documents/Epson/Documents/Financial Plans/FC1/Pre FC1/FY19-FY20 FC1 Expenses Costa Rica.xlsx\n",
      "File: /Users/antonio/Documents/Epson/Documents/Financial Plans/FC1/Pre FC1/PM_proposal_FC1_19_06_06.xlsx\n",
      "File: /Users/antonio/Documents/Epson/Documents/Financial Plans/FC1/Pre FC1/FF_Segment_COL_Sub.xlsb\n",
      "File: /Users/antonio/Documents/Epson/Documents/Financial Plans/FC1/Pre FC1/FF_Segment_VEN_Sub.xlsb\n",
      "File: /Users/antonio/Documents/Epson/Documents/Financial Plans/FC1/Pre FC1/FF_Segment_ECU_Fob.xlsb\n",
      "File: /Users/antonio/Documents/Epson/Documents/Financial Plans/FC1/Pre FC1/FY19-FY20 FC1 Expenses CCA.xlsx\n",
      "File: /Users/antonio/Documents/Epson/Documents/Financial Plans/FC1/Pre FC1/CISS Hardware Gross to Net  FY20 - COL  CR_SUB.xlsx\n",
      "File: /Users/antonio/Documents/Epson/Documents/Financial Plans/FC1/Pre FC1/FY19-FY20 FC1 Expenses Ecuador.xlsx\n",
      "File: /Users/antonio/Documents/Epson/Documents/Financial Plans/FC1/Pre FC1/FF_Segment_COR_Sub.xlsb\n",
      "File: /Users/antonio/Documents/Epson/Documents/Financial Plans/FC1/Pre FC1/FY19-FY20 FC1 Expenses Miami.xlsx\n",
      "File: /Users/antonio/Documents/Epson/Documents/Financial Plans/FC1/Pre FC1/The New Cube CCA FY20_VM.xlsx\n"
     ]
    },
    {
     "name": "stderr",
     "output_type": "stream",
     "text": [
      "Could not detect the filetype from application/octet-stream MIME type.\n",
      "Could not detect the filetype from application/octet-stream MIME type.\n",
      "Could not detect the filetype from application/octet-stream MIME type.\n",
      "Could not detect the filetype from application/octet-stream MIME type.\n",
      "Could not detect the filetype from application/octet-stream MIME type.\n",
      "Could not detect the filetype from application/octet-stream MIME type.\n",
      "Could not detect the filetype from application/octet-stream MIME type.\n",
      "Could not detect the filetype from application/octet-stream MIME type.\n",
      "Could not detect the filetype from application/octet-stream MIME type.\n",
      "Could not detect the filetype from application/octet-stream MIME type.\n",
      "Could not detect the filetype from application/octet-stream MIME type.\n",
      "Could not detect the filetype from application/octet-stream MIME type.\n"
     ]
    },
    {
     "name": "stdout",
     "output_type": "stream",
     "text": [
      "File: /Users/antonio/Documents/Epson/Documents/Financial Plans/FC1/Pre FC1/Templates/FF_Segment_Colombia.zip\n",
      "***Error: Invalid file /Users/antonio/Documents/Epson/Documents/Financial Plans/FC1/Pre FC1/Templates/FF_Segment_Colombia.zip. The FileType.ZIP file type is not supported in partition.\n",
      "File: /Users/antonio/Documents/Epson/Documents/Financial Plans/FC1/Pre FC1/Templates/FC12020.zip\n",
      "***Error: Invalid file /Users/antonio/Documents/Epson/Documents/Financial Plans/FC1/Pre FC1/Templates/FC12020.zip. The FileType.ZIP file type is not supported in partition.\n",
      "File: /Users/antonio/Documents/Epson/Documents/Financial Plans/FC1/Pre FC1/Templates/Latin Expense Input by Account for Costa Rica.zip\n",
      "***Error: Invalid file /Users/antonio/Documents/Epson/Documents/Financial Plans/FC1/Pre FC1/Templates/Latin Expense Input by Account for Costa Rica.zip. The FileType.ZIP file type is not supported in partition.\n",
      "File: /Users/antonio/Documents/Epson/Documents/Financial Plans/FC1/Pre FC1/Templates/Latin Expense Input by Account for Colombia.zip\n",
      "***Error: Invalid file /Users/antonio/Documents/Epson/Documents/Financial Plans/FC1/Pre FC1/Templates/Latin Expense Input by Account for Colombia.zip. The FileType.ZIP file type is not supported in partition.\n",
      "File: /Users/antonio/Documents/Epson/Documents/Financial Plans/FC1/Pre FC1/Templates/FF_Segment_Ecuador.zip\n",
      "***Error: Invalid file /Users/antonio/Documents/Epson/Documents/Financial Plans/FC1/Pre FC1/Templates/FF_Segment_Ecuador.zip. The FileType.ZIP file type is not supported in partition.\n",
      "File: /Users/antonio/Documents/Epson/Documents/Financial Plans/FC1/Pre FC1/Templates/FF_Segment_Costa Rica.zip\n",
      "***Error: Invalid file /Users/antonio/Documents/Epson/Documents/Financial Plans/FC1/Pre FC1/Templates/FF_Segment_Costa Rica.zip. The FileType.ZIP file type is not supported in partition.\n",
      "File: /Users/antonio/Documents/Epson/Documents/Financial Plans/FC1/Pre FC1/Templates/FF_Segment_Miami.zip\n",
      "***Error: Invalid file /Users/antonio/Documents/Epson/Documents/Financial Plans/FC1/Pre FC1/Templates/FF_Segment_Miami.zip. The FileType.ZIP file type is not supported in partition.\n",
      "File: /Users/antonio/Documents/Epson/Documents/Financial Plans/FC1/Pre FC1/Templates/Latin Expense Input by Account for Venezuela.zip\n",
      "***Error: Invalid file /Users/antonio/Documents/Epson/Documents/Financial Plans/FC1/Pre FC1/Templates/Latin Expense Input by Account for Venezuela.zip. The FileType.ZIP file type is not supported in partition.\n",
      "File: /Users/antonio/Documents/Epson/Documents/Financial Plans/FC1/Pre FC1/Templates/Latin Expense Input by Account for Miami.zip\n",
      "***Error: Invalid file /Users/antonio/Documents/Epson/Documents/Financial Plans/FC1/Pre FC1/Templates/Latin Expense Input by Account for Miami.zip. The FileType.ZIP file type is not supported in partition.\n",
      "File: /Users/antonio/Documents/Epson/Documents/Financial Plans/FC1/Pre FC1/Templates/FF_Segment_Venezuela.zip\n",
      "***Error: Invalid file /Users/antonio/Documents/Epson/Documents/Financial Plans/FC1/Pre FC1/Templates/FF_Segment_Venezuela.zip. The FileType.ZIP file type is not supported in partition.\n",
      "File: /Users/antonio/Documents/Epson/Documents/Financial Plans/FC1/Pre FC1/Templates/Latin Expense Input by Account for Ecuador.zip\n",
      "***Error: Invalid file /Users/antonio/Documents/Epson/Documents/Financial Plans/FC1/Pre FC1/Templates/Latin Expense Input by Account for Ecuador.zip. The FileType.ZIP file type is not supported in partition.\n",
      "File: /Users/antonio/Documents/Epson/Documents/Financial Plans/FC1/Pre FC1/Templates/Latin Expense Input by Account for Ecuador (2).zip\n",
      "***Error: Invalid file /Users/antonio/Documents/Epson/Documents/Financial Plans/FC1/Pre FC1/Templates/Latin Expense Input by Account for Ecuador (2).zip. The FileType.ZIP file type is not supported in partition.\n",
      "File: /Users/antonio/Documents/Epson/Documents/Financial Plans/FY21 BP/FF_Segment_COL_Fob.xlsb\n",
      "File: /Users/antonio/Documents/Epson/Documents/Financial Plans/FY21 BP/PL BP_FY21 - Venezuela_AO.xls\n"
     ]
    },
    {
     "name": "stderr",
     "output_type": "stream",
     "text": [
      "Could not detect the filetype from application/octet-stream MIME type.\n"
     ]
    },
    {
     "name": "stdout",
     "output_type": "stream",
     "text": [
      "File: /Users/antonio/Documents/Epson/Documents/Financial Plans/FY21 BP/Costa Rica.zip\n",
      "***Error: Invalid file /Users/antonio/Documents/Epson/Documents/Financial Plans/FY21 BP/Costa Rica.zip. The FileType.ZIP file type is not supported in partition.\n",
      "File: /Users/antonio/Documents/Epson/Documents/Financial Plans/FY21 BP/PL BP_FY21 - Costa Rica_AO.xls\n",
      "File: /Users/antonio/Documents/Epson/Documents/Financial Plans/FY21 BP/PL BP_FY21 - Colombia_AO.xls\n",
      "File: /Users/antonio/Documents/Epson/Documents/Financial Plans/FY21 BP/PL BP_FY21 - Miami_AO.xls\n"
     ]
    },
    {
     "name": "stderr",
     "output_type": "stream",
     "text": [
      "Could not detect the filetype from application/octet-stream MIME type.\n"
     ]
    },
    {
     "name": "stdout",
     "output_type": "stream",
     "text": [
      "File: /Users/antonio/Documents/Epson/Documents/Financial Plans/FY21 BP/Ecuador.zip\n",
      "***Error: Invalid file /Users/antonio/Documents/Epson/Documents/Financial Plans/FY21 BP/Ecuador.zip. The FileType.ZIP file type is not supported in partition.\n",
      "File: /Users/antonio/Documents/Epson/Documents/Financial Plans/FY21 BP/FF_Segment_COL_Sub.xlsb\n",
      "File: /Users/antonio/Documents/Epson/Documents/Financial Plans/FY21 BP/PL BP_FY21 - Ecuador_AO.xls\n"
     ]
    },
    {
     "name": "stderr",
     "output_type": "stream",
     "text": [
      "Could not detect the filetype from application/octet-stream MIME type.\n",
      "Could not detect the filetype from application/octet-stream MIME type.\n"
     ]
    },
    {
     "name": "stdout",
     "output_type": "stream",
     "text": [
      "File: /Users/antonio/Documents/Epson/Documents/Financial Plans/FY21 BP/Venezuela.zip\n",
      "***Error: Invalid file /Users/antonio/Documents/Epson/Documents/Financial Plans/FY21 BP/Venezuela.zip. The FileType.ZIP file type is not supported in partition.\n",
      "File: /Users/antonio/Documents/Epson/Documents/Financial Plans/FY21 BP/Colombia.zip\n",
      "***Error: Invalid file /Users/antonio/Documents/Epson/Documents/Financial Plans/FY21 BP/Colombia.zip. The FileType.ZIP file type is not supported in partition.\n",
      "File: /Users/antonio/Documents/Epson/Documents/Financial Plans/FC3/FF_Segment_COL_Fob.xlsb\n",
      "File: /Users/antonio/Documents/Epson/Documents/Financial Plans/FC3/FF_Segment_VEN_Fob.xlsb\n",
      "File: /Users/antonio/Documents/Epson/Documents/Financial Plans/FC3/FF_Segment_COR_Fob.xlsb\n",
      "File: /Users/antonio/Documents/Epson/Documents/Financial Plans/FC3/PL FC3_FY20 - Venezuela_AO.xls\n",
      "File: /Users/antonio/Documents/Epson/Documents/Financial Plans/FC3/PL FC3_FY20 - Colombia.xls\n",
      "File: /Users/antonio/Documents/Epson/Documents/Financial Plans/FC3/PL FC3_FY20 - Miami_AO.xls\n",
      "File: /Users/antonio/Documents/Epson/Documents/Financial Plans/FC3/FF_Segment_COL_Sub.xlsb\n",
      "File: /Users/antonio/Documents/Epson/Documents/Financial Plans/FC3/FF_Segment_VEN_Sub.xlsb\n"
     ]
    }
   ],
   "source": [
    "docs = load_directory(\n",
    "            DIR_PATH,\n",
    "            dir_filter=\"**/[!.]*\",\n",
    "            file_filter=\"[!.]*\",\n",
    "            text_splitter=\"auto\",\n",
    "            on_file_error=file_error_db.add_file_error\n",
    "        )\n",
    "\n",
    "len(docs)"
   ]
  },
  {
   "cell_type": "code",
   "execution_count": null,
   "id": "99f15386",
   "metadata": {},
   "outputs": [],
   "source": [
    "print_docs_per_extension(docs)"
   ]
  },
  {
   "cell_type": "code",
   "execution_count": null,
   "id": "78ceba35",
   "metadata": {},
   "outputs": [],
   "source": [
    "print_error_per_type(file_error_db)"
   ]
  },
  {
   "cell_type": "code",
   "execution_count": null,
   "id": "ee482734",
   "metadata": {},
   "outputs": [],
   "source": [
    "file_error_db.clean_database()"
   ]
  },
  {
   "cell_type": "markdown",
   "id": "7f7dea92",
   "metadata": {},
   "source": [
    "## load_directory_lazy"
   ]
  },
  {
   "cell_type": "code",
   "execution_count": null,
   "id": "0159d818",
   "metadata": {},
   "outputs": [],
   "source": [
    "docs = []\n",
    "for doc in load_directory_lazy(DIR_PATH, dir_filter=\"**/[!.]*\", file_filter=\"[!.]*\", text_splitter=\"auto\"):\n",
    "    docs.append(doc)\n",
    "\n",
    "len(docs)"
   ]
  },
  {
   "cell_type": "code",
   "execution_count": null,
   "id": "ef43fa70",
   "metadata": {},
   "outputs": [],
   "source": [
    "print_docs_per_extension(docs)"
   ]
  },
  {
   "cell_type": "code",
   "execution_count": null,
   "id": "ad397554",
   "metadata": {},
   "outputs": [],
   "source": [
    "print_error_per_type(file_error_db)"
   ]
  },
  {
   "cell_type": "code",
   "execution_count": null,
   "id": "49a55cb0",
   "metadata": {},
   "outputs": [],
   "source": [
    "file_error_db.clean_database()"
   ]
  },
  {
   "cell_type": "markdown",
   "id": "793c2969",
   "metadata": {},
   "source": [
    "## DirectoryLoader"
   ]
  },
  {
   "cell_type": "code",
   "execution_count": null,
   "id": "04c39267",
   "metadata": {},
   "outputs": [],
   "source": [
    "loader = DirectoryLoader(DIR_PATH, dir_filter=\"**/[!.]*\", file_filter=\"[!.]*\", text_splitter=\"auto\")"
   ]
  },
  {
   "cell_type": "code",
   "execution_count": null,
   "id": "8c0f06ed",
   "metadata": {},
   "outputs": [],
   "source": [
    "docs = loader.load()\n",
    "\n",
    "len(docs)"
   ]
  },
  {
   "cell_type": "code",
   "execution_count": null,
   "id": "76c6c7f2",
   "metadata": {},
   "outputs": [],
   "source": [
    "print_docs_per_extension(docs)"
   ]
  },
  {
   "cell_type": "code",
   "execution_count": null,
   "id": "36a6d41b",
   "metadata": {},
   "outputs": [],
   "source": [
    "docs = []\n",
    "for doc in loader.lazy_load():\n",
    "    docs.append(doc)\n",
    "\n",
    "len(docs)"
   ]
  },
  {
   "cell_type": "code",
   "execution_count": null,
   "id": "ca188021",
   "metadata": {},
   "outputs": [],
   "source": [
    "print_docs_per_extension(docs)"
   ]
  },
  {
   "cell_type": "code",
   "execution_count": null,
   "id": "65baf05f",
   "metadata": {},
   "outputs": [],
   "source": [
    "print_error_per_type(file_error_db)"
   ]
  }
 ],
 "metadata": {
  "kernelspec": {
   "display_name": "Python 3.12 (myenv)",
   "language": "python",
   "name": "myenv"
  },
  "language_info": {
   "codemirror_mode": {
    "name": "ipython",
    "version": 3
   },
   "file_extension": ".py",
   "mimetype": "text/x-python",
   "name": "python",
   "nbconvert_exporter": "python",
   "pygments_lexer": "ipython3",
   "version": "3.12.3"
  }
 },
 "nbformat": 4,
 "nbformat_minor": 5
}
