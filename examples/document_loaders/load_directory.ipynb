{
 "cells": [
  {
   "cell_type": "markdown",
   "id": "728f1747-b8fc-4d31-96c2-047fc83c079d",
   "metadata": {},
   "source": [
    "# Directory Loaders\n",
    "\n",
    "Directory loaders scan files and subdirectories in the given directory path and calls the load_document function on\n",
    "each file that matches the directory filter and the file filter.\n",
    "\n",
    "load_document will use the file extension to choose the right loader and use the prefixed parameters for each loader type."
   ]
  },
  {
   "cell_type": "code",
   "execution_count": 1,
   "id": "accb2daf",
   "metadata": {},
   "outputs": [],
   "source": [
    "import sys\n",
    "sys.path.append('../../')\n",
    "\n",
    "from dotenv import find_dotenv, load_dotenv\n",
    "load_dotenv(find_dotenv(), override=True)\n",
    "\n",
    "from pprint import pprint\n",
    "\n",
    "from document_loaders.load_directory import load_directory, load_directory_lazy, DirectoryLoader\n",
    "from document_loaders.file_error_handling import FileErrorDB"
   ]
  },
  {
   "cell_type": "code",
   "execution_count": 2,
   "id": "abc128b0",
   "metadata": {},
   "outputs": [],
   "source": [
    "file_error_db = FileErrorDB(\"file_errors.sql\")"
   ]
  },
  {
   "cell_type": "code",
   "execution_count": 3,
   "id": "78ceba35",
   "metadata": {},
   "outputs": [
    {
     "data": {
      "text/plain": [
       "dict_keys(['', 'MOV', 'afpub', 'atx', 'bak', 'bin', 'blurb', 'css', 'epub', 'essentialsound', 'ffs_batch', 'ffs_gui', 'guides', 'h', 'in', 'ini', 'json', 'key', 'mom', 'mp4', 'numbers', 'olp', 'omo', 'pages', 'pbg', 'pbk', 'pfx', 'pjd', 'plist', 'pyw', 'rc', 'rdp', 'saproj', 'sql', 'uasset', 'umap', 'uproject', 'url', 'ush', 'vcf', 'xml', 'xpm', 'zip'])"
      ]
     },
     "execution_count": 3,
     "metadata": {},
     "output_type": "execute_result"
    }
   ],
   "source": [
    "file_error_db.get_all_errors(group_by='extension').keys()"
   ]
  },
  {
   "cell_type": "code",
   "execution_count": null,
   "id": "3b8e3fee",
   "metadata": {},
   "outputs": [],
   "source": [
    "def print_docs_per_extension(docs):\n",
    "    docs_per_extension = {}\n",
    "    for doc in docs:\n",
    "        extension = doc.metadata[\"source\"].split(\".\")[-1]\n",
    "        if extension not in docs_per_extension:\n",
    "            docs_per_extension[extension] = 0\n",
    "        docs_per_extension[extension] += 1\n",
    "    pprint(docs_per_extension)"
   ]
  },
  {
   "cell_type": "code",
   "execution_count": null,
   "id": "b0a94717",
   "metadata": {},
   "outputs": [],
   "source": [
    "DIR_PATH = \"/Users/antonio/Documents\""
   ]
  },
  {
   "cell_type": "markdown",
   "id": "4b5efac6",
   "metadata": {},
   "source": [
    "## load_directory"
   ]
  },
  {
   "cell_type": "code",
   "execution_count": null,
   "id": "8f6c7275",
   "metadata": {},
   "outputs": [],
   "source": [
    "docs = load_directory(\n",
    "            DIR_PATH,\n",
    "            dir_filter=\"**/[!.]*\",\n",
    "            file_filter=\"[!.]*\",\n",
    "            text_splitter=\"auto\",\n",
    "            on_file_error=file_error_db.add_file_error\n",
    "        )\n",
    "\n",
    "len(docs)"
   ]
  },
  {
   "cell_type": "code",
   "execution_count": null,
   "id": "99f15386",
   "metadata": {},
   "outputs": [],
   "source": [
    "print_docs_per_extension(docs)"
   ]
  },
  {
   "cell_type": "markdown",
   "id": "7f7dea92",
   "metadata": {},
   "source": [
    "## load_directory_lazy"
   ]
  },
  {
   "cell_type": "code",
   "execution_count": null,
   "id": "0159d818",
   "metadata": {},
   "outputs": [],
   "source": [
    "docs = []\n",
    "for doc in load_directory_lazy(DIR_PATH, dir_filter=\"**/[!.]*\", file_filter=\"[!.]*\", text_splitter=\"auto\"):\n",
    "    docs.append(doc)\n",
    "\n",
    "len(docs)"
   ]
  },
  {
   "cell_type": "code",
   "execution_count": null,
   "id": "ef43fa70",
   "metadata": {},
   "outputs": [],
   "source": [
    "print_docs_per_extension(docs)"
   ]
  },
  {
   "cell_type": "markdown",
   "id": "793c2969",
   "metadata": {},
   "source": [
    "## DirectoryLoader"
   ]
  },
  {
   "cell_type": "code",
   "execution_count": null,
   "id": "04c39267",
   "metadata": {},
   "outputs": [],
   "source": [
    "loader = DirectoryLoader(DIR_PATH, dir_filter=\"**/[!.]*\", file_filter=\"[!.]*\", text_splitter=\"auto\")"
   ]
  },
  {
   "cell_type": "code",
   "execution_count": null,
   "id": "8c0f06ed",
   "metadata": {},
   "outputs": [],
   "source": [
    "docs = loader.load()\n",
    "\n",
    "len(docs)"
   ]
  },
  {
   "cell_type": "code",
   "execution_count": null,
   "id": "76c6c7f2",
   "metadata": {},
   "outputs": [],
   "source": [
    "print_docs_per_extension(docs)"
   ]
  },
  {
   "cell_type": "code",
   "execution_count": null,
   "id": "36a6d41b",
   "metadata": {},
   "outputs": [],
   "source": [
    "docs = []\n",
    "for doc in loader.lazy_load():\n",
    "    docs.append(doc)\n",
    "\n",
    "len(docs)"
   ]
  },
  {
   "cell_type": "code",
   "execution_count": null,
   "id": "ca188021",
   "metadata": {},
   "outputs": [],
   "source": [
    "print_docs_per_extension(docs)"
   ]
  },
  {
   "cell_type": "code",
   "execution_count": null,
   "id": "65baf05f",
   "metadata": {},
   "outputs": [],
   "source": []
  }
 ],
 "metadata": {
  "kernelspec": {
   "display_name": "Python 3.12 (myenv)",
   "language": "python",
   "name": "myenv"
  },
  "language_info": {
   "codemirror_mode": {
    "name": "ipython",
    "version": 3
   },
   "file_extension": ".py",
   "mimetype": "text/x-python",
   "name": "python",
   "nbconvert_exporter": "python",
   "pygments_lexer": "ipython3",
   "version": "3.12.3"
  }
 },
 "nbformat": 4,
 "nbformat_minor": 5
}
