{
 "cells": [
  {
   "cell_type": "markdown",
   "id": "728f1747-b8fc-4d31-96c2-047fc83c079d",
   "metadata": {},
   "source": [
    "# Directory Loaders\n",
    "\n",
    "Directory loaders scan files and subdirectories in the given directory path and calls the load_document function on\n",
    "each file that matches the directory filter and the file filter.\n",
    "\n",
    "load_document will use the file extension to choose the right loader and use the prefixed parameters for each loader type."
   ]
  },
  {
   "cell_type": "code",
   "execution_count": 1,
   "id": "accb2daf",
   "metadata": {},
   "outputs": [],
   "source": [
    "import sys\n",
    "sys.path.append('../../')\n",
    "\n",
    "from dotenv import find_dotenv, load_dotenv\n",
    "load_dotenv(find_dotenv(), override=True)\n",
    "\n",
    "from pprint import pprint\n",
    "\n",
    "from document_loaders.load_directory import load_directory, load_directory_lazy, DirectoryLoader\n",
    "from document_loaders.file_error_handling import FileErrorDB"
   ]
  },
  {
   "cell_type": "code",
   "execution_count": 2,
   "id": "8d8a5452",
   "metadata": {},
   "outputs": [],
   "source": [
    "file_error_db = FileErrorDB(\"file_errors.sql\")"
   ]
  },
  {
   "cell_type": "code",
   "execution_count": 3,
   "id": "3b8e3fee",
   "metadata": {},
   "outputs": [],
   "source": [
    "def print_docs_per_extension(docs):\n",
    "    docs_per_extension = {}\n",
    "    for doc in docs:\n",
    "        extension = doc.metadata[\"source\"].split(\".\")[-1]\n",
    "        if extension not in docs_per_extension:\n",
    "            docs_per_extension[extension] = 0\n",
    "        docs_per_extension[extension] += 1\n",
    "    pprint(docs_per_extension)"
   ]
  },
  {
   "cell_type": "code",
   "execution_count": 4,
   "id": "b0a94717",
   "metadata": {},
   "outputs": [],
   "source": [
    "DIR_PATH = \"/Users/antonio/Documents\""
   ]
  },
  {
   "cell_type": "markdown",
   "id": "4b5efac6",
   "metadata": {},
   "source": [
    "## load_directory"
   ]
  },
  {
   "cell_type": "code",
   "execution_count": null,
   "id": "8f6c7275",
   "metadata": {},
   "outputs": [
    {
     "name": "stderr",
     "output_type": "stream",
     "text": [
      "The pdf_infer_table_structure kwarg is deprecated. Please use skip_infer_table_types instead.\n",
      "The pdf_infer_table_structure kwarg is deprecated. Please use skip_infer_table_types instead.\n",
      "The pdf_infer_table_structure kwarg is deprecated. Please use skip_infer_table_types instead.\n",
      "The pdf_infer_table_structure kwarg is deprecated. Please use skip_infer_table_types instead.\n",
      "The pdf_infer_table_structure kwarg is deprecated. Please use skip_infer_table_types instead.\n",
      "The pdf_infer_table_structure kwarg is deprecated. Please use skip_infer_table_types instead.\n",
      "The PDF <_io.BufferedReader name='/Users/antonio/Documents/DCRHC90.pdf'> contains a metadata field indicating that it should not allow text extraction. Ignoring this field and proceeding. Use the check_extractable if you want to raise an error in this case\n",
      "The pdf_infer_table_structure kwarg is deprecated. Please use skip_infer_table_types instead.\n",
      "The pdf_infer_table_structure kwarg is deprecated. Please use skip_infer_table_types instead.\n",
      "The pdf_infer_table_structure kwarg is deprecated. Please use skip_infer_table_types instead.\n",
      "The pdf_infer_table_structure kwarg is deprecated. Please use skip_infer_table_types instead.\n",
      "The pdf_infer_table_structure kwarg is deprecated. Please use skip_infer_table_types instead.\n",
      "Could not detect the filetype from application/octet-stream MIME type.\n",
      "The pdf_infer_table_structure kwarg is deprecated. Please use skip_infer_table_types instead.\n",
      "The pdf_infer_table_structure kwarg is deprecated. Please use skip_infer_table_types instead.\n",
      "The pdf_infer_table_structure kwarg is deprecated. Please use skip_infer_table_types instead.\n",
      "The pdf_infer_table_structure kwarg is deprecated. Please use skip_infer_table_types instead.\n",
      "The pdf_infer_table_structure kwarg is deprecated. Please use skip_infer_table_types instead.\n",
      "The pdf_infer_table_structure kwarg is deprecated. Please use skip_infer_table_types instead.\n",
      "The pdf_infer_table_structure kwarg is deprecated. Please use skip_infer_table_types instead.\n",
      "The pdf_infer_table_structure kwarg is deprecated. Please use skip_infer_table_types instead.\n",
      "The pdf_infer_table_structure kwarg is deprecated. Please use skip_infer_table_types instead.\n",
      "The pdf_infer_table_structure kwarg is deprecated. Please use skip_infer_table_types instead.\n",
      "The pdf_infer_table_structure kwarg is deprecated. Please use skip_infer_table_types instead.\n",
      "The pdf_infer_table_structure kwarg is deprecated. Please use skip_infer_table_types instead.\n",
      "The pdf_infer_table_structure kwarg is deprecated. Please use skip_infer_table_types instead.\n",
      "The pdf_infer_table_structure kwarg is deprecated. Please use skip_infer_table_types instead.\n",
      "The pdf_infer_table_structure kwarg is deprecated. Please use skip_infer_table_types instead.\n",
      "The pdf_infer_table_structure kwarg is deprecated. Please use skip_infer_table_types instead.\n",
      "The pdf_infer_table_structure kwarg is deprecated. Please use skip_infer_table_types instead.\n",
      "The pdf_infer_table_structure kwarg is deprecated. Please use skip_infer_table_types instead.\n",
      "The pdf_infer_table_structure kwarg is deprecated. Please use skip_infer_table_types instead.\n",
      "The pdf_infer_table_structure kwarg is deprecated. Please use skip_infer_table_types instead.\n",
      "The pdf_infer_table_structure kwarg is deprecated. Please use skip_infer_table_types instead.\n",
      "The pdf_infer_table_structure kwarg is deprecated. Please use skip_infer_table_types instead.\n",
      "The pdf_infer_table_structure kwarg is deprecated. Please use skip_infer_table_types instead.\n",
      "The pdf_infer_table_structure kwarg is deprecated. Please use skip_infer_table_types instead.\n",
      "The pdf_infer_table_structure kwarg is deprecated. Please use skip_infer_table_types instead.\n",
      "The pdf_infer_table_structure kwarg is deprecated. Please use skip_infer_table_types instead.\n",
      "The pdf_infer_table_structure kwarg is deprecated. Please use skip_infer_table_types instead.\n",
      "Some weights of the model checkpoint at microsoft/table-transformer-structure-recognition were not used when initializing TableTransformerForObjectDetection: ['model.backbone.conv_encoder.model.layer2.0.downsample.1.num_batches_tracked', 'model.backbone.conv_encoder.model.layer3.0.downsample.1.num_batches_tracked', 'model.backbone.conv_encoder.model.layer4.0.downsample.1.num_batches_tracked']\n",
      "- This IS expected if you are initializing TableTransformerForObjectDetection from the checkpoint of a model trained on another task or with another architecture (e.g. initializing a BertForSequenceClassification model from a BertForPreTraining model).\n",
      "- This IS NOT expected if you are initializing TableTransformerForObjectDetection from the checkpoint of a model that you expect to be exactly identical (initializing a BertForSequenceClassification model from a BertForSequenceClassification model).\n",
      "The pdf_infer_table_structure kwarg is deprecated. Please use skip_infer_table_types instead.\n",
      "The PDF <_io.BufferedReader name='/Users/antonio/Documents/Ronin_SC_User_Manual_v1.0_en.pdf'> contains a metadata field indicating that it should not allow text extraction. Ignoring this field and proceeding. Use the check_extractable if you want to raise an error in this case\n",
      "The pdf_infer_table_structure kwarg is deprecated. Please use skip_infer_table_types instead.\n",
      "The pdf_infer_table_structure kwarg is deprecated. Please use skip_infer_table_types instead.\n",
      "The pdf_infer_table_structure kwarg is deprecated. Please use skip_infer_table_types instead.\n",
      "The pdf_infer_table_structure kwarg is deprecated. Please use skip_infer_table_types instead.\n",
      "The pdf_infer_table_structure kwarg is deprecated. Please use skip_infer_table_types instead.\n",
      "The pdf_infer_table_structure kwarg is deprecated. Please use skip_infer_table_types instead.\n",
      "The pdf_infer_table_structure kwarg is deprecated. Please use skip_infer_table_types instead.\n",
      "The pdf_infer_table_structure kwarg is deprecated. Please use skip_infer_table_types instead.\n",
      "The pdf_infer_table_structure kwarg is deprecated. Please use skip_infer_table_types instead.\n",
      "The pdf_infer_table_structure kwarg is deprecated. Please use skip_infer_table_types instead.\n",
      "The pdf_infer_table_structure kwarg is deprecated. Please use skip_infer_table_types instead.\n",
      "The pdf_infer_table_structure kwarg is deprecated. Please use skip_infer_table_types instead.\n",
      "The pdf_infer_table_structure kwarg is deprecated. Please use skip_infer_table_types instead.\n",
      "The pdf_infer_table_structure kwarg is deprecated. Please use skip_infer_table_types instead.\n",
      "The pdf_infer_table_structure kwarg is deprecated. Please use skip_infer_table_types instead.\n",
      "The pdf_infer_table_structure kwarg is deprecated. Please use skip_infer_table_types instead.\n",
      "/Users/antonio/miniconda3/envs/myenv/lib/python3.12/site-packages/openpyxl/worksheet/_reader.py:329: UserWarning: Unknown extension is not supported and will be removed\n",
      "  warn(msg)\n",
      "The pdf_infer_table_structure kwarg is deprecated. Please use skip_infer_table_types instead.\n",
      "The pdf_infer_table_structure kwarg is deprecated. Please use skip_infer_table_types instead.\n",
      "The pdf_infer_table_structure kwarg is deprecated. Please use skip_infer_table_types instead.\n",
      "The pdf_infer_table_structure kwarg is deprecated. Please use skip_infer_table_types instead.\n",
      "The pdf_infer_table_structure kwarg is deprecated. Please use skip_infer_table_types instead.\n",
      "The pdf_infer_table_structure kwarg is deprecated. Please use skip_infer_table_types instead.\n",
      "The pdf_infer_table_structure kwarg is deprecated. Please use skip_infer_table_types instead.\n",
      "The pdf_infer_table_structure kwarg is deprecated. Please use skip_infer_table_types instead.\n",
      "The pdf_infer_table_structure kwarg is deprecated. Please use skip_infer_table_types instead.\n",
      "The pdf_infer_table_structure kwarg is deprecated. Please use skip_infer_table_types instead.\n",
      "The pdf_infer_table_structure kwarg is deprecated. Please use skip_infer_table_types instead.\n",
      "The pdf_infer_table_structure kwarg is deprecated. Please use skip_infer_table_types instead.\n",
      "The pdf_infer_table_structure kwarg is deprecated. Please use skip_infer_table_types instead.\n",
      "The pdf_infer_table_structure kwarg is deprecated. Please use skip_infer_table_types instead.\n",
      "The pdf_infer_table_structure kwarg is deprecated. Please use skip_infer_table_types instead.\n"
     ]
    },
    {
     "name": "stderr",
     "output_type": "stream",
     "text": [
      "The pdf_infer_table_structure kwarg is deprecated. Please use skip_infer_table_types instead.\n",
      "The pdf_infer_table_structure kwarg is deprecated. Please use skip_infer_table_types instead.\n",
      "The pdf_infer_table_structure kwarg is deprecated. Please use skip_infer_table_types instead.\n",
      "The pdf_infer_table_structure kwarg is deprecated. Please use skip_infer_table_types instead.\n",
      "The pdf_infer_table_structure kwarg is deprecated. Please use skip_infer_table_types instead.\n",
      "The pdf_infer_table_structure kwarg is deprecated. Please use skip_infer_table_types instead.\n",
      "The MIME type of '/Users/antonio/Documents/Unreal Projects/MyProject/Content/Movies/MediaExample.mp4' is 'video/mp4'. This file type is not currently supported in unstructured.\n",
      "The pdf_infer_table_structure kwarg is deprecated. Please use skip_infer_table_types instead.\n",
      "The pdf_infer_table_structure kwarg is deprecated. Please use skip_infer_table_types instead.\n",
      "The pdf_infer_table_structure kwarg is deprecated. Please use skip_infer_table_types instead.\n",
      "The pdf_infer_table_structure kwarg is deprecated. Please use skip_infer_table_types instead.\n",
      "The pdf_infer_table_structure kwarg is deprecated. Please use skip_infer_table_types instead.\n",
      "The pdf_infer_table_structure kwarg is deprecated. Please use skip_infer_table_types instead.\n",
      "The pdf_infer_table_structure kwarg is deprecated. Please use skip_infer_table_types instead.\n",
      "The pdf_infer_table_structure kwarg is deprecated. Please use skip_infer_table_types instead.\n",
      "The pdf_infer_table_structure kwarg is deprecated. Please use skip_infer_table_types instead.\n",
      "The pdf_infer_table_structure kwarg is deprecated. Please use skip_infer_table_types instead.\n",
      "The pdf_infer_table_structure kwarg is deprecated. Please use skip_infer_table_types instead.\n",
      "The pdf_infer_table_structure kwarg is deprecated. Please use skip_infer_table_types instead.\n",
      "The pdf_infer_table_structure kwarg is deprecated. Please use skip_infer_table_types instead.\n",
      "The pdf_infer_table_structure kwarg is deprecated. Please use skip_infer_table_types instead.\n",
      "The pdf_infer_table_structure kwarg is deprecated. Please use skip_infer_table_types instead.\n",
      "The pdf_infer_table_structure kwarg is deprecated. Please use skip_infer_table_types instead.\n",
      "The pdf_infer_table_structure kwarg is deprecated. Please use skip_infer_table_types instead.\n",
      "The pdf_infer_table_structure kwarg is deprecated. Please use skip_infer_table_types instead.\n",
      "The MIME type of '/Users/antonio/Documents/Blurb/Miami.blurb' is 'application/x-sqlite3'. This file type is not currently supported in unstructured.\n",
      "The MIME type of '/Users/antonio/Documents/Blurb/Patagonia.blurb' is 'application/x-sqlite3'. This file type is not currently supported in unstructured.\n",
      "The pdf_infer_table_structure kwarg is deprecated. Please use skip_infer_table_types instead.\n",
      "The pdf_infer_table_structure kwarg is deprecated. Please use skip_infer_table_types instead.\n",
      "The pdf_infer_table_structure kwarg is deprecated. Please use skip_infer_table_types instead.\n",
      "The pdf_infer_table_structure kwarg is deprecated. Please use skip_infer_table_types instead.\n",
      "The pdf_infer_table_structure kwarg is deprecated. Please use skip_infer_table_types instead.\n",
      "The pdf_infer_table_structure kwarg is deprecated. Please use skip_infer_table_types instead.\n",
      "The pdf_infer_table_structure kwarg is deprecated. Please use skip_infer_table_types instead.\n",
      "The pdf_infer_table_structure kwarg is deprecated. Please use skip_infer_table_types instead.\n",
      "The pdf_infer_table_structure kwarg is deprecated. Please use skip_infer_table_types instead.\n",
      "The pdf_infer_table_structure kwarg is deprecated. Please use skip_infer_table_types instead.\n",
      "The pdf_infer_table_structure kwarg is deprecated. Please use skip_infer_table_types instead.\n",
      "The pdf_infer_table_structure kwarg is deprecated. Please use skip_infer_table_types instead.\n",
      "The pdf_infer_table_structure kwarg is deprecated. Please use skip_infer_table_types instead.\n",
      "The pdf_infer_table_structure kwarg is deprecated. Please use skip_infer_table_types instead.\n",
      "The pdf_infer_table_structure kwarg is deprecated. Please use skip_infer_table_types instead.\n",
      "The pdf_infer_table_structure kwarg is deprecated. Please use skip_infer_table_types instead.\n",
      "The pdf_infer_table_structure kwarg is deprecated. Please use skip_infer_table_types instead.\n",
      "The pdf_infer_table_structure kwarg is deprecated. Please use skip_infer_table_types instead.\n",
      "The pdf_infer_table_structure kwarg is deprecated. Please use skip_infer_table_types instead.\n",
      "The pdf_infer_table_structure kwarg is deprecated. Please use skip_infer_table_types instead.\n",
      "The pdf_infer_table_structure kwarg is deprecated. Please use skip_infer_table_types instead.\n",
      "The pdf_infer_table_structure kwarg is deprecated. Please use skip_infer_table_types instead.\n",
      "The pdf_infer_table_structure kwarg is deprecated. Please use skip_infer_table_types instead.\n",
      "The pdf_infer_table_structure kwarg is deprecated. Please use skip_infer_table_types instead.\n",
      "The pdf_infer_table_structure kwarg is deprecated. Please use skip_infer_table_types instead.\n",
      "The pdf_infer_table_structure kwarg is deprecated. Please use skip_infer_table_types instead.\n",
      "The pdf_infer_table_structure kwarg is deprecated. Please use skip_infer_table_types instead.\n",
      "The pdf_infer_table_structure kwarg is deprecated. Please use skip_infer_table_types instead.\n",
      "The pdf_infer_table_structure kwarg is deprecated. Please use skip_infer_table_types instead.\n",
      "The pdf_infer_table_structure kwarg is deprecated. Please use skip_infer_table_types instead.\n",
      "The pdf_infer_table_structure kwarg is deprecated. Please use skip_infer_table_types instead.\n",
      "The pdf_infer_table_structure kwarg is deprecated. Please use skip_infer_table_types instead.\n",
      "The pdf_infer_table_structure kwarg is deprecated. Please use skip_infer_table_types instead.\n",
      "The pdf_infer_table_structure kwarg is deprecated. Please use skip_infer_table_types instead.\n",
      "The pdf_infer_table_structure kwarg is deprecated. Please use skip_infer_table_types instead.\n",
      "The pdf_infer_table_structure kwarg is deprecated. Please use skip_infer_table_types instead.\n",
      "The pdf_infer_table_structure kwarg is deprecated. Please use skip_infer_table_types instead.\n",
      "The pdf_infer_table_structure kwarg is deprecated. Please use skip_infer_table_types instead.\n",
      "The pdf_infer_table_structure kwarg is deprecated. Please use skip_infer_table_types instead.\n",
      "The pdf_infer_table_structure kwarg is deprecated. Please use skip_infer_table_types instead.\n",
      "The pdf_infer_table_structure kwarg is deprecated. Please use skip_infer_table_types instead.\n",
      "The pdf_infer_table_structure kwarg is deprecated. Please use skip_infer_table_types instead.\n",
      "The pdf_infer_table_structure kwarg is deprecated. Please use skip_infer_table_types instead.\n",
      "The pdf_infer_table_structure kwarg is deprecated. Please use skip_infer_table_types instead.\n",
      "The pdf_infer_table_structure kwarg is deprecated. Please use skip_infer_table_types instead.\n",
      "The pdf_infer_table_structure kwarg is deprecated. Please use skip_infer_table_types instead.\n",
      "The pdf_infer_table_structure kwarg is deprecated. Please use skip_infer_table_types instead.\n",
      "The pdf_infer_table_structure kwarg is deprecated. Please use skip_infer_table_types instead.\n",
      "The pdf_infer_table_structure kwarg is deprecated. Please use skip_infer_table_types instead.\n",
      "The pdf_infer_table_structure kwarg is deprecated. Please use skip_infer_table_types instead.\n",
      "The pdf_infer_table_structure kwarg is deprecated. Please use skip_infer_table_types instead.\n",
      "The pdf_infer_table_structure kwarg is deprecated. Please use skip_infer_table_types instead.\n",
      "Could not detect the filetype from application/octet-stream MIME type.\n",
      "The pdf_infer_table_structure kwarg is deprecated. Please use skip_infer_table_types instead.\n",
      "The pdf_infer_table_structure kwarg is deprecated. Please use skip_infer_table_types instead.\n",
      "The pdf_infer_table_structure kwarg is deprecated. Please use skip_infer_table_types instead.\n",
      "The pdf_infer_table_structure kwarg is deprecated. Please use skip_infer_table_types instead.\n",
      "The pdf_infer_table_structure kwarg is deprecated. Please use skip_infer_table_types instead.\n",
      "The pdf_infer_table_structure kwarg is deprecated. Please use skip_infer_table_types instead.\n"
     ]
    },
    {
     "name": "stderr",
     "output_type": "stream",
     "text": [
      "The pdf_infer_table_structure kwarg is deprecated. Please use skip_infer_table_types instead.\n",
      "The pdf_infer_table_structure kwarg is deprecated. Please use skip_infer_table_types instead.\n",
      "The pdf_infer_table_structure kwarg is deprecated. Please use skip_infer_table_types instead.\n",
      "The pdf_infer_table_structure kwarg is deprecated. Please use skip_infer_table_types instead.\n",
      "The pdf_infer_table_structure kwarg is deprecated. Please use skip_infer_table_types instead.\n",
      "The pdf_infer_table_structure kwarg is deprecated. Please use skip_infer_table_types instead.\n",
      "The pdf_infer_table_structure kwarg is deprecated. Please use skip_infer_table_types instead.\n",
      "The pdf_infer_table_structure kwarg is deprecated. Please use skip_infer_table_types instead.\n",
      "The pdf_infer_table_structure kwarg is deprecated. Please use skip_infer_table_types instead.\n",
      "The pdf_infer_table_structure kwarg is deprecated. Please use skip_infer_table_types instead.\n",
      "The pdf_infer_table_structure kwarg is deprecated. Please use skip_infer_table_types instead.\n",
      "The pdf_infer_table_structure kwarg is deprecated. Please use skip_infer_table_types instead.\n",
      "The pdf_infer_table_structure kwarg is deprecated. Please use skip_infer_table_types instead.\n",
      "The pdf_infer_table_structure kwarg is deprecated. Please use skip_infer_table_types instead.\n",
      "The pdf_infer_table_structure kwarg is deprecated. Please use skip_infer_table_types instead.\n",
      "The pdf_infer_table_structure kwarg is deprecated. Please use skip_infer_table_types instead.\n",
      "The pdf_infer_table_structure kwarg is deprecated. Please use skip_infer_table_types instead.\n",
      "The MIME type of '/Users/antonio/Documents/11211SW82PL/2020/Walk-Through/Moment-20200915153141612.MOV' is 'video/quicktime'. This file type is not currently supported in unstructured.\n",
      "The MIME type of '/Users/antonio/Documents/11211SW82PL/2020/Walk-Through/IMG_0928.MOV' is 'video/quicktime'. This file type is not currently supported in unstructured.\n",
      "The MIME type of '/Users/antonio/Documents/11211SW82PL/2020/Walk-Through/Moment-20200915152900859.MOV' is 'video/quicktime'. This file type is not currently supported in unstructured.\n",
      "The MIME type of '/Users/antonio/Documents/11211SW82PL/2020/Walk-Through/IMG_0929.MOV' is 'video/quicktime'. This file type is not currently supported in unstructured.\n",
      "The MIME type of '/Users/antonio/Documents/11211SW82PL/2020/Walk-Through/IMG_0939.MOV' is 'video/quicktime'. This file type is not currently supported in unstructured.\n",
      "The MIME type of '/Users/antonio/Documents/11211SW82PL/2020/Walk-Through/Moment-20200915151140366.MOV' is 'video/quicktime'. This file type is not currently supported in unstructured.\n",
      "The MIME type of '/Users/antonio/Documents/11211SW82PL/2020/Walk-Through/IMG_0938.MOV' is 'video/quicktime'. This file type is not currently supported in unstructured.\n",
      "The MIME type of '/Users/antonio/Documents/11211SW82PL/2020/Walk-Through/Moment-20200915150915928.MOV' is 'video/quicktime'. This file type is not currently supported in unstructured.\n",
      "The MIME type of '/Users/antonio/Documents/11211SW82PL/2020/Walk-Through/Moment-20200915150946547.MOV' is 'video/quicktime'. This file type is not currently supported in unstructured.\n",
      "The MIME type of '/Users/antonio/Documents/11211SW82PL/2020/Walk-Through/IMG_0940.MOV' is 'video/quicktime'. This file type is not currently supported in unstructured.\n",
      "The MIME type of '/Users/antonio/Documents/11211SW82PL/2020/Walk-Through/IMG_0922.MOV' is 'video/quicktime'. This file type is not currently supported in unstructured.\n",
      "The MIME type of '/Users/antonio/Documents/11211SW82PL/2020/Walk-Through/IMG_0936.MOV' is 'video/quicktime'. This file type is not currently supported in unstructured.\n",
      "The MIME type of '/Users/antonio/Documents/11211SW82PL/2020/Walk-Through/Moment-20200915151021152.MOV' is 'video/quicktime'. This file type is not currently supported in unstructured.\n",
      "The MIME type of '/Users/antonio/Documents/11211SW82PL/2020/Walk-Through/IMG_0937.MOV' is 'video/quicktime'. This file type is not currently supported in unstructured.\n",
      "The MIME type of '/Users/antonio/Documents/11211SW82PL/2020/Walk-Through/IMG_0935.MOV' is 'video/quicktime'. This file type is not currently supported in unstructured.\n",
      "The MIME type of '/Users/antonio/Documents/11211SW82PL/2020/Walk-Through/Moment-20200915152541314.MOV' is 'video/quicktime'. This file type is not currently supported in unstructured.\n",
      "The MIME type of '/Users/antonio/Documents/11211SW82PL/2020/Walk-Through/IMG_0934.MOV' is 'video/quicktime'. This file type is not currently supported in unstructured.\n",
      "The MIME type of '/Users/antonio/Documents/11211SW82PL/2020/Walk-Through/IMG_0930.MOV' is 'video/quicktime'. This file type is not currently supported in unstructured.\n",
      "The MIME type of '/Users/antonio/Documents/11211SW82PL/2020/Walk-Through/IMG_0925.MOV' is 'video/quicktime'. This file type is not currently supported in unstructured.\n",
      "The MIME type of '/Users/antonio/Documents/11211SW82PL/2020/Walk-Through/IMG_0931.MOV' is 'video/quicktime'. This file type is not currently supported in unstructured.\n",
      "The MIME type of '/Users/antonio/Documents/11211SW82PL/2020/Walk-Through/IMG_0927.MOV' is 'video/quicktime'. This file type is not currently supported in unstructured.\n",
      "The MIME type of '/Users/antonio/Documents/11211SW82PL/2020/Walk-Through/IMG_0933.MOV' is 'video/quicktime'. This file type is not currently supported in unstructured.\n",
      "The MIME type of '/Users/antonio/Documents/11211SW82PL/2020/Walk-Through/IMG_0932.MOV' is 'video/quicktime'. This file type is not currently supported in unstructured.\n",
      "The MIME type of '/Users/antonio/Documents/11211SW82PL/2020/Walk-Through/IMG_0926.MOV' is 'video/quicktime'. This file type is not currently supported in unstructured.\n"
     ]
    }
   ],
   "source": [
    "docs = load_directory(\n",
    "            DIR_PATH,\n",
    "            dir_filter=\"**/[!.]*\",\n",
    "            file_filter=\"[!.]*\",\n",
    "            text_splitter=\"auto\",\n",
    "            on_file_error=file_error_db.add_file_error\n",
    "        )\n",
    "\n",
    "len(docs)"
   ]
  },
  {
   "cell_type": "code",
   "execution_count": null,
   "id": "99f15386",
   "metadata": {},
   "outputs": [],
   "source": [
    "print_docs_per_extension(docs)"
   ]
  },
  {
   "cell_type": "markdown",
   "id": "7f7dea92",
   "metadata": {},
   "source": [
    "## load_directory_lazy"
   ]
  },
  {
   "cell_type": "code",
   "execution_count": null,
   "id": "0159d818",
   "metadata": {},
   "outputs": [],
   "source": [
    "docs = []\n",
    "for doc in load_directory_lazy(DIR_PATH, dir_filter=\"**/[!.]*\", file_filter=\"[!.]*\", text_splitter=\"auto\"):\n",
    "    docs.append(doc)\n",
    "\n",
    "len(docs)"
   ]
  },
  {
   "cell_type": "code",
   "execution_count": null,
   "id": "ef43fa70",
   "metadata": {},
   "outputs": [],
   "source": [
    "print_docs_per_extension(docs)"
   ]
  },
  {
   "cell_type": "markdown",
   "id": "793c2969",
   "metadata": {},
   "source": [
    "## DirectoryLoader"
   ]
  },
  {
   "cell_type": "code",
   "execution_count": null,
   "id": "04c39267",
   "metadata": {},
   "outputs": [],
   "source": [
    "loader = DirectoryLoader(DIR_PATH, dir_filter=\"**/[!.]*\", file_filter=\"[!.]*\", text_splitter=\"auto\")"
   ]
  },
  {
   "cell_type": "code",
   "execution_count": null,
   "id": "8c0f06ed",
   "metadata": {},
   "outputs": [],
   "source": [
    "docs = loader.load()\n",
    "\n",
    "len(docs)"
   ]
  },
  {
   "cell_type": "code",
   "execution_count": null,
   "id": "76c6c7f2",
   "metadata": {},
   "outputs": [],
   "source": [
    "print_docs_per_extension(docs)"
   ]
  },
  {
   "cell_type": "code",
   "execution_count": null,
   "id": "36a6d41b",
   "metadata": {},
   "outputs": [],
   "source": [
    "docs = []\n",
    "for doc in loader.lazy_load():\n",
    "    docs.append(doc)\n",
    "\n",
    "len(docs)"
   ]
  },
  {
   "cell_type": "code",
   "execution_count": null,
   "id": "ca188021",
   "metadata": {},
   "outputs": [],
   "source": [
    "print_docs_per_extension(docs)"
   ]
  },
  {
   "cell_type": "code",
   "execution_count": null,
   "id": "65baf05f",
   "metadata": {},
   "outputs": [],
   "source": []
  }
 ],
 "metadata": {
  "kernelspec": {
   "display_name": "Python 3.12 (myenv)",
   "language": "python",
   "name": "myenv"
  },
  "language_info": {
   "codemirror_mode": {
    "name": "ipython",
    "version": 3
   },
   "file_extension": ".py",
   "mimetype": "text/x-python",
   "name": "python",
   "nbconvert_exporter": "python",
   "pygments_lexer": "ipython3",
   "version": "3.12.3"
  }
 },
 "nbformat": 4,
 "nbformat_minor": 5
}
