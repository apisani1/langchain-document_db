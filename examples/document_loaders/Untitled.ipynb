{
 "cells": [
  {
   "cell_type": "code",
   "execution_count": 1,
   "id": "764a66a5",
   "metadata": {},
   "outputs": [],
   "source": [
    "import sys\n",
    "sys.path.append('../../')\n",
    "\n",
    "\n",
    "from pprint import pprint\n",
    "\n",
    "from document_loaders import loaders_config"
   ]
  },
  {
   "cell_type": "code",
   "execution_count": null,
   "id": "581bbade",
   "metadata": {},
   "outputs": [],
   "source": []
  },
  {
   "cell_type": "code",
   "execution_count": 2,
   "id": "dda8157b",
   "metadata": {},
   "outputs": [
    {
     "name": "stdout",
     "output_type": "stream",
     "text": [
      "{'csv': {'class': <class 'langchain_community.document_loaders.csv_loader.CSVLoader'>,\n",
      "         'kwargs': {}},\n",
      " 'default': {'class': <class 'langchain_community.document_loaders.unstructured.UnstructuredFileLoader'>,\n",
      "             'kwargs': {}},\n",
      " 'doc': {'class': <class 'langchain_community.document_loaders.word_document.UnstructuredWordDocumentLoader'>,\n",
      "         'kwargs': {}},\n",
      " 'docx': {'class': <class 'langchain_community.document_loaders.word_document.UnstructuredWordDocumentLoader'>,\n",
      "          'kwargs': {}},\n",
      " 'eml': {'class': <class 'langchain_community.document_loaders.email.UnstructuredEmailLoader'>,\n",
      "         'kwargs': {}},\n",
      " 'epub': {'class': <class 'langchain_community.document_loaders.epub.UnstructuredEPubLoader'>,\n",
      "          'kwargs': {}},\n",
      " 'html': {'class': <class 'langchain_community.document_loaders.html.UnstructuredHTMLLoader'>,\n",
      "          'kwargs': {'mode': 'single', 'strategy': 'fast'}},\n",
      " 'ipynb': {'class': <class 'langchain_community.document_loaders.notebook.NotebookLoader'>,\n",
      "           'kwargs': {}},\n",
      " 'json': {'class': <class 'langchain_community.document_loaders.json_loader.JSONLoader'>,\n",
      "          'kwargs': {'jq_schema': '.', 'text_content': False}},\n",
      " 'jsonl': {'class': <class 'langchain_community.document_loaders.json_loader.JSONLoader'>,\n",
      "           'kwargs': {'jq_schema': '.',\n",
      "                      'json_lines': True,\n",
      "                      'text_content': False}},\n",
      " 'md': {'class': <class 'langchain_community.document_loaders.markdown.UnstructuredMarkdownLoader'>,\n",
      "        'kwargs': {}},\n",
      " 'pdf': {'class': <class 'langchain_community.document_loaders.unstructured.UnstructuredFileLoader'>,\n",
      "         'kwargs': {'load_tables': False,\n",
      "                    'mode': 'single',\n",
      "                    'pdf_infer_table_structure': True,\n",
      "                    'skip_infer_table_types': [],\n",
      "                    'strategy': 'fast'}},\n",
      " 'ppt': {'class': <class 'langchain_community.document_loaders.powerpoint.UnstructuredPowerPointLoader'>,\n",
      "         'kwargs': {}},\n",
      " 'pptx': {'class': <class 'langchain_community.document_loaders.powerpoint.UnstructuredPowerPointLoader'>,\n",
      "          'kwargs': {}},\n",
      " 'srt': {'class': <class 'langchain_community.document_loaders.srt.SRTLoader'>,\n",
      "         'kwargs': {}},\n",
      " 'txt': {'class': <class 'langchain_community.document_loaders.text.TextLoader'>,\n",
      "         'kwargs': {'autoencoding': True}},\n",
      " 'xls': {'class': <class 'langchain_community.document_loaders.excel.UnstructuredExcelLoader'>,\n",
      "         'kwargs': {}},\n",
      " 'xlsx': {'class': <class 'langchain_community.document_loaders.excel.UnstructuredExcelLoader'>,\n",
      "          'kwargs': {}}}\n"
     ]
    }
   ],
   "source": [
    "pprint(loaders_config.document_loaders)"
   ]
  },
  {
   "cell_type": "code",
   "execution_count": 4,
   "id": "49e385b0",
   "metadata": {},
   "outputs": [
    {
     "name": "stdout",
     "output_type": "stream",
     "text": [
      "No\n"
     ]
    }
   ],
   "source": [
    "kwargs = {}\n",
    "\n",
    "if not kwargs:\n",
    "    print(\"No\")"
   ]
  },
  {
   "cell_type": "code",
   "execution_count": null,
   "id": "26f3c117",
   "metadata": {},
   "outputs": [],
   "source": []
  }
 ],
 "metadata": {
  "kernelspec": {
   "display_name": "Python 3.12 (myenv)",
   "language": "python",
   "name": "myenv"
  },
  "language_info": {
   "codemirror_mode": {
    "name": "ipython",
    "version": 3
   },
   "file_extension": ".py",
   "mimetype": "text/x-python",
   "name": "python",
   "nbconvert_exporter": "python",
   "pygments_lexer": "ipython3",
   "version": "3.12.3"
  }
 },
 "nbformat": 4,
 "nbformat_minor": 5
}
