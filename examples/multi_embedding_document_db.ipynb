{
 "cells": [
  {
   "cell_type": "markdown",
   "id": "d9172545",
   "metadata": {},
   "source": [
    "## MultiVectorDocumentDB\n"
   ]
  },
  {
   "cell_type": "code",
   "execution_count": null,
   "id": "2d3504ed",
   "metadata": {},
   "outputs": [],
   "source": [
    "import os\n",
    "import sys\n",
    "sys.path.append('../')\n",
    "\n",
    "from dotenv import find_dotenv, load_dotenv\n",
    "load_dotenv(find_dotenv(), override=True)\n",
    "\n",
    "from load_document import load_document\n",
    "from multi_embedding_document_db import MultiEmbeddingDocumentDB"
   ]
  },
  {
   "cell_type": "markdown",
   "id": "fc8b1c8f",
   "metadata": {},
   "source": [
    "#### Load files and  and split them into chunks. This chunks will be our parent documents."
   ]
  },
  {
   "cell_type": "code",
   "execution_count": null,
   "id": "6d869496",
   "metadata": {},
   "outputs": [],
   "source": [
    "docs = load_document(\"./files/state_of_the_union.txt\", chunk_it=True, chunk_size=4000)"
   ]
  },
  {
   "cell_type": "code",
   "execution_count": null,
   "id": "8482dc47",
   "metadata": {},
   "outputs": [],
   "source": [
    "len(docs)"
   ]
  },
  {
   "cell_type": "code",
   "execution_count": null,
   "id": "b44d74a6",
   "metadata": {},
   "outputs": [],
   "source": [
    "len(docs[0].page_content)"
   ]
  },
  {
   "cell_type": "code",
   "execution_count": null,
   "id": "9b89ff2f",
   "metadata": {},
   "outputs": [],
   "source": [
    "from langchain.docstore.document import Document\n",
    "\n",
    "docs2 = [Document(doc.page_content, metadata=doc.metadata.copy()) for doc in docs]\n",
    "\n",
    "docs == docs2"
   ]
  },
  {
   "cell_type": "markdown",
   "id": "bb30f269",
   "metadata": {},
   "source": [
    "#### Initialize the document database"
   ]
  },
  {
   "cell_type": "code",
   "execution_count": null,
   "id": "9cc9718a",
   "metadata": {},
   "outputs": [],
   "source": [
    "data_folder = os.path.abspath(\"../data/multi_embedding_document_db\")\n",
    "\n",
    "db = MultiEmbeddingDocumentDB(\n",
    "        data_folder,\n",
    "        functor=[(\"chunk\", {\"chunk_size\":400}), \"summary\", (\"question\", {\"q\":2})]\n",
    "    )"
   ]
  },
  {
   "cell_type": "markdown",
   "id": "0432752c",
   "metadata": {},
   "source": [
    "**`upsert`** inserts documents into the database, ignoring existing documents and deleting outdated versions"
   ]
  },
  {
   "cell_type": "code",
   "execution_count": null,
   "id": "f0d06ffb",
   "metadata": {},
   "outputs": [],
   "source": [
    "db.upsert_documents(docs)"
   ]
  },
  {
   "cell_type": "markdown",
   "id": "e3fc9fb0",
   "metadata": {},
   "source": [
    "The parent documents are stored in the `docstore` asociated to the `vectorstore` used by the data base. The generator **`yield_keys`** returns the ids of the parent documents in the docstore."
   ]
  },
  {
   "cell_type": "code",
   "execution_count": null,
   "id": "a8b00f22",
   "metadata": {},
   "outputs": [],
   "source": [
    "ids = list(db.vectorstore.docstore.yield_keys())\n",
    "\n",
    "len(ids)"
   ]
  },
  {
   "cell_type": "markdown",
   "id": "a54f32c5",
   "metadata": {},
   "source": [
    "And the method **`get_by_ids`** returns the list of parent documents associated with a list of ids"
   ]
  },
  {
   "cell_type": "code",
   "execution_count": null,
   "id": "46648e11",
   "metadata": {},
   "outputs": [],
   "source": [
    "doc = db.vectorstore.get_by_ids([ids[0]])\n",
    "\n",
    "len(doc[0].page_content)"
   ]
  },
  {
   "cell_type": "code",
   "execution_count": null,
   "id": "ea925e1b",
   "metadata": {},
   "outputs": [],
   "source": [
    "print(doc[0].page_content[:200])"
   ]
  },
  {
   "cell_type": "markdown",
   "id": "ec87a958",
   "metadata": {},
   "source": [
    "The method **`get_child_ids`** returns the ids of the childs of a parent document."
   ]
  },
  {
   "cell_type": "code",
   "execution_count": null,
   "id": "2047f17b",
   "metadata": {},
   "outputs": [],
   "source": [
    "child_ids = db.vectorstore.get_child_ids(ids[0])\n",
    "\n",
    "len(child_ids)"
   ]
  },
  {
   "cell_type": "code",
   "execution_count": null,
   "id": "18830fb6",
   "metadata": {},
   "outputs": [],
   "source": [
    "child_docs = db.vectorstore.similarity_search(\"\", k=100, filter={\"id\": ids[0]})\n",
    "\n",
    "len(child_docs)"
   ]
  },
  {
   "cell_type": "code",
   "execution_count": null,
   "id": "68a4c718",
   "metadata": {},
   "outputs": [],
   "source": [
    "len(child_docs[0].page_content)"
   ]
  },
  {
   "cell_type": "code",
   "execution_count": null,
   "id": "4e3948eb",
   "metadata": {},
   "outputs": [],
   "source": [
    "print(child_docs[0].page_content[:200])"
   ]
  },
  {
   "cell_type": "markdown",
   "id": "3d2847bb",
   "metadata": {},
   "source": [
    "Note that upserting updated documents only inserts the modified content and deletes the outdated content"
   ]
  },
  {
   "cell_type": "code",
   "execution_count": null,
   "id": "d9d1d121",
   "metadata": {},
   "outputs": [],
   "source": [
    "for doc1, doc2 in zip(docs, docs2):\n",
    "    assert doc1.page_content == doc2.page_content\n",
    "    doc1.metadata.pop(\"id\")\n",
    "    assert doc1.metadata == doc2.metadata"
   ]
  },
  {
   "cell_type": "code",
   "execution_count": null,
   "id": "35e35c4a",
   "metadata": {},
   "outputs": [],
   "source": [
    "docs[0].page_content = docs[0].page_content.upper()"
   ]
  },
  {
   "cell_type": "code",
   "execution_count": null,
   "id": "a5edbe03",
   "metadata": {},
   "outputs": [],
   "source": [
    "db.upsert_documents(docs)"
   ]
  },
  {
   "cell_type": "code",
   "execution_count": null,
   "id": "888549c0",
   "metadata": {},
   "outputs": [],
   "source": [
    "docs[0].metadata"
   ]
  },
  {
   "cell_type": "markdown",
   "id": "16256ff1",
   "metadata": {},
   "source": [
    "#### Retrieval\n",
    "\n",
    "**`as_retriever`** returns a retriever that can be used to query the database for documents"
   ]
  },
  {
   "cell_type": "code",
   "execution_count": null,
   "id": "7b442b90",
   "metadata": {},
   "outputs": [],
   "source": [
    "child_docs = db.vectorstore.similarity_search(\"justice breyer\", k=5)"
   ]
  },
  {
   "cell_type": "code",
   "execution_count": null,
   "id": "5508b001",
   "metadata": {},
   "outputs": [],
   "source": [
    "len(child_docs)"
   ]
  },
  {
   "cell_type": "code",
   "execution_count": null,
   "id": "649108da",
   "metadata": {},
   "outputs": [],
   "source": [
    "len(child_docs[0].page_content)"
   ]
  },
  {
   "cell_type": "code",
   "execution_count": null,
   "id": "a686cdc1",
   "metadata": {},
   "outputs": [],
   "source": [
    "print(child_docs[0].page_content[:250])"
   ]
  },
  {
   "cell_type": "code",
   "execution_count": null,
   "id": "2bae9390",
   "metadata": {},
   "outputs": [],
   "source": [
    "# k is the number of child docs to retrieve and used to identify the parent docs to return\n",
    "retriever = db.as_retriever(k=5)"
   ]
  },
  {
   "cell_type": "code",
   "execution_count": null,
   "id": "7594b24e",
   "metadata": {},
   "outputs": [],
   "source": [
    "related_docs = retriever.invoke(\"justice breyer\")"
   ]
  },
  {
   "cell_type": "code",
   "execution_count": null,
   "id": "5975e00e",
   "metadata": {},
   "outputs": [],
   "source": [
    "len(related_docs)"
   ]
  },
  {
   "cell_type": "code",
   "execution_count": null,
   "id": "4c120c65",
   "metadata": {},
   "outputs": [],
   "source": [
    "len(related_docs[0].page_content)"
   ]
  },
  {
   "cell_type": "code",
   "execution_count": null,
   "id": "adac7395",
   "metadata": {},
   "outputs": [],
   "source": [
    "print(related_docs[0].page_content[2250:2750])"
   ]
  },
  {
   "cell_type": "code",
   "execution_count": null,
   "id": "1698b4ea",
   "metadata": {},
   "outputs": [],
   "source": [
    "db.delete_index()"
   ]
  },
  {
   "cell_type": "code",
   "execution_count": null,
   "id": "1bda3bb5",
   "metadata": {},
   "outputs": [],
   "source": []
  }
 ],
 "metadata": {
  "kernelspec": {
   "display_name": "Python 3.12 (myenv)",
   "language": "python",
   "name": "myenv"
  },
  "language_info": {
   "codemirror_mode": {
    "name": "ipython",
    "version": 3
   },
   "file_extension": ".py",
   "mimetype": "text/x-python",
   "name": "python",
   "nbconvert_exporter": "python",
   "pygments_lexer": "ipython3",
   "version": "3.12.3"
  }
 },
 "nbformat": 4,
 "nbformat_minor": 5
}
