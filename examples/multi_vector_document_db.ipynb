{
 "cells": [
  {
   "cell_type": "markdown",
   "id": "d9172545",
   "metadata": {},
   "source": [
    "## MultiVectorDocumentDB\n",
    "\n",
    "This class extends DocumentDB to support multiple vectors per document. It provides additional functionality for:\n",
    "\n",
    "    - Creating multiple vectors per document (e.g., smaller chunks, summaries, hypothetical questions)\n",
    "    - Using LangChain's MultiVectorRetriever for efficient querying"
   ]
  },
  {
   "cell_type": "code",
   "execution_count": 1,
   "id": "2d3504ed",
   "metadata": {},
   "outputs": [],
   "source": [
    "import os\n",
    "import sys\n",
    "sys.path.append('../')\n",
    "\n",
    "from dotenv import find_dotenv, load_dotenv\n",
    "load_dotenv(find_dotenv(), override=True)\n",
    "\n",
    "from document_loaders.load_document import load_document\n",
    "from multi_vector_document_db import MultiVectorDocumentDB"
   ]
  },
  {
   "cell_type": "markdown",
   "id": "fc8b1c8f",
   "metadata": {},
   "source": [
    "#### Load files and  and split them into chunks. This chunks will be our parent documents."
   ]
  },
  {
   "cell_type": "code",
   "execution_count": 2,
   "id": "6d869496",
   "metadata": {},
   "outputs": [],
   "source": [
    "my_file = \"./files/state_of_the_union.txt\"\n",
    "\n",
    "def load_docs(file_name):\n",
    "    return load_document(file_name, chunk_it=True, chunk_size=4000, chunk_overlap=200)\n",
    "    \n",
    "docs = load_docs(my_file)"
   ]
  },
  {
   "cell_type": "code",
   "execution_count": 3,
   "id": "8482dc47",
   "metadata": {},
   "outputs": [
    {
     "data": {
      "text/plain": [
       "11"
      ]
     },
     "execution_count": 3,
     "metadata": {},
     "output_type": "execute_result"
    }
   ],
   "source": [
    "len(docs)"
   ]
  },
  {
   "cell_type": "code",
   "execution_count": 4,
   "id": "b44d74a6",
   "metadata": {},
   "outputs": [
    {
     "data": {
      "text/plain": [
       "3849"
      ]
     },
     "execution_count": 4,
     "metadata": {},
     "output_type": "execute_result"
    }
   ],
   "source": [
    "len(docs[0].page_content)"
   ]
  },
  {
   "cell_type": "markdown",
   "id": "bb30f269",
   "metadata": {},
   "source": [
    "#### Initialize the document database"
   ]
  },
  {
   "cell_type": "code",
   "execution_count": 5,
   "id": "9cc9718a",
   "metadata": {},
   "outputs": [],
   "source": [
    "data_folder = os.path.abspath(\"../data/multi_embedding_document_db\")\n",
    "\n",
    "db = MultiVectorDocumentDB.create(\n",
    "        data_folder,\n",
    "        functor=[(\"chunk\", {\"chunk_size\":500, \"chunk_overlap\": 50}), \"summary\", (\"question\", {\"q\":2})]\n",
    "    )"
   ]
  },
  {
   "cell_type": "markdown",
   "id": "d8759c84",
   "metadata": {},
   "source": [
    "**`upsert`** inserts documents into the database, ignoring existing documents and deleting outdated versions"
   ]
  },
  {
   "cell_type": "code",
   "execution_count": 6,
   "id": "f0d06ffb",
   "metadata": {},
   "outputs": [
    {
     "data": {
      "text/plain": [
       "{'num_added': 11, 'num_updated': 0, 'num_skipped': 0, 'num_deleted': 0}"
      ]
     },
     "execution_count": 6,
     "metadata": {},
     "output_type": "execute_result"
    }
   ],
   "source": [
    "db.upsert_documents(docs)"
   ]
  },
  {
   "cell_type": "markdown",
   "id": "105f36fe",
   "metadata": {},
   "source": [
    "The parent documents are stored in the `docstore` asociated to the `vectorstore` used by the data base. The generator **`yield_keys`** returns the ids of the parent documents in the docstore."
   ]
  },
  {
   "cell_type": "code",
   "execution_count": 7,
   "id": "a7392b33",
   "metadata": {},
   "outputs": [
    {
     "data": {
      "text/plain": [
       "11"
      ]
     },
     "execution_count": 7,
     "metadata": {},
     "output_type": "execute_result"
    }
   ],
   "source": [
    "ids = list(db.vectorstore.docstore.yield_keys())\n",
    "\n",
    "len(ids)"
   ]
  },
  {
   "cell_type": "markdown",
   "id": "09595411",
   "metadata": {},
   "source": [
    "And the method **`get_by_ids`** returns the list of parent documents associated with a list of ids"
   ]
  },
  {
   "cell_type": "code",
   "execution_count": 8,
   "id": "6e276d8b",
   "metadata": {},
   "outputs": [
    {
     "data": {
      "text/plain": [
       "3849"
      ]
     },
     "execution_count": 8,
     "metadata": {},
     "output_type": "execute_result"
    }
   ],
   "source": [
    "doc = db.vectorstore.get_by_ids([ids[0]])\n",
    "\n",
    "len(doc[0].page_content)"
   ]
  },
  {
   "cell_type": "code",
   "execution_count": 9,
   "id": "695e19a7",
   "metadata": {},
   "outputs": [
    {
     "name": "stdout",
     "output_type": "stream",
     "text": [
      "Madam Speaker, Madam Vice President, our First Lady and Second Gentleman. Members of Congress and the Cabinet. Justices of the Supreme Court. My fellow Americans.  \n",
      "\n",
      "Last year COVID-19 kept us apart. This year we are finally together again.\n"
     ]
    }
   ],
   "source": [
    "print(doc[0].page_content[:240])"
   ]
  },
  {
   "cell_type": "markdown",
   "id": "d73ac7d9",
   "metadata": {},
   "source": [
    "The method **`get_child_ids`** returns the ids of the childs of a parent document."
   ]
  },
  {
   "cell_type": "code",
   "execution_count": 10,
   "id": "070793e0",
   "metadata": {},
   "outputs": [
    {
     "data": {
      "text/plain": [
       "12"
      ]
     },
     "execution_count": 10,
     "metadata": {},
     "output_type": "execute_result"
    }
   ],
   "source": [
    "child_ids = db.vectorstore.get_child_ids(ids[0])\n",
    "\n",
    "len(child_ids)"
   ]
  },
  {
   "cell_type": "code",
   "execution_count": 11,
   "id": "7129fba2",
   "metadata": {},
   "outputs": [
    {
     "data": {
      "text/plain": [
       "12"
      ]
     },
     "execution_count": 11,
     "metadata": {},
     "output_type": "execute_result"
    }
   ],
   "source": [
    "child_docs = db.vectorstore.similarity_search(\"\", k=100, filter={\"id\": ids[0]})\n",
    "\n",
    "len(child_docs)"
   ]
  },
  {
   "cell_type": "code",
   "execution_count": 12,
   "id": "c7e709a5",
   "metadata": {},
   "outputs": [
    {
     "data": {
      "text/plain": [
       "490"
      ]
     },
     "execution_count": 12,
     "metadata": {},
     "output_type": "execute_result"
    }
   ],
   "source": [
    "len(child_docs[0].page_content)"
   ]
  },
  {
   "cell_type": "code",
   "execution_count": 13,
   "id": "a609d0d7",
   "metadata": {},
   "outputs": [
    {
     "name": "stdout",
     "output_type": "stream",
     "text": [
      "Madam Speaker, Madam Vice President, our First Lady and Second Gentleman. Members of Congress and the Cabinet. Justices of the Supreme Court. My fellow Americans.  \n",
      "\n",
      "Last year COVID-19 kept us apart. This year we are finally together again.\n"
     ]
    }
   ],
   "source": [
    "print(child_docs[0].page_content[:240])"
   ]
  },
  {
   "cell_type": "markdown",
   "id": "d9362d89",
   "metadata": {},
   "source": [
    "Note that upserting updated documents only inserts the modified content and deletes the outdated content"
   ]
  },
  {
   "cell_type": "code",
   "execution_count": 14,
   "id": "9fe1bd06",
   "metadata": {},
   "outputs": [],
   "source": [
    "docs2 = load_docs(my_file)"
   ]
  },
  {
   "cell_type": "code",
   "execution_count": 15,
   "id": "a02a20cf",
   "metadata": {},
   "outputs": [],
   "source": [
    "docs2[0].page_content = docs2[0].page_content.upper()"
   ]
  },
  {
   "cell_type": "code",
   "execution_count": 16,
   "id": "a9c2544a",
   "metadata": {},
   "outputs": [
    {
     "data": {
      "text/plain": [
       "{'num_added': 1, 'num_updated': 0, 'num_skipped': 10, 'num_deleted': 1}"
      ]
     },
     "execution_count": 16,
     "metadata": {},
     "output_type": "execute_result"
    }
   ],
   "source": [
    "db.upsert_documents(docs2)"
   ]
  },
  {
   "cell_type": "markdown",
   "id": "9c55540f",
   "metadata": {},
   "source": [
    "#### Retrieval\n",
    "\n",
    "**`as_retriever`** returns a retriever that can be used to query the database for documents"
   ]
  },
  {
   "cell_type": "code",
   "execution_count": 17,
   "id": "7b442b90",
   "metadata": {},
   "outputs": [],
   "source": [
    "child_docs = db.vectorstore.similarity_search(\"justice breyer\", k=5)"
   ]
  },
  {
   "cell_type": "code",
   "execution_count": 18,
   "id": "5508b001",
   "metadata": {},
   "outputs": [
    {
     "data": {
      "text/plain": [
       "5"
      ]
     },
     "execution_count": 18,
     "metadata": {},
     "output_type": "execute_result"
    }
   ],
   "source": [
    "len(child_docs)"
   ]
  },
  {
   "cell_type": "code",
   "execution_count": 19,
   "id": "649108da",
   "metadata": {},
   "outputs": [
    {
     "data": {
      "text/plain": [
       "390"
      ]
     },
     "execution_count": 19,
     "metadata": {},
     "output_type": "execute_result"
    }
   ],
   "source": [
    "len(child_docs[0].page_content)"
   ]
  },
  {
   "cell_type": "code",
   "execution_count": 20,
   "id": "429831d6",
   "metadata": {},
   "outputs": [
    {
     "name": "stdout",
     "output_type": "stream",
     "text": [
      "Tonight, I’d like to honor someone who has dedicated his life to serve this country: Justice Stephen Breyer—an Army veteran, Constitutional scholar, and retiring Justice of the United States Supreme Court. Justice Breyer, thank you for your service. \n"
     ]
    }
   ],
   "source": [
    "print(child_docs[0].page_content[:250])"
   ]
  },
  {
   "cell_type": "code",
   "execution_count": 21,
   "id": "880c98f0",
   "metadata": {},
   "outputs": [],
   "source": [
    "# k is the number of child docs to retrieve and used to identify the parent docs to return\n",
    "retriever = db.as_retriever(k=5)"
   ]
  },
  {
   "cell_type": "code",
   "execution_count": 22,
   "id": "7594b24e",
   "metadata": {},
   "outputs": [],
   "source": [
    "related_docs = retriever.invoke(\"justice breyer\")"
   ]
  },
  {
   "cell_type": "code",
   "execution_count": 23,
   "id": "5975e00e",
   "metadata": {},
   "outputs": [
    {
     "data": {
      "text/plain": [
       "1"
      ]
     },
     "execution_count": 23,
     "metadata": {},
     "output_type": "execute_result"
    }
   ],
   "source": [
    "len(related_docs)"
   ]
  },
  {
   "cell_type": "code",
   "execution_count": 24,
   "id": "4c120c65",
   "metadata": {},
   "outputs": [
    {
     "data": {
      "text/plain": [
       "3958"
      ]
     },
     "execution_count": 24,
     "metadata": {},
     "output_type": "execute_result"
    }
   ],
   "source": [
    "len(related_docs[0].page_content)"
   ]
  },
  {
   "cell_type": "code",
   "execution_count": 25,
   "id": "adac7395",
   "metadata": {},
   "outputs": [
    {
     "name": "stdout",
     "output_type": "stream",
     "text": [
      "Tonight, I’d like to honor someone who has dedicated his life to serve this country: Justice Stephen Breyer—an Army veteran, Constitutional scholar, and retiring Justice of the United States Supreme Court. Justice Breyer, thank you for your service. \n"
     ]
    }
   ],
   "source": [
    "print(related_docs[0].page_content[2456:2706])"
   ]
  },
  {
   "cell_type": "code",
   "execution_count": 26,
   "id": "8e44e137",
   "metadata": {},
   "outputs": [],
   "source": [
    "db.delete_index()"
   ]
  },
  {
   "cell_type": "code",
   "execution_count": null,
   "id": "441e1e35",
   "metadata": {},
   "outputs": [],
   "source": []
  }
 ],
 "metadata": {
  "kernelspec": {
   "display_name": "Python 3.12 (myenv)",
   "language": "python",
   "name": "myenv"
  },
  "language_info": {
   "codemirror_mode": {
    "name": "ipython",
    "version": 3
   },
   "file_extension": ".py",
   "mimetype": "text/x-python",
   "name": "python",
   "nbconvert_exporter": "python",
   "pygments_lexer": "ipython3",
   "version": "3.12.3"
  }
 },
 "nbformat": 4,
 "nbformat_minor": 5
}
