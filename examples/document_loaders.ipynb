{
 "cells": [
  {
   "cell_type": "markdown",
   "id": "728f1747-b8fc-4d31-96c2-047fc83c079d",
   "metadata": {},
   "source": [
    "# Document Loaders\n",
    "\n",
    "There are many other types of Documents that can be loaded in, including integrations which we'll cover in the next notebook. You can see all the document loaders available here: https://python.langchain.com/docs/modules/data_connection/document_loaders/\n",
    "\n",
    "Keep in mind many Loaders are dependent on other libraries, meaning issues in those libraries can end up breaking the Langchain loaders."
   ]
  },
  {
   "cell_type": "code",
   "execution_count": 2,
   "id": "accb2daf",
   "metadata": {},
   "outputs": [],
   "source": [
    "import sys\n",
    "sys.path.append('../')\n",
    "\n",
    "from dotenv import find_dotenv, load_dotenv\n",
    "load_dotenv(find_dotenv(), override=True)\n",
    "\n",
    "from langchain_core.documents import Document\n",
    "\n",
    "from document_loaders.load_document import load_document\n",
    "from document_loaders.load_from_web import load_from_wikipedia, load_from_web, load_with_chromium, crawl_with_apify\n",
    "from document_loaders.load_all_documents import load_all_documents, load_all_documents_lazy, LoadAllDocuments\n",
    "from document_loaders.load_directory import load_directory, scan_load_directory, ScanLoadDirectory"
   ]
  },
  {
   "cell_type": "code",
   "execution_count": 3,
   "id": "e93d40a1",
   "metadata": {},
   "outputs": [],
   "source": [
    "CHUNK_SIZE = 500\n",
    "CHUNK_OVERLAP = 50"
   ]
  },
  {
   "cell_type": "markdown",
   "id": "6bc4082c-42ff-42f7-922a-7c0064440097",
   "metadata": {},
   "source": [
    "## CSV"
   ]
  },
  {
   "cell_type": "code",
   "execution_count": 4,
   "id": "d31bd40b",
   "metadata": {},
   "outputs": [],
   "source": [
    "docs = load_document('./files/penguins.csv', text_splitter=\"auto\")"
   ]
  },
  {
   "cell_type": "code",
   "execution_count": 5,
   "id": "a6556c60",
   "metadata": {},
   "outputs": [
    {
     "data": {
      "text/plain": [
       "list"
      ]
     },
     "execution_count": 5,
     "metadata": {},
     "output_type": "execute_result"
    }
   ],
   "source": [
    "type(docs)"
   ]
  },
  {
   "cell_type": "code",
   "execution_count": 6,
   "id": "f00d5443",
   "metadata": {},
   "outputs": [
    {
     "data": {
      "text/plain": [
       "langchain_core.documents.base.Document"
      ]
     },
     "execution_count": 6,
     "metadata": {},
     "output_type": "execute_result"
    }
   ],
   "source": [
    "type(docs[0])"
   ]
  },
  {
   "cell_type": "code",
   "execution_count": 7,
   "id": "b1ac96d0",
   "metadata": {},
   "outputs": [
    {
     "data": {
      "text/plain": [
       "344"
      ]
     },
     "execution_count": 7,
     "metadata": {},
     "output_type": "execute_result"
    }
   ],
   "source": [
    "len(docs)"
   ]
  },
  {
   "cell_type": "code",
   "execution_count": 8,
   "id": "690432c5",
   "metadata": {},
   "outputs": [
    {
     "data": {
      "text/plain": [
       "Document(metadata={'source': './files/penguins.csv', 'row': 0}, page_content='species: Adelie\\nisland: Torgersen\\nbill_length_mm: 39.1\\nbill_depth_mm: 18.7\\nflipper_length_mm: 181\\nbody_mass_g: 3750\\nsex: MALE')"
      ]
     },
     "execution_count": 8,
     "metadata": {},
     "output_type": "execute_result"
    }
   ],
   "source": [
    "docs[0]"
   ]
  },
  {
   "cell_type": "markdown",
   "id": "02ddf379-844f-42cb-89c0-472be1185844",
   "metadata": {},
   "source": [
    "## HTML"
   ]
  },
  {
   "cell_type": "code",
   "execution_count": 9,
   "id": "191bb49b",
   "metadata": {},
   "outputs": [
    {
     "data": {
      "text/plain": [
       "1"
      ]
     },
     "execution_count": 9,
     "metadata": {},
     "output_type": "execute_result"
    }
   ],
   "source": [
    "docs = load_document(\"./files/some_website.html\", text_splitter=\"auto\")\n",
    "\n",
    "len(docs)"
   ]
  },
  {
   "cell_type": "code",
   "execution_count": 10,
   "id": "8d066d9c",
   "metadata": {},
   "outputs": [
    {
     "data": {
      "text/plain": [
       "Document(metadata={'Header 1': '#TITLE#', 'source': './files/some_website.html'}, page_content='Foo\\n\\nSome intro text about Foo.\\n\\nBar main section\\n\\nSome intro text about Bar.\\n\\nBar subsection 1\\n\\nSome text about the first subtopic of Bar.\\n\\nBar subsection 2\\n\\nSome text about the second subtopic of Bar.\\n\\nBaz\\n\\nSome text about Baz\\n\\nSome concluding text about Foo')"
      ]
     },
     "execution_count": 10,
     "metadata": {},
     "output_type": "execute_result"
    }
   ],
   "source": [
    "docs[0]"
   ]
  },
  {
   "cell_type": "code",
   "execution_count": 11,
   "id": "f8ed7781",
   "metadata": {},
   "outputs": [
    {
     "data": {
      "text/plain": [
       "5"
      ]
     },
     "execution_count": 11,
     "metadata": {},
     "output_type": "execute_result"
    }
   ],
   "source": [
    "docs = load_document(\"./files/some_website.html\", mode=\"raw\", text_splitter=\"auto\")\n",
    "\n",
    "len(docs)"
   ]
  },
  {
   "cell_type": "code",
   "execution_count": 12,
   "id": "ac544700",
   "metadata": {},
   "outputs": [
    {
     "data": {
      "text/plain": [
       "Document(metadata={'Header 1': 'Foo', 'source': './files/some_website.html'}, page_content='Foo \\n Some intro text about Foo.')"
      ]
     },
     "execution_count": 12,
     "metadata": {},
     "output_type": "execute_result"
    }
   ],
   "source": [
    "docs[0]"
   ]
  },
  {
   "cell_type": "markdown",
   "id": "e4ff682b-b894-486f-b24f-7df9693358e3",
   "metadata": {},
   "source": [
    "## PDF"
   ]
  },
  {
   "cell_type": "code",
   "execution_count": 13,
   "id": "e53ea925",
   "metadata": {},
   "outputs": [
    {
     "data": {
      "text/plain": [
       "[Document(metadata={'source': './files/some_report.pdf'}, page_content='This is the first line PDF. This is the second line in the PDF. This is the third line in the PDF.')]"
      ]
     },
     "execution_count": 13,
     "metadata": {},
     "output_type": "execute_result"
    }
   ],
   "source": [
    "docs = load_document('./files/some_report.pdf', text_splitter=\"auto\")\n",
    "\n",
    "docs"
   ]
  },
  {
   "cell_type": "markdown",
   "id": "69632baf",
   "metadata": {},
   "source": [
    "## JSON"
   ]
  },
  {
   "cell_type": "code",
   "execution_count": 14,
   "id": "6d0dbfb6",
   "metadata": {},
   "outputs": [
    {
     "data": {
      "text/plain": [
       "2"
      ]
     },
     "execution_count": 14,
     "metadata": {},
     "output_type": "execute_result"
    }
   ],
   "source": [
    "docs = load_document(\"./files/some_json.json\", text_splitter=\"auto\")\n",
    "\n",
    "len(docs)"
   ]
  },
  {
   "cell_type": "code",
   "execution_count": 15,
   "id": "97c5332e",
   "metadata": {},
   "outputs": [
    {
     "data": {
      "text/plain": [
       "'{\"web-app\": {\"servlet-mapping\": {\"cofaxCDS\": \"/\", \"cofaxEmail\": \"/cofaxutil/aemail/*\", \"cofaxAdmin\": \"/admin/*\", \"fileServlet\": \"/static/*\", \"cofaxTools\": \"/tools/*\"}, \"taglib\": {\"taglib-uri\": \"cofax.tld\", \"taglib-location\": \"/WEB-INF/tlds/cofax.tld\"}}}'"
      ]
     },
     "execution_count": 15,
     "metadata": {},
     "output_type": "execute_result"
    }
   ],
   "source": [
    "docs[len(docs)-1].page_content"
   ]
  },
  {
   "cell_type": "markdown",
   "id": "6e64a431",
   "metadata": {},
   "source": [
    "## Programming Language"
   ]
  },
  {
   "cell_type": "code",
   "execution_count": 16,
   "id": "b13c5c14",
   "metadata": {},
   "outputs": [
    {
     "data": {
      "text/plain": [
       "9"
      ]
     },
     "execution_count": 16,
     "metadata": {},
     "output_type": "execute_result"
    }
   ],
   "source": [
    "docs = load_document('../multi_vectorstore.py', text_splitter=\"auto\")\n",
    "\n",
    "len(docs)"
   ]
  },
  {
   "cell_type": "code",
   "execution_count": 17,
   "id": "b6d999fe",
   "metadata": {},
   "outputs": [
    {
     "name": "stdout",
     "output_type": "stream",
     "text": [
      "import uuid\n",
      "\n",
      "from typing import (\n",
      "\n",
      "Any,\n",
      "\n",
      "Callable\n"
     ]
    }
   ],
   "source": [
    "print(docs[0].page_content[0:49])"
   ]
  },
  {
   "cell_type": "markdown",
   "id": "6d89d768",
   "metadata": {},
   "source": [
    "## Wikipedia"
   ]
  },
  {
   "cell_type": "code",
   "execution_count": 18,
   "id": "552daa17",
   "metadata": {},
   "outputs": [
    {
     "data": {
      "text/plain": [
       "12"
      ]
     },
     "execution_count": 18,
     "metadata": {},
     "output_type": "execute_result"
    }
   ],
   "source": [
    "docs = load_from_wikipedia(\n",
    "            \"Lionel Messi\",\n",
    "            lang='es',\n",
    "            load_max_docs=1,\n",
    "            text_splitter=\"recursive\",\n",
    "            splitter_kwargs={\n",
    "                \"chunk_size\": CHUNK_SIZE,\n",
    "                \"chunk_overlap\": CHUNK_OVERLAP,\n",
    "            }\n",
    "        )\n",
    "\n",
    "len(docs)"
   ]
  },
  {
   "cell_type": "code",
   "execution_count": 19,
   "id": "60fe2a08",
   "metadata": {},
   "outputs": [
    {
     "name": "stdout",
     "output_type": "stream",
     "text": [
      "Lionel Andrés Messi Cuccittini (Rosario, 24 de junio de 1987), conocido como Leo Messi, es un futbolista argentino que juega como delantero o centrocampista. Desde 2023, integra el plantel del Inter Miami de la MLS canadoestadounidense. Es también internacional con la selección de Argentina, de la que es capitán.\n"
     ]
    }
   ],
   "source": [
    "print(docs[0].page_content)"
   ]
  },
  {
   "cell_type": "markdown",
   "id": "e357dfdb",
   "metadata": {},
   "source": [
    "## WEB"
   ]
  },
  {
   "cell_type": "code",
   "execution_count": 20,
   "id": "715259c2",
   "metadata": {},
   "outputs": [
    {
     "data": {
      "text/plain": [
       "30"
      ]
     },
     "execution_count": 20,
     "metadata": {},
     "output_type": "execute_result"
    }
   ],
   "source": [
    "docs = load_from_web(\n",
    "            \"https://www.money.com\",\n",
    "            default_parser=\"html.parser\",\n",
    "            bs_get_text_kwargs={\"strip\":True},\n",
    "            text_splitter=\"recursive\",\n",
    "            splitter_kwargs={\n",
    "                \"chunk_size\": CHUNK_SIZE,\n",
    "                \"chunk_overlap\": CHUNK_OVERLAP,\n",
    "            }\n",
    "        )\n",
    "\n",
    "len(docs)"
   ]
  },
  {
   "cell_type": "code",
   "execution_count": 21,
   "id": "700bcd92",
   "metadata": {},
   "outputs": [
    {
     "name": "stdout",
     "output_type": "stream",
     "text": [
      "Money Official Site – Finance News & Advice Since 1972 | MoneyCloseCreditMoney's Best, News & GuidesBest Credit Repair CompaniesBest Identity Theft Protection ServicesBest Credit Monitoring ServicesInsuranceMoney's Best, News & GuidesBest Long-Term Care InsuranceBest Pet InsuranceBest Life InsuranceBest Travel InsuranceBest RV InsuranceBest Dental InsuranceBest Motorcycle InsuranceBest Car InsuranceBest Homeowners InsuranceBest Health InsuranceLoansMoney's Best, News & GuidesBest Personal\n"
     ]
    }
   ],
   "source": [
    "print(docs[0].page_content)"
   ]
  },
  {
   "cell_type": "code",
   "execution_count": 22,
   "id": "fa665e90",
   "metadata": {},
   "outputs": [
    {
     "data": {
      "text/plain": [
       "7"
      ]
     },
     "execution_count": 22,
     "metadata": {},
     "output_type": "execute_result"
    }
   ],
   "source": [
    "docs = load_with_chromium(\n",
    "            \"https://www.money.com\",\n",
    "            transform=True,\n",
    "            tags_to_extract=[\"span\"],\n",
    "            text_splitter=\"recursive\",\n",
    "            splitter_kwargs={\n",
    "                \"chunk_size\": CHUNK_SIZE,\n",
    "                \"chunk_overlap\": CHUNK_OVERLAP,\n",
    "            }\n",
    "        )\n",
    "\n",
    "len(docs)"
   ]
  },
  {
   "cell_type": "code",
   "execution_count": 23,
   "id": "d77a5f98",
   "metadata": {},
   "outputs": [
    {
     "name": "stdout",
     "output_type": "stream",
     "text": [
      "Close  <Back <Back EN ESP Best Credit Repair Companies Best Identity Theft Protection Services Best Credit Monitoring Services Best Long-Term Care Insurance Best Pet Insurance Best Life Insurance Best Travel Insurance Best RV Insurance Best Dental Insurance Best Motorcycle Insurance Best Car Insurance Best Homeowners Insurance Best Health Insurance Best Personal Loans Best Small Business Loans Best Student Loans Best Student Loan Refinance Best Auto Refinance Best Auto Loans Best Debt\n"
     ]
    }
   ],
   "source": [
    "print(docs[0].page_content)"
   ]
  },
  {
   "cell_type": "markdown",
   "id": "599e49f6",
   "metadata": {},
   "source": [
    "## Load by file extension"
   ]
  },
  {
   "cell_type": "code",
   "execution_count": 24,
   "id": "84cd5d6e",
   "metadata": {},
   "outputs": [
    {
     "data": {
      "text/plain": [
       "168"
      ]
     },
     "execution_count": 24,
     "metadata": {},
     "output_type": "execute_result"
    }
   ],
   "source": [
    "docs = load_all_documents(\"../\", \".py\", recursive=True)\n",
    "\n",
    "len(docs)"
   ]
  },
  {
   "cell_type": "code",
   "execution_count": 25,
   "id": "f04ae235",
   "metadata": {},
   "outputs": [
    {
     "data": {
      "text/plain": [
       "168"
      ]
     },
     "execution_count": 25,
     "metadata": {},
     "output_type": "execute_result"
    }
   ],
   "source": [
    "len(list(load_all_documents_lazy(\"../\", \".py\", recursive=True)))"
   ]
  },
  {
   "cell_type": "code",
   "execution_count": 26,
   "id": "a7867a34",
   "metadata": {},
   "outputs": [],
   "source": [
    "loader = LoadAllDocuments(\"../\", \".py\", recursive=True)"
   ]
  },
  {
   "cell_type": "code",
   "execution_count": 27,
   "id": "f1a52e1e",
   "metadata": {},
   "outputs": [
    {
     "data": {
      "text/plain": [
       "168"
      ]
     },
     "execution_count": 27,
     "metadata": {},
     "output_type": "execute_result"
    }
   ],
   "source": [
    "docs = loader.load()\n",
    "\n",
    "len(docs)"
   ]
  },
  {
   "cell_type": "code",
   "execution_count": 28,
   "id": "06510bee",
   "metadata": {},
   "outputs": [
    {
     "data": {
      "text/plain": [
       "168"
      ]
     },
     "execution_count": 28,
     "metadata": {},
     "output_type": "execute_result"
    }
   ],
   "source": [
    "len(list(loader.lazy_load()))"
   ]
  },
  {
   "cell_type": "markdown",
   "id": "4b5efac6",
   "metadata": {},
   "source": [
    "### Load directories"
   ]
  },
  {
   "cell_type": "code",
   "execution_count": 29,
   "id": "2ea766b9",
   "metadata": {},
   "outputs": [],
   "source": [
    "from langchain.document_loaders import PythonLoader"
   ]
  },
  {
   "cell_type": "code",
   "execution_count": 30,
   "id": "8f6c7275",
   "metadata": {},
   "outputs": [
    {
     "data": {
      "text/plain": [
       "19"
      ]
     },
     "execution_count": 30,
     "metadata": {},
     "output_type": "execute_result"
    }
   ],
   "source": [
    "docs = load_directory(\"../\", glob=\"**/*.py\", loader_cls=PythonLoader, silent_errors=True)\n",
    "\n",
    "len(docs)"
   ]
  },
  {
   "cell_type": "code",
   "execution_count": 31,
   "id": "3c3c02dc",
   "metadata": {},
   "outputs": [
    {
     "data": {
      "text/plain": [
       "19"
      ]
     },
     "execution_count": 31,
     "metadata": {},
     "output_type": "execute_result"
    }
   ],
   "source": [
    "len(list(scan_load_directory(\"../\", recursive=True, file_filter=\"*.py\", autodetect_encoding=True)))"
   ]
  },
  {
   "cell_type": "code",
   "execution_count": 32,
   "id": "345a3920",
   "metadata": {},
   "outputs": [],
   "source": [
    "loader = ScanLoadDirectory(\"../\", recursive=True, file_filter=\"*.py\", autodetect_encoding=True)"
   ]
  },
  {
   "cell_type": "code",
   "execution_count": 33,
   "id": "3ea465fd",
   "metadata": {},
   "outputs": [
    {
     "data": {
      "text/plain": [
       "19"
      ]
     },
     "execution_count": 33,
     "metadata": {},
     "output_type": "execute_result"
    }
   ],
   "source": [
    "docs = loader.load()\n",
    "\n",
    "len(docs)"
   ]
  },
  {
   "cell_type": "code",
   "execution_count": 34,
   "id": "91ee60c8",
   "metadata": {},
   "outputs": [
    {
     "data": {
      "text/plain": [
       "19"
      ]
     },
     "execution_count": 34,
     "metadata": {},
     "output_type": "execute_result"
    }
   ],
   "source": [
    "len(list(loader.lazy_load()))"
   ]
  },
  {
   "cell_type": "code",
   "execution_count": null,
   "id": "4785a267",
   "metadata": {},
   "outputs": [],
   "source": []
  }
 ],
 "metadata": {
  "kernelspec": {
   "display_name": "Python 3.12 (myenv)",
   "language": "python",
   "name": "myenv"
  },
  "language_info": {
   "codemirror_mode": {
    "name": "ipython",
    "version": 3
   },
   "file_extension": ".py",
   "mimetype": "text/x-python",
   "name": "python",
   "nbconvert_exporter": "python",
   "pygments_lexer": "ipython3",
   "version": "3.12.3"
  }
 },
 "nbformat": 4,
 "nbformat_minor": 5
}
