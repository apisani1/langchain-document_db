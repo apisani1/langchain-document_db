{
 "cells": [
  {
   "cell_type": "code",
   "execution_count": 1,
   "id": "ffe9f5ea",
   "metadata": {},
   "outputs": [],
   "source": [
    "import sys\n",
    "sys.path.append('../')\n",
    "\n",
    "from dotenv import find_dotenv, load_dotenv\n",
    "load_dotenv(find_dotenv(), override=True)\n",
    "\n",
    "from langchain_openai import OpenAIEmbeddings\n",
    "from langchain.vectorstores.chroma import Chroma\n",
    "\n",
    "from load_document import load_document\n",
    "from document_db import DocumentDB"
   ]
  },
  {
   "cell_type": "code",
   "execution_count": 2,
   "id": "6be68cc6",
   "metadata": {},
   "outputs": [],
   "source": [
    "embedding = OpenAIEmbeddings()\n",
    "\n",
    "vectorstore = Chroma(\n",
    "                persist_directory=\"../data/document_db/state_of_the_union\",\n",
    "                embedding_function=embedding,\n",
    "            )\n",
    "\n",
    "db = DocumentDB(\"../data/document_db\", vectorstore=vectorstore)\n",
    "retriever = db.as_retriever()"
   ]
  },
  {
   "cell_type": "code",
   "execution_count": 3,
   "id": "3a08f773",
   "metadata": {},
   "outputs": [],
   "source": [
    "docs = load_document(\"./files/state_of_the_union.txt\", chunk_it=True, chunk_size=1000, chunk_overlap=100)"
   ]
  },
  {
   "cell_type": "code",
   "execution_count": 4,
   "id": "f8276fe8",
   "metadata": {},
   "outputs": [
    {
     "data": {
      "text/plain": [
       "{'num_added': 0, 'num_updated': 0, 'num_skipped': 0, 'num_deleted': 43}"
      ]
     },
     "execution_count": 4,
     "metadata": {},
     "output_type": "execute_result"
    }
   ],
   "source": [
    "db.clean()"
   ]
  },
  {
   "cell_type": "code",
   "execution_count": 5,
   "id": "ff524564",
   "metadata": {},
   "outputs": [
    {
     "data": {
      "text/plain": [
       "{'num_added': 43, 'num_updated': 0, 'num_skipped': 0, 'num_deleted': 0}"
      ]
     },
     "execution_count": 5,
     "metadata": {},
     "output_type": "execute_result"
    }
   ],
   "source": [
    "db.upsert_documents(docs)"
   ]
  },
  {
   "cell_type": "code",
   "execution_count": null,
   "id": "e1083610",
   "metadata": {},
   "outputs": [],
   "source": [
    "results = retriever.invoke(\"Judge Ketanji Brown Jackson\")\n",
    "results[0].page_content"
   ]
  },
  {
   "cell_type": "code",
   "execution_count": null,
   "id": "77ca201b",
   "metadata": {},
   "outputs": [],
   "source": [
    "docs[10].page_content=\"modified content\""
   ]
  },
  {
   "cell_type": "code",
   "execution_count": null,
   "id": "1da3638e",
   "metadata": {},
   "outputs": [],
   "source": [
    "db.upsert_documents(docs)"
   ]
  },
  {
   "cell_type": "code",
   "execution_count": 6,
   "id": "3cf20588",
   "metadata": {},
   "outputs": [
    {
     "name": "stdout",
     "output_type": "stream",
     "text": [
      "[Document(page_content='Deleted DO NOT USE', metadata={'source': './files/state_of_the_union.txt'})]\n"
     ]
    },
    {
     "data": {
      "text/plain": [
       "{'num_added': 1, 'num_updated': 0, 'num_skipped': 0, 'num_deleted': 43}"
      ]
     },
     "execution_count": 6,
     "metadata": {},
     "output_type": "execute_result"
    }
   ],
   "source": [
    "db.delete_documents(['./files/state_of_the_union.txt', 'non existing document'])"
   ]
  },
  {
   "cell_type": "code",
   "execution_count": 7,
   "id": "d579d417",
   "metadata": {},
   "outputs": [
    {
     "name": "stdout",
     "output_type": "stream",
     "text": [
      "[]\n"
     ]
    },
    {
     "data": {
      "text/plain": [
       "{'num_added': 0, 'num_updated': 0, 'num_skipped': 0, 'num_deleted': 0}"
      ]
     },
     "execution_count": 7,
     "metadata": {},
     "output_type": "execute_result"
    }
   ],
   "source": [
    "db.delete_documents('this is not a list')"
   ]
  },
  {
   "cell_type": "code",
   "execution_count": null,
   "id": "a2455d00",
   "metadata": {},
   "outputs": [],
   "source": []
  }
 ],
 "metadata": {
  "kernelspec": {
   "display_name": "Python 3.12 (myenv)",
   "language": "python",
   "name": "myenv"
  },
  "language_info": {
   "codemirror_mode": {
    "name": "ipython",
    "version": 3
   },
   "file_extension": ".py",
   "mimetype": "text/x-python",
   "name": "python",
   "nbconvert_exporter": "python",
   "pygments_lexer": "ipython3",
   "version": "3.12.3"
  }
 },
 "nbformat": 4,
 "nbformat_minor": 5
}
