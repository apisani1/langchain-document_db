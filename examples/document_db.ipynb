{
 "cells": [
  {
   "cell_type": "markdown",
   "id": "2c114f55",
   "metadata": {},
   "source": [
    "## DocumentDB\n",
    "\n",
    "This class lets you load and keep in sync documents from any source into a vector store using an index.\n",
    "\n",
    "Specifically, it helps avopid:\n",
    "\n",
    "    - writing duplicated content into the vector store\n",
    "    - re-writing unchanged content\n",
    "    - re-computing embeddings over unchanged content\n",
    "    - manually deleting outdated content\n",
    "    \n",
    "The index will work even with documents that have gone through several transformation steps (e.g., via text chunking) with respect to the original source files."
   ]
  },
  {
   "cell_type": "code",
   "execution_count": 1,
   "id": "ffe9f5ea",
   "metadata": {},
   "outputs": [],
   "source": [
    "import sys\n",
    "sys.path.append('../')\n",
    "\n",
    "from dotenv import find_dotenv, load_dotenv\n",
    "load_dotenv(find_dotenv(), override=True)\n",
    "\n",
    "from langchain_openai import OpenAIEmbeddings\n",
    "from langchain.vectorstores.chroma import Chroma\n",
    "\n",
    "from load_document import load_unstructured_document\n",
    "from document_db import DocumentDB"
   ]
  },
  {
   "cell_type": "markdown",
   "id": "7513d27b",
   "metadata": {},
   "source": [
    "#### Load files and  and split them into chunks. This chunks will be our documents."
   ]
  },
  {
   "cell_type": "code",
   "execution_count": 2,
   "id": "0f129be4",
   "metadata": {},
   "outputs": [],
   "source": [
    "files = [\"./files/state_of_the_union.txt\", \"./files/us_constitution.pdf\"]"
   ]
  },
  {
   "cell_type": "code",
   "execution_count": 3,
   "id": "3a08f773",
   "metadata": {},
   "outputs": [
    {
     "name": "stdout",
     "output_type": "stream",
     "text": [
      "File ./files/state_of_the_union.txt produced 42 documents\n",
      "File ./files/us_constitution.pdf produced 50 documents\n"
     ]
    }
   ],
   "source": [
    "docs = []\n",
    "for file in files:\n",
    "    chunks = load_unstructured_document(file, chunk_it=True, chunk_size=1000, chunk_overlap=100)\n",
    "    print(f\"File {file} produced {len(chunks)} documents\")\n",
    "    docs.extend(chunks)"
   ]
  },
  {
   "cell_type": "markdown",
   "id": "4c211c34",
   "metadata": {},
   "source": [
    "#### Initialize the vector store to save the documents and the embeddings"
   ]
  },
  {
   "cell_type": "code",
   "execution_count": 4,
   "id": "6be68cc6",
   "metadata": {},
   "outputs": [],
   "source": [
    "embedding = OpenAIEmbeddings()\n",
    "\n",
    "vectorstore = Chroma(\n",
    "                persist_directory=\"../data/document_db\",\n",
    "                embedding_function=embedding,\n",
    "            )"
   ]
  },
  {
   "cell_type": "markdown",
   "id": "92813499",
   "metadata": {},
   "source": [
    "#### Set up the document database\n",
    "location is the path to the directory where the database index will be stored. The vector store takes care of storing the documents."
   ]
  },
  {
   "cell_type": "code",
   "execution_count": 5,
   "id": "2f958c6f",
   "metadata": {},
   "outputs": [],
   "source": [
    "db = DocumentDB(location=\"../data/document_db\", vectorstore=vectorstore)"
   ]
  },
  {
   "cell_type": "markdown",
   "id": "7ebc797a",
   "metadata": {},
   "source": [
    "**`upsert`** inserts documents into the database, ignoring existing documents and deleting outdated versions"
   ]
  },
  {
   "cell_type": "code",
   "execution_count": 6,
   "id": "ff524564",
   "metadata": {},
   "outputs": [
    {
     "data": {
      "text/plain": [
       "{'num_added': 92, 'num_updated': 0, 'num_skipped': 0, 'num_deleted': 0}"
      ]
     },
     "execution_count": 6,
     "metadata": {},
     "output_type": "execute_result"
    }
   ],
   "source": [
    "db.upsert_documents(docs)"
   ]
  },
  {
   "cell_type": "code",
   "execution_count": 7,
   "id": "eca8ce13",
   "metadata": {},
   "outputs": [],
   "source": [
    "docs[0].page_content = docs[0].page_content.upper()"
   ]
  },
  {
   "cell_type": "code",
   "execution_count": 8,
   "id": "bdcadb5a",
   "metadata": {},
   "outputs": [
    {
     "data": {
      "text/plain": [
       "{'num_added': 1, 'num_updated': 0, 'num_skipped': 91, 'num_deleted': 1}"
      ]
     },
     "execution_count": 8,
     "metadata": {},
     "output_type": "execute_result"
    }
   ],
   "source": [
    "db.upsert_documents(docs)"
   ]
  },
  {
   "cell_type": "markdown",
   "id": "b6289d1d",
   "metadata": {},
   "source": [
    "**`as_retriever`** returns a retriever that can be used to query the database for documents"
   ]
  },
  {
   "cell_type": "code",
   "execution_count": 9,
   "id": "e8fb42c0",
   "metadata": {},
   "outputs": [],
   "source": [
    "retriever = db.as_retriever()"
   ]
  },
  {
   "cell_type": "code",
   "execution_count": 10,
   "id": "e1083610",
   "metadata": {},
   "outputs": [
    {
     "name": "stdout",
     "output_type": "stream",
     "text": [
      "One of the most serious constitutional responsibilities a President has is nominating someone to serve on the United States Supreme Court.\n",
      "\n",
      "And I did that 4 days ago, when I nominated Circuit Court of Appeals Judge Ketanji Brown Jackson. One of our nation’s top legal minds, who will continue Justice Breyer’s legacy of excellence.\n",
      "\n",
      "A former top litigator in private practice. A former federal public defender. And from a family of public school educators and police officers. A consensus builder. Since she’s been nominated, she’s received a broad range of support—from the Fraternal Order of Police to former judges appointed by Democrats and Republicans.\n",
      "\n",
      "And if we are to advance liberty and justice, we need to secure the Border and fix the immigration system.\n",
      "\n",
      "We can do both. At our border, we’ve installed new technology like cutting-edge scanners to better detect drug smuggling.\n",
      "\n",
      "We’ve set up joint patrols with Mexico and Guatemala to catch more human traffickers.\n"
     ]
    }
   ],
   "source": [
    "results = retriever.invoke(\"Judge Ketanji Brown Jackson\")\n",
    "print(results[0].page_content)"
   ]
  },
  {
   "cell_type": "code",
   "execution_count": 11,
   "id": "d9553d38",
   "metadata": {},
   "outputs": [
    {
     "name": "stdout",
     "output_type": "stream",
     "text": [
      "the whole number shall be necessary to a choice. But no person\n",
      "\n",
      "constitutionally ineligible to the office of President shall be eligible to\n",
      "\n",
      "that of Vice-President of the United States.\n",
      "\n",
      "13th Amendment\n",
      "\n",
      "Section 1\n",
      "\n",
      "Neither slavery nor involuntary servitude, except as a punishment for\n",
      "\n",
      "crime whereof the party shall have been duly convicted, shall exist\n",
      "\n",
      "within the United States, or any place subject to their jurisdiction.\n",
      "\n",
      "Section 2\n",
      "\n",
      "Congress shall have power to enforce this article by appropriate\n",
      "\n",
      "legislation.\n",
      "\n",
      "14th Amendment\n",
      "\n",
      "Section 1\n",
      "\n",
      "All persons born or naturalized in the United States, and subject to the\n",
      "\n",
      "jurisdiction thereof, are citizens of the United States and of the State\n",
      "\n",
      "wherein they reside. No State shall make or enforce any law which\n",
      "\n",
      "shall abridge the privileges or immunities of citizens of the United\n",
      "\n",
      "States; nor shall any State deprive any person of life, liberty, or\n",
      "\n",
      "property, without due process of law; nor deny to any person within its\n"
     ]
    }
   ],
   "source": [
    "results = retriever.invoke(\"What is the 14th ammendmen?\")\n",
    "print(results[0].page_content)"
   ]
  },
  {
   "cell_type": "markdown",
   "id": "c94106f2",
   "metadata": {},
   "source": [
    "**`delete_documents`** deletes all the documents in the database comming from the same source.\n",
    "\n",
    "A dummy document is inserted for each source being deleted."
   ]
  },
  {
   "cell_type": "code",
   "execution_count": 12,
   "id": "3cf20588",
   "metadata": {},
   "outputs": [
    {
     "data": {
      "text/plain": [
       "{'num_added': 1, 'num_updated': 0, 'num_skipped': 0, 'num_deleted': 42}"
      ]
     },
     "execution_count": 12,
     "metadata": {},
     "output_type": "execute_result"
    }
   ],
   "source": [
    "db.delete_documents([files[0]])"
   ]
  },
  {
   "cell_type": "code",
   "execution_count": 13,
   "id": "d579d417",
   "metadata": {},
   "outputs": [
    {
     "data": {
      "text/plain": [
       "[Document(page_content='Deleted DO NOT USE', metadata={'source': './files/state_of_the_union.txt'})]"
      ]
     },
     "execution_count": 13,
     "metadata": {},
     "output_type": "execute_result"
    }
   ],
   "source": [
    "vectorstore.similarity_search(\"\", filter={\"source\": files[0]})"
   ]
  },
  {
   "cell_type": "markdown",
   "id": "e9108ee0",
   "metadata": {},
   "source": [
    "**`clean`** erases all documents in the database"
   ]
  },
  {
   "cell_type": "code",
   "execution_count": 14,
   "id": "f8276fe8",
   "metadata": {},
   "outputs": [
    {
     "data": {
      "text/plain": [
       "{'num_added': 0, 'num_updated': 0, 'num_skipped': 0, 'num_deleted': 51}"
      ]
     },
     "execution_count": 14,
     "metadata": {},
     "output_type": "execute_result"
    }
   ],
   "source": [
    "db.clean()"
   ]
  },
  {
   "cell_type": "markdown",
   "id": "8bd62d92",
   "metadata": {},
   "source": [
    "**`delete_index'** deletes the database directory."
   ]
  },
  {
   "cell_type": "code",
   "execution_count": 15,
   "id": "56fbd701",
   "metadata": {},
   "outputs": [],
   "source": [
    "db.delete_index()"
   ]
  },
  {
   "cell_type": "code",
   "execution_count": null,
   "id": "86d02a1a",
   "metadata": {},
   "outputs": [],
   "source": []
  }
 ],
 "metadata": {
  "kernelspec": {
   "display_name": "Python 3.12 (myenv)",
   "language": "python",
   "name": "myenv"
  },
  "language_info": {
   "codemirror_mode": {
    "name": "ipython",
    "version": 3
   },
   "file_extension": ".py",
   "mimetype": "text/x-python",
   "name": "python",
   "nbconvert_exporter": "python",
   "pygments_lexer": "ipython3",
   "version": "3.12.3"
  }
 },
 "nbformat": 4,
 "nbformat_minor": 5
}
