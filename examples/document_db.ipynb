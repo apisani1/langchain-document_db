{
 "cells": [
  {
   "cell_type": "code",
   "execution_count": 1,
   "id": "ffe9f5ea",
   "metadata": {},
   "outputs": [],
   "source": [
    "import sys\n",
    "sys.path.append('../')\n",
    "\n",
    "from dotenv import find_dotenv, load_dotenv\n",
    "load_dotenv(find_dotenv(), override=True)\n",
    "\n",
    "from langchain_openai import OpenAIEmbeddings\n",
    "from langchain.vectorstores.chroma import Chroma\n",
    "\n",
    "from load_document import load_document\n",
    "from document_db import DocumentDB"
   ]
  },
  {
   "cell_type": "code",
   "execution_count": 11,
   "id": "6be68cc6",
   "metadata": {},
   "outputs": [],
   "source": [
    "embedding = OpenAIEmbeddings()\n",
    "vectorstore = Chroma(\n",
    "                persist_directory=\"document_db\",\n",
    "                embedding_function=embedding,\n",
    "            )\n",
    "db = DocumentDB(\"document_db\", vectorstore=vectorstore)\n",
    "retriever = db.as_retriever()"
   ]
  },
  {
   "cell_type": "code",
   "execution_count": 3,
   "id": "3a08f773",
   "metadata": {},
   "outputs": [],
   "source": [
    "docs1 = load_document(\"./files/state_of_the_union.txt\", chunk_it=True, chunk_size=1000, chunk_overlap=0)\n",
    "docs2 = load_document(\"./files/us_constitution.pdf\", chunk_it=True, chunk_size=1000, chunk_overlap=0)"
   ]
  },
  {
   "cell_type": "code",
   "execution_count": 4,
   "id": "f8276fe8",
   "metadata": {},
   "outputs": [
    {
     "data": {
      "text/plain": [
       "{'num_added': 0, 'num_updated': 0, 'num_skipped': 0, 'num_deleted': 0}"
      ]
     },
     "execution_count": 4,
     "metadata": {},
     "output_type": "execute_result"
    }
   ],
   "source": [
    "db.clean()"
   ]
  },
  {
   "cell_type": "code",
   "execution_count": 5,
   "id": "ff524564",
   "metadata": {},
   "outputs": [
    {
     "data": {
      "text/plain": [
       "{'num_added': 42, 'num_updated': 0, 'num_skipped': 0, 'num_deleted': 0}"
      ]
     },
     "execution_count": 5,
     "metadata": {},
     "output_type": "execute_result"
    }
   ],
   "source": [
    "db.upsert_documents(docs1)"
   ]
  },
  {
   "cell_type": "code",
   "execution_count": 6,
   "id": "38b89bab",
   "metadata": {},
   "outputs": [
    {
     "data": {
      "text/plain": [
       "{'num_added': 68, 'num_updated': 0, 'num_skipped': 0, 'num_deleted': 0}"
      ]
     },
     "execution_count": 6,
     "metadata": {},
     "output_type": "execute_result"
    }
   ],
   "source": [
    "db.upsert_documents(docs2)"
   ]
  },
  {
   "cell_type": "code",
   "execution_count": 7,
   "id": "02ae4e26",
   "metadata": {},
   "outputs": [
    {
     "data": {
      "text/plain": [
       "Document(page_content='Vice President Harris and I ran for office with a new economic vision for America. \\n\\nInvest in America. Educate Americans. Grow the workforce. Build the economy from the bottom up  \\nand the middle out, not from the top down.  \\n\\nBecause we know that when the middle class grows, the poor have a ladder up and the wealthy do very well. \\n\\nAmerica used to have the best roads, bridges, and airports on Earth. \\n\\nNow our infrastructure is ranked 13th in the world. \\n\\nWe won’t be able to compete for the jobs of the 21st Century if we don’t fix that. \\n\\nThat’s why it was so important to pass the Bipartisan Infrastructure Law—the most sweeping investment to rebuild America in history. \\n\\nThis was a bipartisan effort, and I want to thank the members of both parties who worked to make it happen. \\n\\nWe’re done talking about infrastructure weeks. \\n\\nWe’re going to have an infrastructure decade.', metadata={'source': './files/state_of_the_union.txt'})"
      ]
     },
     "execution_count": 7,
     "metadata": {},
     "output_type": "execute_result"
    }
   ],
   "source": [
    "docs1[10]"
   ]
  },
  {
   "cell_type": "code",
   "execution_count": 8,
   "id": "77ca201b",
   "metadata": {},
   "outputs": [],
   "source": [
    "docs1[10].page_content=\"modified content\""
   ]
  },
  {
   "cell_type": "code",
   "execution_count": 9,
   "id": "1da3638e",
   "metadata": {},
   "outputs": [
    {
     "data": {
      "text/plain": [
       "{'num_added': 1, 'num_updated': 0, 'num_skipped': 41, 'num_deleted': 1}"
      ]
     },
     "execution_count": 9,
     "metadata": {},
     "output_type": "execute_result"
    }
   ],
   "source": [
    "db.upsert_documents(docs1)"
   ]
  },
  {
   "cell_type": "code",
   "execution_count": 10,
   "id": "3cf20588",
   "metadata": {},
   "outputs": [
    {
     "data": {
      "text/plain": [
       "{'num_added': 1, 'num_updated': 0, 'num_skipped': 0, 'num_deleted': 42}"
      ]
     },
     "execution_count": 10,
     "metadata": {},
     "output_type": "execute_result"
    }
   ],
   "source": [
    "db.delete_documents(['./files/state_of_the_union.txt'])"
   ]
  },
  {
   "cell_type": "code",
   "execution_count": 13,
   "id": "e1083610",
   "metadata": {},
   "outputs": [
    {
     "data": {
      "text/plain": [
       "[Document(page_content='government\\nof\\nthe\\nUnited\\nStates,\\ndirected\\nto\\nthe\\nPresident\\nof\\nthe\\nSenate;\\n--\\nThe\\nPresident\\nof\\nthe\\nSenate\\nshall,\\nin\\nthe\\npresence\\nof\\nthe\\nSenate\\nand\\nHouse', metadata={'page': 25, 'source': './files/us_constitution.pdf'}),\n",
       " Document(page_content='States,\\nshall\\nbe\\nsuf ficient\\nfor\\nthe\\nEstablishment\\nof\\nthis\\nConstitution\\nbetween\\nthe\\nStates\\nso\\nratifying\\nthe\\nSame.', metadata={'page': 21, 'source': './files/us_constitution.pdf'}),\n",
       " Document(page_content='latter\\nwritten\\ndeclaration,\\nor ,\\nif\\nCongress\\nis\\nnot\\nin\\nsession,\\nwithin\\ntwenty-one\\ndays\\nafter\\nCongress\\nis\\nrequired\\nto\\nassemble,\\ndetermines\\nby\\ntwo-thirds\\nvote\\nof\\nboth\\nHouses\\nthat\\nthe\\nPresident\\nis\\nunable\\nto\\ndischarge\\nthe\\npowers\\nand\\nduties\\nof\\nhis\\nof fice,\\nthe\\nV ice\\nPresident\\nshall\\ncontinue\\nto\\ndischarge\\nthe\\nsame\\nas\\nActing\\nPresident;\\notherwise,\\nthe\\nPresident\\nshall\\nresume\\nthe\\npowers\\nand\\nduties\\nof\\nhis\\nof fice.', metadata={'page': 39, 'source': './files/us_constitution.pdf'}),\n",
       " Document(page_content='the\\nSecurities\\nand\\ncurrent\\nCoin\\nof\\nthe\\nUnited\\nStates;\\nT o\\nestablish\\nPost\\nOf fices\\nand\\npost\\nRoads;', metadata={'page': 7, 'source': './files/us_constitution.pdf'})]"
      ]
     },
     "execution_count": 13,
     "metadata": {},
     "output_type": "execute_result"
    }
   ],
   "source": [
    "retriever.get_relevant_documents(\"state of the union\")"
   ]
  },
  {
   "cell_type": "code",
   "execution_count": null,
   "id": "520d8b02",
   "metadata": {},
   "outputs": [],
   "source": []
  }
 ],
 "metadata": {
  "kernelspec": {
   "display_name": "Python 3.12 (myenv)",
   "language": "python",
   "name": "myenv"
  },
  "language_info": {
   "codemirror_mode": {
    "name": "ipython",
    "version": 3
   },
   "file_extension": ".py",
   "mimetype": "text/x-python",
   "name": "python",
   "nbconvert_exporter": "python",
   "pygments_lexer": "ipython3",
   "version": "3.12.3"
  }
 },
 "nbformat": 4,
 "nbformat_minor": 5
}
